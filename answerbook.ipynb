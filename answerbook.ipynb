{
 "cells": [
  {
   "cell_type": "code",
   "execution_count": 1,
   "metadata": {},
   "outputs": [
    {
     "name": "stderr",
     "output_type": "stream",
     "text": [
      "C:\\Users\\DELL\\anaconda3\\lib\\site-packages\\gensim\\similarities\\__init__.py:15: UserWarning: The gensim.similarities.levenshtein submodule is disabled, because the optional Levenshtein package <https://pypi.org/project/python-Levenshtein/> is unavailable. Install Levenhstein (e.g. `pip install python-Levenshtein`) to suppress this warning.\n",
      "  warnings.warn(msg)\n",
      "C:\\Users\\DELL\\anaconda3\\lib\\site-packages\\sklearn\\linear_model\\_least_angle.py:34: DeprecationWarning: `np.float` is a deprecated alias for the builtin `float`. To silence this warning, use `float` by itself. Doing this will not modify any behavior and is safe. If you specifically wanted the numpy scalar type, use `np.float64` here.\n",
      "Deprecated in NumPy 1.20; for more details and guidance: https://numpy.org/devdocs/release/1.20.0-notes.html#deprecations\n",
      "  method='lar', copy_X=True, eps=np.finfo(np.float).eps,\n",
      "C:\\Users\\DELL\\anaconda3\\lib\\site-packages\\sklearn\\linear_model\\_least_angle.py:164: DeprecationWarning: `np.float` is a deprecated alias for the builtin `float`. To silence this warning, use `float` by itself. Doing this will not modify any behavior and is safe. If you specifically wanted the numpy scalar type, use `np.float64` here.\n",
      "Deprecated in NumPy 1.20; for more details and guidance: https://numpy.org/devdocs/release/1.20.0-notes.html#deprecations\n",
      "  method='lar', copy_X=True, eps=np.finfo(np.float).eps,\n",
      "C:\\Users\\DELL\\anaconda3\\lib\\site-packages\\sklearn\\linear_model\\_least_angle.py:281: DeprecationWarning: `np.float` is a deprecated alias for the builtin `float`. To silence this warning, use `float` by itself. Doing this will not modify any behavior and is safe. If you specifically wanted the numpy scalar type, use `np.float64` here.\n",
      "Deprecated in NumPy 1.20; for more details and guidance: https://numpy.org/devdocs/release/1.20.0-notes.html#deprecations\n",
      "  eps=np.finfo(np.float).eps, copy_Gram=True, verbose=0,\n",
      "C:\\Users\\DELL\\anaconda3\\lib\\site-packages\\sklearn\\linear_model\\_least_angle.py:864: DeprecationWarning: `np.float` is a deprecated alias for the builtin `float`. To silence this warning, use `float` by itself. Doing this will not modify any behavior and is safe. If you specifically wanted the numpy scalar type, use `np.float64` here.\n",
      "Deprecated in NumPy 1.20; for more details and guidance: https://numpy.org/devdocs/release/1.20.0-notes.html#deprecations\n",
      "  eps=np.finfo(np.float).eps, copy_X=True, fit_path=True,\n",
      "C:\\Users\\DELL\\anaconda3\\lib\\site-packages\\sklearn\\linear_model\\_least_angle.py:1120: DeprecationWarning: `np.float` is a deprecated alias for the builtin `float`. To silence this warning, use `float` by itself. Doing this will not modify any behavior and is safe. If you specifically wanted the numpy scalar type, use `np.float64` here.\n",
      "Deprecated in NumPy 1.20; for more details and guidance: https://numpy.org/devdocs/release/1.20.0-notes.html#deprecations\n",
      "  eps=np.finfo(np.float).eps, copy_X=True, fit_path=True,\n",
      "C:\\Users\\DELL\\anaconda3\\lib\\site-packages\\sklearn\\linear_model\\_least_angle.py:1148: DeprecationWarning: `np.float` is a deprecated alias for the builtin `float`. To silence this warning, use `float` by itself. Doing this will not modify any behavior and is safe. If you specifically wanted the numpy scalar type, use `np.float64` here.\n",
      "Deprecated in NumPy 1.20; for more details and guidance: https://numpy.org/devdocs/release/1.20.0-notes.html#deprecations\n",
      "  eps=np.finfo(np.float).eps, positive=False):\n",
      "C:\\Users\\DELL\\anaconda3\\lib\\site-packages\\sklearn\\linear_model\\_least_angle.py:1378: DeprecationWarning: `np.float` is a deprecated alias for the builtin `float`. To silence this warning, use `float` by itself. Doing this will not modify any behavior and is safe. If you specifically wanted the numpy scalar type, use `np.float64` here.\n",
      "Deprecated in NumPy 1.20; for more details and guidance: https://numpy.org/devdocs/release/1.20.0-notes.html#deprecations\n",
      "  max_n_alphas=1000, n_jobs=None, eps=np.finfo(np.float).eps,\n",
      "C:\\Users\\DELL\\anaconda3\\lib\\site-packages\\sklearn\\linear_model\\_least_angle.py:1620: DeprecationWarning: `np.float` is a deprecated alias for the builtin `float`. To silence this warning, use `float` by itself. Doing this will not modify any behavior and is safe. If you specifically wanted the numpy scalar type, use `np.float64` here.\n",
      "Deprecated in NumPy 1.20; for more details and guidance: https://numpy.org/devdocs/release/1.20.0-notes.html#deprecations\n",
      "  max_n_alphas=1000, n_jobs=None, eps=np.finfo(np.float).eps,\n",
      "C:\\Users\\DELL\\anaconda3\\lib\\site-packages\\sklearn\\linear_model\\_least_angle.py:1754: DeprecationWarning: `np.float` is a deprecated alias for the builtin `float`. To silence this warning, use `float` by itself. Doing this will not modify any behavior and is safe. If you specifically wanted the numpy scalar type, use `np.float64` here.\n",
      "Deprecated in NumPy 1.20; for more details and guidance: https://numpy.org/devdocs/release/1.20.0-notes.html#deprecations\n",
      "  eps=np.finfo(np.float).eps, copy_X=True, positive=False):\n",
      "C:\\Users\\DELL\\anaconda3\\lib\\site-packages\\sklearn\\decomposition\\_lda.py:28: DeprecationWarning: `np.float` is a deprecated alias for the builtin `float`. To silence this warning, use `float` by itself. Doing this will not modify any behavior and is safe. If you specifically wanted the numpy scalar type, use `np.float64` here.\n",
      "Deprecated in NumPy 1.20; for more details and guidance: https://numpy.org/devdocs/release/1.20.0-notes.html#deprecations\n",
      "  EPS = np.finfo(np.float).eps\n"
     ]
    }
   ],
   "source": [
    "# importing important libraries.\n",
    "import re\n",
    "import numpy as np\n",
    "import pandas as pd\n",
    "from pprint import pprint\n",
    "\n",
    "# Gensim\n",
    "import gensim\n",
    "import gensim.corpora as corpora\n",
    "from gensim.utils import simple_preprocess\n",
    "from gensim.models import CoherenceModel\n",
    "\n",
    "# spacy for lemmatization\n",
    "import spacy\n",
    "\n",
    "# Plotting tools\n",
    "import pyLDAvis\n",
    "# import pyLDAvis.gensim  # don't skip this\n",
    "import matplotlib.pyplot as plt\n",
    "%matplotlib inline\n",
    "\n",
    "# Enable logging for gensim - optional\n",
    "import logging\n",
    "logging.basicConfig(format='%(asctime)s : %(levelname)s : %(message)s', level=logging.ERROR)\n",
    "\n",
    "import warnings\n",
    "warnings.filterwarnings(\"ignore\",category=DeprecationWarning)"
   ]
  },
  {
   "cell_type": "code",
   "execution_count": 2,
   "metadata": {},
   "outputs": [],
   "source": [
    "# import all english stopwords from nltk.\n",
    "from nltk.corpus import stopwords\n",
    "stop_words = stopwords.words('english')\n",
    "stop_words.extend(['from', 'subject', 're', 'edu', 'use'])"
   ]
  },
  {
   "cell_type": "code",
   "execution_count": 33,
   "metadata": {},
   "outputs": [
    {
     "data": {
      "text/html": [
       "<div>\n",
       "<style scoped>\n",
       "    .dataframe tbody tr th:only-of-type {\n",
       "        vertical-align: middle;\n",
       "    }\n",
       "\n",
       "    .dataframe tbody tr th {\n",
       "        vertical-align: top;\n",
       "    }\n",
       "\n",
       "    .dataframe thead th {\n",
       "        text-align: right;\n",
       "    }\n",
       "</style>\n",
       "<table border=\"1\" class=\"dataframe\">\n",
       "  <thead>\n",
       "    <tr style=\"text-align: right;\">\n",
       "      <th></th>\n",
       "      <th>DOC_ID</th>\n",
       "      <th>LABEL</th>\n",
       "      <th>RATING</th>\n",
       "      <th>VERIFIED_PURCHASE</th>\n",
       "      <th>PRODUCT_CATEGORY</th>\n",
       "      <th>PRODUCT_ID</th>\n",
       "      <th>PRODUCT_TITLE</th>\n",
       "      <th>REVIEW_TITLE</th>\n",
       "      <th>REVIEW_TEXT</th>\n",
       "    </tr>\n",
       "  </thead>\n",
       "  <tbody>\n",
       "    <tr>\n",
       "      <th>0</th>\n",
       "      <td>1</td>\n",
       "      <td>__label1__</td>\n",
       "      <td>4</td>\n",
       "      <td>N</td>\n",
       "      <td>PC</td>\n",
       "      <td>B00008NG7N</td>\n",
       "      <td>Targus PAUK10U Ultra Mini USB Keypad, Black</td>\n",
       "      <td>useful</td>\n",
       "      <td>When least you think so, this product will sav...</td>\n",
       "    </tr>\n",
       "    <tr>\n",
       "      <th>1</th>\n",
       "      <td>2</td>\n",
       "      <td>__label1__</td>\n",
       "      <td>4</td>\n",
       "      <td>Y</td>\n",
       "      <td>Wireless</td>\n",
       "      <td>B00LH0Y3NM</td>\n",
       "      <td>Note 3 Battery : Stalion Strength Replacement ...</td>\n",
       "      <td>New era for batteries</td>\n",
       "      <td>Lithium batteries are something new introduced...</td>\n",
       "    </tr>\n",
       "    <tr>\n",
       "      <th>2</th>\n",
       "      <td>3</td>\n",
       "      <td>__label1__</td>\n",
       "      <td>3</td>\n",
       "      <td>N</td>\n",
       "      <td>Baby</td>\n",
       "      <td>B000I5UZ1Q</td>\n",
       "      <td>Fisher-Price Papasan Cradle Swing, Starlight</td>\n",
       "      <td>doesn't swing very well.</td>\n",
       "      <td>I purchased this swing for my baby. She is 6 m...</td>\n",
       "    </tr>\n",
       "    <tr>\n",
       "      <th>3</th>\n",
       "      <td>4</td>\n",
       "      <td>__label1__</td>\n",
       "      <td>4</td>\n",
       "      <td>N</td>\n",
       "      <td>Office Products</td>\n",
       "      <td>B003822IRA</td>\n",
       "      <td>Casio MS-80B Standard Function Desktop Calculator</td>\n",
       "      <td>Great computing!</td>\n",
       "      <td>I was looking for an inexpensive desk calcolat...</td>\n",
       "    </tr>\n",
       "    <tr>\n",
       "      <th>4</th>\n",
       "      <td>5</td>\n",
       "      <td>__label1__</td>\n",
       "      <td>4</td>\n",
       "      <td>N</td>\n",
       "      <td>Beauty</td>\n",
       "      <td>B00PWSAXAM</td>\n",
       "      <td>Shine Whitening - Zero Peroxide Teeth Whitenin...</td>\n",
       "      <td>Only use twice a week</td>\n",
       "      <td>I only use it twice a week and the results are...</td>\n",
       "    </tr>\n",
       "  </tbody>\n",
       "</table>\n",
       "</div>"
      ],
      "text/plain": [
       "   DOC_ID       LABEL  RATING VERIFIED_PURCHASE PRODUCT_CATEGORY  PRODUCT_ID  \\\n",
       "0       1  __label1__       4                 N               PC  B00008NG7N   \n",
       "1       2  __label1__       4                 Y         Wireless  B00LH0Y3NM   \n",
       "2       3  __label1__       3                 N             Baby  B000I5UZ1Q   \n",
       "3       4  __label1__       4                 N  Office Products  B003822IRA   \n",
       "4       5  __label1__       4                 N           Beauty  B00PWSAXAM   \n",
       "\n",
       "                                       PRODUCT_TITLE  \\\n",
       "0        Targus PAUK10U Ultra Mini USB Keypad, Black   \n",
       "1  Note 3 Battery : Stalion Strength Replacement ...   \n",
       "2       Fisher-Price Papasan Cradle Swing, Starlight   \n",
       "3  Casio MS-80B Standard Function Desktop Calculator   \n",
       "4  Shine Whitening - Zero Peroxide Teeth Whitenin...   \n",
       "\n",
       "               REVIEW_TITLE                                        REVIEW_TEXT  \n",
       "0                    useful  When least you think so, this product will sav...  \n",
       "1     New era for batteries  Lithium batteries are something new introduced...  \n",
       "2  doesn't swing very well.  I purchased this swing for my baby. She is 6 m...  \n",
       "3          Great computing!  I was looking for an inexpensive desk calcolat...  \n",
       "4     Only use twice a week  I only use it twice a week and the results are...  "
      ]
     },
     "execution_count": 33,
     "metadata": {},
     "output_type": "execute_result"
    }
   ],
   "source": [
    "# Importing Dataset\n",
    "df = pd.read_table(\"amazon_reviews.txt\")\n",
    "df.head()"
   ]
  },
  {
   "cell_type": "code",
   "execution_count": 69,
   "metadata": {},
   "outputs": [
    {
     "data": {
      "text/plain": [
       "(21000, 9)"
      ]
     },
     "execution_count": 69,
     "metadata": {},
     "output_type": "execute_result"
    }
   ],
   "source": [
    "df.shape"
   ]
  },
  {
   "cell_type": "code",
   "execution_count": 73,
   "metadata": {},
   "outputs": [
    {
     "data": {
      "text/plain": [
       "(30,)"
      ]
     },
     "execution_count": 73,
     "metadata": {},
     "output_type": "execute_result"
    }
   ],
   "source": [
    "df.PRODUCT_CATEGORY.unique().shape"
   ]
  },
  {
   "cell_type": "code",
   "execution_count": 34,
   "metadata": {},
   "outputs": [
    {
     "data": {
      "text/plain": [
       "array(['useful', 'New era for batteries', \"doesn't swing very well.\", ...,\n",
       "       'I love moccasins This fit like it was custom made for ...',\n",
       "       'This fit well, comfortable, best investment',\n",
       "       'Love these shoes, except for the laces'], dtype=object)"
      ]
     },
     "execution_count": 34,
     "metadata": {},
     "output_type": "execute_result"
    }
   ],
   "source": [
    "#checking unique target names.\n",
    "df.REVIEW_TITLE.unique()"
   ]
  },
  {
   "cell_type": "code",
   "execution_count": 74,
   "metadata": {},
   "outputs": [
    {
     "data": {
      "text/plain": [
       "DOC_ID               0\n",
       "LABEL                0\n",
       "RATING               0\n",
       "VERIFIED_PURCHASE    0\n",
       "PRODUCT_CATEGORY     0\n",
       "PRODUCT_ID           0\n",
       "PRODUCT_TITLE        0\n",
       "REVIEW_TITLE         0\n",
       "REVIEW_TEXT          0\n",
       "dtype: int64"
      ]
     },
     "execution_count": 74,
     "metadata": {},
     "output_type": "execute_result"
    }
   ],
   "source": [
    "#checking for missing values.\n",
    "df.isnull().sum()"
   ]
  },
  {
   "cell_type": "markdown",
   "metadata": {},
   "source": [
    "### Text Preprocessing"
   ]
  },
  {
   "cell_type": "code",
   "execution_count": 35,
   "metadata": {},
   "outputs": [
    {
     "data": {
      "text/plain": [
       "['When least you think so, this product will save the day. Just keep it around just in case you need it for something.']"
      ]
     },
     "execution_count": 35,
     "metadata": {},
     "output_type": "execute_result"
    }
   ],
   "source": [
    "# Remove emails and newline characters\n",
    "# Convert to list\n",
    "data = df.REVIEW_TEXT.dropna().values.tolist()\n",
    "\n",
    "# Remove Emails\n",
    "data = [re.sub('\\S*@\\S*\\s?', '', sent) for sent in data]\n",
    "\n",
    "# Remove new line characters\n",
    "data = [re.sub('\\s+', ' ', sent) for sent in data]\n",
    "\n",
    "# Remove distracting single quotes\n",
    "data = [re.sub(\"\\'\", \"\", sent) for sent in data]\n",
    "\n",
    "data[:1]"
   ]
  },
  {
   "cell_type": "code",
   "execution_count": 36,
   "metadata": {},
   "outputs": [
    {
     "name": "stdout",
     "output_type": "stream",
     "text": [
      "[['when', 'least', 'you', 'think', 'so', 'this', 'product', 'will', 'save', 'the', 'day', 'just', 'keep', 'it', 'around', 'just', 'in', 'case', 'you', 'need', 'it', 'for', 'something']]\n"
     ]
    }
   ],
   "source": [
    "# Tokenize words and Clean-up text\n",
    "\n",
    "def sent_to_words(sentences):\n",
    "    for sentence in sentences:\n",
    "        yield(gensim.utils.simple_preprocess(str(sentence), deacc=True))  # deacc=True removes punctuations\n",
    "\n",
    "data_words = list(sent_to_words(data))\n",
    "\n",
    "print(data_words[:1])"
   ]
  },
  {
   "cell_type": "code",
   "execution_count": 37,
   "metadata": {},
   "outputs": [],
   "source": [
    "# Creating unigrams"
   ]
  },
  {
   "cell_type": "code",
   "execution_count": 38,
   "metadata": {},
   "outputs": [
    {
     "name": "stdout",
     "output_type": "stream",
     "text": [
      "['when', 'least', 'you', 'think', 'so', 'this', 'product', 'will', 'save', 'the', 'day', 'just', 'keep', 'it', 'around', 'just', 'in', 'case', 'you', 'need', 'it', 'for', 'something']\n"
     ]
    }
   ],
   "source": [
    "# Build the bigram and trigram models\n",
    "bigram = gensim.models.Phrases(data_words, min_count=5, threshold=100) # higher threshold fewer phrases.\n",
    "trigram = gensim.models.Phrases(bigram[data_words], threshold=100)  \n",
    "\n",
    "# Faster way to get a sentence clubbed as a trigram/bigram\n",
    "bigram_mod = gensim.models.phrases.Phraser(bigram)\n",
    "trigram_mod = gensim.models.phrases.Phraser(trigram)\n",
    "\n",
    "# See trigram example\n",
    "print(trigram_mod[bigram_mod[data_words[0]]])"
   ]
  },
  {
   "cell_type": "code",
   "execution_count": null,
   "metadata": {},
   "outputs": [],
   "source": []
  },
  {
   "cell_type": "code",
   "execution_count": 39,
   "metadata": {},
   "outputs": [],
   "source": [
    "# Remove Stopwords, Make Bigrams and Lemmatize"
   ]
  },
  {
   "cell_type": "code",
   "execution_count": 40,
   "metadata": {},
   "outputs": [],
   "source": [
    "# Define functions for stopwords, bigrams, trigrams and lemmatization\n",
    "def remove_stopwords(texts):\n",
    "    return [[word for word in simple_preprocess(str(doc)) if word not in stop_words] for doc in texts]\n",
    "\n",
    "def make_bigrams(texts):\n",
    "    return [bigram_mod[doc] for doc in texts]\n",
    "\n",
    "def make_trigrams(texts):\n",
    "    return [trigram_mod[bigram_mod[doc]] for doc in texts]\n",
    "\n",
    "def lemmatization(texts, allowed_postags=['NOUN', 'ADJ', 'VERB', 'ADV']):\n",
    "    \"\"\"https://spacy.io/api/annotation\"\"\"\n",
    "    texts_out = []\n",
    "    for sent in texts:\n",
    "        doc = nlp(\" \".join(sent)) \n",
    "        texts_out.append([token.lemma_ for token in doc if token.pos_ in allowed_postags])\n",
    "    return texts_out"
   ]
  },
  {
   "cell_type": "code",
   "execution_count": null,
   "metadata": {},
   "outputs": [],
   "source": []
  },
  {
   "cell_type": "code",
   "execution_count": 41,
   "metadata": {},
   "outputs": [],
   "source": [
    "# Remove Stop Words\n",
    "data_words_nostops = remove_stopwords(data_words)\n",
    "\n",
    "# Form Bigrams\n",
    "data_words_bigrams = make_bigrams(data_words_nostops)\n"
   ]
  },
  {
   "cell_type": "code",
   "execution_count": 42,
   "metadata": {},
   "outputs": [],
   "source": [
    "# Initialize spacy 'en' model, keeping only tagger component (for efficiency)\n",
    "# python3 -m spacy download en_core_web_sm\n",
    "nlp = spacy.load('en_core_web_sm')"
   ]
  },
  {
   "cell_type": "code",
   "execution_count": 43,
   "metadata": {},
   "outputs": [
    {
     "name": "stdout",
     "output_type": "stream",
     "text": [
      "[['least', 'think', 'product', 'save', 'day', 'keep', 'case', 'need']]\n"
     ]
    }
   ],
   "source": [
    "# Do lemmatization keeping only noun, adj, vb, adv\n",
    "data_lemmatized = lemmatization(data_words_bigrams, allowed_postags=['NOUN', 'ADJ', 'VERB', 'ADV'])\n",
    "\n",
    "print(data_lemmatized[:1])"
   ]
  },
  {
   "cell_type": "code",
   "execution_count": 44,
   "metadata": {},
   "outputs": [],
   "source": [
    "# create a dictionary which will be the input for LDA model"
   ]
  },
  {
   "cell_type": "code",
   "execution_count": 45,
   "metadata": {},
   "outputs": [
    {
     "name": "stdout",
     "output_type": "stream",
     "text": [
      "[[(0, 1), (1, 1), (2, 1), (3, 1), (4, 1), (5, 1), (6, 1), (7, 1)]]\n"
     ]
    }
   ],
   "source": [
    "# Create Dictionary\n",
    "id2word = corpora.Dictionary(data_lemmatized)\n",
    "\n",
    "# Create Corpus\n",
    "texts = data_lemmatized\n",
    "\n",
    "# Term Document Frequency\n",
    "corpus = [id2word.doc2bow(text) for text in texts]\n",
    "\n",
    "# View\n",
    "print(corpus[:1])"
   ]
  },
  {
   "cell_type": "code",
   "execution_count": 46,
   "metadata": {},
   "outputs": [
    {
     "data": {
      "text/plain": [
       "[[('case', 1),\n",
       "  ('day', 1),\n",
       "  ('keep', 1),\n",
       "  ('least', 1),\n",
       "  ('need', 1),\n",
       "  ('product', 1),\n",
       "  ('save', 1),\n",
       "  ('think', 1)]]"
      ]
     },
     "execution_count": 46,
     "metadata": {},
     "output_type": "execute_result"
    }
   ],
   "source": [
    "[[(id2word[id], freq) for id, freq in cp] for cp in corpus[:1]]"
   ]
  },
  {
   "cell_type": "markdown",
   "metadata": {},
   "source": [
    "# Model building and evaluting."
   ]
  },
  {
   "cell_type": "code",
   "execution_count": 47,
   "metadata": {},
   "outputs": [
    {
     "name": "stdout",
     "output_type": "stream",
     "text": [
      "\n",
      "Perplexity:  -7.990974934939393\n",
      "\n",
      "Coherence Score:  0.32589302881090815\n",
      "\n",
      "Perplexity:  -8.534544594946583\n",
      "\n",
      "Coherence Score:  0.28412549287018535\n",
      "\n",
      "Perplexity:  -13.03181495173071\n",
      "\n",
      "Coherence Score:  0.280103261775939\n",
      "\n",
      "Perplexity:  -15.464154539725506\n",
      "\n",
      "Coherence Score:  0.2717598095288652\n",
      "\n",
      "Perplexity:  -19.142733568516565\n",
      "\n",
      "Coherence Score:  0.3271923760650157\n",
      "\n",
      "Perplexity:  -22.85361208983573\n",
      "\n",
      "Coherence Score:  0.33243272949008096\n"
     ]
    }
   ],
   "source": [
    "select_topics = []\n",
    "for i in [5, 10, 15, 20, 30, 40]:\n",
    "    # Build LDA model\n",
    "    lda_model = gensim.models.ldamodel.LdaModel(corpus=corpus,\n",
    "                                               id2word=id2word,\n",
    "                                               num_topics=i, \n",
    "                                               random_state=100,\n",
    "                                               update_every=1,\n",
    "                                               chunksize=100,\n",
    "                                               passes=10,\n",
    "                                               alpha='auto',\n",
    "                                               per_word_topics=True)\n",
    "\n",
    "\n",
    "    # Compute Perplexity\n",
    "    print('\\nPerplexity: ', lda_model.log_perplexity(corpus))  # a measure of how good the model is. lower the better.\n",
    "\n",
    "    # Compute Coherence Score\n",
    "    coherence_model_lda = CoherenceModel(model=lda_model, texts=data_lemmatized, dictionary=id2word, coherence='c_v')\n",
    "    coherence_lda = coherence_model_lda.get_coherence()\n",
    "    print('\\nCoherence Score: ', coherence_lda)\n",
    "\n",
    "    select_topics.append({\"No of Topics\": i, \"Coherence Score\": coherence_lda})"
   ]
  },
  {
   "cell_type": "code",
   "execution_count": null,
   "metadata": {},
   "outputs": [],
   "source": []
  },
  {
   "cell_type": "code",
   "execution_count": 48,
   "metadata": {},
   "outputs": [],
   "source": [
    "select_topics_df = pd.DataFrame(select_topics)"
   ]
  },
  {
   "cell_type": "code",
   "execution_count": 49,
   "metadata": {},
   "outputs": [
    {
     "data": {
      "text/html": [
       "<div>\n",
       "<style scoped>\n",
       "    .dataframe tbody tr th:only-of-type {\n",
       "        vertical-align: middle;\n",
       "    }\n",
       "\n",
       "    .dataframe tbody tr th {\n",
       "        vertical-align: top;\n",
       "    }\n",
       "\n",
       "    .dataframe thead th {\n",
       "        text-align: right;\n",
       "    }\n",
       "</style>\n",
       "<table border=\"1\" class=\"dataframe\">\n",
       "  <thead>\n",
       "    <tr style=\"text-align: right;\">\n",
       "      <th></th>\n",
       "      <th>No of Topics</th>\n",
       "      <th>Coherence Score</th>\n",
       "    </tr>\n",
       "  </thead>\n",
       "  <tbody>\n",
       "    <tr>\n",
       "      <th>0</th>\n",
       "      <td>5</td>\n",
       "      <td>0.325893</td>\n",
       "    </tr>\n",
       "    <tr>\n",
       "      <th>1</th>\n",
       "      <td>10</td>\n",
       "      <td>0.284125</td>\n",
       "    </tr>\n",
       "    <tr>\n",
       "      <th>2</th>\n",
       "      <td>15</td>\n",
       "      <td>0.280103</td>\n",
       "    </tr>\n",
       "    <tr>\n",
       "      <th>3</th>\n",
       "      <td>20</td>\n",
       "      <td>0.271760</td>\n",
       "    </tr>\n",
       "    <tr>\n",
       "      <th>4</th>\n",
       "      <td>30</td>\n",
       "      <td>0.327192</td>\n",
       "    </tr>\n",
       "    <tr>\n",
       "      <th>5</th>\n",
       "      <td>40</td>\n",
       "      <td>0.332433</td>\n",
       "    </tr>\n",
       "  </tbody>\n",
       "</table>\n",
       "</div>"
      ],
      "text/plain": [
       "   No of Topics  Coherence Score\n",
       "0             5         0.325893\n",
       "1            10         0.284125\n",
       "2            15         0.280103\n",
       "3            20         0.271760\n",
       "4            30         0.327192\n",
       "5            40         0.332433"
      ]
     },
     "execution_count": 49,
     "metadata": {},
     "output_type": "execute_result"
    }
   ],
   "source": [
    "select_topics_df"
   ]
  },
  {
   "cell_type": "code",
   "execution_count": 50,
   "metadata": {},
   "outputs": [
    {
     "data": {
      "image/png": "[encoded data removed]",
      "text/plain": [
       "<Figure size 432x288 with 1 Axes>"
      ]
     },
     "metadata": {
      "needs_background": "light"
     },
     "output_type": "display_data"
    }
   ],
   "source": [
    "plt.plot(select_topics_df['No of Topics'], select_topics_df['Coherence Score'])\n",
    "plt.xlabel('No. of Topics')\n",
    "plt.ylabel('Coherence Score')\n",
    "plt.show()"
   ]
  },
  {
   "cell_type": "code",
   "execution_count": 26,
   "metadata": {},
   "outputs": [],
   "source": [
    "# from above table we can see that best model is with no. of tpoics 40."
   ]
  },
  {
   "cell_type": "code",
   "execution_count": 51,
   "metadata": {},
   "outputs": [],
   "source": [
    "lda_model = gensim.models.ldamodel.LdaModel(corpus=corpus,\n",
    "                                           id2word=id2word,\n",
    "                                           num_topics=40, \n",
    "                                           random_state=100,\n",
    "                                           update_every=1,\n",
    "                                           chunksize=100,\n",
    "                                           passes=10,\n",
    "                                           alpha='auto',\n",
    "                                           per_word_topics=True)"
   ]
  },
  {
   "cell_type": "code",
   "execution_count": 52,
   "metadata": {},
   "outputs": [
    {
     "name": "stdout",
     "output_type": "stream",
     "text": [
      "[(22,\n",
      "  '0.000*\"harrison\" + 0.000*\"hepburn\" + 0.000*\"fiscal\" + 0.000*\"fre\" + '\n",
      "  '0.000*\"hamstring\" + 0.000*\"emasculate\" + 0.000*\"jacqueline\" + '\n",
      "  '0.000*\"incompetence\" + 0.000*\"dapo\" + 0.000*\"how\"'),\n",
      " (5,\n",
      "  '0.000*\"harrison\" + 0.000*\"hepburn\" + 0.000*\"fiscal\" + 0.000*\"fre\" + '\n",
      "  '0.000*\"hamstring\" + 0.000*\"emasculate\" + 0.000*\"jacqueline\" + '\n",
      "  '0.000*\"incompetence\" + 0.000*\"dapo\" + 0.000*\"how\"'),\n",
      " (26,\n",
      "  '0.000*\"harrison\" + 0.000*\"hepburn\" + 0.000*\"fiscal\" + 0.000*\"fre\" + '\n",
      "  '0.000*\"hamstring\" + 0.000*\"emasculate\" + 0.000*\"jacqueline\" + '\n",
      "  '0.000*\"incompetence\" + 0.000*\"dapo\" + 0.000*\"how\"'),\n",
      " (14,\n",
      "  '0.234*\"phone\" + 0.230*\"case\" + 0.117*\"perfectly\" + 0.112*\"pocket\" + '\n",
      "  '0.095*\"fall\" + 0.054*\"protect\" + 0.042*\"slide\" + 0.000*\"harrison\" + '\n",
      "  '0.000*\"kennedys\" + 0.000*\"hamstring\"'),\n",
      " (17,\n",
      "  '0.137*\"include\" + 0.118*\"short\" + 0.102*\"fun\" + 0.068*\"instruction\" + '\n",
      "  '0.059*\"throw\" + 0.054*\"list\" + 0.050*\"tool\" + 0.048*\"unfortunately\" + '\n",
      "  '0.046*\"understand\" + 0.043*\"plan\"'),\n",
      " (7,\n",
      "  '0.162*\"quite\" + 0.154*\"one\" + 0.150*\"hand\" + 0.080*\"expensive\" + '\n",
      "  '0.073*\"value\" + 0.059*\"normal\" + 0.039*\"oil\" + 0.035*\"pump\" + '\n",
      "  '0.022*\"honestly\" + 0.018*\"skip\"'),\n",
      " (0,\n",
      "  '0.248*\"review\" + 0.137*\"star\" + 0.116*\"add\" + 0.099*\"device\" + 0.068*\"stop\" '\n",
      "  '+ 0.028*\"twice\" + 0.027*\"reading\" + 0.026*\"release\" + 0.026*\"reviewer\" + '\n",
      "  '0.022*\"morning\"'),\n",
      " (37,\n",
      "  '0.155*\"people\" + 0.114*\"away\" + 0.090*\"job\" + 0.076*\"strong\" + 0.065*\"slip\" '\n",
      "  '+ 0.054*\"care\" + 0.054*\"sell\" + 0.046*\"completely\" + 0.040*\"deep\" + '\n",
      "  '0.030*\"early\"'),\n",
      " (19,\n",
      "  '0.312*\"try\" + 0.218*\"enough\" + 0.185*\"different\" + 0.055*\"fabric\" + '\n",
      "  '0.027*\"hopefully\" + 0.018*\"useless\" + 0.017*\"personal\" + 0.017*\"luck\" + '\n",
      "  '0.016*\"produce\" + 0.013*\"christmas_gift\"'),\n",
      " (9,\n",
      "  '0.106*\"black\" + 0.098*\"overall\" + 0.089*\"write\" + 0.083*\"amazing\" + '\n",
      "  '0.061*\"wonderful\" + 0.053*\"clear\" + 0.046*\"ear\" + 0.045*\"red\" + '\n",
      "  '0.038*\"sony\" + 0.037*\"author\"'),\n",
      " (10,\n",
      "  '0.169*\"watch\" + 0.164*\"game\" + 0.163*\"give\" + 0.133*\"play\" + 0.062*\"unit\" + '\n",
      "  '0.049*\"deal\" + 0.037*\"plug\" + 0.028*\"music\" + 0.019*\"charger\" + '\n",
      "  '0.017*\"hot\"'),\n",
      " (28,\n",
      "  '0.288*\"size\" + 0.103*\"last\" + 0.088*\"week\" + 0.061*\"able\" + 0.061*\"ever\" + '\n",
      "  '0.048*\"extra\" + 0.044*\"couple\" + 0.041*\"water\" + 0.041*\"control\" + '\n",
      "  '0.033*\"notice\"'),\n",
      " (13,\n",
      "  '0.140*\"problem\" + 0.112*\"however\" + 0.078*\"worth\" + 0.063*\"car\" + '\n",
      "  '0.058*\"pay\" + 0.056*\"fast\" + 0.053*\"yet\" + 0.047*\"awesome\" + '\n",
      "  '0.033*\"thought\" + 0.033*\"build\"'),\n",
      " (31,\n",
      "  '0.305*\"fit\" + 0.095*\"expect\" + 0.083*\"side\" + 0.075*\"cheap\" + 0.063*\"room\" '\n",
      "  '+ 0.048*\"do\" + 0.046*\"sturdy\" + 0.032*\"durable\" + 0.028*\"highly_recommend\" '\n",
      "  '+ 0.028*\"wash\"'),\n",
      " (3,\n",
      "  '0.234*\"quality\" + 0.129*\"picture\" + 0.121*\"right\" + 0.091*\"box\" + '\n",
      "  '0.084*\"high\" + 0.062*\"son\" + 0.051*\"super\" + 0.049*\"camera\" + '\n",
      "  '0.027*\"shipping\" + 0.024*\"miss\"'),\n",
      " (11,\n",
      "  '0.672*\"br\" + 0.133*\"book\" + 0.047*\"cover\" + 0.023*\"number\" + 0.021*\"fact\" + '\n",
      "  '0.019*\"level\" + 0.018*\"child\" + 0.016*\"man\" + 0.007*\"anywhere\" + '\n",
      "  '0.002*\"multi\"'),\n",
      " (30,\n",
      "  '0.184*\"need\" + 0.144*\"back\" + 0.106*\"new\" + 0.087*\"return\" + 0.065*\"second\" '\n",
      "  '+ 0.045*\"power\" + 0.044*\"send\" + 0.034*\"company\" + 0.029*\"online\" + '\n",
      "  '0.027*\"blue\"'),\n",
      " (12,\n",
      "  '0.265*\"go\" + 0.196*\"come\" + 0.088*\"far\" + 0.066*\"always\" + 0.051*\"actually\" '\n",
      "  '+ 0.038*\"mean\" + 0.036*\"style\" + 0.031*\"type\" + 0.026*\"guess\" + '\n",
      "  '0.025*\"hit\"'),\n",
      " (15,\n",
      "  '0.225*\"price\" + 0.121*\"color\" + 0.107*\"pretty\" + 0.101*\"seem\" + '\n",
      "  '0.073*\"fine\" + 0.072*\"like\" + 0.052*\"friend\" + 0.030*\"thick\" + 0.030*\"thin\" '\n",
      "  '+ 0.022*\"dark\"'),\n",
      " (34,\n",
      "  '0.063*\"great\" + 0.055*\"get\" + 0.054*\"well\" + 0.054*\"good\" + 0.052*\"buy\" + '\n",
      "  '0.050*\"love\" + 0.049*\"look\" + 0.042*\"make\" + 0.040*\"time\" + 0.031*\"really\"')]\n"
     ]
    }
   ],
   "source": [
    "# Print the Keyword in the 10 topics\n",
    "pprint(lda_model.print_topics())\n",
    "doc_lda = lda_model[corpus]"
   ]
  },
  {
   "cell_type": "code",
   "execution_count": null,
   "metadata": {},
   "outputs": [],
   "source": []
  },
  {
   "cell_type": "markdown",
   "metadata": {},
   "source": [
    "# Visualize Topics"
   ]
  },
  {
   "cell_type": "code",
   "execution_count": 67,
   "metadata": {},
   "outputs": [],
   "source": [
    "import pyLDAvis.gensim_models"
   ]
  },
  {
   "cell_type": "code",
   "execution_count": 68,
   "metadata": {},
   "outputs": [
    {
     "data": {
      "text/html": [
       "\n",
       "<link rel=\"stylesheet\" type=\"text/css\" href=\"https://cdn.jsdelivr.net/gh/bmabey/pyLDAvis@3.3.1/pyLDAvis/js/ldavis.v1.0.0.css\">\n",
       "\n",
       "\n",
       "<div id=\"ldavis_el1614414887818546403341160631\"></div>\n",
       "<script type=\"text/javascript\">\n",
       "\n",
       "var ldavis_el1614414887818546403341160631_data = {\"mdsDat\": {\"x\": [0.29346523271987685, 0.13323838190425694, 0.09032497590062304, 0.09134418106639158, 0.09543611493953047, 0.08151348608813153, 0.07154182736670957, 0.057461591950330675, 0.08530614615353949, 0.06140923552966695, 0.053511176327967994, 0.04663341453567912, 0.03730891911570163, 0.025870534322594327, 0.02777528485755872, 0.0072432110027566944, 0.026303434634850582, 0.0045353998518288825, 0.019931343370360774, 0.007434574232516677, -0.00366101114425113, -0.0011315746525018282, 0.016174092326769446, -0.0065339230110089954, 0.0007872289910357072, 0.05405509144215404, -0.02838413402576427, -0.008793229341006745, -0.027758566041476716, -0.03744354070927415, -0.003210221954888429, -0.0666362169482267, -0.08911233319887399, -0.07938480574968959, -0.0961811981806065, -0.09924013924505881, -0.05679188992310539, -0.2614473648350312, -0.2614473648350312, -0.2614473648350312], \"y\": [0.40114654939889755, -0.15002665873855384, -0.07332729378052598, -0.07453457298511469, -0.07936018058537189, -0.06277127838435989, -0.05091655114281813, -0.03694747052564562, -0.06679693152088213, -0.04102236808961094, -0.03318194119459144, -0.026426836582229305, -0.019942131994107163, -0.012271757944132525, -0.014654660416695713, 1.276497091541352e-05, -0.013495945642092265, 0.0010124513329922212, -0.009103110746322415, -0.0007848297179443289, 0.005319141746576253, 0.004041293332729932, -0.007796490195368292, 0.0058931313180383945, 0.0018399806414937136, -0.034954162251264506, 0.015112877672099859, 0.007552359750783906, 0.015436212618700864, 0.02045998063345634, 0.004505215572673114, 0.02970045018584496, 0.036774600656447304, 0.03394254491098927, 0.038519728872888744, 0.03920088762304398, 0.0262229515177017, 0.040540683227118054, 0.04054068322711806, 0.04054068322711797], \"topics\": [1, 2, 3, 4, 5, 6, 7, 8, 9, 10, 11, 12, 13, 14, 15, 16, 17, 18, 19, 20, 21, 22, 23, 24, 25, 26, 27, 28, 29, 30, 31, 32, 33, 34, 35, 36, 37, 38, 39, 40], \"cluster\": [1, 1, 1, 1, 1, 1, 1, 1, 1, 1, 1, 1, 1, 1, 1, 1, 1, 1, 1, 1, 1, 1, 1, 1, 1, 1, 1, 1, 1, 1, 1, 1, 1, 1, 1, 1, 1, 1, 1, 1], \"Freq\": [25.635625596765877, 3.731450545740764, 3.0526456460138163, 3.0264513665715294, 2.9709930755491265, 2.721326654258376, 2.568224756961131, 2.5510361683545155, 2.5351194493907667, 2.504556300375886, 2.4902504564467276, 2.4147238177186003, 2.2553857833844995, 2.252528977695119, 2.1851230718236287, 2.113048953050774, 2.0778288549394683, 2.0725585604715246, 2.0683540727224945, 2.0025714634694634, 1.9584494489926159, 1.916091999615446, 1.8858380914461685, 1.882468581258391, 1.8449749989669768, 1.8241043326294226, 1.7872514992813684, 1.7595772609592042, 1.6619890813963996, 1.5495266704226944, 1.5483806533608586, 1.3084596140225377, 1.2863658754122334, 1.248225694992383, 1.1737261830249746, 1.1383212492320416, 0.9713110235276924, 0.008378056584835617, 0.008378056584835617, 0.008378056584835617]}, \"tinfo\": {\"Term\": [\"br\", \"work\", \"product\", \"fit\", \"go\", \"size\", \"price\", \"easy\", \"quality\", \"wear\", \"great\", \"purchase\", \"come\", \"want\", \"small\", \"need\", \"get\", \"well\", \"good\", \"day\", \"buy\", \"try\", \"see\", \"love\", \"still\", \"look\", \"book\", \"watch\", \"game\", \"give\", \"great\", \"get\", \"well\", \"good\", \"buy\", \"love\", \"look\", \"make\", \"time\", \"really\", \"use\", \"little\", \"also\", \"much\", \"take\", \"nice\", \"order\", \"find\", \"even\", \"first\", \"perfect\", \"think\", \"thing\", \"long\", \"say\", \"year\", \"way\", \"lot\", \"comfortable\", \"m\", \"br\", \"book\", \"cover\", \"number\", \"fact\", \"level\", \"child\", \"man\", \"anywhere\", \"multi\", \"promote\", \"assistant\", \"compromise\", \"forte\", \"lithium\", \"stallion\", \"technical\", \"voltage\", \"grown\", \"swing\", \"calcolatur\", \"tilt\", \"potency\", \"teeth\", \"whitening\", \"entertainment\", \"bite\", \"heal\", \"vitamin_serum\", \"detergent\", \"case\", \"day\", \"keep\", \"least\", \"need\", \"product\", \"save\", \"think\", \"act\", \"average\", \"battery\", \"build\", \"charge\", \"cost\", \"develop\", \"good\", \"price\", \"color\", \"pretty\", \"seem\", \"fine\", \"like\", \"friend\", \"thick\", \"thin\", \"dark\", \"hair\", \"bring\", \"ago\", \"grow\", \"recently\", \"shade\", \"rug\", \"liner\", \"shampoo\", \"possibly\", \"towel\", \"assistant\", \"compromise\", \"forte\", \"lithium\", \"stallion\", \"technical\", \"voltage\", \"grown\", \"swing\", \"case\", \"day\", \"keep\", \"least\", \"need\", \"product\", \"save\", \"think\", \"act\", \"go\", \"come\", \"far\", \"always\", \"actually\", \"mean\", \"style\", \"type\", \"guess\", \"hit\", \"earring\", \"paper\", \"key\", \"noise\", \"sort\", \"art\", \"brother\", \"draw\", \"correctly\", \"downside\", \"feeling\", \"curve\", \"assistant\", \"compromise\", \"forte\", \"lithium\", \"stallion\", \"technical\", \"voltage\", \"grown\", \"case\", \"day\", \"keep\", \"least\", \"need\", \"product\", \"save\", \"think\", \"need\", \"back\", \"new\", \"return\", \"second\", \"power\", \"send\", \"company\", \"online\", \"blue\", \"connect\", \"necklace\", \"test\", \"ask\", \"instal\", \"secure\", \"annoying\", \"message\", \"email\", \"hassle\", \"additional\", \"website\", \"alarm\", \"accessory\", \"father\", \"warning\", \"satisfy\", \"fancy\", \"assistant\", \"compromise\", \"case\", \"day\", \"quality\", \"picture\", \"right\", \"box\", \"high\", \"son\", \"super\", \"camera\", \"shipping\", \"miss\", \"deliver\", \"roll\", \"poorly\", \"powerful\", \"currently\", \"dent\", \"medicine\", \"emergency\", \"assistant\", \"compromise\", \"forte\", \"lithium\", \"stallion\", \"technical\", \"voltage\", \"grown\", \"swing\", \"calcolatur\", \"tilt\", \"potency\", \"case\", \"day\", \"keep\", \"least\", \"need\", \"product\", \"save\", \"think\", \"act\", \"average\", \"battery\", \"watch\", \"game\", \"give\", \"play\", \"unit\", \"deal\", \"plug\", \"music\", \"charger\", \"hot\", \"word\", \"complain\", \"pop\", \"burn\", \"junk\", \"suck\", \"apple\", \"attention\", \"circle\", \"count\", \"risk\", \"somewhere\", \"cycle\", \"smoke\", \"genuine\", \"gp_product\", \"assistant\", \"compromise\", \"forte\", \"lithium\", \"case\", \"day\", \"keep\", \"least\", \"problem\", \"however\", \"worth\", \"car\", \"pay\", \"fast\", \"yet\", \"awesome\", \"thought\", \"build\", \"cool\", \"figure\", \"computer\", \"display\", \"drive\", \"name\", \"delivery\", \"wire\", \"date\", \"budget\", \"radio\", \"flash\", \"agree\", \"amp\", \"pricey\", \"assistant\", \"compromise\", \"forte\", \"lithium\", \"stallion\", \"case\", \"day\", \"keep\", \"least\", \"need\", \"fit\", \"expect\", \"side\", \"cheap\", \"room\", \"do\", \"sturdy\", \"durable\", \"highly_recommend\", \"wash\", \"warm\", \"pen\", \"cold\", \"length\", \"lightweight\", \"stylus\", \"lid\", \"spare\", \"mirror\", \"drink\", \"period\", \"superb\", \"assistant\", \"compromise\", \"forte\", \"lithium\", \"stallion\", \"technical\", \"voltage\", \"grown\", \"case\", \"day\", \"keep\", \"least\", \"need\", \"product\", \"save\", \"think\", \"size\", \"last\", \"week\", \"able\", \"ever\", \"extra\", \"couple\", \"water\", \"control\", \"notice\", \"bottle\", \"difference\", \"crazy\", \"eat\", \"usual\", \"late\", \"pound\", \"sign\", \"maintain\", \"holiday\", \"gain\", \"snack\", \"land\", \"assistant\", \"compromise\", \"forte\", \"lithium\", \"stallion\", \"technical\", \"voltage\", \"case\", \"day\", \"keep\", \"least\", \"need\", \"product\", \"save\", \"put\", \"tv\", \"hold\", \"cable\", \"video\", \"kid\", \"soft\", \"together\", \"table\", \"family\", \"con\", \"dvd\", \"pro\", \"smooth\", \"adult\", \"actual\", \"challenge\", \"apart\", \"please\", \"avoid\", \"letter\", \"recognize\", \"block\", \"bird\", \"lover\", \"rich\", \"greasy\", \"babys\", \"blast\", \"assistant\", \"case\", \"read\", \"s\", \"beautiful\", \"easily\", \"point\", \"move\", \"wife\", \"baby\", \"be\", \"finish\", \"edge\", \"lead\", \"view\", \"pain\", \"setting\", \"stone\", \"cap\", \"matter\", \"bedroom\", \"weigh\", \"dead\", \"self\", \"total\", \"god\", \"everywhere\", \"spring\", \"likely\", \"master\", \"tired\", \"dangerous\", \"month\", \"old\", \"break\", \"replace\", \"lose\", \"weight\", \"decide\", \"cut\", \"least\", \"drop\", \"half\", \"due\", \"speed\", \"lbs\", \"reach\", \"third\", \"floor\", \"tend\", \"normally\", \"prevent\", \"form\", \"gray\", \"struggle\", \"nail\", \"bone\", \"college\", \"lunch\", \"proof\", \"evening\", \"breakfast\", \"set\", \"run\", \"screen\", \"already\", \"feature\", \"allow\", \"house\", \"pleased\", \"white\", \"air\", \"dry\", \"ve\", \"own\", \"choose\", \"prefer\", \"grip\", \"track\", \"particular\", \"mostly\", \"battle\", \"score\", \"plain\", \"decision\", \"beauty\", \"wake\", \"silicone\", \"rim\", \"moisture\", \"assistant\", \"compromise\", \"case\", \"day\", \"day\", \"feel\", \"never\", \"start\", \"less\", \"instead\", \"though\", \"kind\", \"mind\", \"purpose\", \"continue\", \"refund\", \"slim\", \"shot\", \"magic\", \"exist\", \"assistant\", \"compromise\", \"forte\", \"lithium\", \"stallion\", \"technical\", \"voltage\", \"grown\", \"swing\", \"calcolatur\", \"tilt\", \"potency\", \"teeth\", \"whitening\", \"case\", \"keep\", \"least\", \"need\", \"product\", \"save\", \"think\", \"act\", \"average\", \"battery\", \"br\", \"build\", \"charge\", \"battery\", \"life\", \"almost\", \"other\", \"low\", \"charge\", \"provide\", \"idea\", \"suppose\", \"quick\", \"shape\", \"learn\", \"properly\", \"girl\", \"research\", \"listen\", \"average\", \"manual\", \"slow\", \"contain\", \"market\", \"fair\", \"act\", \"repeat\", \"boring\", \"develop\", \"method\", \"absorb\", \"relatively\", \"trick\", \"see\", \"big\", \"item\", \"place\", \"arrive\", \"often\", \"believe\", \"standard\", \"tiny\", \"surprise\", \"suggest\", \"driver\", \"rain\", \"left\", \"loss\", \"highly_recommende\", \"trim\", \"energy\", \"assistant\", \"compromise\", \"forte\", \"lithium\", \"stallion\", \"technical\", \"voltage\", \"grown\", \"swing\", \"calcolatur\", \"tilt\", \"potency\", \"case\", \"day\", \"keep\", \"least\", \"need\", \"product\", \"save\", \"think\", \"act\", \"average\", \"battery\", \"many\", \"definitely\", \"open\", \"change\", \"leave\", \"extremely\", \"disappoint\", \"smell\", \"leg\", \"today\", \"skin\", \"rate\", \"poor\", \"soon\", \"condition\", \"girlfriend\", \"effect\", \"mess\", \"fresh\", \"sad\", \"cloth\", \"benefit\", \"painful\", \"tomorrow\", \"allergy\", \"complement\", \"sick\", \"bark\", \"organizer\", \"potential\", \"want\", \"amazon\", \"exactly\", \"thank\", \"absolutely\", \"trip\", \"save\", \"follow\", \"photo\", \"disappointed\", \"decent\", \"damage\", \"print\", \"paint\", \"young\", \"direction\", \"brown\", \"kinda\", \"lady\", \"assistant\", \"compromise\", \"forte\", \"lithium\", \"stallion\", \"technical\", \"voltage\", \"grown\", \"swing\", \"calcolatur\", \"tilt\", \"case\", \"day\", \"keep\", \"least\", \"need\", \"product\", \"think\", \"act\", \"average\", \"battery\", \"sound\", \"end\", \"brand\", \"d\", \"cost\", \"travel\", \"speaker\", \"stick\", \"volume\", \"attach\", \"window\", \"rest\", \"warranty\", \"beat\", \"helpful\", \"question\", \"stylish\", \"sun\", \"bass\", \"heat\", \"party\", \"factory\", \"uneven\", \"surprisingly\", \"have\", \"bread\", \"max\", \"inspect\", \"assistant\", \"compromise\", \"case\", \"day\", \"light\", \"reason\", \"enjoy\", \"stay\", \"home\", \"sit\", \"mention\", \"eye\", \"touch\", \"flat\", \"state\", \"machine\", \"sleep\", \"constantly\", \"mini\", \"position\", \"cup\", \"nose\", \"uncomfortable\", \"lol\", \"survive\", \"negative\", \"whenever\", \"ruin\", \"dim\", \"sight\", \"traditional\", \"mask\", \"itchy\", \"assistant\", \"case\", \"bag\", \"sure\", \"several\", \"heavy\", \"glass\", \"match\", \"true\", \"begin\", \"appear\", \"description\", \"huge\", \"daily\", \"improve\", \"tall\", \"digital\", \"teach\", \"asin\", \"increase\", \"exact\", \"strength\", \"stress\", \"supplement\", \"reduce\", \"fabulous\", \"boost\", \"glow\", \"slowly\", \"guarantee\", \"technique\", \"discuss\", \"purchase\", \"small\", \"happy\", \"plastic\", \"live\", \"seller\", \"consider\", \"green\", \"coffee\", \"assistant\", \"compromise\", \"forte\", \"lithium\", \"stallion\", \"technical\", \"voltage\", \"grown\", \"swing\", \"calcolatur\", \"tilt\", \"potency\", \"teeth\", \"whitening\", \"entertainment\", \"bite\", \"heal\", \"vitamin_serum\", \"detergent\", \"laundry\", \"leaver\", \"case\", \"day\", \"keep\", \"least\", \"need\", \"product\", \"save\", \"think\", \"act\", \"average\", \"battery\", \"br\", \"build\", \"charge\", \"cost\", \"develop\", \"good\", \"high\", \"product\", \"tell\", \"tight\", \"quickly\", \"maybe\", \"cause\", \"taste\", \"realize\", \"sense\", \"buck\", \"thinking\", \"chip\", \"awhile\", \"container\", \"smile\", \"fear\", \"whatsoever\", \"sugar\", \"shame\", \"pasta\", \"cereal\", \"assistant\", \"compromise\", \"forte\", \"lithium\", \"stallion\", \"technical\", \"voltage\", \"grown\", \"swing\", \"case\", \"day\", \"keep\", \"least\", \"need\", \"save\", \"think\", \"act\", \"easy\", \"large\", \"turn\", \"piece\", \"metal\", \"search\", \"ability\", \"desk\", \"construction\", \"shock\", \"doubt\", \"grade\", \"transfer\", \"lifetime\", \"meat\", \"oven\", \"grease\", \"soup\", \"assistant\", \"compromise\", \"forte\", \"lithium\", \"stallion\", \"technical\", \"voltage\", \"grown\", \"swing\", \"calcolatur\", \"tilt\", \"potency\", \"case\", \"day\", \"keep\", \"least\", \"need\", \"product\", \"save\", \"think\", \"act\", \"average\", \"battery\", \"wear\", \"recommend\", \"cute\", \"wish\", \"package\", \"ship\", \"especially\", \"face\", \"hate\", \"process\", \"mine\", \"hurt\", \"wrap\", \"surprised\", \"bubble\", \"customer_service\", \"okay\", \"assistant\", \"compromise\", \"forte\", \"lithium\", \"stallion\", \"technical\", \"voltage\", \"grown\", \"swing\", \"calcolatur\", \"tilt\", \"potency\", \"teeth\", \"case\", \"day\", \"keep\", \"least\", \"need\", \"product\", \"save\", \"think\", \"act\", \"average\", \"battery\", \"br\", \"work\", \"clean\", \"handle\", \"body\", \"apply\", \"impressive\", \"gel\", \"assistant\", \"compromise\", \"forte\", \"lithium\", \"stallion\", \"technical\", \"voltage\", \"grown\", \"swing\", \"calcolatur\", \"tilt\", \"potency\", \"teeth\", \"whitening\", \"entertainment\", \"bite\", \"heal\", \"vitamin_serum\", \"detergent\", \"laundry\", \"leaver\", \"pod\", \"tide\", \"case\", \"day\", \"keep\", \"least\", \"need\", \"product\", \"save\", \"think\", \"act\", \"average\", \"battery\", \"br\", \"build\", \"charge\", \"cost\", \"develop\", \"good\", \"high\", \"introduce\", \"bit\", \"daughter\", \"gift\", \"design\", \"area\", \"bar\", \"otherwise\", \"slightly\", \"wrong\", \"chair\", \"fail\", \"workout\", \"performance\", \"kitchen\", \"accurate\", \"rock\", \"inexpensive\", \"concern\", \"counter\", \"particularly\", \"mechanism\", \"fat\", \"padding\", \"neat\", \"lounge\", \"assistant\", \"compromise\", \"forte\", \"lithium\", \"stallion\", \"case\", \"day\", \"keep\", \"least\", \"need\", \"keep\", \"issue\", \"part\", \"bad\", \"real\", \"result\", \"become\", \"check\", \"tip\", \"solution\", \"mouth\", \"tray\", \"tooth\", \"unpleasant\", \"assistant\", \"compromise\", \"forte\", \"lithium\", \"stallion\", \"technical\", \"voltage\", \"grown\", \"swing\", \"calcolatur\", \"tilt\", \"potency\", \"teeth\", \"whitening\", \"entertainment\", \"bite\", \"case\", \"day\", \"least\", \"need\", \"product\", \"save\", \"think\", \"act\", \"average\", \"battery\", \"br\", \"build\", \"charge\", \"cost\", \"black\", \"overall\", \"write\", \"amazing\", \"wonderful\", \"clear\", \"ear\", \"red\", \"sony\", \"author\", \"step\", \"loud\", \"tablet\", \"totally\", \"headphone\", \"cross\", \"heart\", \"share\", \"force\", \"balance\", \"lower\", \"suffer\", \"laugh\", \"study\", \"attack\", \"recent\", \"wine\", \"assistant\", \"compromise\", \"forte\", \"case\", \"day\", \"keep\", \"still\", \"foot\", \"wide\", \"walk\", \"loose\", \"rather\", \"else\", \"night\", \"main\", \"stretch\", \"food\", \"sized\", \"serve\", \"texture\", \"content\", \"shrink\", \"flavor\", \"report\", \"odd\", \"combine\", \"relate\", \"lazy\", \"patient\", \"assistant\", \"compromise\", \"forte\", \"lithium\", \"stallion\", \"technical\", \"voltage\", \"case\", \"day\", \"keep\", \"least\", \"need\", \"product\", \"save\", \"try\", \"enough\", \"different\", \"fabric\", \"hopefully\", \"useless\", \"personal\", \"luck\", \"produce\", \"christmas_gift\", \"steam\", \"assistant\", \"compromise\", \"forte\", \"lithium\", \"stallion\", \"technical\", \"voltage\", \"grown\", \"swing\", \"calcolatur\", \"tilt\", \"potency\", \"teeth\", \"whitening\", \"entertainment\", \"bite\", \"heal\", \"vitamin_serum\", \"detergent\", \"case\", \"day\", \"keep\", \"least\", \"need\", \"product\", \"save\", \"think\", \"act\", \"average\", \"battery\", \"br\", \"build\", \"charge\", \"cost\", \"develop\", \"people\", \"away\", \"job\", \"strong\", \"slip\", \"care\", \"sell\", \"completely\", \"deep\", \"early\", \"barely\", \"healthy\", \"anti\", \"doctor\", \"appearance\", \"treat\", \"scent\", \"cell\", \"vitamin\", \"assistant\", \"compromise\", \"forte\", \"lithium\", \"stallion\", \"technical\", \"voltage\", \"grown\", \"swing\", \"calcolatur\", \"tilt\", \"case\", \"day\", \"keep\", \"least\", \"need\", \"product\", \"save\", \"think\", \"act\", \"average\", \"review\", \"star\", \"add\", \"device\", \"stop\", \"twice\", \"reading\", \"release\", \"reviewer\", \"morning\", \"positive\", \"sweat\", \"sleek\", \"fake\", \"suggestion\", \"male\", \"buyer\", \"assistant\", \"compromise\", \"forte\", \"lithium\", \"stallion\", \"technical\", \"voltage\", \"grown\", \"swing\", \"calcolatur\", \"tilt\", \"potency\", \"teeth\", \"case\", \"day\", \"keep\", \"least\", \"need\", \"product\", \"save\", \"think\", \"act\", \"average\", \"battery\", \"br\", \"include\", \"short\", \"fun\", \"instruction\", \"throw\", \"list\", \"tool\", \"unfortunately\", \"understand\", \"plan\", \"recipe\", \"excited\", \"label\", \"ingredient\", \"pill\", \"blend\", \"gadget\", \"veggie\", \"assistant\", \"compromise\", \"forte\", \"lithium\", \"stallion\", \"technical\", \"voltage\", \"grown\", \"swing\", \"calcolatur\", \"tilt\", \"potency\", \"case\", \"day\", \"keep\", \"least\", \"need\", \"product\", \"save\", \"think\", \"act\", \"average\", \"battery\", \"quite\", \"one\", \"hand\", \"expensive\", \"value\", \"normal\", \"oil\", \"pump\", \"honestly\", \"skip\", \"bug\", \"indicate\", \"sticky\", \"blanket\", \"electric\", \"discomfort\", \"tremendous\", \"assistant\", \"compromise\", \"forte\", \"lithium\", \"stallion\", \"technical\", \"voltage\", \"grown\", \"swing\", \"calcolatur\", \"tilt\", \"potency\", \"teeth\", \"case\", \"day\", \"keep\", \"least\", \"need\", \"product\", \"save\", \"think\", \"act\", \"average\", \"battery\", \"br\", \"phone\", \"case\", \"perfectly\", \"pocket\", \"fall\", \"protect\", \"slide\", \"assistant\", \"compromise\", \"forte\", \"lithium\", \"stallion\", \"technical\", \"voltage\", \"grown\", \"swing\", \"calcolatur\", \"tilt\", \"potency\", \"teeth\", \"whitening\", \"entertainment\", \"bite\", \"heal\", \"vitamin_serum\", \"detergent\", \"laundry\", \"leaver\", \"pod\", \"tide\", \"day\", \"keep\", \"least\", \"need\", \"product\", \"save\", \"think\", \"act\", \"average\", \"battery\", \"br\", \"build\", \"charge\", \"cost\", \"develop\", \"good\", \"high\", \"introduce\", \"low\", \"assistant\", \"compromise\", \"forte\", \"lithium\", \"stallion\", \"technical\", \"voltage\", \"grown\", \"swing\", \"calcolatur\", \"tilt\", \"potency\", \"teeth\", \"whitening\", \"entertainment\", \"bite\", \"heal\", \"vitamin_serum\", \"detergent\", \"laundry\", \"leaver\", \"pod\", \"tide\", \"amateur\", \"existant\", \"unheard\", \"kettle\", \"dripping\", \"fingerprint\", \"shake\", \"case\", \"day\", \"keep\", \"least\", \"need\", \"product\", \"save\", \"think\", \"act\", \"average\", \"battery\", \"br\", \"build\", \"charge\", \"cost\", \"develop\", \"good\", \"high\", \"introduce\", \"low\", \"many\", \"market\", \"never\", \"new\", \"particular\", \"phone\", \"assistant\", \"compromise\", \"forte\", \"lithium\", \"stallion\", \"technical\", \"voltage\", \"grown\", \"swing\", \"calcolatur\", \"tilt\", \"potency\", \"teeth\", \"whitening\", \"entertainment\", \"bite\", \"heal\", \"vitamin_serum\", \"detergent\", \"laundry\", \"leaver\", \"pod\", \"tide\", \"amateur\", \"existant\", \"unheard\", \"kettle\", \"dripping\", \"fingerprint\", \"shake\", \"case\", \"day\", \"keep\", \"least\", \"need\", \"product\", \"save\", \"think\", \"act\", \"average\", \"battery\", \"br\", \"build\", \"charge\", \"cost\", \"develop\", \"good\", \"high\", \"introduce\", \"low\", \"many\", \"market\", \"never\", \"new\", \"particular\", \"phone\", \"assistant\", \"compromise\", \"forte\", \"lithium\", \"stallion\", \"technical\", \"voltage\", \"grown\", \"swing\", \"calcolatur\", \"tilt\", \"potency\", \"teeth\", \"whitening\", \"entertainment\", \"bite\", \"heal\", \"vitamin_serum\", \"detergent\", \"laundry\", \"leaver\", \"pod\", \"tide\", \"amateur\", \"existant\", \"unheard\", \"kettle\", \"dripping\", \"fingerprint\", \"shake\", \"case\", \"day\", \"keep\", \"least\", \"need\", \"product\", \"save\", \"think\", \"act\", \"average\", \"battery\", \"br\", \"build\", \"charge\", \"cost\", \"develop\", \"good\", \"high\", \"introduce\", \"low\", \"many\", \"market\", \"never\", \"new\", \"particular\", \"phone\"], \"Freq\": [16423.0, 7955.0, 5700.0, 5072.0, 5258.0, 4722.0, 4494.0, 3872.0, 4169.0, 3729.0, 10630.0, 3541.0, 3895.0, 3504.0, 3277.0, 3578.0, 9229.0, 9137.0, 9130.0, 3213.0, 8654.0, 2678.0, 2967.0, 8318.0, 2666.0, 8259.0, 3244.0, 2843.0, 2756.0, 2751.0, 10628.928887710066, 9228.340822621058, 9135.57616397066, 9129.22428924041, 8653.361286245015, 8316.566725528237, 8258.499237354765, 7092.647021741318, 6786.978462202934, 5163.526213400581, 4967.555951160638, 4541.073157080343, 4441.0976279299375, 3991.1778618365342, 3951.846182306747, 3802.2973657749617, 3739.837264260839, 3434.304516804085, 3408.4877040518136, 3378.6372098889146, 3111.451973766725, 2985.5720111662226, 2943.234002907816, 2847.546881053861, 2804.972296911324, 2590.4325488880345, 2532.72274092033, 2319.101445568894, 2237.4140771756024, 2169.7854497484755, 16422.005261153572, 3243.1444666845255, 1158.2219193023975, 554.7824905248319, 521.1084734150213, 460.4099195233901, 435.7304468938483, 380.52662828598994, 166.0167200227217, 55.317959654253215, 11.690191515689529, 0.039908766574520284, 0.039908766574520284, 0.039908766574520284, 0.039908766574520284, 0.039908766574520284, 0.039908766574520284, 0.039908766574520284, 0.039908766574520284, 0.039908766574520284, 0.039908766574520284, 0.039908766574520284, 0.039908766574520284, 0.039908766574520284, 0.039908766574520284, 0.039908766574520284, 0.039908766574520284, 0.039908766574520284, 0.039908766574520284, 0.039908766574520284, 0.039908766574520284, 0.039908766574520284, 0.039908766574520284, 0.039908766574520284, 0.039908766574520284, 0.039908766574520284, 0.039908766574520284, 0.039908766574520284, 0.039908766574520284, 0.039908766574520284, 0.039908766574520284, 0.039908766574520284, 0.039908766574520284, 0.039908766574520284, 0.039908766574520284, 0.039908766574520284, 4492.565802052088, 2426.069163846215, 2131.891767485723, 2015.316111065578, 1459.9490149294961, 1433.0304642657657, 1041.3996629205124, 608.2078517218545, 607.3185634009108, 435.0899284621078, 398.73348176756423, 383.6176297922514, 331.48636717236064, 322.66491768222943, 290.73896390598674, 191.73214568513296, 123.85048390806172, 121.26285611585988, 56.22352600678058, 35.2365382253576, 22.3621730494217, 0.04113330935275533, 0.04113330935275533, 0.04113330935275533, 0.04113330935275533, 0.04113330935275533, 0.04113330935275533, 0.04113330935275533, 0.04113330935275533, 0.04113330935275533, 0.04113330935275533, 0.04113330935275533, 0.04113330935275533, 0.04113330935275533, 0.04113330935275533, 0.04113330935275533, 0.04113330935275533, 0.04113330935275533, 0.04113330935275533, 5257.007179567574, 3894.0850843133085, 1747.3773622148285, 1308.5735734797313, 1016.5665487197116, 746.9725019868456, 712.7033828736827, 608.74002536368, 521.6109134098718, 503.85067813542196, 409.89026313824513, 388.24833364130126, 359.4957340852517, 254.26759616434407, 221.9678999871666, 200.39887855760662, 134.2122903218243, 124.87302918905148, 116.79461398064878, 101.2112673018808, 92.04090277770297, 53.317049026435136, 0.0404808294587643, 0.0404808294587643, 0.0404808294587643, 0.0404808294587643, 0.0404808294587643, 0.0404808294587643, 0.0404808294587643, 0.0404808294587643, 0.0404808294587643, 0.0404808294587643, 0.0404808294587643, 0.0404808294587643, 0.0404808294587643, 0.0404808294587643, 0.0404808294587643, 0.0404808294587643, 3577.508985570206, 2807.2095147075447, 2070.8719390261253, 1695.9743256736572, 1269.0446396049479, 867.1763814307532, 863.7338867653632, 658.4602095842879, 560.5862586742213, 534.0204574920067, 470.0709021373415, 405.4734446398938, 382.6427367509992, 369.36485907882695, 262.272673259584, 193.62893722749845, 179.14245821979333, 177.3907469744234, 172.3000277003514, 157.5921231940312, 149.60561862075494, 145.673017626926, 133.5692789890732, 110.42740399214203, 91.5649743281406, 64.6782820657633, 53.80347217184139, 39.77057906392803, 0.03847256315553616, 0.03847256315553616, 0.03847256315553616, 0.03847256315553616, 4168.505465224136, 2291.911871413698, 2150.347741610427, 1625.4615265097673, 1505.1341156123576, 1101.9068583617286, 917.4936512661375, 865.9937708027879, 482.9761036341748, 422.92936198200164, 332.27750327063717, 311.92962284924, 254.23406610840445, 158.2877934778902, 122.62107725899038, 42.299109102912034, 38.92302103497313, 28.5387178983979, 0.03867148741743887, 0.03867148741743887, 0.03867148741743887, 0.03867148741743887, 0.03867148741743887, 0.03867148741743887, 0.03867148741743887, 0.03867148741743887, 0.03867148741743887, 0.03867148741743887, 0.03867148741743887, 0.03867148741743887, 0.03867148741743887, 0.03867148741743887, 0.03867148741743887, 0.03867148741743887, 0.03867148741743887, 0.03867148741743887, 0.03867148741743887, 0.03867148741743887, 0.03867148741743887, 0.03867148741743887, 0.03867148741743887, 2842.501801341655, 2755.013433574864, 2749.78726029759, 2233.507902859574, 1040.5092046531804, 831.389729622285, 616.1719238339488, 477.56951607628156, 325.3861867916271, 280.8893516938587, 264.36240634493566, 260.9397682105995, 244.2909966946049, 149.318141482223, 130.47063650571397, 85.08180720435746, 79.30632676216204, 74.32739539600738, 67.55677919343917, 66.73572224140561, 66.43724656457958, 53.991266199935076, 48.83106903398437, 48.13326075605546, 24.546720623591803, 15.157116141637495, 0.03815614351055764, 0.03815614351055764, 0.03815614351055764, 0.03815614351055764, 0.03815614351055764, 0.03815614351055764, 0.03815614351055764, 0.03815614351055764, 2341.2743056000145, 1864.2807076810095, 1312.0177630534047, 1054.4097262263085, 965.4290388560992, 933.9654185755678, 891.4739953519774, 782.3583672391322, 550.5926466775074, 550.3595311539154, 547.2445148493525, 532.7509324094061, 473.91579415126955, 466.6096185733628, 443.22734682408793, 375.8360031526144, 307.05985486797795, 243.36891651659562, 214.1551599846299, 187.48714579425814, 187.04087561410887, 144.3696021759171, 142.966144584043, 76.95390686946504, 62.42703945018662, 0.040752293940398095, 0.040752293940398095, 0.040752293940398095, 0.040752293940398095, 0.040752293940398095, 0.040752293940398095, 0.040752293940398095, 0.040752293940398095, 0.040752293940398095, 0.040752293940398095, 5070.942498644344, 1570.9284969931655, 1387.0574627966737, 1248.3907207352495, 1054.6855731698556, 801.2518587890644, 769.5838004900982, 529.1747841412522, 464.22493145261626, 458.73351877753385, 455.470458805759, 319.08087113930316, 299.4470871933943, 266.38856750590156, 238.00144043865575, 144.17870281720602, 129.32428175292947, 116.90738449808522, 108.47793668795218, 104.99888203807336, 86.49641073852797, 72.70691561862664, 0.03504857913338179, 0.03504857913338179, 0.03504857913338179, 0.03504857913338179, 0.03504857913338179, 0.03504857913338179, 0.03504857913338179, 0.03504857913338179, 0.03504857913338179, 0.03504857913338179, 0.03504857913338179, 0.03504857913338179, 0.03504857913338179, 0.03504857913338179, 0.03504857913338179, 0.03504857913338179, 4721.133733949559, 1690.7095691793259, 1444.5543118719038, 1003.0924568313952, 996.2664012923186, 784.5591956119554, 727.2353342256849, 677.6882820563111, 671.5841120352962, 545.671220838217, 483.2353692851439, 457.8793086137575, 238.00188261847902, 171.15853047986255, 156.93519675985505, 149.92639216588205, 101.63135063788897, 95.73777387114265, 86.7540718577442, 48.58317128528948, 46.748908855830315, 44.374787680241056, 39.41252409691357, 0.039377506091894554, 0.039377506091894554, 0.039377506091894554, 0.039377506091894554, 0.039377506091894554, 0.039377506091894554, 0.039377506091894554, 0.039377506091894554, 0.039377506091894554, 0.039377506091894554, 0.039377506091894554, 0.039377506091894554, 0.039377506091894554, 0.039377506091894554, 2372.044288613981, 2335.1885452806105, 1933.0762477202293, 980.0993054392848, 926.4520860268764, 862.9041747788198, 824.2936652897706, 756.8553931540067, 499.206591938948, 473.6348102661605, 414.974077488478, 399.7272552471329, 383.587090876018, 358.7926214259182, 270.473738531842, 233.38429388182314, 203.58451857887047, 179.28920267586082, 142.9448025654361, 142.44700173798577, 121.11671809311602, 99.3193129982449, 80.89508911485814, 61.09455279322365, 47.813946546086115, 47.55132894724938, 39.024749480547044, 36.81979366900998, 33.81583652325708, 0.040483488967413966, 0.040483488967413966, 2288.6649888117904, 1221.7470292597268, 1214.174580797706, 1200.7980230256055, 973.8721696596585, 955.4607737334212, 606.7286233965725, 568.4960414894402, 567.5329934701676, 566.7943186610659, 442.6110274650734, 398.55547144826716, 345.5640135787855, 307.83624191828835, 304.31318164161405, 278.02207682996914, 237.6100947353684, 234.90983448348524, 189.8786883033013, 182.6812809000838, 180.26751505390953, 159.8155520747156, 158.61558870116707, 144.89191861653725, 144.60203444215134, 142.17659600122826, 121.23094269047242, 110.14109339165573, 100.64767775847949, 89.20730427126952, 1703.3241947203298, 1567.0556249547378, 1396.0472697672012, 902.1153866472403, 871.9387372013803, 793.3715482504714, 740.3195312202827, 695.96534516063, 614.1577305871635, 552.1799240124818, 518.1251706240162, 414.11945669319573, 394.4736123648439, 297.1851603403184, 294.0181880360361, 286.89814425329246, 255.18841833511212, 251.60641275759232, 235.98646000771603, 174.45376457366885, 134.93128162644774, 97.42091164879507, 94.13603685743885, 93.03086450779135, 85.6807697777062, 85.2073496511209, 67.58518140840776, 65.10454887096954, 41.20844721553526, 9.526884884003833, 2523.1217235379227, 1750.134483597041, 1477.7825270137132, 917.3641164093086, 907.4550346094146, 810.6522433899468, 659.0003810383192, 535.600859547955, 528.7715346035819, 498.189977421486, 482.85899915789577, 338.8709211639884, 296.6900811757231, 296.059782206033, 232.57943993224552, 221.18655852275106, 206.9724684936557, 181.3349760998525, 176.9031134320234, 152.63832162120835, 131.5313488207348, 119.74964144036444, 78.37872724176233, 59.52775484005438, 47.87970380938924, 12.954020535308, 7.026898721864856, 3.578900140199244, 0.04230469447778135, 0.04230469447778135, 0.04230469447778135, 0.04230469447778135, 3212.0332458032985, 2335.1538454015526, 1625.9871023674623, 1491.8098066257617, 1064.475901577, 663.7364228989044, 623.6340357026503, 471.99560045269743, 408.7328984782787, 342.3730517433231, 250.11570489318834, 240.24332090840508, 228.4228349231067, 139.6873822859111, 79.22106090235293, 63.781175578314304, 0.041202407688459244, 0.041202407688459244, 0.041202407688459244, 0.041202407688459244, 0.041202407688459244, 0.041202407688459244, 0.041202407688459244, 0.041202407688459244, 0.041202407688459244, 0.041202407688459244, 0.041202407688459244, 0.041202407688459244, 0.041202407688459244, 0.041202407688459244, 0.041202407688459244, 0.041202407688459244, 0.041202407688459244, 0.041202407688459244, 0.041202407688459244, 0.041202407688459244, 0.041202407688459244, 0.041202407688459244, 0.041202407688459244, 0.041202407688459244, 0.041202407688459244, 0.041202407688459244, 0.041202407688459244, 1488.9574558473237, 1114.1019876192306, 1093.9308703897277, 942.4520777956709, 903.2332122927722, 801.53458355338, 784.1331465169543, 509.3466069597199, 473.9285521924534, 450.7756786411736, 414.4165134832813, 406.30110650878606, 326.0093988668264, 252.9171367050488, 249.66926636967543, 238.77533194934878, 229.1069870759877, 221.3178451163208, 218.63269100859344, 181.85647976861944, 176.38404124039593, 144.98387732298383, 143.92197484883826, 135.47684649838047, 105.14144816023256, 97.70415215684831, 97.13340117925216, 84.32085745924005, 83.92441412682977, 75.93059884178831, 2966.2893164736265, 2574.05358465446, 1505.4310283894224, 1401.6200901001828, 1094.2716606413042, 624.8229551241818, 556.821610746999, 380.80844668222596, 280.36082598432506, 252.96851752204574, 208.68744837541092, 185.396988306683, 136.49288247116695, 96.29978137184807, 96.03753857638907, 88.18078069468912, 79.45372066535896, 57.74127017367783, 0.03939175280351783, 0.03939175280351783, 0.03939175280351783, 0.03939175280351783, 0.03939175280351783, 0.03939175280351783, 0.03939175280351783, 0.03939175280351783, 0.03939175280351783, 0.03939175280351783, 0.03939175280351783, 0.03939175280351783, 0.03939175280351783, 0.03939175280351783, 0.03939175280351783, 0.03939175280351783, 0.03939175280351783, 0.03939175280351783, 0.03939175280351783, 0.03939175280351783, 0.03939175280351783, 0.03939175280351783, 0.03939175280351783, 1884.0671301899324, 1556.0884371529949, 1245.808753181787, 1186.725363416867, 1077.5975815127501, 547.793919086636, 481.53681163595303, 450.44117219413545, 422.95414914658215, 372.120640978098, 367.4833730935058, 338.7955609049155, 318.26801956043727, 313.50185083364, 312.6786311075332, 254.3816756271953, 218.94350722359033, 213.30837731382522, 178.78222980534375, 165.62498309342587, 114.99383280254285, 66.44391247396712, 66.09445710435584, 52.033038660473295, 49.196167041173105, 47.92975105329003, 43.326975844996525, 30.03081285988076, 29.488464780006858, 23.99165818691576, 3503.035222507933, 1673.6890635791656, 866.7279446736559, 799.9997481974839, 773.0805696637436, 672.5447911127883, 497.3312831003421, 454.28328038850896, 439.9764135473784, 399.0555931142572, 387.4095283006911, 384.39454515948086, 380.5186251923363, 323.9189784417231, 270.9069429801307, 239.01448393302493, 168.1568255205587, 151.4488591707517, 112.18997327032362, 0.04038502130498071, 0.04038502130498071, 0.04038502130498071, 0.04038502130498071, 0.04038502130498071, 0.04038502130498071, 0.04038502130498071, 0.04038502130498071, 0.04038502130498071, 0.04038502130498071, 0.04038502130498071, 0.04038502130498071, 0.04038502130498071, 0.04038502130498071, 0.04038502130498071, 0.04038502130498071, 0.04038502130498071, 0.04038502130498071, 0.04038502130498071, 0.04038502130498071, 0.04038502130498071, 2236.7937884921694, 1591.2877158188153, 955.8415085213421, 859.2846165411939, 799.9566186664039, 651.7894550828532, 566.9503966101679, 476.91493395013083, 443.77028730125534, 390.5174480133528, 339.0837193128503, 316.4150678980757, 300.63728541730404, 276.22327444504486, 273.33092381210076, 230.77303500356015, 211.71635066808363, 191.9862756726535, 173.5574162298908, 135.2090074022799, 121.47065968279881, 94.30991786056077, 86.63956629781629, 83.91224490019172, 80.46462259189838, 77.28384969703367, 62.25105773257043, 17.116293699482828, 0.04120456614205107, 0.04120456614205107, 0.04120456614205107, 0.04120456614205107, 2284.9534185723405, 893.2435342779497, 885.8900671016326, 847.5265378976312, 811.9669615213235, 690.5443384951266, 520.4546971679398, 509.4431913348402, 492.0724922332722, 476.32457055091027, 421.409189802245, 417.14325509043067, 386.70080656104074, 269.31834467643165, 233.25921678345134, 218.44613729614878, 214.11794989724527, 190.0794955332535, 171.38146825725352, 139.1278705544644, 116.18207755366532, 115.14142491580385, 81.451240074232, 79.81809916045874, 62.37383359140032, 55.78087000776242, 51.41358342693329, 51.339168276496736, 34.69279018622964, 0.04253337763047475, 0.04253337763047475, 2395.203090918744, 1386.1689870146533, 1247.5505913845823, 711.1581755975992, 667.1425804332802, 644.6324229668473, 564.822832330969, 509.8718462487909, 490.0533535315042, 370.184971047374, 367.84807837778175, 295.14454817027524, 265.358311931175, 193.0849849712445, 191.6758138050423, 145.2507015442445, 118.516796290229, 113.76375559822495, 113.34772639338432, 103.76684535810955, 93.96117359475124, 86.52556082540546, 84.79503534129657, 61.367751819261116, 58.73315162583055, 57.88758577443369, 49.69253317491578, 42.37442930111839, 29.878885009776806, 15.22413815224292, 3540.3772907899847, 3276.3705465639086, 1557.1556300123877, 913.234311620957, 592.4989257804009, 479.09518754494235, 430.63070693089, 306.6159670017632, 267.08528208975486, 0.03802131978662175, 0.03802131978662175, 0.03802131978662175, 0.03802131978662175, 0.03802131978662175, 0.03802131978662175, 0.03802131978662175, 0.03802131978662175, 0.03802131978662175, 0.03802131978662175, 0.03802131978662175, 0.03802131978662175, 0.03802131978662175, 0.03802131978662175, 0.03802131978662175, 0.03802131978662175, 0.03802131978662175, 0.03802131978662175, 0.03802131978662175, 0.03802131978662175, 0.03802131978662175, 0.03802131978662175, 0.03802131978662175, 0.03802131978662175, 0.03802131978662175, 0.03802131978662175, 0.03802131978662175, 0.03802131978662175, 0.03802131978662175, 0.03802131978662175, 0.03802131978662175, 0.03802131978662175, 0.03802131978662175, 0.03802131978662175, 0.03802131978662175, 0.03802131978662175, 0.03802131978662175, 0.03802131978662175, 0.03802131978662175, 5699.077604209782, 1003.5398418851667, 797.6048882610037, 770.5175254343964, 724.7220265990475, 430.9116993876583, 286.22652098308265, 248.65759898794693, 241.72198643262288, 224.2381983780141, 162.13529062864862, 139.88625191308458, 94.02738254094938, 92.96892051014545, 89.71448066406525, 65.17781210313808, 59.312432608431685, 57.33120571384663, 41.701202618543505, 5.50799747190934, 3.5749681044443293, 0.04195129800049534, 0.04195129800049534, 0.04195129800049534, 0.04195129800049534, 0.04195129800049534, 0.04195129800049534, 0.04195129800049534, 0.04195129800049534, 0.04195129800049534, 0.04195129800049534, 0.04195129800049534, 0.04195129800049534, 0.04195129800049534, 0.04195129800049534, 0.04195129800049534, 0.04195129800049534, 0.04195129800049534, 3870.81192499014, 2095.989437449878, 1354.380518322527, 1312.2144356239496, 594.6824166510651, 352.5424703740705, 313.47600694036623, 229.33194021428795, 209.18484289907323, 158.6546865882316, 133.05273907250304, 119.49755202788069, 99.4831057151371, 86.27198924610943, 72.61212276863718, 20.86745391094523, 16.29632485780451, 10.486678972259133, 0.03976949406257627, 0.03976949406257627, 0.03976949406257627, 0.03976949406257627, 0.03976949406257627, 0.03976949406257627, 0.03976949406257627, 0.03976949406257627, 0.03976949406257627, 0.03976949406257627, 0.03976949406257627, 0.03976949406257627, 0.03976949406257627, 0.03976949406257627, 0.03976949406257627, 0.03976949406257627, 0.03976949406257627, 0.03976949406257627, 0.03976949406257627, 0.03976949406257627, 0.03976949406257627, 0.03976949406257627, 0.03976949406257627, 3728.5274264529626, 2118.338751079325, 924.9596870406834, 712.4534577752579, 668.8412853757344, 654.3938072150842, 596.5509890671051, 447.5287387937622, 232.59141694301843, 193.30676347038337, 178.4072282515717, 169.2633154721486, 157.10028189243042, 127.52064906234233, 106.15399474332222, 91.46955513981149, 60.483255992216215, 0.030035298560441306, 0.030035298560441306, 0.030035298560441306, 0.030035298560441306, 0.030035298560441306, 0.030035298560441306, 0.030035298560441306, 0.030035298560441306, 0.030035298560441306, 0.030035298560441306, 0.030035298560441306, 0.030035298560441306, 0.030035298560441306, 0.030035298560441306, 0.030035298560441306, 0.030035298560441306, 0.030035298560441306, 0.030035298560441306, 0.030035298560441306, 0.030035298560441306, 0.030035298560441306, 0.030035298560441306, 0.030035298560441306, 0.030035298560441306, 0.030035298560441306, 7954.19487890228, 1076.9862676824578, 678.21356713544, 331.49659287879405, 328.23756034512184, 104.69634923972163, 61.36848124174817, 0.044958442591143205, 0.044958442591143205, 0.044958442591143205, 0.044958442591143205, 0.044958442591143205, 0.044958442591143205, 0.044958442591143205, 0.044958442591143205, 0.044958442591143205, 0.044958442591143205, 0.044958442591143205, 0.044958442591143205, 0.044958442591143205, 0.044958442591143205, 0.044958442591143205, 0.044958442591143205, 0.044958442591143205, 0.044958442591143205, 0.044958442591143205, 0.044958442591143205, 0.044958442591143205, 0.044958442591143205, 0.044958442591143205, 0.044958442591143205, 0.044958442591143205, 0.044958442591143205, 0.044958442591143205, 0.044958442591143205, 0.044958442591143205, 0.044958442591143205, 0.044958442591143205, 0.044958442591143205, 0.044958442591143205, 0.044958442591143205, 0.044958442591143205, 0.044958442591143205, 0.044958442591143205, 0.044958442591143205, 0.044958442591143205, 0.044958442591143205, 0.044958442591143205, 0.044958442591143205, 1991.206632897679, 1252.08408936858, 1145.129989180432, 1099.7028638530032, 665.9557377008013, 529.34702248279, 471.41446440302326, 413.1296944605646, 372.7240475165561, 324.0644901942431, 268.035182093324, 262.980368375662, 246.94527788408465, 222.77529188986907, 209.21745490309254, 179.93334106395412, 162.30063534777824, 161.86958499002515, 155.09325471041018, 129.1657319509403, 79.10326610821858, 68.25169121753594, 52.24127467261469, 32.546318347022854, 5.2946564268270455, 0.03938536154642147, 0.03938536154642147, 0.03938536154642147, 0.03938536154642147, 0.03938536154642147, 0.03938536154642147, 0.03938536154642147, 0.03938536154642147, 0.03938536154642147, 0.03938536154642147, 2415.1597488191096, 1539.0077769885295, 1467.803288195293, 1364.0662470820862, 772.041068888597, 450.32464726757945, 442.3745854380143, 438.94097250806743, 333.6997400788766, 275.77219496870447, 137.89559213031856, 123.72423453829248, 44.765805160269345, 4.015450363162389, 0.04133075069377958, 0.04133075069377958, 0.04133075069377958, 0.04133075069377958, 0.04133075069377958, 0.04133075069377958, 0.04133075069377958, 0.04133075069377958, 0.04133075069377958, 0.04133075069377958, 0.04133075069377958, 0.04133075069377958, 0.04133075069377958, 0.04133075069377958, 0.04133075069377958, 0.04133075069377958, 0.04133075069377958, 0.04133075069377958, 0.04133075069377958, 0.04133075069377958, 0.04133075069377958, 0.04133075069377958, 0.04133075069377958, 0.04133075069377958, 0.04133075069377958, 0.04133075069377958, 0.04133075069377958, 0.04133075069377958, 0.04133075069377958, 0.04133075069377958, 1072.7998059688514, 991.2319167985047, 905.4420729402108, 844.3410779403357, 618.3258510157578, 540.1884418910406, 466.38065100613153, 457.3181869090567, 382.5686993282669, 373.2189937170386, 286.93963251472434, 267.3394564175794, 263.65010719226444, 243.16764606761467, 237.88791400603358, 176.0402159076312, 161.143870227037, 160.40087444688015, 129.64439379870535, 96.39625473755574, 86.37438960789217, 84.13855507736996, 68.09417962719937, 67.00494206336295, 65.40626977670976, 51.415639943168514, 15.925526105445591, 0.039814609725922226, 0.039814609725922226, 0.039814609725922226, 0.039814609725922226, 0.039814609725922226, 0.039814609725922226, 2665.34085549438, 1448.235673531611, 728.7995897824852, 593.1947400056432, 472.34071988890383, 430.6702451036001, 418.44544517166526, 384.95539346321715, 373.40800179982415, 296.6747502888542, 283.1017491349583, 221.568809595313, 145.01752650246212, 143.9411958311345, 124.6221981150049, 110.44992501461381, 97.30541672210116, 93.97216734178805, 71.4351306834284, 68.23407420016277, 59.92920759540317, 20.09618856284382, 10.684139110854147, 0.03380524315959953, 0.03380524315959953, 0.03380524315959953, 0.03380524315959953, 0.03380524315959953, 0.03380524315959953, 0.03380524315959953, 0.03380524315959953, 0.03380524315959953, 0.03380524315959953, 0.03380524315959953, 0.03380524315959953, 0.03380524315959953, 0.03380524315959953, 2676.719709744804, 1872.33966765445, 1584.1354047748023, 474.10666462495954, 232.11908463142998, 153.51965138289418, 146.1804836427755, 143.1232743987328, 133.70228049945072, 109.90532906026603, 15.81235457934718, 0.03945746356026534, 0.03945746356026534, 0.03945746356026534, 0.03945746356026534, 0.03945746356026534, 0.03945746356026534, 0.03945746356026534, 0.03945746356026534, 0.03945746356026534, 0.03945746356026534, 0.03945746356026534, 0.03945746356026534, 0.03945746356026534, 0.03945746356026534, 0.03945746356026534, 0.03945746356026534, 0.03945746356026534, 0.03945746356026534, 0.03945746356026534, 0.03945746356026534, 0.03945746356026534, 0.03945746356026534, 0.03945746356026534, 0.03945746356026534, 0.03945746356026534, 0.03945746356026534, 0.03945746356026534, 0.03945746356026534, 0.03945746356026534, 0.03945746356026534, 0.03945746356026534, 0.03945746356026534, 0.03945746356026534, 0.03945746356026534, 0.03945746356026534, 1308.525898718038, 960.8411485565971, 755.5464438919963, 636.9165046683851, 549.3276775186529, 456.52520652534037, 453.8506596485848, 386.74337888403403, 338.3286881704879, 249.6808832876533, 242.0678006616821, 159.17597314772271, 158.44580611644662, 156.65702250995454, 131.4243577648434, 117.07001194824464, 92.70208480339963, 88.48412184769433, 62.86443717097323, 0.042971869373301434, 0.042971869373301434, 0.042971869373301434, 0.042971869373301434, 0.042971869373301434, 0.042971869373301434, 0.042971869373301434, 0.042971869373301434, 0.042971869373301434, 0.042971869373301434, 0.042971869373301434, 0.042971869373301434, 0.042971869373301434, 0.042971869373301434, 0.042971869373301434, 0.042971869373301434, 0.042971869373301434, 0.042971869373301434, 0.042971869373301434, 0.042971869373301434, 0.042971869373301434, 2028.8934553201025, 1120.2582842286904, 944.8877008375111, 811.4729572681198, 559.14398225601, 231.6949681667085, 223.48309332368586, 216.1123587432767, 214.59212311865286, 177.11391835145233, 139.97778297950708, 121.50273683732215, 113.92264664485029, 96.65496833541951, 53.36623492606856, 43.017664364409285, 41.32871005766243, 0.03982920078385991, 0.03982920078385991, 0.03982920078385991, 0.03982920078385991, 0.03982920078385991, 0.03982920078385991, 0.03982920078385991, 0.03982920078385991, 0.03982920078385991, 0.03982920078385991, 0.03982920078385991, 0.03982920078385991, 0.03982920078385991, 0.03982920078385991, 0.03982920078385991, 0.03982920078385991, 0.03982920078385991, 0.03982920078385991, 0.03982920078385991, 0.03982920078385991, 0.03982920078385991, 0.03982920078385991, 0.03982920078385991, 0.03982920078385991, 0.03982920078385991, 1051.8649793850698, 907.5771076029425, 787.4655796340211, 519.885925075274, 457.56956224972515, 417.5879102431127, 387.82368359296436, 368.896978115241, 355.47405283028996, 327.0921183273752, 323.8019426532245, 289.9703287385232, 163.15308346959856, 81.54819470217733, 70.570442758063, 52.856033197065415, 42.12284156964677, 21.78425220726172, 0.040676557099937276, 0.040676557099937276, 0.040676557099937276, 0.040676557099937276, 0.040676557099937276, 0.040676557099937276, 0.040676557099937276, 0.040676557099937276, 0.040676557099937276, 0.040676557099937276, 0.040676557099937276, 0.040676557099937276, 0.040676557099937276, 0.040676557099937276, 0.040676557099937276, 0.040676557099937276, 0.040676557099937276, 0.040676557099937276, 0.040676557099937276, 0.040676557099937276, 0.040676557099937276, 0.040676557099937276, 0.040676557099937276, 1211.2298385385068, 1146.8682286678159, 1120.0171810941556, 594.2957087441309, 543.5292571355376, 440.00184267073263, 291.7648222251433, 261.2258088847143, 162.1214799671124, 137.06532299299627, 100.44759273838304, 98.4720694912931, 85.87162400331822, 69.13499727909067, 54.29651405226881, 50.38353040510534, 42.92009983071312, 0.040116289190877105, 0.040116289190877105, 0.040116289190877105, 0.040116289190877105, 0.040116289190877105, 0.040116289190877105, 0.040116289190877105, 0.040116289190877105, 0.040116289190877105, 0.040116289190877105, 0.040116289190877105, 0.040116289190877105, 0.040116289190877105, 0.040116289190877105, 0.040116289190877105, 0.040116289190877105, 0.040116289190877105, 0.040116289190877105, 0.040116289190877105, 0.040116289190877105, 0.040116289190877105, 0.040116289190877105, 0.040116289190877105, 0.040116289190877105, 0.040116289190877105, 1490.812094328461, 1463.009983549975, 746.4217377410731, 714.0756257551784, 606.3954458450838, 340.9813080423086, 270.18445930494926, 0.028008411764955013, 0.028008411764955013, 0.028008411764955013, 0.028008411764955013, 0.028008411764955013, 0.028008411764955013, 0.028008411764955013, 0.028008411764955013, 0.028008411764955013, 0.028008411764955013, 0.028008411764955013, 0.028008411764955013, 0.028008411764955013, 0.028008411764955013, 0.028008411764955013, 0.028008411764955013, 0.028008411764955013, 0.028008411764955013, 0.028008411764955013, 0.028008411764955013, 0.028008411764955013, 0.028008411764955013, 0.028008411764955013, 0.028008411764955013, 0.028008411764955013, 0.028008411764955013, 0.028008411764955013, 0.028008411764955013, 0.028008411764955013, 0.028008411764955013, 0.028008411764955013, 0.028008411764955013, 0.028008411764955013, 0.028008411764955013, 0.028008411764955013, 0.028008411764955013, 0.028008411764955013, 0.028008411764955013, 0.028008411764955013, 0.028008411764955013, 0.028008411764955013, 0.028008411764955013, 0.0020956393210995725, 0.0020956393210995725, 0.0020956393210995725, 0.0020956393210995725, 0.0020956393210995725, 0.0020956393210995725, 0.0020956393210995725, 0.0020956393210995725, 0.0020956393210995725, 0.0020956393210995725, 0.0020956393210995725, 0.0020956393210995725, 0.0020956393210995725, 0.0020956393210995725, 0.0020956393210995725, 0.0020956393210995725, 0.0020956393210995725, 0.0020956393210995725, 0.0020956393210995725, 0.0020956393210995725, 0.0020956393210995725, 0.0020956393210995725, 0.0020956393210995725, 0.0020956393210995725, 0.0020956393210995725, 0.0020956393210995725, 0.0020956393210995725, 0.0020956393210995725, 0.0020956393210995725, 0.0020956393210995725, 0.0020956393210995725, 0.0020956393210995725, 0.0020956393210995725, 0.0020956393210995725, 0.0020956393210995725, 0.0020956393210995725, 0.0020956393210995725, 0.0020956393210995725, 0.0020956393210995725, 0.0020956393210995725, 0.0020956393210995725, 0.0020956393210995725, 0.0020956393210995725, 0.0020956393210995725, 0.0020956393210995725, 0.0020956393210995725, 0.0020956393210995725, 0.0020956393210995725, 0.0020956393210995725, 0.0020956393210995725, 0.0020956393210995725, 0.0020956393210995725, 0.0020956393210995725, 0.0020956393210995725, 0.0020956393210995725, 0.0020956393210995725, 0.0020956393210995725, 0.0020956393210995725, 0.0020956393210995725, 0.0020956393210995725, 0.0020956393210995725, 0.0020956393210995725, 0.0020956393210995725, 0.0020956393210995725, 0.0020956393210995725, 0.0020956393210995725, 0.0020956393210995725, 0.0020956393210995725, 0.0020956393210995725, 0.0020956393210995725, 0.0020956393210995725, 0.0020956393210995725, 0.0020956393210995725, 0.0020956393210995725, 0.0020956393210995725, 0.0020956393210995725, 0.0020956393210995725, 0.0020956393210995725, 0.0020956393210995725, 0.0020956393210995725, 0.0020956393210995725, 0.0020956393210995725, 0.0020956393210995725, 0.0020956393210995725, 0.0020956393210995725, 0.0020956393210995725, 0.0020956393210995725, 0.0020956393210995725, 0.0020956393210995725, 0.0020956393210995725, 0.0020956393210995725, 0.0020956393210995725, 0.0020956393210995725, 0.0020956393210995725, 0.0020956393210995725, 0.0020956393210995725, 0.0020956393210995725, 0.0020956393210995725, 0.0020956393210995725, 0.0020956393210995725, 0.0020956393210995725, 0.0020956393210995725, 0.0020956393210995725, 0.0020956393210995725, 0.0020956393210995725, 0.0020956393210995725, 0.0020956393210995725, 0.0020956393210995725, 0.0020956393210995725, 0.0020956393210995725, 0.0020956393210995725, 0.0020956393210995725, 0.0020956393210995725, 0.0020956393210995725, 0.0020956393210995725, 0.0020956393210995725, 0.0020956393210995725, 0.0020956393210995725, 0.0020956393210995725, 0.0020956393210995725, 0.0020956393210995725, 0.0020956393210995725, 0.0020956393210995725, 0.0020956393210995725, 0.0020956393210995725, 0.0020956393210995725, 0.0020956393210995725, 0.0020956393210995725, 0.0020956393210995725, 0.0020956393210995725, 0.0020956393210995725, 0.0020956393210995725, 0.0020956393210995725, 0.0020956393210995725, 0.0020956393210995725, 0.0020956393210995725, 0.0020956393210995725, 0.0020956393210995725, 0.0020956393210995725, 0.0020956393210995725, 0.0020956393210995725, 0.0020956393210995725, 0.0020956393210995725, 0.0020956393210995725, 0.0020956393210995725, 0.0020956393210995725, 0.0020956393210995725, 0.0020956393210995725, 0.0020956393210995725, 0.0020956393210995725, 0.0020956393210995725, 0.0020956393210995725, 0.0020956393210995725, 0.0020956393210995725, 0.0020956393210995725, 0.0020956393210995725, 0.0020956393210995725, 0.0020956393210995725, 0.0020956393210995725, 0.0020956393210995725, 0.0020956393210995725, 0.0020956393210995725, 0.0020956393210995725, 0.0020956393210995725, 0.0020956393210995725, 0.0020956393210995725, 0.0020956393210995725, 0.0020956393210995725], \"Total\": [16423.0, 7955.0, 5700.0, 5072.0, 5258.0, 4722.0, 4494.0, 3872.0, 4169.0, 3729.0, 10630.0, 3541.0, 3895.0, 3504.0, 3277.0, 3578.0, 9229.0, 9137.0, 9130.0, 3213.0, 8654.0, 2678.0, 2967.0, 8318.0, 2666.0, 8259.0, 3244.0, 2843.0, 2756.0, 2751.0, 10630.36218706343, 9229.774121974422, 9137.009463324024, 9130.657588593775, 8654.79458559838, 8318.000024881601, 8259.93253670813, 7094.080321094686, 6788.411761556302, 5164.959512753949, 4968.989250514006, 4542.506456433711, 4442.530927283306, 3992.6111611899005, 3953.279481660113, 3803.730665128328, 3741.2705636142055, 3435.737816157451, 3409.92100340518, 3380.070509242281, 3112.8852731200914, 2987.005310519589, 2944.667302261182, 2848.980180407227, 2806.4055962646903, 2591.8658482414007, 2534.1560402736964, 2320.5347449222604, 2238.8473765289687, 2171.2187491018417, 16423.44139343656, 3244.5805989675237, 1159.658051585394, 556.218622807829, 522.5446056980184, 461.84605180638727, 437.16657917684546, 381.9627605689871, 167.4528523057189, 56.75409193725042, 13.126323798686725, 1.4760410495717202, 1.4760410495717202, 1.4760410495717202, 1.4760410495717202, 1.4760410495717202, 1.4760410495717202, 1.4760410495717202, 1.4760410495717202, 1.4760410495717202, 1.4760410495717202, 1.4760410495717202, 1.4760410495717202, 1.4760410495717202, 1.4760410495717202, 1.4760410495717202, 1.4760410495717202, 1.4760410495717202, 1.4760410495717202, 1.4760410495717202, 1464.458016187782, 3213.468084445182, 2416.5944591179873, 615.5939967745302, 3578.9465540566225, 5700.511693961354, 498.7669391286088, 2987.005310519589, 145.35487429110793, 230.53988651825736, 1490.3903552895933, 551.7948199095466, 802.9674829956494, 801.3914551498333, 99.137051599118, 9130.657588593775, 4494.00070979231, 2427.5040715864347, 2133.326675225943, 2016.7510188057965, 1461.3839226697146, 1434.4653720059841, 1042.8345706607308, 609.6427594620733, 608.7534711411296, 436.52483620232675, 400.16838950778316, 385.05253753247035, 332.9212749125796, 324.09982542244836, 292.17387164620567, 193.16705342535192, 125.28539164828072, 122.69776385607888, 57.65843374699955, 36.67144596557657, 23.797080789640663, 1.4760410495717202, 1.4760410495717202, 1.4760410495717202, 1.4760410495717202, 1.4760410495717202, 1.4760410495717202, 1.4760410495717202, 1.4760410495717202, 1.4760410495717202, 1464.458016187782, 3213.468084445182, 2416.5944591179873, 615.5939967745302, 3578.9465540566225, 5700.511693961354, 498.7669391286088, 2987.005310519589, 145.35487429110793, 5258.44273978769, 3895.520644533422, 1748.812922434941, 1310.0091336998437, 1018.0021089398244, 748.4080622069584, 714.1389430937955, 610.1755855837929, 523.0464736299847, 505.28623835553486, 411.32582335835804, 389.68389386141416, 360.9312943053646, 255.70315638445703, 223.40346020727955, 201.83443877771958, 135.64785054193726, 126.30858940916448, 118.23017420076178, 102.6468275219938, 93.47646299781597, 54.75260924654809, 1.4760410495717202, 1.4760410495717202, 1.4760410495717202, 1.4760410495717202, 1.4760410495717202, 1.4760410495717202, 1.4760410495717202, 1.4760410495717202, 1464.458016187782, 3213.468084445182, 2416.5944591179873, 615.5939967745302, 3578.9465540566225, 5700.511693961354, 498.7669391286088, 2987.005310519589, 3578.9465540566225, 2808.6470831939614, 2072.309507512542, 1697.411894160073, 1270.4822080913636, 868.6139499171693, 865.1714552517793, 659.897778070704, 562.0238271606374, 535.4580259784228, 471.5084706237576, 406.9110131263099, 384.0803052374153, 370.8024275652431, 263.7102417460001, 195.06650571391464, 180.5800267062095, 178.82831546083958, 173.73759618676758, 159.02969168044737, 151.04318710717112, 147.11058611334218, 135.0068474754894, 111.86497247855827, 93.00254281455683, 66.11585055217954, 55.241040658257575, 41.208147550344215, 1.4760410495717202, 1.4760410495717202, 1464.458016187782, 3213.468084445182, 4169.942834786293, 2293.349240975853, 2151.7851111725818, 1626.8988960719212, 1506.5714851745115, 1103.3442279238825, 918.9310208282916, 867.431140364942, 484.41347319632905, 424.36673154415587, 333.7148728327914, 313.3669924113942, 255.67143567055874, 159.7251630400445, 124.0584468211447, 43.736478665066315, 40.36039059712741, 29.97608746055218, 1.4760410495717202, 1.4760410495717202, 1.4760410495717202, 1.4760410495717202, 1.4760410495717202, 1.4760410495717202, 1.4760410495717202, 1.4760410495717202, 1.4760410495717202, 1.4760410495717202, 1.4760410495717202, 1.4760410495717202, 1464.458016187782, 3213.468084445182, 2416.5944591179873, 615.5939967745302, 3578.9465540566225, 5700.511693961354, 498.7669391286088, 2987.005310519589, 145.35487429110793, 230.53988651825736, 1490.3903552895933, 2843.9396862477165, 2756.4513184809252, 2751.225145203651, 2234.9457877656355, 1041.9470895592412, 832.827614528346, 617.6098087400097, 479.0074009823427, 326.8240716976882, 282.32723659991984, 265.8002912509968, 262.3776531166606, 245.72888160066606, 150.75602638828417, 131.90852141177513, 86.51969211041866, 80.74421166822324, 75.76528030206858, 68.99466409950037, 68.17360714746681, 67.87513147064078, 55.42915110599624, 50.268953940045535, 49.57114566211663, 25.984605529652963, 16.595001047698652, 1.4760410495717202, 1.4760410495717202, 1.4760410495717202, 1.4760410495717202, 1464.458016187782, 3213.468084445182, 2416.5944591179873, 615.5939967745302, 2342.709594355646, 1865.7159964366404, 1313.4530518090355, 1055.8450149819394, 966.8643276117303, 935.400707331199, 892.9092841076085, 783.7936559947634, 552.0279354331386, 551.7948199095466, 548.6798036049837, 534.1862211650373, 475.35108290690084, 468.0449073289941, 444.6626355797192, 377.2712919082457, 308.49514362360924, 244.80420527222697, 215.59044874026125, 188.9224345498895, 188.47616436974022, 145.80489093154844, 144.40143333967436, 78.3891956250964, 63.86232820581794, 1.4760410495717202, 1.4760410495717202, 1.4760410495717202, 1.4760410495717202, 1.4760410495717202, 1464.458016187782, 3213.468084445182, 2416.5944591179873, 615.5939967745302, 3578.9465540566225, 5072.383491114785, 1572.3694894636035, 1388.4984552671117, 1249.8317132056875, 1056.1265656402936, 802.6928512595026, 771.0247929605364, 530.6157766116904, 465.66592392305455, 460.17451124797213, 456.9114512761973, 320.52186360974144, 300.88807966383257, 267.82955997633985, 239.4424329090941, 145.61969528764436, 130.7652742233678, 118.34837696852358, 109.91892915839054, 106.43987450851172, 87.93740320896633, 74.147908089065, 1.4760410495717202, 1.4760410495717202, 1.4760410495717202, 1.4760410495717202, 1.4760410495717202, 1.4760410495717202, 1.4760410495717202, 1.4760410495717202, 1464.458016187782, 3213.468084445182, 2416.5944591179873, 615.5939967745302, 3578.9465540566225, 5700.511693961354, 498.7669391286088, 2987.005310519589, 4722.570397493042, 1692.1462327228053, 1445.9909754153832, 1004.529120374875, 997.7030648357984, 785.9958591554351, 728.6719977691647, 679.1249455997909, 673.020775578776, 547.1078843816967, 484.6720328286237, 459.31597215723724, 239.43854616195887, 172.5951940233424, 158.3718603033349, 151.3630557093619, 103.06801418136882, 97.1744374146225, 88.19073540122405, 50.019834828769305, 48.18557239931014, 45.81145122372088, 40.849187640393396, 1.4760410495717202, 1.4760410495717202, 1.4760410495717202, 1.4760410495717202, 1.4760410495717202, 1.4760410495717202, 1.4760410495717202, 1464.458016187782, 3213.468084445182, 2416.5944591179873, 615.5939967745302, 3578.9465540566225, 5700.511693961354, 498.7669391286088, 2373.4798461745854, 2336.624102841215, 1934.5118052808334, 981.5348629998889, 927.8876435874805, 864.3397323394239, 825.7292228503748, 758.2909507146109, 500.64214949955226, 475.07036782676477, 416.4096350490822, 401.16281280773717, 385.02264843662226, 360.22817898652244, 271.90929609244625, 234.81985144242745, 205.02007613947478, 180.72476023646513, 144.38036012604042, 143.88255929859008, 122.55227565372036, 100.75487055884923, 82.33064667546248, 62.53011035382796, 49.249504106690424, 48.98688650785369, 40.46030704115135, 38.25535122961429, 35.25139408386139, 1.4760410495717202, 1464.458016187782, 2290.1008050213845, 1223.1828454693202, 1215.6103970072995, 1202.233839235199, 975.3079858692521, 956.8965899430148, 608.1644396061661, 569.9318576990338, 568.9688096797612, 568.2301348706594, 444.046843674667, 399.99128765786077, 346.9998297883791, 309.27205812788196, 305.74899785120766, 279.45789303956275, 239.04591094496206, 236.3456506930789, 191.31450451289496, 184.11709710967747, 181.7033312635032, 161.25136828430928, 160.05140491076074, 146.32773482613092, 146.037850651745, 143.61241221082193, 122.6667589000661, 111.57690960124941, 102.08349396807317, 90.6431204808632, 1704.7604609076964, 1568.4918911421044, 1397.4835359545677, 903.5516528346069, 873.3750033887469, 794.807814437838, 741.7557974076493, 697.4016113479967, 615.5939967745302, 553.6161901998485, 519.5614368113828, 415.55572288056237, 395.90987855221056, 298.62142652768506, 295.45445422340276, 288.3344104406591, 256.6246845224788, 253.04267894495905, 237.42272619508276, 175.89003076103558, 136.36754781381447, 98.8571778361618, 95.57230304480558, 94.46713069515808, 87.11703596507293, 86.64361583848762, 69.02144759577449, 66.54081505833626, 42.644713402901964, 10.963151071370538, 2524.5554598930166, 1751.568219952135, 1479.2162633688072, 918.7978527644025, 908.8887709645085, 812.0859797450406, 660.4341173934131, 537.0345959030489, 530.2052709586758, 499.62371377657985, 484.2927355129896, 340.30465751908224, 298.12381753081695, 297.49351856112685, 234.01317628733946, 222.620294877845, 208.40620484874964, 182.76871245494644, 178.33684978711733, 154.0720579763023, 132.96508517582873, 121.18337779545841, 79.8124635968563, 60.96149119514833, 49.31344016448319, 14.38775689040194, 8.460635076958797, 5.012636495293183, 1.4760410495717202, 1.4760410495717202, 1464.458016187782, 3213.468084445182, 3213.468084445182, 2336.588684043436, 1627.4219410093456, 1493.244645267645, 1065.9107402188833, 665.1712615407874, 625.0688743445334, 473.43043909458066, 410.1677371201619, 343.80789038520635, 251.5505435350716, 241.67815955028834, 229.85767356498997, 141.12222092779436, 80.65589954423622, 65.2160142201976, 1.4760410495717202, 1.4760410495717202, 1.4760410495717202, 1.4760410495717202, 1.4760410495717202, 1.4760410495717202, 1.4760410495717202, 1.4760410495717202, 1.4760410495717202, 1.4760410495717202, 1.4760410495717202, 1.4760410495717202, 1.4760410495717202, 1.4760410495717202, 1464.458016187782, 2416.5944591179873, 615.5939967745302, 3578.9465540566225, 5700.511693961354, 498.7669391286088, 2987.005310519589, 145.35487429110793, 230.53988651825736, 1490.3903552895933, 16423.44139343656, 551.7948199095466, 802.9674829956494, 1490.3903552895933, 1115.5348870615003, 1095.3637698319974, 943.8849772379403, 904.6661117350417, 802.9674829956494, 785.5660459592237, 510.7795064019895, 475.36145163472304, 452.20857808344323, 415.8494129255509, 407.7340059510557, 327.44229830909603, 254.35003614731846, 251.1021658119451, 240.20823139161845, 230.53988651825736, 222.75074455859047, 220.0655904508631, 183.2893792108891, 177.8169406826656, 146.4167767652535, 145.35487429110793, 136.90974594065014, 106.57434760250224, 99.137051599118, 98.56630062152185, 85.75375690150973, 85.35731356909946, 77.363498284058, 2967.725965770395, 2575.490233951228, 1506.8676776861907, 1403.0567393969511, 1095.7083099380725, 626.2596044209497, 558.2582600437669, 382.24509597899413, 281.7974752810932, 254.40516681881397, 210.12409767217915, 186.83363760345122, 137.92953176793517, 97.7364306686163, 97.47418787315729, 89.61742999145734, 80.89036996212718, 59.17791947044604, 1.4760410495717202, 1.4760410495717202, 1.4760410495717202, 1.4760410495717202, 1.4760410495717202, 1.4760410495717202, 1.4760410495717202, 1.4760410495717202, 1.4760410495717202, 1.4760410495717202, 1.4760410495717202, 1.4760410495717202, 1464.458016187782, 3213.468084445182, 2416.5944591179873, 615.5939967745302, 3578.9465540566225, 5700.511693961354, 498.7669391286088, 2987.005310519589, 145.35487429110793, 230.53988651825736, 1490.3903552895933, 1885.500004208394, 1557.5213111714565, 1247.2416272002488, 1188.1582374353286, 1079.0304555312118, 549.2267931050976, 482.96968565441483, 451.87404621259725, 424.38702316504396, 373.5535149965598, 368.9162471119676, 340.2284349233773, 319.70089357889907, 314.9347248521018, 314.111505125995, 255.81454964565717, 220.3763812420522, 214.74125133228708, 180.2151038238056, 167.05785711188773, 116.42670682100473, 67.87678649242899, 67.52733112281771, 53.46591267893515, 50.62904105963496, 49.362625071751886, 44.75984986345838, 31.463686878342603, 30.9213387984687, 25.424532205377602, 3504.4708785361995, 1675.1247196074323, 868.1636007019224, 801.4354042257504, 774.5162256920102, 673.9804471410548, 498.7669391286088, 455.71893641677565, 441.4120695756451, 400.4912491425239, 388.84518432895777, 385.83020118774755, 381.954281220603, 325.3546344699898, 272.34259900839737, 240.45013996129168, 169.59248154882545, 152.88451519901844, 113.62562929859038, 1.4760410495717202, 1.4760410495717202, 1.4760410495717202, 1.4760410495717202, 1.4760410495717202, 1.4760410495717202, 1.4760410495717202, 1.4760410495717202, 1.4760410495717202, 1.4760410495717202, 1.4760410495717202, 1464.458016187782, 3213.468084445182, 2416.5944591179873, 615.5939967745302, 3578.9465540566225, 5700.511693961354, 2987.005310519589, 145.35487429110793, 230.53988651825736, 1490.3903552895933, 2238.228624975599, 1592.7225523022448, 957.2763450047715, 860.7194530246234, 801.3914551498333, 653.2242915662827, 568.3852330935973, 478.3497704335605, 445.205123784685, 391.95228449678245, 340.51855579627994, 317.8499043815053, 302.0721219007337, 277.6581109284745, 274.7657602955304, 232.20787148698983, 213.1511871515133, 193.42111215608318, 174.99225271332048, 136.64384388570957, 122.90549616622849, 95.74475434399045, 88.07440278124596, 85.3470813836214, 81.89945907532805, 78.71868618046335, 63.685894216000115, 18.55113018291249, 1.4760410495717202, 1.4760410495717202, 1464.458016187782, 3213.468084445182, 2286.3869262442813, 894.6770419498908, 887.3235747735737, 848.9600455695723, 813.4004691932646, 691.9778461670677, 521.8882048398809, 510.8766990067814, 493.5059999052134, 477.75807822285145, 422.8426974741862, 418.57676276237186, 388.1343142329819, 270.75185234837284, 234.6927244553926, 219.87964496809005, 215.55145756918654, 191.51300320519476, 172.8149759291948, 140.56137822640568, 117.61558522560658, 116.57493258774511, 82.88474774617326, 81.2516068324, 63.80734126334158, 57.214377679703674, 52.84709109887455, 52.77267594843799, 36.126297858170894, 1.4760410495717202, 1464.458016187782, 2396.6380662710585, 1387.6039623669683, 1248.9855667368972, 712.5931509499139, 668.5775557855949, 646.0673983191621, 566.2578076832838, 511.30682160110575, 491.488328883819, 371.61994639968884, 369.2830537300966, 296.5795235225901, 266.79328728348986, 194.51996032355942, 193.11078915735723, 146.68567689655941, 119.9517716425439, 115.19873095053985, 114.78270174569923, 105.20182071042446, 95.39614894706615, 87.96053617772037, 86.23001069361148, 62.80272717157603, 60.168126978145466, 59.3225611267486, 51.127508527230695, 43.809404653433305, 31.313860362091702, 16.659113504557816, 3541.8153105197694, 3277.8085662936933, 1558.5936497421728, 914.672331350742, 593.9369455101859, 480.53320727472743, 432.0687266606751, 308.05398673154826, 268.52330181953994, 1.4760410495717202, 1.4760410495717202, 1.4760410495717202, 1.4760410495717202, 1.4760410495717202, 1.4760410495717202, 1.4760410495717202, 1.4760410495717202, 1.4760410495717202, 1.4760410495717202, 1.4760410495717202, 1.4760410495717202, 1.4760410495717202, 1.4760410495717202, 1.4760410495717202, 1.4760410495717202, 1.4760410495717202, 1.4760410495717202, 1.4760410495717202, 1.4760410495717202, 1.4760410495717202, 1464.458016187782, 3213.468084445182, 2416.5944591179873, 615.5939967745302, 3578.9465540566225, 5700.511693961354, 498.7669391286088, 2987.005310519589, 145.35487429110793, 230.53988651825736, 1490.3903552895933, 16423.44139343656, 551.7948199095466, 802.9674829956494, 801.3914551498333, 99.137051599118, 9130.657588593775, 1506.5714851745115, 5700.511693961354, 1004.9739316367377, 799.0389780125747, 771.9516151859674, 726.1561163506185, 432.3457891392295, 287.66061073465386, 250.09168873951816, 243.15607618419412, 225.67228812958533, 163.56938038021985, 141.3203416646558, 95.4614722925206, 94.40301026171667, 91.14857041563647, 66.6119018547093, 60.74652236000292, 58.765295465417864, 43.13529237011474, 6.942087223480565, 5.009057856015554, 1.4760410495717202, 1.4760410495717202, 1.4760410495717202, 1.4760410495717202, 1.4760410495717202, 1.4760410495717202, 1.4760410495717202, 1.4760410495717202, 1.4760410495717202, 1464.458016187782, 3213.468084445182, 2416.5944591179873, 615.5939967745302, 3578.9465540566225, 498.7669391286088, 2987.005310519589, 145.35487429110793, 3872.2481965456486, 2097.4257090053866, 1355.8167898780364, 1313.650707179459, 596.118688206574, 353.97874192957966, 314.9122784958754, 230.76821176979712, 210.6211144545824, 160.09095814374078, 134.4890106280122, 120.93382358338982, 100.91937727064624, 87.70826080161856, 74.04839432414632, 22.30372546645437, 17.73259641331365, 11.922950527768277, 1.4760410495717202, 1.4760410495717202, 1.4760410495717202, 1.4760410495717202, 1.4760410495717202, 1.4760410495717202, 1.4760410495717202, 1.4760410495717202, 1.4760410495717202, 1.4760410495717202, 1.4760410495717202, 1.4760410495717202, 1464.458016187782, 3213.468084445182, 2416.5944591179873, 615.5939967745302, 3578.9465540566225, 5700.511693961354, 498.7669391286088, 2987.005310519589, 145.35487429110793, 230.53988651825736, 1490.3903552895933, 3729.9734322039735, 2119.784756830336, 926.4056927916945, 713.899463526269, 670.2872911267455, 655.8398129660952, 597.9969948181161, 448.9747445447735, 234.03742269402971, 194.75276922139466, 179.85323400258298, 170.7093212231599, 158.5462876434417, 128.9666548133536, 107.6000004943335, 92.91556089082277, 61.9292617432275, 1.4760410495717202, 1.4760410495717202, 1.4760410495717202, 1.4760410495717202, 1.4760410495717202, 1.4760410495717202, 1.4760410495717202, 1.4760410495717202, 1.4760410495717202, 1.4760410495717202, 1.4760410495717202, 1.4760410495717202, 1.4760410495717202, 1464.458016187782, 3213.468084445182, 2416.5944591179873, 615.5939967745302, 3578.9465540566225, 5700.511693961354, 498.7669391286088, 2987.005310519589, 145.35487429110793, 230.53988651825736, 1490.3903552895933, 16423.44139343656, 7955.62596150926, 1078.4173502894384, 679.6446497424205, 332.9276754857746, 329.6686429521024, 106.12743184670221, 62.79956384872875, 1.4760410495717202, 1.4760410495717202, 1.4760410495717202, 1.4760410495717202, 1.4760410495717202, 1.4760410495717202, 1.4760410495717202, 1.4760410495717202, 1.4760410495717202, 1.4760410495717202, 1.4760410495717202, 1.4760410495717202, 1.4760410495717202, 1.4760410495717202, 1.4760410495717202, 1.4760410495717202, 1.4760410495717202, 1.4760410495717202, 1.4760410495717202, 1.4760410495717202, 1.4760410495717202, 1.4760410495717202, 1.4760410495717202, 1464.458016187782, 3213.468084445182, 2416.5944591179873, 615.5939967745302, 3578.9465540566225, 5700.511693961354, 498.7669391286088, 2987.005310519589, 145.35487429110793, 230.53988651825736, 1490.3903552895933, 16423.44139343656, 551.7948199095466, 802.9674829956494, 801.3914551498333, 99.137051599118, 9130.657588593775, 1506.5714851745115, 72.89669318658945, 1992.6432885857043, 1253.5207450566054, 1146.5666448684574, 1101.1395195410287, 667.3923933888263, 530.783678170815, 472.85112009104853, 414.5663501485899, 374.16070320458135, 325.50114588226836, 269.4718377813493, 264.4170240636873, 248.38193357210997, 224.2119475778944, 210.65411059111787, 181.36999675197944, 163.73729103580357, 163.30624067805047, 156.5299103984355, 130.60238763896564, 80.53992179624389, 69.68834690556125, 53.67793036064, 33.98297403504816, 6.731312114852344, 1.4760410495717202, 1.4760410495717202, 1.4760410495717202, 1.4760410495717202, 1.4760410495717202, 1464.458016187782, 3213.468084445182, 2416.5944591179873, 615.5939967745302, 3578.9465540566225, 2416.5944591179873, 1540.4424872874074, 1469.2379984941708, 1365.500957380964, 773.4757791874748, 451.75935756645737, 443.80929573689224, 440.37568280694535, 335.1344503777545, 277.2069052675824, 139.33030242919654, 125.15894483717042, 46.20051545914729, 5.450160662040329, 1.4760410495717202, 1.4760410495717202, 1.4760410495717202, 1.4760410495717202, 1.4760410495717202, 1.4760410495717202, 1.4760410495717202, 1.4760410495717202, 1.4760410495717202, 1.4760410495717202, 1.4760410495717202, 1.4760410495717202, 1.4760410495717202, 1.4760410495717202, 1.4760410495717202, 1.4760410495717202, 1464.458016187782, 3213.468084445182, 615.5939967745302, 3578.9465540566225, 5700.511693961354, 498.7669391286088, 2987.005310519589, 145.35487429110793, 230.53988651825736, 1490.3903552895933, 16423.44139343656, 551.7948199095466, 802.9674829956494, 801.3914551498333, 1074.2360324086972, 992.6681432383504, 906.8782993800564, 845.7773043801814, 619.7620774556035, 541.6246683308863, 467.81687744597735, 458.7544133489025, 384.00492576811274, 374.6552201568844, 288.37585895457016, 268.77568285742524, 265.08633363211027, 244.6038725074605, 239.3241404458794, 177.47644234747702, 162.58009666688284, 161.83710088672598, 131.08062023855118, 97.83248117740155, 87.81061604773798, 85.57478151721577, 69.53040606704518, 68.44116850320876, 66.84249621655557, 52.85186638301432, 17.36175254529138, 1.4760410495717202, 1.4760410495717202, 1.4760410495717202, 1464.458016187782, 3213.468084445182, 2416.5944591179873, 2666.7830913007915, 1449.677909338023, 730.2418255888972, 594.6369758120552, 473.782955695316, 432.11248091001227, 419.8876809780774, 386.3976292696293, 374.8502376062363, 298.1169860952664, 284.54398494137047, 223.01104540172517, 146.45976230887428, 145.38343163754666, 126.06443392141703, 111.89216082102594, 98.74765252851329, 95.41440314820018, 72.87736648984053, 69.6763100065749, 61.3714434018153, 21.538424369255935, 12.126374917266267, 1.4760410495717202, 1.4760410495717202, 1.4760410495717202, 1.4760410495717202, 1.4760410495717202, 1.4760410495717202, 1.4760410495717202, 1464.458016187782, 3213.468084445182, 2416.5944591179873, 615.5939967745302, 3578.9465540566225, 5700.511693961354, 498.7669391286088, 2678.1562933308146, 1873.7762512404618, 1585.571988360814, 475.543248210971, 233.55566821744148, 154.95623496890568, 147.617067228787, 144.5598579847443, 135.13886408546222, 111.34191264627748, 17.24893816535863, 1.4760410495717202, 1.4760410495717202, 1.4760410495717202, 1.4760410495717202, 1.4760410495717202, 1.4760410495717202, 1.4760410495717202, 1.4760410495717202, 1.4760410495717202, 1.4760410495717202, 1.4760410495717202, 1.4760410495717202, 1.4760410495717202, 1.4760410495717202, 1.4760410495717202, 1.4760410495717202, 1.4760410495717202, 1.4760410495717202, 1.4760410495717202, 1464.458016187782, 3213.468084445182, 2416.5944591179873, 615.5939967745302, 3578.9465540566225, 5700.511693961354, 498.7669391286088, 2987.005310519589, 145.35487429110793, 230.53988651825736, 1490.3903552895933, 16423.44139343656, 551.7948199095466, 802.9674829956494, 801.3914551498333, 99.137051599118, 1309.9589678982366, 962.2742177367954, 756.9795130721947, 638.3495738485834, 550.7607466988512, 457.9582757055388, 455.28372882878324, 388.1764480642325, 339.76175735068637, 251.11395246785176, 243.50086984188056, 160.60904232792117, 159.87887529664508, 158.090091690153, 132.85742694504185, 118.50308112844306, 94.13515398359804, 89.91719102789274, 64.29750635117165, 1.4760410495717202, 1.4760410495717202, 1.4760410495717202, 1.4760410495717202, 1.4760410495717202, 1.4760410495717202, 1.4760410495717202, 1.4760410495717202, 1.4760410495717202, 1.4760410495717202, 1.4760410495717202, 1464.458016187782, 3213.468084445182, 2416.5944591179873, 615.5939967745302, 3578.9465540566225, 5700.511693961354, 498.7669391286088, 2987.005310519589, 145.35487429110793, 230.53988651825736, 2030.3296671688904, 1121.6944960774783, 946.3239126862989, 812.9091691169075, 560.5801941047977, 233.1311800154964, 224.91930517247377, 217.5485705920646, 216.02833496744077, 178.55013020024023, 141.413994828295, 122.93894868611001, 115.35885849363815, 98.09118018420737, 54.80244677485641, 44.45387621319714, 42.76492190645028, 1.4760410495717202, 1.4760410495717202, 1.4760410495717202, 1.4760410495717202, 1.4760410495717202, 1.4760410495717202, 1.4760410495717202, 1.4760410495717202, 1.4760410495717202, 1.4760410495717202, 1.4760410495717202, 1.4760410495717202, 1.4760410495717202, 1464.458016187782, 3213.468084445182, 2416.5944591179873, 615.5939967745302, 3578.9465540566225, 5700.511693961354, 498.7669391286088, 2987.005310519589, 145.35487429110793, 230.53988651825736, 1490.3903552895933, 16423.44139343656, 1053.3003438775415, 909.0124720954142, 788.9009441264927, 521.3212895677457, 459.00492674219703, 419.02327473558455, 389.25904808543623, 370.33234260771286, 356.90941732276184, 328.5274828198471, 325.2373071456964, 291.4056932309951, 164.58844796207038, 82.9835591946491, 72.00580725053477, 54.2913976895372, 43.55820606211856, 23.219616699733496, 1.4760410495717202, 1.4760410495717202, 1.4760410495717202, 1.4760410495717202, 1.4760410495717202, 1.4760410495717202, 1.4760410495717202, 1.4760410495717202, 1.4760410495717202, 1.4760410495717202, 1.4760410495717202, 1.4760410495717202, 1464.458016187782, 3213.468084445182, 2416.5944591179873, 615.5939967745302, 3578.9465540566225, 5700.511693961354, 498.7669391286088, 2987.005310519589, 145.35487429110793, 230.53988651825736, 1490.3903552895933, 1212.6657632988877, 1148.3041534281967, 1121.4531058545365, 595.7316335045117, 544.9651818959184, 441.4377674311135, 293.2007469855242, 262.6617336450952, 163.55740472749326, 138.50124775337713, 101.88351749876388, 99.90799425167394, 87.30754876369906, 70.57092203947151, 55.732438812649654, 51.81945516548618, 44.35602459109396, 1.4760410495717202, 1.4760410495717202, 1.4760410495717202, 1.4760410495717202, 1.4760410495717202, 1.4760410495717202, 1.4760410495717202, 1.4760410495717202, 1.4760410495717202, 1.4760410495717202, 1.4760410495717202, 1.4760410495717202, 1.4760410495717202, 1464.458016187782, 3213.468084445182, 2416.5944591179873, 615.5939967745302, 3578.9465540566225, 5700.511693961354, 498.7669391286088, 2987.005310519589, 145.35487429110793, 230.53988651825736, 1490.3903552895933, 16423.44139343656, 1492.260126966268, 1464.458016187782, 747.8697703788797, 715.523658392985, 607.8434784828904, 342.42934068011544, 271.6324919427561, 1.4760410495717202, 1.4760410495717202, 1.4760410495717202, 1.4760410495717202, 1.4760410495717202, 1.4760410495717202, 1.4760410495717202, 1.4760410495717202, 1.4760410495717202, 1.4760410495717202, 1.4760410495717202, 1.4760410495717202, 1.4760410495717202, 1.4760410495717202, 1.4760410495717202, 1.4760410495717202, 1.4760410495717202, 1.4760410495717202, 1.4760410495717202, 1.4760410495717202, 1.4760410495717202, 1.4760410495717202, 1.4760410495717202, 3213.468084445182, 2416.5944591179873, 615.5939967745302, 3578.9465540566225, 5700.511693961354, 498.7669391286088, 2987.005310519589, 145.35487429110793, 230.53988651825736, 1490.3903552895933, 16423.44139343656, 551.7948199095466, 802.9674829956494, 801.3914551498333, 99.137051599118, 9130.657588593775, 1506.5714851745115, 72.89669318658945, 904.6661117350417, 1.4760410495717202, 1.4760410495717202, 1.4760410495717202, 1.4760410495717202, 1.4760410495717202, 1.4760410495717202, 1.4760410495717202, 1.4760410495717202, 1.4760410495717202, 1.4760410495717202, 1.4760410495717202, 1.4760410495717202, 1.4760410495717202, 1.4760410495717202, 1.4760410495717202, 1.4760410495717202, 1.4760410495717202, 1.4760410495717202, 1.4760410495717202, 1.4760410495717202, 1.4760410495717202, 1.4760410495717202, 1.4760410495717202, 1.4760410495717202, 1.4760410495717202, 1.4760410495717202, 1.4760410495717202, 1.4760410495717202, 1.4760410495717202, 1.4760410495717202, 1464.458016187782, 3213.468084445182, 2416.5944591179873, 615.5939967745302, 3578.9465540566225, 5700.511693961354, 498.7669391286088, 2987.005310519589, 145.35487429110793, 230.53988651825736, 1490.3903552895933, 16423.44139343656, 551.7948199095466, 802.9674829956494, 801.3914551498333, 99.137051599118, 9130.657588593775, 1506.5714851745115, 72.89669318658945, 904.6661117350417, 1885.500004208394, 177.8169406826656, 1627.4219410093456, 2072.309507512542, 182.76871245494644, 1492.260126966268, 1.4760410495717202, 1.4760410495717202, 1.4760410495717202, 1.4760410495717202, 1.4760410495717202, 1.4760410495717202, 1.4760410495717202, 1.4760410495717202, 1.4760410495717202, 1.4760410495717202, 1.4760410495717202, 1.4760410495717202, 1.4760410495717202, 1.4760410495717202, 1.4760410495717202, 1.4760410495717202, 1.4760410495717202, 1.4760410495717202, 1.4760410495717202, 1.4760410495717202, 1.4760410495717202, 1.4760410495717202, 1.4760410495717202, 1.4760410495717202, 1.4760410495717202, 1.4760410495717202, 1.4760410495717202, 1.4760410495717202, 1.4760410495717202, 1.4760410495717202, 1464.458016187782, 3213.468084445182, 2416.5944591179873, 615.5939967745302, 3578.9465540566225, 5700.511693961354, 498.7669391286088, 2987.005310519589, 145.35487429110793, 230.53988651825736, 1490.3903552895933, 16423.44139343656, 551.7948199095466, 802.9674829956494, 801.3914551498333, 99.137051599118, 9130.657588593775, 1506.5714851745115, 72.89669318658945, 904.6661117350417, 1885.500004208394, 177.8169406826656, 1627.4219410093456, 2072.309507512542, 182.76871245494644, 1492.260126966268, 1.4760410495717202, 1.4760410495717202, 1.4760410495717202, 1.4760410495717202, 1.4760410495717202, 1.4760410495717202, 1.4760410495717202, 1.4760410495717202, 1.4760410495717202, 1.4760410495717202, 1.4760410495717202, 1.4760410495717202, 1.4760410495717202, 1.4760410495717202, 1.4760410495717202, 1.4760410495717202, 1.4760410495717202, 1.4760410495717202, 1.4760410495717202, 1.4760410495717202, 1.4760410495717202, 1.4760410495717202, 1.4760410495717202, 1.4760410495717202, 1.4760410495717202, 1.4760410495717202, 1.4760410495717202, 1.4760410495717202, 1.4760410495717202, 1.4760410495717202, 1464.458016187782, 3213.468084445182, 2416.5944591179873, 615.5939967745302, 3578.9465540566225, 5700.511693961354, 498.7669391286088, 2987.005310519589, 145.35487429110793, 230.53988651825736, 1490.3903552895933, 16423.44139343656, 551.7948199095466, 802.9674829956494, 801.3914551498333, 99.137051599118, 9130.657588593775, 1506.5714851745115, 72.89669318658945, 904.6661117350417, 1885.500004208394, 177.8169406826656, 1627.4219410093456, 2072.309507512542, 182.76871245494644, 1492.260126966268], \"Category\": [\"Default\", \"Default\", \"Default\", \"Default\", \"Default\", \"Default\", \"Default\", \"Default\", \"Default\", \"Default\", \"Default\", \"Default\", \"Default\", \"Default\", \"Default\", \"Default\", \"Default\", \"Default\", \"Default\", \"Default\", \"Default\", \"Default\", \"Default\", \"Default\", \"Default\", \"Default\", \"Default\", \"Default\", \"Default\", \"Default\", \"Topic1\", \"Topic1\", \"Topic1\", \"Topic1\", \"Topic1\", \"Topic1\", \"Topic1\", \"Topic1\", \"Topic1\", \"Topic1\", \"Topic1\", \"Topic1\", \"Topic1\", \"Topic1\", \"Topic1\", \"Topic1\", \"Topic1\", \"Topic1\", \"Topic1\", \"Topic1\", \"Topic1\", \"Topic1\", \"Topic1\", \"Topic1\", \"Topic1\", \"Topic1\", \"Topic1\", \"Topic1\", \"Topic1\", \"Topic1\", \"Topic2\", \"Topic2\", \"Topic2\", \"Topic2\", \"Topic2\", \"Topic2\", \"Topic2\", \"Topic2\", \"Topic2\", \"Topic2\", \"Topic2\", \"Topic2\", \"Topic2\", \"Topic2\", \"Topic2\", \"Topic2\", \"Topic2\", \"Topic2\", \"Topic2\", \"Topic2\", \"Topic2\", \"Topic2\", \"Topic2\", \"Topic2\", \"Topic2\", \"Topic2\", \"Topic2\", \"Topic2\", \"Topic2\", \"Topic2\", \"Topic2\", \"Topic2\", \"Topic2\", \"Topic2\", \"Topic2\", \"Topic2\", \"Topic2\", \"Topic2\", \"Topic2\", \"Topic2\", \"Topic2\", \"Topic2\", \"Topic2\", \"Topic2\", \"Topic2\", \"Topic2\", \"Topic3\", \"Topic3\", \"Topic3\", \"Topic3\", \"Topic3\", \"Topic3\", \"Topic3\", \"Topic3\", \"Topic3\", \"Topic3\", \"Topic3\", \"Topic3\", \"Topic3\", \"Topic3\", \"Topic3\", \"Topic3\", \"Topic3\", \"Topic3\", \"Topic3\", \"Topic3\", \"Topic3\", \"Topic3\", \"Topic3\", \"Topic3\", \"Topic3\", \"Topic3\", \"Topic3\", \"Topic3\", \"Topic3\", \"Topic3\", \"Topic3\", \"Topic3\", \"Topic3\", \"Topic3\", \"Topic3\", \"Topic3\", \"Topic3\", \"Topic3\", \"Topic3\", \"Topic4\", \"Topic4\", \"Topic4\", \"Topic4\", \"Topic4\", \"Topic4\", \"Topic4\", \"Topic4\", \"Topic4\", \"Topic4\", \"Topic4\", \"Topic4\", \"Topic4\", \"Topic4\", \"Topic4\", \"Topic4\", \"Topic4\", \"Topic4\", \"Topic4\", \"Topic4\", \"Topic4\", \"Topic4\", \"Topic4\", \"Topic4\", \"Topic4\", \"Topic4\", \"Topic4\", \"Topic4\", \"Topic4\", \"Topic4\", \"Topic4\", \"Topic4\", \"Topic4\", \"Topic4\", \"Topic4\", \"Topic4\", \"Topic4\", \"Topic4\", \"Topic5\", \"Topic5\", \"Topic5\", \"Topic5\", \"Topic5\", \"Topic5\", \"Topic5\", \"Topic5\", \"Topic5\", \"Topic5\", \"Topic5\", \"Topic5\", \"Topic5\", \"Topic5\", \"Topic5\", \"Topic5\", \"Topic5\", \"Topic5\", \"Topic5\", \"Topic5\", \"Topic5\", \"Topic5\", \"Topic5\", \"Topic5\", \"Topic5\", \"Topic5\", \"Topic5\", \"Topic5\", \"Topic5\", \"Topic5\", \"Topic5\", \"Topic5\", \"Topic6\", \"Topic6\", \"Topic6\", \"Topic6\", \"Topic6\", \"Topic6\", \"Topic6\", \"Topic6\", \"Topic6\", \"Topic6\", \"Topic6\", \"Topic6\", \"Topic6\", \"Topic6\", \"Topic6\", \"Topic6\", \"Topic6\", \"Topic6\", \"Topic6\", \"Topic6\", \"Topic6\", \"Topic6\", \"Topic6\", \"Topic6\", \"Topic6\", \"Topic6\", \"Topic6\", \"Topic6\", \"Topic6\", \"Topic6\", \"Topic6\", \"Topic6\", \"Topic6\", \"Topic6\", \"Topic6\", \"Topic6\", \"Topic6\", \"Topic6\", \"Topic6\", \"Topic6\", \"Topic6\", \"Topic7\", \"Topic7\", \"Topic7\", \"Topic7\", \"Topic7\", \"Topic7\", \"Topic7\", \"Topic7\", \"Topic7\", \"Topic7\", \"Topic7\", \"Topic7\", \"Topic7\", \"Topic7\", \"Topic7\", \"Topic7\", \"Topic7\", \"Topic7\", \"Topic7\", \"Topic7\", \"Topic7\", \"Topic7\", \"Topic7\", \"Topic7\", \"Topic7\", \"Topic7\", \"Topic7\", \"Topic7\", \"Topic7\", \"Topic7\", \"Topic7\", \"Topic7\", \"Topic7\", \"Topic7\", \"Topic8\", \"Topic8\", \"Topic8\", \"Topic8\", \"Topic8\", \"Topic8\", \"Topic8\", \"Topic8\", \"Topic8\", \"Topic8\", \"Topic8\", \"Topic8\", \"Topic8\", \"Topic8\", \"Topic8\", \"Topic8\", \"Topic8\", \"Topic8\", \"Topic8\", \"Topic8\", \"Topic8\", \"Topic8\", \"Topic8\", \"Topic8\", \"Topic8\", \"Topic8\", \"Topic8\", \"Topic8\", \"Topic8\", \"Topic8\", \"Topic8\", \"Topic8\", \"Topic8\", \"Topic8\", \"Topic8\", \"Topic9\", \"Topic9\", \"Topic9\", \"Topic9\", \"Topic9\", \"Topic9\", \"Topic9\", \"Topic9\", \"Topic9\", \"Topic9\", \"Topic9\", \"Topic9\", \"Topic9\", \"Topic9\", \"Topic9\", \"Topic9\", \"Topic9\", \"Topic9\", \"Topic9\", \"Topic9\", \"Topic9\", \"Topic9\", \"Topic9\", \"Topic9\", \"Topic9\", \"Topic9\", \"Topic9\", \"Topic9\", \"Topic9\", \"Topic9\", \"Topic9\", \"Topic9\", \"Topic9\", \"Topic9\", \"Topic9\", \"Topic9\", \"Topic9\", \"Topic9\", \"Topic10\", \"Topic10\", \"Topic10\", \"Topic10\", \"Topic10\", \"Topic10\", \"Topic10\", \"Topic10\", \"Topic10\", \"Topic10\", \"Topic10\", \"Topic10\", \"Topic10\", \"Topic10\", \"Topic10\", \"Topic10\", \"Topic10\", \"Topic10\", \"Topic10\", \"Topic10\", \"Topic10\", \"Topic10\", \"Topic10\", \"Topic10\", \"Topic10\", \"Topic10\", \"Topic10\", \"Topic10\", \"Topic10\", \"Topic10\", \"Topic10\", \"Topic10\", \"Topic10\", \"Topic10\", \"Topic10\", \"Topic10\", \"Topic10\", \"Topic11\", \"Topic11\", \"Topic11\", \"Topic11\", \"Topic11\", \"Topic11\", \"Topic11\", \"Topic11\", \"Topic11\", \"Topic11\", \"Topic11\", \"Topic11\", \"Topic11\", \"Topic11\", \"Topic11\", \"Topic11\", \"Topic11\", \"Topic11\", \"Topic11\", \"Topic11\", \"Topic11\", \"Topic11\", \"Topic11\", \"Topic11\", \"Topic11\", \"Topic11\", \"Topic11\", \"Topic11\", \"Topic11\", \"Topic11\", \"Topic11\", \"Topic12\", \"Topic12\", \"Topic12\", \"Topic12\", \"Topic12\", \"Topic12\", \"Topic12\", \"Topic12\", \"Topic12\", \"Topic12\", \"Topic12\", \"Topic12\", \"Topic12\", \"Topic12\", \"Topic12\", \"Topic12\", \"Topic12\", \"Topic12\", \"Topic12\", \"Topic12\", \"Topic12\", \"Topic12\", \"Topic12\", \"Topic12\", \"Topic12\", \"Topic12\", \"Topic12\", \"Topic12\", \"Topic12\", \"Topic12\", \"Topic13\", \"Topic13\", \"Topic13\", \"Topic13\", \"Topic13\", \"Topic13\", \"Topic13\", \"Topic13\", \"Topic13\", \"Topic13\", \"Topic13\", \"Topic13\", \"Topic13\", \"Topic13\", \"Topic13\", \"Topic13\", \"Topic13\", \"Topic13\", \"Topic13\", \"Topic13\", \"Topic13\", \"Topic13\", \"Topic13\", \"Topic13\", \"Topic13\", \"Topic13\", \"Topic13\", \"Topic13\", \"Topic13\", \"Topic13\", \"Topic14\", \"Topic14\", \"Topic14\", \"Topic14\", \"Topic14\", \"Topic14\", \"Topic14\", \"Topic14\", \"Topic14\", \"Topic14\", \"Topic14\", \"Topic14\", \"Topic14\", \"Topic14\", \"Topic14\", \"Topic14\", \"Topic14\", \"Topic14\", \"Topic14\", \"Topic14\", \"Topic14\", \"Topic14\", \"Topic14\", \"Topic14\", \"Topic14\", \"Topic14\", \"Topic14\", \"Topic14\", \"Topic14\", \"Topic14\", \"Topic14\", \"Topic14\", \"Topic15\", \"Topic15\", \"Topic15\", \"Topic15\", \"Topic15\", \"Topic15\", \"Topic15\", \"Topic15\", \"Topic15\", \"Topic15\", \"Topic15\", \"Topic15\", \"Topic15\", \"Topic15\", \"Topic15\", \"Topic15\", \"Topic15\", \"Topic15\", \"Topic15\", \"Topic15\", \"Topic15\", \"Topic15\", \"Topic15\", \"Topic15\", \"Topic15\", \"Topic15\", \"Topic15\", \"Topic15\", \"Topic15\", \"Topic15\", \"Topic15\", \"Topic15\", \"Topic15\", \"Topic15\", \"Topic15\", \"Topic15\", \"Topic15\", \"Topic15\", \"Topic15\", \"Topic15\", \"Topic15\", \"Topic15\", \"Topic15\", \"Topic16\", \"Topic16\", \"Topic16\", \"Topic16\", \"Topic16\", \"Topic16\", \"Topic16\", \"Topic16\", \"Topic16\", \"Topic16\", \"Topic16\", \"Topic16\", \"Topic16\", \"Topic16\", \"Topic16\", \"Topic16\", \"Topic16\", \"Topic16\", \"Topic16\", \"Topic16\", \"Topic16\", \"Topic16\", \"Topic16\", \"Topic16\", \"Topic16\", \"Topic16\", \"Topic16\", \"Topic16\", \"Topic16\", \"Topic16\", \"Topic17\", \"Topic17\", \"Topic17\", \"Topic17\", \"Topic17\", \"Topic17\", \"Topic17\", \"Topic17\", \"Topic17\", \"Topic17\", \"Topic17\", \"Topic17\", \"Topic17\", \"Topic17\", \"Topic17\", \"Topic17\", \"Topic17\", \"Topic17\", \"Topic17\", \"Topic17\", \"Topic17\", \"Topic17\", \"Topic17\", \"Topic17\", \"Topic17\", \"Topic17\", \"Topic17\", \"Topic17\", \"Topic17\", \"Topic17\", \"Topic17\", \"Topic17\", \"Topic17\", \"Topic17\", \"Topic17\", \"Topic17\", \"Topic17\", \"Topic17\", \"Topic17\", \"Topic17\", \"Topic17\", \"Topic18\", \"Topic18\", \"Topic18\", \"Topic18\", \"Topic18\", \"Topic18\", \"Topic18\", \"Topic18\", \"Topic18\", \"Topic18\", \"Topic18\", \"Topic18\", \"Topic18\", \"Topic18\", \"Topic18\", \"Topic18\", \"Topic18\", \"Topic18\", \"Topic18\", \"Topic18\", \"Topic18\", \"Topic18\", \"Topic18\", \"Topic18\", \"Topic18\", \"Topic18\", \"Topic18\", \"Topic18\", \"Topic18\", \"Topic18\", \"Topic19\", \"Topic19\", \"Topic19\", \"Topic19\", \"Topic19\", \"Topic19\", \"Topic19\", \"Topic19\", \"Topic19\", \"Topic19\", \"Topic19\", \"Topic19\", \"Topic19\", \"Topic19\", \"Topic19\", \"Topic19\", \"Topic19\", \"Topic19\", \"Topic19\", \"Topic19\", \"Topic19\", \"Topic19\", \"Topic19\", \"Topic19\", \"Topic19\", \"Topic19\", \"Topic19\", \"Topic19\", \"Topic19\", \"Topic19\", \"Topic19\", \"Topic19\", \"Topic19\", \"Topic19\", \"Topic19\", \"Topic19\", \"Topic19\", \"Topic19\", \"Topic19\", \"Topic19\", \"Topic20\", \"Topic20\", \"Topic20\", \"Topic20\", \"Topic20\", \"Topic20\", \"Topic20\", \"Topic20\", \"Topic20\", \"Topic20\", \"Topic20\", \"Topic20\", \"Topic20\", \"Topic20\", \"Topic20\", \"Topic20\", \"Topic20\", \"Topic20\", \"Topic20\", \"Topic20\", \"Topic20\", \"Topic20\", \"Topic20\", \"Topic20\", \"Topic20\", \"Topic20\", \"Topic20\", \"Topic20\", \"Topic20\", \"Topic20\", \"Topic20\", \"Topic20\", \"Topic21\", \"Topic21\", \"Topic21\", \"Topic21\", \"Topic21\", \"Topic21\", \"Topic21\", \"Topic21\", \"Topic21\", \"Topic21\", \"Topic21\", \"Topic21\", \"Topic21\", \"Topic21\", \"Topic21\", \"Topic21\", \"Topic21\", \"Topic21\", \"Topic21\", \"Topic21\", \"Topic21\", \"Topic21\", \"Topic21\", \"Topic21\", \"Topic21\", \"Topic21\", \"Topic21\", \"Topic21\", \"Topic21\", \"Topic21\", \"Topic21\", \"Topic22\", \"Topic22\", \"Topic22\", \"Topic22\", \"Topic22\", \"Topic22\", \"Topic22\", \"Topic22\", \"Topic22\", \"Topic22\", \"Topic22\", \"Topic22\", \"Topic22\", \"Topic22\", \"Topic22\", \"Topic22\", \"Topic22\", \"Topic22\", \"Topic22\", \"Topic22\", \"Topic22\", \"Topic22\", \"Topic22\", \"Topic22\", \"Topic22\", \"Topic22\", \"Topic22\", \"Topic22\", \"Topic22\", \"Topic22\", \"Topic23\", \"Topic23\", \"Topic23\", \"Topic23\", \"Topic23\", \"Topic23\", \"Topic23\", \"Topic23\", \"Topic23\", \"Topic23\", \"Topic23\", \"Topic23\", \"Topic23\", \"Topic23\", \"Topic23\", \"Topic23\", \"Topic23\", \"Topic23\", \"Topic23\", \"Topic23\", \"Topic23\", \"Topic23\", \"Topic23\", \"Topic23\", \"Topic23\", \"Topic23\", \"Topic23\", \"Topic23\", \"Topic23\", \"Topic23\", \"Topic23\", \"Topic23\", \"Topic23\", \"Topic23\", \"Topic23\", \"Topic23\", \"Topic23\", \"Topic23\", \"Topic23\", \"Topic23\", \"Topic23\", \"Topic23\", \"Topic23\", \"Topic23\", \"Topic23\", \"Topic23\", \"Topic23\", \"Topic23\", \"Topic24\", \"Topic24\", \"Topic24\", \"Topic24\", \"Topic24\", \"Topic24\", \"Topic24\", \"Topic24\", \"Topic24\", \"Topic24\", \"Topic24\", \"Topic24\", \"Topic24\", \"Topic24\", \"Topic24\", \"Topic24\", \"Topic24\", \"Topic24\", \"Topic24\", \"Topic24\", \"Topic24\", \"Topic24\", \"Topic24\", \"Topic24\", \"Topic24\", \"Topic24\", \"Topic24\", \"Topic24\", \"Topic24\", \"Topic24\", \"Topic24\", \"Topic24\", \"Topic24\", \"Topic24\", \"Topic24\", \"Topic24\", \"Topic24\", \"Topic24\", \"Topic25\", \"Topic25\", \"Topic25\", \"Topic25\", \"Topic25\", \"Topic25\", \"Topic25\", \"Topic25\", \"Topic25\", \"Topic25\", \"Topic25\", \"Topic25\", \"Topic25\", \"Topic25\", \"Topic25\", \"Topic25\", \"Topic25\", \"Topic25\", \"Topic25\", \"Topic25\", \"Topic25\", \"Topic25\", \"Topic25\", \"Topic25\", \"Topic25\", \"Topic25\", \"Topic25\", \"Topic25\", \"Topic25\", \"Topic25\", \"Topic25\", \"Topic25\", \"Topic25\", \"Topic25\", \"Topic25\", \"Topic25\", \"Topic25\", \"Topic25\", \"Topic25\", \"Topic25\", \"Topic25\", \"Topic26\", \"Topic26\", \"Topic26\", \"Topic26\", \"Topic26\", \"Topic26\", \"Topic26\", \"Topic26\", \"Topic26\", \"Topic26\", \"Topic26\", \"Topic26\", \"Topic26\", \"Topic26\", \"Topic26\", \"Topic26\", \"Topic26\", \"Topic26\", \"Topic26\", \"Topic26\", \"Topic26\", \"Topic26\", \"Topic26\", \"Topic26\", \"Topic26\", \"Topic26\", \"Topic26\", \"Topic26\", \"Topic26\", \"Topic26\", \"Topic26\", \"Topic26\", \"Topic26\", \"Topic26\", \"Topic26\", \"Topic26\", \"Topic26\", \"Topic26\", \"Topic26\", \"Topic26\", \"Topic26\", \"Topic26\", \"Topic27\", \"Topic27\", \"Topic27\", \"Topic27\", \"Topic27\", \"Topic27\", \"Topic27\", \"Topic27\", \"Topic27\", \"Topic27\", \"Topic27\", \"Topic27\", \"Topic27\", \"Topic27\", \"Topic27\", \"Topic27\", \"Topic27\", \"Topic27\", \"Topic27\", \"Topic27\", \"Topic27\", \"Topic27\", \"Topic27\", \"Topic27\", \"Topic27\", \"Topic27\", \"Topic27\", \"Topic27\", \"Topic27\", \"Topic27\", \"Topic27\", \"Topic27\", \"Topic27\", \"Topic27\", \"Topic27\", \"Topic27\", \"Topic27\", \"Topic27\", \"Topic27\", \"Topic27\", \"Topic27\", \"Topic27\", \"Topic27\", \"Topic27\", \"Topic27\", \"Topic27\", \"Topic27\", \"Topic27\", \"Topic27\", \"Topic28\", \"Topic28\", \"Topic28\", \"Topic28\", \"Topic28\", \"Topic28\", \"Topic28\", \"Topic28\", \"Topic28\", \"Topic28\", \"Topic28\", \"Topic28\", \"Topic28\", \"Topic28\", \"Topic28\", \"Topic28\", \"Topic28\", \"Topic28\", \"Topic28\", \"Topic28\", \"Topic28\", \"Topic28\", \"Topic28\", \"Topic28\", \"Topic28\", \"Topic28\", \"Topic28\", \"Topic28\", \"Topic28\", \"Topic28\", \"Topic28\", \"Topic28\", \"Topic28\", \"Topic28\", \"Topic28\", \"Topic29\", \"Topic29\", \"Topic29\", \"Topic29\", \"Topic29\", \"Topic29\", \"Topic29\", \"Topic29\", \"Topic29\", \"Topic29\", \"Topic29\", \"Topic29\", \"Topic29\", \"Topic29\", \"Topic29\", \"Topic29\", \"Topic29\", \"Topic29\", \"Topic29\", \"Topic29\", \"Topic29\", \"Topic29\", \"Topic29\", \"Topic29\", \"Topic29\", \"Topic29\", \"Topic29\", \"Topic29\", \"Topic29\", \"Topic29\", \"Topic29\", \"Topic29\", \"Topic29\", \"Topic29\", \"Topic29\", \"Topic29\", \"Topic29\", \"Topic29\", \"Topic29\", \"Topic29\", \"Topic29\", \"Topic29\", \"Topic29\", \"Topic29\", \"Topic30\", \"Topic30\", \"Topic30\", \"Topic30\", \"Topic30\", \"Topic30\", \"Topic30\", \"Topic30\", \"Topic30\", \"Topic30\", \"Topic30\", \"Topic30\", \"Topic30\", \"Topic30\", \"Topic30\", \"Topic30\", \"Topic30\", \"Topic30\", \"Topic30\", \"Topic30\", \"Topic30\", \"Topic30\", \"Topic30\", \"Topic30\", \"Topic30\", \"Topic30\", \"Topic30\", \"Topic30\", \"Topic30\", \"Topic30\", \"Topic30\", \"Topic30\", \"Topic30\", \"Topic31\", \"Topic31\", \"Topic31\", \"Topic31\", \"Topic31\", \"Topic31\", \"Topic31\", \"Topic31\", \"Topic31\", \"Topic31\", \"Topic31\", \"Topic31\", \"Topic31\", \"Topic31\", \"Topic31\", \"Topic31\", \"Topic31\", \"Topic31\", \"Topic31\", \"Topic31\", \"Topic31\", \"Topic31\", \"Topic31\", \"Topic31\", \"Topic31\", \"Topic31\", \"Topic31\", \"Topic31\", \"Topic31\", \"Topic31\", \"Topic31\", \"Topic31\", \"Topic31\", \"Topic31\", \"Topic31\", \"Topic31\", \"Topic31\", \"Topic32\", \"Topic32\", \"Topic32\", \"Topic32\", \"Topic32\", \"Topic32\", \"Topic32\", \"Topic32\", \"Topic32\", \"Topic32\", \"Topic32\", \"Topic32\", \"Topic32\", \"Topic32\", \"Topic32\", \"Topic32\", \"Topic32\", \"Topic32\", \"Topic32\", \"Topic32\", \"Topic32\", \"Topic32\", \"Topic32\", \"Topic32\", \"Topic32\", \"Topic32\", \"Topic32\", \"Topic32\", \"Topic32\", \"Topic32\", \"Topic32\", \"Topic32\", \"Topic32\", \"Topic32\", \"Topic32\", \"Topic32\", \"Topic32\", \"Topic32\", \"Topic32\", \"Topic32\", \"Topic32\", \"Topic32\", \"Topic32\", \"Topic32\", \"Topic32\", \"Topic32\", \"Topic33\", \"Topic33\", \"Topic33\", \"Topic33\", \"Topic33\", \"Topic33\", \"Topic33\", \"Topic33\", \"Topic33\", \"Topic33\", \"Topic33\", \"Topic33\", \"Topic33\", \"Topic33\", \"Topic33\", \"Topic33\", \"Topic33\", \"Topic33\", \"Topic33\", \"Topic33\", \"Topic33\", \"Topic33\", \"Topic33\", \"Topic33\", \"Topic33\", \"Topic33\", \"Topic33\", \"Topic33\", \"Topic33\", \"Topic33\", \"Topic33\", \"Topic33\", \"Topic33\", \"Topic33\", \"Topic33\", \"Topic33\", \"Topic33\", \"Topic33\", \"Topic33\", \"Topic33\", \"Topic34\", \"Topic34\", \"Topic34\", \"Topic34\", \"Topic34\", \"Topic34\", \"Topic34\", \"Topic34\", \"Topic34\", \"Topic34\", \"Topic34\", \"Topic34\", \"Topic34\", \"Topic34\", \"Topic34\", \"Topic34\", \"Topic34\", \"Topic34\", \"Topic34\", \"Topic34\", \"Topic34\", \"Topic34\", \"Topic34\", \"Topic34\", \"Topic34\", \"Topic34\", \"Topic34\", \"Topic34\", \"Topic34\", \"Topic34\", \"Topic34\", \"Topic34\", \"Topic34\", \"Topic34\", \"Topic34\", \"Topic34\", \"Topic34\", \"Topic34\", \"Topic34\", \"Topic34\", \"Topic34\", \"Topic34\", \"Topic35\", \"Topic35\", \"Topic35\", \"Topic35\", \"Topic35\", \"Topic35\", \"Topic35\", \"Topic35\", \"Topic35\", \"Topic35\", \"Topic35\", \"Topic35\", \"Topic35\", \"Topic35\", \"Topic35\", \"Topic35\", \"Topic35\", \"Topic35\", \"Topic35\", \"Topic35\", \"Topic35\", \"Topic35\", \"Topic35\", \"Topic35\", \"Topic35\", \"Topic35\", \"Topic35\", \"Topic35\", \"Topic35\", \"Topic35\", \"Topic35\", \"Topic35\", \"Topic35\", \"Topic35\", \"Topic35\", \"Topic35\", \"Topic35\", \"Topic35\", \"Topic35\", \"Topic35\", \"Topic35\", \"Topic36\", \"Topic36\", \"Topic36\", \"Topic36\", \"Topic36\", \"Topic36\", \"Topic36\", \"Topic36\", \"Topic36\", \"Topic36\", \"Topic36\", \"Topic36\", \"Topic36\", \"Topic36\", \"Topic36\", \"Topic36\", \"Topic36\", \"Topic36\", \"Topic36\", \"Topic36\", \"Topic36\", \"Topic36\", \"Topic36\", \"Topic36\", \"Topic36\", \"Topic36\", \"Topic36\", \"Topic36\", \"Topic36\", \"Topic36\", \"Topic36\", \"Topic36\", \"Topic36\", \"Topic36\", \"Topic36\", \"Topic36\", \"Topic36\", \"Topic36\", \"Topic36\", \"Topic36\", \"Topic36\", \"Topic36\", \"Topic37\", \"Topic37\", \"Topic37\", \"Topic37\", \"Topic37\", \"Topic37\", \"Topic37\", \"Topic37\", \"Topic37\", \"Topic37\", \"Topic37\", \"Topic37\", \"Topic37\", \"Topic37\", \"Topic37\", \"Topic37\", \"Topic37\", \"Topic37\", \"Topic37\", \"Topic37\", \"Topic37\", \"Topic37\", \"Topic37\", \"Topic37\", \"Topic37\", \"Topic37\", \"Topic37\", \"Topic37\", \"Topic37\", \"Topic37\", \"Topic37\", \"Topic37\", \"Topic37\", \"Topic37\", \"Topic37\", \"Topic37\", \"Topic37\", \"Topic37\", \"Topic37\", \"Topic37\", \"Topic37\", \"Topic37\", \"Topic37\", \"Topic37\", \"Topic37\", \"Topic37\", \"Topic37\", \"Topic37\", \"Topic37\", \"Topic38\", \"Topic38\", \"Topic38\", \"Topic38\", \"Topic38\", \"Topic38\", \"Topic38\", \"Topic38\", \"Topic38\", \"Topic38\", \"Topic38\", \"Topic38\", \"Topic38\", \"Topic38\", \"Topic38\", \"Topic38\", \"Topic38\", \"Topic38\", \"Topic38\", \"Topic38\", \"Topic38\", \"Topic38\", \"Topic38\", \"Topic38\", \"Topic38\", \"Topic38\", \"Topic38\", \"Topic38\", \"Topic38\", \"Topic38\", \"Topic38\", \"Topic38\", \"Topic38\", \"Topic38\", \"Topic38\", \"Topic38\", \"Topic38\", \"Topic38\", \"Topic38\", \"Topic38\", \"Topic38\", \"Topic38\", \"Topic38\", \"Topic38\", \"Topic38\", \"Topic38\", \"Topic38\", \"Topic38\", \"Topic38\", \"Topic38\", \"Topic38\", \"Topic38\", \"Topic38\", \"Topic38\", \"Topic38\", \"Topic38\", \"Topic39\", \"Topic39\", \"Topic39\", \"Topic39\", \"Topic39\", \"Topic39\", \"Topic39\", \"Topic39\", \"Topic39\", \"Topic39\", \"Topic39\", \"Topic39\", \"Topic39\", \"Topic39\", \"Topic39\", \"Topic39\", \"Topic39\", \"Topic39\", \"Topic39\", \"Topic39\", \"Topic39\", \"Topic39\", \"Topic39\", \"Topic39\", \"Topic39\", \"Topic39\", \"Topic39\", \"Topic39\", \"Topic39\", \"Topic39\", \"Topic39\", \"Topic39\", \"Topic39\", \"Topic39\", \"Topic39\", \"Topic39\", \"Topic39\", \"Topic39\", \"Topic39\", \"Topic39\", \"Topic39\", \"Topic39\", \"Topic39\", \"Topic39\", \"Topic39\", \"Topic39\", \"Topic39\", \"Topic39\", \"Topic39\", \"Topic39\", \"Topic39\", \"Topic39\", \"Topic39\", \"Topic39\", \"Topic39\", \"Topic39\", \"Topic40\", \"Topic40\", \"Topic40\", \"Topic40\", \"Topic40\", \"Topic40\", \"Topic40\", \"Topic40\", \"Topic40\", \"Topic40\", \"Topic40\", \"Topic40\", \"Topic40\", \"Topic40\", \"Topic40\", \"Topic40\", \"Topic40\", \"Topic40\", \"Topic40\", \"Topic40\", \"Topic40\", \"Topic40\", \"Topic40\", \"Topic40\", \"Topic40\", \"Topic40\", \"Topic40\", \"Topic40\", \"Topic40\", \"Topic40\", \"Topic40\", \"Topic40\", \"Topic40\", \"Topic40\", \"Topic40\", \"Topic40\", \"Topic40\", \"Topic40\", \"Topic40\", \"Topic40\", \"Topic40\", \"Topic40\", \"Topic40\", \"Topic40\", \"Topic40\", \"Topic40\", \"Topic40\", \"Topic40\", \"Topic40\", \"Topic40\", \"Topic40\", \"Topic40\", \"Topic40\", \"Topic40\", \"Topic40\", \"Topic40\"], \"logprob\": [30.0, 29.0, 28.0, 27.0, 26.0, 25.0, 24.0, 23.0, 22.0, 21.0, 20.0, 19.0, 18.0, 17.0, 16.0, 15.0, 14.0, 13.0, 12.0, 11.0, 10.0, 9.0, 8.0, 7.0, 6.0, 5.0, 4.0, 3.0, 2.0, 1.0, -2.7604, -2.9017, -2.9118, -2.9125, -2.966, -3.0057, -3.0127, -3.1649, -3.209, -3.4824, -3.5211, -3.6108, -3.6331, -3.7399, -3.7498, -3.7884, -3.8049, -3.8902, -3.8977, -3.9065, -3.9889, -4.0302, -4.0445, -4.0775, -4.0926, -4.1722, -4.1947, -4.2828, -4.3187, -4.3494, -0.3982, -2.0203, -3.0499, -3.786, -3.8486, -3.9724, -4.0275, -4.163, -4.9925, -6.0915, -7.6458, -13.3257, -13.3257, -13.3257, -13.3257, -13.3257, -13.3257, -13.3257, -13.3257, -13.3257, -13.3257, -13.3257, -13.3257, -13.3257, -13.3257, -13.3257, -13.3257, -13.3257, -13.3257, -13.3257, -13.3257, -13.3257, -13.3257, -13.3257, -13.3257, -13.3257, -13.3257, -13.3257, -13.3257, -13.3257, -13.3257, -13.3257, -13.3257, -13.3257, -13.3257, -13.3257, -1.4936, -2.1097, -2.239, -2.2952, -2.6176, -2.6362, -2.9554, -3.4932, -3.4947, -3.8282, -3.9155, -3.9541, -4.1002, -4.1272, -4.2313, -4.6477, -5.0847, -5.1058, -5.8744, -6.3417, -6.7964, -13.0947, -13.0947, -13.0947, -13.0947, -13.0947, -13.0947, -13.0947, -13.0947, -13.0947, -13.0947, -13.0947, -13.0947, -13.0947, -13.0947, -13.0947, -13.0947, -13.0947, -13.0947, -1.3278, -1.6279, -2.4293, -2.7185, -2.971, -3.2791, -3.3261, -3.4838, -3.6382, -3.6729, -3.8793, -3.9335, -4.0104, -4.3568, -4.4926, -4.5948, -4.9957, -5.0679, -5.1347, -5.2779, -5.3729, -5.9189, -13.1021, -13.1021, -13.1021, -13.1021, -13.1021, -13.1021, -13.1021, -13.1021, -13.1021, -13.1021, -13.1021, -13.1021, -13.1021, -13.1021, -13.1021, -13.1021, -1.6942, -1.9367, -2.2409, -2.4406, -2.7306, -3.1114, -3.1154, -3.3867, -3.5477, -3.5962, -3.7238, -3.8716, -3.9296, -3.9649, -4.3073, -4.6107, -4.6885, -4.6983, -4.7274, -4.8166, -4.8687, -4.8953, -4.982, -5.1723, -5.3596, -5.7072, -5.8913, -6.1935, -13.1345, -13.1345, -13.1345, -13.1345, -1.4536, -2.0517, -2.1155, -2.3953, -2.4722, -2.7841, -2.9672, -3.025, -3.6089, -3.7417, -3.9829, -4.0461, -4.2506, -4.7245, -4.9798, -6.0441, -6.1273, -6.4376, -13.0415, -13.0415, -13.0415, -13.0415, -13.0415, -13.0415, -13.0415, -13.0415, -13.0415, -13.0415, -13.0415, -13.0415, -13.0415, -13.0415, -13.0415, -13.0415, -13.0415, -13.0415, -13.0415, -13.0415, -13.0415, -13.0415, -13.0415, -1.7785, -1.8098, -1.8117, -2.0196, -2.7835, -3.0079, -3.3074, -3.5623, -3.946, -4.093, -4.1537, -4.1667, -4.2326, -4.7249, -4.8598, -5.2874, -5.3577, -5.4225, -5.518, -5.5302, -5.5347, -5.7422, -5.8426, -5.857, -6.5304, -7.0125, -12.997, -12.997, -12.997, -12.997, -12.997, -12.997, -12.997, -12.997, -1.9658, -2.1936, -2.5449, -2.7635, -2.8517, -2.8848, -2.9314, -3.0619, -3.4133, -3.4137, -3.4194, -3.4462, -3.5632, -3.5788, -3.6302, -3.7951, -3.9972, -4.2297, -4.3576, -4.4905, -4.4929, -4.7519, -4.7616, -5.3811, -5.5903, -12.9245, -12.9245, -12.9245, -12.9245, -12.9245, -12.9245, -12.9245, -12.9245, -12.9245, -12.9245, -1.1867, -2.3586, -2.4831, -2.5884, -2.757, -3.0318, -3.0721, -3.4467, -3.5776, -3.5895, -3.5967, -3.9526, -4.0161, -4.133, -4.2457, -4.7469, -4.8557, -4.9566, -5.0315, -5.064, -5.2579, -5.4316, -13.069, -13.069, -13.069, -13.069, -13.069, -13.069, -13.069, -13.069, -13.069, -13.069, -13.069, -13.069, -13.069, -13.069, -13.069, -13.069, -1.2461, -2.273, -2.4303, -2.795, -2.8019, -3.0407, -3.1166, -3.1872, -3.1962, -3.4039, -3.5254, -3.5793, -4.2336, -4.5633, -4.65, -4.6957, -5.0845, -5.1443, -5.2428, -5.8226, -5.8611, -5.9132, -6.0318, -12.9404, -12.9404, -12.9404, -12.9404, -12.9404, -12.9404, -12.9404, -12.9404, -12.9404, -12.9404, -12.9404, -12.9404, -12.9404, -12.9404, -1.9286, -1.9443, -2.1333, -2.8125, -2.8688, -2.9398, -2.9856, -3.071, -3.4871, -3.5397, -3.6719, -3.7094, -3.7506, -3.8174, -4.1, -4.2475, -4.3841, -4.5111, -4.7377, -4.7412, -4.9034, -5.1018, -5.307, -5.5877, -5.8328, -5.8383, -6.0359, -6.0941, -6.1792, -12.907, -12.907, -1.9336, -2.5613, -2.5675, -2.5786, -2.7881, -2.8071, -3.2613, -3.3263, -3.328, -3.3293, -3.5767, -3.6815, -3.8242, -3.9398, -3.9513, -4.0416, -4.1987, -4.2101, -4.423, -4.4616, -4.4749, -4.5953, -4.6029, -4.6934, -4.6954, -4.7123, -4.8716, -4.9676, -5.0577, -5.1784, -2.1607, -2.2441, -2.3597, -2.7963, -2.8304, -2.9248, -2.994, -3.0558, -3.1808, -3.2872, -3.3509, -3.5749, -3.6235, -3.9067, -3.9174, -3.942, -4.0591, -4.0732, -4.1373, -4.4394, -4.6963, -5.022, -5.0563, -5.0681, -5.1505, -5.156, -5.3877, -5.4251, -5.8824, -7.347, -1.7666, -2.1324, -2.3015, -2.7783, -2.7892, -2.902, -3.1091, -3.3164, -3.3293, -3.3888, -3.4201, -3.7742, -3.9071, -3.9092, -4.1506, -4.2008, -4.2672, -4.3995, -4.4242, -4.5717, -4.7206, -4.8144, -5.2383, -5.5134, -5.7311, -7.0384, -7.6501, -8.3248, -12.7627, -12.7627, -12.7627, -12.7627, -1.4948, -1.8136, -2.1756, -2.2617, -2.5992, -3.0715, -3.1339, -3.4125, -3.5564, -3.7335, -4.0475, -4.0878, -4.1382, -4.63, -5.1972, -5.414, -12.7587, -12.7587, -12.7587, -12.7587, -12.7587, -12.7587, -12.7587, -12.7587, -12.7587, -12.7587, -12.7587, -12.7587, -12.7587, -12.7587, -12.7587, -12.7587, -12.7587, -12.7587, -12.7587, -12.7587, -12.7587, -12.7587, -12.7587, -12.7587, -12.7587, -12.7587, -12.7587, -2.2301, -2.5201, -2.5384, -2.6874, -2.7299, -2.8494, -2.8713, -3.3028, -3.3748, -3.4249, -3.509, -3.5288, -3.749, -4.0028, -4.0158, -4.0604, -4.1017, -4.1363, -4.1485, -4.3327, -4.3632, -4.5593, -4.5666, -4.6271, -4.8806, -4.9539, -4.9598, -5.1013, -5.106, -5.2061, -1.524, -1.6658, -2.2022, -2.2737, -2.5212, -3.0816, -3.1968, -3.5768, -3.883, -3.9858, -4.1782, -4.2966, -4.6028, -4.9516, -4.9543, -5.0397, -5.1439, -5.4631, -12.7533, -12.7533, -12.7533, -12.7533, -12.7533, -12.7533, -12.7533, -12.7533, -12.7533, -12.7533, -12.7533, -12.7533, -12.7533, -12.7533, -12.7533, -12.7533, -12.7533, -12.7533, -12.7533, -12.7533, -12.7533, -12.7533, -12.7533, -1.9754, -2.1666, -2.389, -2.4376, -2.5341, -3.2106, -3.3396, -3.4063, -3.4693, -3.5973, -3.6099, -3.6911, -3.7536, -3.7687, -3.7714, -3.9777, -4.1277, -4.1538, -4.3304, -4.4068, -4.7717, -5.3202, -5.3255, -5.5647, -5.6207, -5.6468, -5.7478, -6.1143, -6.1325, -6.3388, -1.3531, -2.0917, -2.7498, -2.8299, -2.8641, -3.0034, -3.3053, -3.3958, -3.4278, -3.5254, -3.555, -3.5628, -3.573, -3.734, -3.9127, -4.038, -4.3896, -4.4943, -4.7943, -12.7238, -12.7238, -12.7238, -12.7238, -12.7238, -12.7238, -12.7238, -12.7238, -12.7238, -12.7238, -12.7238, -12.7238, -12.7238, -12.7238, -12.7238, -12.7238, -12.7238, -12.7238, -12.7238, -12.7238, -12.7238, -1.7694, -2.1099, -2.6196, -2.7261, -2.7976, -3.0025, -3.1419, -3.3149, -3.3869, -3.5147, -3.6559, -3.7251, -3.7763, -3.861, -3.8715, -4.0408, -4.1269, -4.2248, -4.3257, -4.5754, -4.6825, -4.9356, -5.0204, -5.0524, -5.0944, -5.1347, -5.351, -6.6422, -12.6714, -12.6714, -12.6714, -12.6714, -1.7258, -2.6651, -2.6733, -2.7176, -2.7605, -2.9224, -3.2052, -3.2266, -3.2613, -3.2938, -3.4163, -3.4265, -3.5023, -3.864, -4.0078, -4.0734, -4.0934, -4.2125, -4.316, -4.5245, -4.7048, -4.7137, -5.0599, -5.0802, -5.3268, -5.4385, -5.52, -5.5215, -5.9134, -12.6174, -12.6174, -1.6568, -2.2037, -2.3091, -2.8712, -2.935, -2.9694, -3.1015, -3.2039, -3.2435, -3.524, -3.5304, -3.7506, -3.857, -4.1749, -4.1822, -4.4596, -4.663, -4.7039, -4.7076, -4.7959, -4.8952, -4.9776, -4.9978, -5.3212, -5.365, -5.3795, -5.5322, -5.6915, -6.0409, -6.7152, -1.2501, -1.3276, -2.0715, -2.6051, -3.0378, -3.2502, -3.3569, -3.6965, -3.8346, -12.6917, -12.6917, -12.6917, -12.6917, -12.6917, -12.6917, -12.6917, -12.6917, -12.6917, -12.6917, -12.6917, -12.6917, -12.6917, -12.6917, -12.6917, -12.6917, -12.6917, -12.6917, -12.6917, -12.6917, -12.6917, -12.6917, -12.6917, -12.6917, -12.6917, -12.6917, -12.6917, -12.6917, -12.6917, -12.6917, -12.6917, -12.6917, -12.6917, -12.6917, -12.6917, -12.6917, -12.6917, -12.6917, -12.6917, -0.7723, -2.5091, -2.7387, -2.7733, -2.8346, -3.3544, -3.7636, -3.9043, -3.9326, -4.0076, -4.3319, -4.4795, -4.8768, -4.8881, -4.9237, -5.2432, -5.3375, -5.3715, -5.6898, -7.7141, -8.1464, -12.5916, -12.5916, -12.5916, -12.5916, -12.5916, -12.5916, -12.5916, -12.5916, -12.5916, -12.5916, -12.5916, -12.5916, -12.5916, -12.5916, -12.5916, -12.5916, -12.5916, -1.139, -1.7524, -2.1891, -2.2208, -3.0122, -3.5351, -3.6525, -3.9651, -4.057, -4.3335, -4.5095, -4.6169, -4.8002, -4.9427, -5.1151, -6.362, -6.6093, -7.0501, -12.6249, -12.6249, -12.6249, -12.6249, -12.6249, -12.6249, -12.6249, -12.6249, -12.6249, -12.6249, -12.6249, -12.6249, -12.6249, -12.6249, -12.6249, -12.6249, -12.6249, -12.6249, -12.6249, -12.6249, -12.6249, -12.6249, -12.6249, -1.1651, -1.7305, -2.5591, -2.8201, -2.8833, -2.9051, -2.9977, -3.2851, -3.9396, -4.1246, -4.2048, -4.2574, -4.332, -4.5406, -4.724, -4.8728, -5.2865, -12.8942, -12.8942, -12.8942, -12.8942, -12.8942, -12.8942, -12.8942, -12.8942, -12.8942, -12.8942, -12.8942, -12.8942, -12.8942, -12.8942, -12.8942, -12.8942, -12.8942, -12.8942, -12.8942, -12.8942, -12.8942, -12.8942, -12.8942, -12.8942, -12.8942, -0.387, -2.3865, -2.849, -3.5648, -3.5747, -4.7174, -5.2515, -12.4705, -12.4705, -12.4705, -12.4705, -12.4705, -12.4705, -12.4705, -12.4705, -12.4705, -12.4705, -12.4705, -12.4705, -12.4705, -12.4705, -12.4705, -12.4705, -12.4705, -12.4705, -12.4705, -12.4705, -12.4705, -12.4705, -12.4705, -12.4705, -12.4705, -12.4705, -12.4705, -12.4705, -12.4705, -12.4705, -12.4705, -12.4705, -12.4705, -12.4705, -12.4705, -12.4705, -12.4705, -12.4705, -12.4705, -12.4705, -12.4705, -12.4705, -1.7563, -2.2203, -2.3096, -2.35, -2.8516, -3.0812, -3.1971, -3.3291, -3.432, -3.5719, -3.7617, -3.7808, -3.8437, -3.9467, -4.0095, -4.1602, -4.2634, -4.266, -4.3088, -4.4917, -4.9821, -5.1296, -5.397, -5.8702, -7.6861, -12.5872, -12.5872, -12.5872, -12.5872, -12.5872, -12.5872, -12.5872, -12.5872, -12.5872, -12.5872, -1.5063, -1.9569, -2.0043, -2.0775, -2.6467, -3.1858, -3.2036, -3.2114, -3.4855, -3.6762, -4.3693, -4.4777, -5.4943, -7.9056, -12.4819, -12.4819, -12.4819, -12.4819, -12.4819, -12.4819, -12.4819, -12.4819, -12.4819, -12.4819, -12.4819, -12.4819, -12.4819, -12.4819, -12.4819, -12.4819, -12.4819, -12.4819, -12.4819, -12.4819, -12.4819, -12.4819, -12.4819, -12.4819, -12.4819, -12.4819, -12.4819, -12.4819, -12.4819, -12.4819, -2.2477, -2.3268, -2.4173, -2.4872, -2.7987, -2.9338, -3.0807, -3.1003, -3.2788, -3.3035, -3.5664, -3.6372, -3.6511, -3.732, -3.7539, -4.055, -4.1434, -4.148, -4.3609, -4.6572, -4.767, -4.7932, -5.0048, -5.0209, -5.0451, -5.2858, -6.4578, -12.4492, -12.4492, -12.4492, -12.4492, -12.4492, -12.4492, -1.3369, -1.9469, -2.6336, -2.8394, -3.0673, -3.1596, -3.1884, -3.2718, -3.3023, -3.5323, -3.5792, -3.8242, -4.2481, -4.2556, -4.3997, -4.5204, -4.6471, -4.682, -4.9562, -5.002, -5.1318, -6.2244, -6.8562, -12.6121, -12.6121, -12.6121, -12.6121, -12.6121, -12.6121, -12.6121, -12.6121, -12.6121, -12.6121, -12.6121, -12.6121, -12.6121, -12.6121, -1.1643, -1.5217, -1.6888, -2.8952, -3.6094, -4.0228, -4.0718, -4.0929, -4.161, -4.357, -6.2958, -12.2891, -12.2891, -12.2891, -12.2891, -12.2891, -12.2891, -12.2891, -12.2891, -12.2891, -12.2891, -12.2891, -12.2891, -12.2891, -12.2891, -12.2891, -12.2891, -12.2891, -12.2891, -12.2891, -12.2891, -12.2891, -12.2891, -12.2891, -12.2891, -12.2891, -12.2891, -12.2891, -12.2891, -12.2891, -12.2891, -12.2891, -12.2891, -12.2891, -12.2891, -12.2891, -1.8629, -2.1718, -2.4121, -2.5829, -2.7309, -2.9159, -2.9218, -3.0818, -3.2156, -3.5194, -3.5504, -3.9696, -3.9742, -3.9855, -4.1611, -4.2768, -4.5102, -4.5568, -4.8986, -12.1868, -12.1868, -12.1868, -12.1868, -12.1868, -12.1868, -12.1868, -12.1868, -12.1868, -12.1868, -12.1868, -12.1868, -12.1868, -12.1868, -12.1868, -12.1868, -12.1868, -12.1868, -12.1868, -12.1868, -12.1868, -1.3942, -1.9882, -2.1584, -2.3106, -2.6831, -3.5641, -3.6001, -3.6337, -3.6407, -3.8327, -4.068, -4.2095, -4.274, -4.4383, -5.0323, -5.2479, -5.2879, -12.2326, -12.2326, -12.2326, -12.2326, -12.2326, -12.2326, -12.2326, -12.2326, -12.2326, -12.2326, -12.2326, -12.2326, -12.2326, -12.2326, -12.2326, -12.2326, -12.2326, -12.2326, -12.2326, -12.2326, -12.2326, -12.2326, -12.2326, -12.2326, -12.2326, -1.9896, -2.1372, -2.2791, -2.6943, -2.822, -2.9134, -2.9874, -3.0374, -3.0745, -3.1577, -3.1678, -3.2782, -3.8533, -4.5467, -4.6913, -4.9804, -5.2074, -5.8668, -12.15, -12.15, -12.15, -12.15, -12.15, -12.15, -12.15, -12.15, -12.15, -12.15, -12.15, -12.15, -12.15, -12.15, -12.15, -12.15, -12.15, -12.15, -12.15, -12.15, -12.15, -12.15, -12.15, -1.8179, -1.8725, -1.8962, -2.5299, -2.6192, -2.8305, -3.2414, -3.3519, -3.829, -3.9969, -4.3077, -4.3275, -4.4645, -4.6813, -4.9229, -4.9976, -5.158, -12.1333, -12.1333, -12.1333, -12.1333, -12.1333, -12.1333, -12.1333, -12.1333, -12.1333, -12.1333, -12.1333, -12.1333, -12.1333, -12.1333, -12.1333, -12.1333, -12.1333, -12.1333, -12.1333, -12.1333, -12.1333, -12.1333, -12.1333, -12.1333, -12.1333, -1.4516, -1.4704, -2.1434, -2.1877, -2.3511, -2.9268, -3.1595, -12.3339, -12.3339, -12.3339, -12.3339, -12.3339, -12.3339, -12.3339, -12.3339, -12.3339, -12.3339, -12.3339, -12.3339, -12.3339, -12.3339, -12.3339, -12.3339, -12.3339, -12.3339, -12.3339, -12.3339, -12.3339, -12.3339, -12.3339, -12.3339, -12.3339, -12.3339, -12.3339, -12.3339, -12.3339, -12.3339, -12.3339, -12.3339, -12.3339, -12.3339, -12.3339, -12.3339, -12.3339, -12.3339, -12.3339, -12.3339, -12.3339, -12.3339, -10.1735, -10.1735, -10.1735, -10.1735, -10.1735, -10.1735, -10.1735, -10.1735, -10.1735, -10.1735, -10.1735, -10.1735, -10.1735, -10.1735, -10.1735, -10.1735, -10.1735, -10.1735, -10.1735, -10.1735, -10.1735, -10.1735, -10.1735, -10.1735, -10.1735, -10.1735, -10.1735, -10.1735, -10.1735, -10.1735, -10.1735, -10.1735, -10.1735, -10.1735, -10.1735, -10.1735, -10.1735, -10.1735, -10.1735, -10.1735, -10.1735, -10.1735, -10.1735, -10.1735, -10.1735, -10.1735, -10.1735, -10.1735, -10.1735, -10.1735, -10.1735, -10.1735, -10.1735, -10.1735, -10.1735, -10.1735, -10.1735, -10.1735, -10.1735, -10.1735, -10.1735, -10.1735, -10.1735, -10.1735, -10.1735, -10.1735, -10.1735, -10.1735, -10.1735, -10.1735, -10.1735, -10.1735, -10.1735, -10.1735, -10.1735, -10.1735, -10.1735, -10.1735, -10.1735, -10.1735, -10.1735, -10.1735, -10.1735, -10.1735, -10.1735, -10.1735, -10.1735, -10.1735, -10.1735, -10.1735, -10.1735, -10.1735, -10.1735, -10.1735, -10.1735, -10.1735, -10.1735, -10.1735, -10.1735, -10.1735, -10.1735, -10.1735, -10.1735, -10.1735, -10.1735, -10.1735, -10.1735, -10.1735, -10.1735, -10.1735, -10.1735, -10.1735, -10.1735, -10.1735, -10.1735, -10.1735, -10.1735, -10.1735, -10.1735, -10.1735, -10.1735, -10.1735, -10.1735, -10.1735, -10.1735, -10.1735, -10.1735, -10.1735, -10.1735, -10.1735, -10.1735, -10.1735, -10.1735, -10.1735, -10.1735, -10.1735, -10.1735, -10.1735, -10.1735, -10.1735, -10.1735, -10.1735, -10.1735, -10.1735, -10.1735, -10.1735, -10.1735, -10.1735, -10.1735, -10.1735, -10.1735, -10.1735, -10.1735, -10.1735, -10.1735, -10.1735, -10.1735, -10.1735, -10.1735, -10.1735, -10.1735, -10.1735, -10.1735, -10.1735, -10.1735, -10.1735, -10.1735, -10.1735], \"loglift\": [30.0, 29.0, 28.0, 27.0, 26.0, 25.0, 24.0, 23.0, 22.0, 21.0, 20.0, 19.0, 18.0, 17.0, 16.0, 15.0, 14.0, 13.0, 12.0, 11.0, 10.0, 9.0, 8.0, 7.0, 6.0, 5.0, 4.0, 3.0, 2.0, 1.0, 1.3611, 1.361, 1.361, 1.361, 1.361, 1.361, 1.361, 1.361, 1.361, 1.3609, 1.3609, 1.3609, 1.3609, 1.3608, 1.3608, 1.3608, 1.3608, 1.3608, 1.3608, 1.3608, 1.3607, 1.3607, 1.3607, 1.3607, 1.3607, 1.3606, 1.3606, 1.3606, 1.3605, 1.3605, 3.2883, 3.2879, 3.2871, 3.2858, 3.2856, 3.2853, 3.2851, 3.2846, 3.2798, 3.2627, 3.1725, -0.3221, -0.3221, -0.3221, -0.3221, -0.3221, -0.3221, -0.3221, -0.3221, -0.3221, -0.3221, -0.3221, -0.3221, -0.3221, -0.3221, -0.3221, -0.3221, -0.3221, -0.3221, -0.3221, -7.222, -8.0079, -7.7229, -6.3554, -8.1156, -8.5811, -6.1449, -7.9348, -4.912, -5.3732, -7.2396, -6.246, -6.6211, -6.6191, -4.5293, -9.0522, 3.4888, 3.4886, 3.4885, 3.4884, 3.4882, 3.4882, 3.4878, 3.4868, 3.4868, 3.4859, 3.4856, 3.4854, 3.4848, 3.4847, 3.4842, 3.4817, 3.4776, 3.4774, 3.464, 3.4492, 3.427, -0.0911, -0.0911, -0.0911, -0.0911, -0.0911, -0.0911, -0.0911, -0.0911, -0.0911, -6.991, -7.7769, -7.4919, -6.1244, -7.8846, -8.3501, -5.9139, -7.7038, -4.681, 3.4975, 3.4974, 3.497, 3.4967, 3.4964, 3.4959, 3.4958, 3.4954, 3.495, 3.4949, 3.4943, 3.4941, 3.4938, 3.4921, 3.4913, 3.4906, 3.4871, 3.4863, 3.4856, 3.4837, 3.4823, 3.4712, -0.0985, -0.0985, -0.0985, -0.0985, -0.0985, -0.0985, -0.0985, -0.0985, -6.9984, -7.7843, -7.4993, -6.1317, -7.892, -8.3575, -5.9213, -7.7112, 3.5159, 3.5158, 3.5156, 3.5154, 3.5151, 3.5146, 3.5146, 3.5141, 3.5137, 3.5136, 3.5132, 3.5127, 3.5125, 3.5124, 3.5108, 3.5089, 3.5083, 3.5082, 3.508, 3.5072, 3.5067, 3.5065, 3.5056, 3.5033, 3.5007, 3.4943, 3.4899, 3.4808, -0.1309, -0.1309, -7.0308, -7.8166, 3.6037, 3.6034, 3.6034, 3.6032, 3.6031, 3.6027, 3.6025, 3.6024, 3.6011, 3.6007, 3.5997, 3.5995, 3.5984, 3.595, 3.5924, 3.5706, 3.5678, 3.5549, -0.038, -0.038, -0.038, -0.038, -0.038, -0.038, -0.038, -0.038, -0.038, -0.038, -0.038, -0.038, -6.9378, -7.7237, -7.4387, -6.0712, -7.8314, -8.2969, -5.8607, -7.6506, -4.6278, -5.089, -6.9554, 3.6614, 3.6614, 3.6614, 3.6613, 3.6606, 3.6602, 3.6596, 3.6589, 3.6575, 3.6568, 3.6565, 3.6565, 3.6561, 3.6524, 3.651, 3.6452, 3.644, 3.6428, 3.6409, 3.6406, 3.6405, 3.6357, 3.6329, 3.6325, 3.605, 3.5713, 0.0065, 0.0065, 0.0065, 0.0065, -6.8934, -7.6792, -7.3942, -6.0267, 3.6681, 3.6679, 3.6676, 3.6673, 3.6672, 3.6671, 3.6671, 3.6668, 3.6661, 3.6661, 3.6661, 3.666, 3.6656, 3.6656, 3.6654, 3.6649, 3.664, 3.6628, 3.662, 3.661, 3.661, 3.6588, 3.6587, 3.6502, 3.6459, 0.0791, 0.0791, 0.0791, 0.0791, 0.0791, -6.8208, -7.6067, -7.3217, -5.9542, -7.7144, 3.6746, 3.674, 3.6739, 3.6738, 3.6736, 3.6731, 3.6731, 3.6722, 3.6718, 3.6718, 3.6718, 3.6704, 3.6701, 3.6695, 3.6689, 3.665, 3.6638, 3.6627, 3.6617, 3.6613, 3.6584, 3.6553, -0.0655, -0.0655, -0.0655, -0.0655, -0.0655, -0.0655, -0.0655, -0.0655, -6.9653, -7.7512, -7.4662, -6.0987, -7.8589, -8.3244, -5.8882, -7.6781, 3.6868, 3.6862, 3.6861, 3.6856, 3.6856, 3.6852, 3.6851, 3.6849, 3.6849, 3.6844, 3.6841, 3.6839, 3.681, 3.6787, 3.6779, 3.6775, 3.673, 3.6722, 3.6706, 3.6579, 3.6568, 3.6552, 3.6513, 0.0631, 0.0631, 0.0631, 0.0631, 0.0631, 0.0631, 0.0631, -6.8367, -7.6226, -7.3376, -5.9701, -7.7303, -8.1958, -5.7596, 3.6922, 3.6922, 3.692, 3.6913, 3.6912, 3.6911, 3.691, 3.6909, 3.6899, 3.6898, 3.6893, 3.6892, 3.6891, 3.6888, 3.6875, 3.6867, 3.6858, 3.6848, 3.6828, 3.6828, 3.681, 3.6784, 3.6752, 3.6696, 3.6632, 3.663, 3.6567, 3.6545, 3.6512, 0.0966, -6.8033, 3.723, 3.7224, 3.7224, 3.7224, 3.7221, 3.7221, 3.7212, 3.7211, 3.7211, 3.7211, 3.7203, 3.72, 3.7194, 3.7189, 3.7189, 3.7184, 3.7176, 3.7175, 3.7161, 3.7158, 3.7157, 3.7146, 3.7146, 3.7137, 3.7137, 3.7135, 3.7118, 3.7106, 3.7094, 3.7076, 3.791, 3.7909, 3.7908, 3.7903, 3.7902, 3.79, 3.7899, 3.7898, 3.7895, 3.7893, 3.7891, 3.7884, 3.7882, 3.787, 3.787, 3.7869, 3.7862, 3.7862, 3.7858, 3.7836, 3.7813, 3.7772, 3.7767, 3.7765, 3.7752, 3.7751, 3.7708, 3.77, 3.7576, 3.6514, 3.7925, 3.7923, 3.7921, 3.7916, 3.7915, 3.7913, 3.7909, 3.7904, 3.7904, 3.7902, 3.7902, 3.7889, 3.7883, 3.7883, 3.787, 3.7867, 3.7862, 3.7852, 3.785, 3.7838, 3.7823, 3.7812, 3.775, 3.7693, 3.7636, 3.6881, 3.6074, 3.4562, 0.2409, 0.2409, -6.659, -7.4448, 3.8231, 3.8229, 3.8226, 3.8225, 3.8222, 3.8213, 3.8212, 3.8205, 3.82, 3.8193, 3.8178, 3.8175, 3.8172, 3.8133, 3.8055, 3.8013, 0.2449, 0.2449, 0.2449, 0.2449, 0.2449, 0.2449, 0.2449, 0.2449, 0.2449, 0.2449, 0.2449, 0.2449, 0.2449, 0.2449, -6.655, -7.1559, -5.7883, -7.5486, -8.0141, -5.5779, -7.3678, -4.3449, -4.8062, -6.6726, -9.0722, -5.6789, -6.0541, 3.8561, 3.8558, 3.8557, 3.8555, 3.8555, 3.8553, 3.8552, 3.8542, 3.854, 3.8539, 3.8536, 3.8535, 3.8527, 3.8514, 3.8513, 3.8511, 3.8508, 3.8506, 3.8505, 3.8492, 3.8489, 3.8472, 3.8471, 3.8465, 3.8435, 3.8425, 3.8424, 3.8402, 3.8401, 3.8383, 3.8734, 3.8733, 3.8729, 3.8728, 3.8725, 3.8715, 3.8713, 3.8701, 3.8687, 3.8682, 3.867, 3.8661, 3.8634, 3.859, 3.859, 3.8577, 3.8559, 3.8493, 0.2503, 0.2503, 0.2503, 0.2503, 0.2503, 0.2503, 0.2503, 0.2503, 0.2503, 0.2503, 0.2503, 0.2503, -6.6496, -7.4355, -7.1505, -5.7829, -7.5432, -8.0087, -5.5725, -7.3624, -4.3395, -4.8008, -6.6671, 3.8756, 3.8755, 3.8752, 3.8752, 3.8751, 3.8738, 3.8734, 3.8732, 3.873, 3.8725, 3.8725, 3.8722, 3.8719, 3.8718, 3.8718, 3.8708, 3.8699, 3.8697, 3.8684, 3.8678, 3.864, 3.8551, 3.8549, 3.8492, 3.8477, 3.8469, 3.8439, 3.8298, 3.8289, 3.8184, 3.878, 3.8776, 3.8768, 3.8766, 3.8766, 3.8763, 3.8755, 3.8753, 3.8752, 3.8748, 3.8747, 3.8747, 3.8747, 3.874, 3.8731, 3.8724, 3.8699, 3.869, 3.8657, 0.2798, 0.2798, 0.2798, 0.2798, 0.2798, 0.2798, 0.2798, 0.2798, 0.2798, 0.2798, 0.2798, -6.6201, -7.406, -7.121, -5.7535, -7.5137, -7.9792, -7.3329, -4.3101, -4.7713, -6.6377, 3.9101, 3.9098, 3.9092, 3.9091, 3.9089, 3.9085, 3.9082, 3.9077, 3.9075, 3.9071, 3.9065, 3.9062, 3.906, 3.9056, 3.9055, 3.9045, 3.904, 3.9033, 3.9025, 3.9002, 3.899, 3.8956, 3.8943, 3.8938, 3.8931, 3.8923, 3.888, 3.8302, 0.3322, 0.3322, -6.5677, -7.3536, 3.9324, 3.9314, 3.9314, 3.9313, 3.9313, 3.9309, 3.9303, 3.9302, 3.9301, 3.93, 3.9296, 3.9296, 3.9293, 3.9277, 3.9269, 3.9265, 3.9263, 3.9255, 3.9247, 3.9228, 3.9208, 3.9206, 3.9156, 3.9152, 3.9103, 3.9076, 3.9055, 3.9055, 3.8925, 0.3862, -6.5137, 3.9543, 3.9538, 3.9537, 3.9529, 3.9527, 3.9527, 3.9523, 3.9521, 3.952, 3.951, 3.951, 3.95, 3.9495, 3.9475, 3.9474, 3.9451, 3.9428, 3.9423, 3.9423, 3.9411, 3.9397, 3.9384, 3.9381, 3.9318, 3.9307, 3.9304, 3.9264, 3.9216, 3.908, 3.8648, 3.9704, 3.9704, 3.9699, 3.9692, 3.9684, 3.9678, 3.9675, 3.9661, 3.9654, 0.3118, 0.3118, 0.3118, 0.3118, 0.3118, 0.3118, 0.3118, 0.3118, 0.3118, 0.3118, 0.3118, 0.3118, 0.3118, 0.3118, 0.3118, 0.3118, 0.3118, 0.3118, 0.3118, 0.3118, 0.3118, -6.5881, -7.3739, -7.0889, -5.7214, -7.4816, -7.9471, -5.5109, -7.3008, -4.278, -4.7392, -6.6056, -9.0053, -5.612, -5.9871, -5.9852, -3.8953, -8.4182, -6.6164, 3.9723, 3.9712, 3.9708, 3.9707, 3.9706, 3.9693, 3.9676, 3.9668, 3.9667, 3.9662, 3.9638, 3.9624, 3.9574, 3.9573, 3.9567, 3.9508, 3.9487, 3.9479, 3.9388, 3.7412, 3.6353, 0.412, 0.412, 0.412, 0.412, 0.412, 0.412, 0.412, 0.412, 0.412, -6.4879, -7.2738, -6.9888, -5.6212, -7.3815, -5.4108, -7.2007, -4.1778, 3.9923, 3.992, 3.9916, 3.9916, 3.9903, 3.9886, 3.9881, 3.9865, 3.9859, 3.9837, 3.982, 3.9808, 3.9784, 3.9762, 3.9731, 3.9261, 3.9082, 3.8643, 0.3787, 0.3787, 0.3787, 0.3787, 0.3787, 0.3787, 0.3787, 0.3787, 0.3787, 0.3787, 0.3787, 0.3787, -6.5212, -7.3071, -7.0221, -5.6545, -7.4148, -7.8803, -5.4441, -7.234, -4.2111, -4.6724, -6.5387, 4.0037, 4.0034, 4.0025, 4.0021, 4.0019, 4.0019, 4.0017, 4.0009, 3.9979, 3.9966, 3.996, 3.9956, 3.9949, 3.9928, 3.9906, 3.9884, 3.9805, 0.1093, 0.1093, 0.1093, 0.1093, 0.1093, 0.1093, 0.1093, 0.1093, 0.1093, 0.1093, 0.1093, 0.1093, 0.1093, -6.7905, -7.5764, -7.2914, -5.9239, -7.6841, -8.1496, -5.7134, -7.5033, -4.4805, -4.9417, -6.8081, -9.2078, 4.0243, 4.0232, 4.0224, 4.0202, 4.0201, 4.0109, 4.0014, 0.5331, 0.5331, 0.5331, 0.5331, 0.5331, 0.5331, 0.5331, 0.5331, 0.5331, 0.5331, 0.5331, 0.5331, 0.5331, 0.5331, 0.5331, 0.5331, 0.5331, 0.5331, 0.5331, 0.5331, 0.5331, 0.5331, 0.5331, -6.3668, -7.1526, -6.8676, -5.5001, -7.2603, -7.7258, -5.2897, -7.0796, -4.0567, -4.5179, -6.3843, -8.784, -5.3907, -5.7658, -5.7639, -3.674, -8.1969, -6.3951, -3.3666, 4.0394, 4.0389, 4.0388, 4.0388, 4.0379, 4.0374, 4.0371, 4.0366, 4.0362, 4.0357, 4.0348, 4.0346, 4.0343, 4.0337, 4.0333, 4.0321, 4.0313, 4.0313, 4.0309, 4.029, 4.0221, 4.0193, 4.013, 3.9969, 3.8, 0.4164, 0.4164, 0.4164, 0.4164, 0.4164, -6.4835, -7.2694, -6.9844, -5.6169, -7.3771, 4.0966, 4.0962, 4.0962, 4.0961, 4.0953, 4.094, 4.0939, 4.0939, 4.0929, 4.092, 4.0868, 4.0856, 4.0656, 3.7917, 0.5216, 0.5216, 0.5216, 0.5216, 0.5216, 0.5216, 0.5216, 0.5216, 0.5216, 0.5216, 0.5216, 0.5216, 0.5216, 0.5216, 0.5216, 0.5216, -6.3782, -7.1641, -5.5116, -7.2718, -7.7373, -5.3011, -7.091, -4.0682, -4.5294, -6.3958, -8.7955, -5.4022, -5.7773, -5.7753, 4.1659, 4.1658, 4.1656, 4.1655, 4.1649, 4.1646, 4.1641, 4.1641, 4.1635, 4.1634, 4.1622, 4.1619, 4.1618, 4.1613, 4.1612, 4.1591, 4.1583, 4.1583, 4.1562, 4.1524, 4.1507, 4.1503, 4.1463, 4.146, 4.1455, 4.1397, 4.0809, 0.5543, 0.5543, 0.5543, -6.3455, -7.1314, -6.8464, 4.1674, 4.167, 4.166, 4.1655, 4.1649, 4.1646, 4.1645, 4.1642, 4.1641, 4.1631, 4.1629, 4.1615, 4.1581, 4.158, 4.1565, 4.155, 4.1532, 4.1527, 4.148, 4.147, 4.1442, 4.0987, 4.0413, 0.3915, 0.3915, 0.3915, 0.3915, 0.3915, 0.3915, 0.3915, -6.5084, -7.2943, -7.0093, -5.6418, -7.402, -7.8675, -5.4313, 4.3358, 4.3356, 4.3354, 4.3333, 4.3301, 4.327, 4.3265, 4.3263, 4.3256, 4.3233, 4.2494, 0.7144, 0.7144, 0.7144, 0.7144, 0.7144, 0.7144, 0.7144, 0.7144, 0.7144, 0.7144, 0.7144, 0.7144, 0.7144, 0.7144, 0.7144, 0.7144, 0.7144, 0.7144, 0.7144, -6.1855, -6.9713, -6.6863, -5.3188, -7.079, -7.5445, -5.1084, -6.8982, -3.8754, -4.3366, -6.203, -8.6027, -5.2094, -5.5845, -5.5826, -3.4927, 4.3523, 4.3519, 4.3515, 4.3511, 4.3507, 4.3502, 4.3502, 4.3497, 4.3491, 4.3476, 4.3474, 4.3444, 4.3443, 4.3442, 4.3425, 4.3412, 4.338, 4.3373, 4.3308, 0.8168, 0.8168, 0.8168, 0.8168, 0.8168, 0.8168, 0.8168, 0.8168, 0.8168, 0.8168, 0.8168, -6.0831, -6.869, -6.584, -5.2164, -6.9767, -7.4422, -5.006, -6.7959, -3.773, -4.2343, 4.3827, 4.3822, 4.3819, 4.3817, 4.3809, 4.3773, 4.377, 4.3768, 4.3768, 4.3754, 4.3732, 4.3717, 4.3709, 4.3687, 4.3569, 4.3506, 4.3493, 0.7709, 0.7709, 0.7709, 0.7709, 0.7709, 0.7709, 0.7709, 0.7709, 0.7709, 0.7709, 0.7709, 0.7709, 0.7709, -6.1289, -6.9148, -6.6298, -5.2623, -7.0225, -7.488, -5.0518, -6.8417, -3.8189, -4.2801, -6.1465, -8.5462, 4.4436, 4.4434, 4.4432, 4.4422, 4.4419, 4.4416, 4.4413, 4.4411, 4.441, 4.4406, 4.4406, 4.44, 4.4362, 4.4275, 4.4249, 4.4182, 4.4115, 4.3812, 0.8535, 0.8535, 0.8535, 0.8535, 0.8535, 0.8535, 0.8535, 0.8535, 0.8535, 0.8535, 0.8535, 0.8535, -6.0464, -6.8322, -6.5472, -5.1797, -6.9399, -7.4054, -4.9693, -6.7591, -3.7363, -4.1975, -6.0639, 4.4744, 4.4744, 4.4743, 4.4732, 4.473, 4.4724, 4.4707, 4.4701, 4.4668, 4.4652, 4.4614, 4.4611, 4.459, 4.4551, 4.4495, 4.4475, 4.4427, 0.8703, 0.8703, 0.8703, 0.8703, 0.8703, 0.8703, 0.8703, 0.8703, 0.8703, 0.8703, 0.8703, 0.8703, 0.8703, -6.0296, -6.8155, -6.5305, -5.1629, -6.9232, -7.3887, -4.9525, -6.7424, -3.7195, -4.1808, -6.0472, -8.4468, 4.6333, 4.6333, 4.6323, 4.6323, 4.6319, 4.63, 4.6289, 0.6697, 0.6697, 0.6697, 0.6697, 0.6697, 0.6697, 0.6697, 0.6697, 0.6697, 0.6697, 0.6697, 0.6697, 0.6697, 0.6697, 0.6697, 0.6697, 0.6697, 0.6697, 0.6697, 0.6697, 0.6697, 0.6697, 0.6697, -7.0161, -6.7311, -5.3636, -7.1238, -7.5893, -5.1531, -6.943, -3.9201, -4.3814, -6.2478, -8.6474, -5.2541, -5.6293, -5.6273, -3.5375, -8.0604, -6.2586, -3.23, -5.7485, 2.83, 2.83, 2.83, 2.83, 2.83, 2.83, 2.83, 2.83, 2.83, 2.83, 2.83, 2.83, 2.83, 2.83, 2.83, 2.83, 2.83, 2.83, 2.83, 2.83, 2.83, 2.83, 2.83, 2.83, 2.83, 2.83, 2.83, 2.83, 2.83, 2.83, -4.0698, -4.8557, -4.5707, -3.2032, -4.9634, -5.4289, -2.9927, -4.7826, -1.7598, -2.221, -4.0874, -6.4871, -3.0938, -3.4689, -3.4669, -1.3771, -5.9, -4.0982, -1.0696, -3.5882, -4.3225, -1.9613, -4.1753, -4.417, -1.9888, -4.0886, 2.83, 2.83, 2.83, 2.83, 2.83, 2.83, 2.83, 2.83, 2.83, 2.83, 2.83, 2.83, 2.83, 2.83, 2.83, 2.83, 2.83, 2.83, 2.83, 2.83, 2.83, 2.83, 2.83, 2.83, 2.83, 2.83, 2.83, 2.83, 2.83, 2.83, -4.0698, -4.8557, -4.5707, -3.2032, -4.9634, -5.4289, -2.9927, -4.7826, -1.7598, -2.221, -4.0874, -6.4871, -3.0938, -3.4689, -3.4669, -1.3771, -5.9, -4.0982, -1.0696, -3.5882, -4.3225, -1.9613, -4.1753, -4.417, -1.9888, -4.0886, 2.83, 2.83, 2.83, 2.83, 2.83, 2.83, 2.83, 2.83, 2.83, 2.83, 2.83, 2.83, 2.83, 2.83, 2.83, 2.83, 2.83, 2.83, 2.83, 2.83, 2.83, 2.83, 2.83, 2.83, 2.83, 2.83, 2.83, 2.83, 2.83, 2.83, -4.0698, -4.8557, -4.5707, -3.2032, -4.9634, -5.4289, -2.9927, -4.7826, -1.7598, -2.221, -4.0874, -6.4871, -3.0938, -3.4689, -3.4669, -1.3771, -5.9, -4.0982, -1.0696, -3.5882, -4.3225, -1.9613, -4.1753, -4.417, -1.9888, -4.0886]}, \"token.table\": {\"Topic\": [25, 10, 19, 16, 5, 28, 16, 11, 4, 34, 5, 11, 3, 8, 14, 5, 18, 14, 16, 14, 1, 4, 30, 19, 8, 5, 33, 2, 11, 22, 33, 7, 27, 28, 17, 4, 22, 5, 20, 30, 7, 30, 16, 11, 33, 8, 24, 12, 11, 5, 29, 22, 30, 28, 33, 18, 20, 16, 14, 12, 20, 12, 14, 29, 12, 22, 17, 18, 17, 11, 28, 30, 36, 11, 35, 11, 5, 27, 13, 2, 22, 16, 10, 6, 2, 20, 20, 13, 13, 3, 4, 19, 26, 24, 8, 36, 8, 7, 1, 34, 11, 6, 12, 8, 33, 37, 24, 33, 24, 28, 11, 18, 16, 7, 9, 29, 2, 24, 14, 32, 7, 27, 30, 18, 23, 9, 13, 3, 31, 4, 1, 5, 7, 18, 33, 8, 11, 28, 18, 5, 23, 21, 25, 16, 24, 31, 15, 10, 8, 4, 20, 7, 28, 10, 2, 10, 30, 21, 6, 4, 26, 13, 26, 7, 20, 22, 19, 12, 3, 8, 28, 15, 12, 7, 19, 13, 14, 33, 18, 6, 8, 6, 22, 28, 25, 16, 34, 10, 32, 22, 21, 19, 18, 19, 36, 22, 8, 9, 33, 25, 4, 4, 9, 8, 17, 13, 14, 13, 9, 11, 30, 33, 4, 12, 25, 10, 12, 18, 36, 31, 5, 6, 20, 17, 21, 32, 26, 1, 13, 10, 12, 22, 19, 35, 15, 9, 36, 10, 18, 21, 32, 22, 26, 2, 20, 28, 16, 34, 37, 11, 5, 4, 8, 28, 5, 24, 14, 15, 4, 8, 1, 3, 12, 1, 9, 8, 21, 31, 13, 19, 31, 31, 30, 13, 18, 3, 35, 35, 10, 7, 27, 7, 1, 28, 16, 18, 7, 22, 22, 4, 12, 1, 7, 25, 13, 25, 11, 1, 23, 14, 3, 22, 4, 3, 13, 36, 27, 23, 5, 26, 20, 30, 33, 30, 20, 22, 20, 6, 9, 17, 4, 11, 10, 21, 36, 32, 7, 14, 8, 22, 26, 16, 27, 22, 35, 22, 36, 28, 35, 20, 5, 15, 35, 16, 29, 21, 17, 33, 7, 29, 4, 11, 15, 19, 28, 35, 19, 10, 25, 10, 10, 30, 31, 13, 12, 16, 13, 18, 17, 18, 9, 15, 11, 2, 9, 16, 25, 21, 9, 3, 12, 3, 35, 16, 1, 23, 21, 1, 1, 31, 13, 17, 1, 30, 28, 1, 11, 16, 30, 32, 13, 1, 21, 15, 31, 10, 1, 34, 2, 16, 18, 16, 21, 12, 22, 12, 20, 24, 4, 25, 28, 6, 21, 18, 5, 25, 16, 15, 26, 21, 9, 6, 14, 13, 34, 14, 29, 12, 1, 2, 7, 13, 8, 28, 5, 5, 21, 15, 5, 1, 31, 4, 36, 13, 21, 10, 2, 31, 17, 36, 26, 13, 36, 5, 18, 1, 18, 16, 28, 25, 30, 14, 26, 28, 12, 18, 19, 4, 29, 14, 28, 20, 24, 31, 8, 9, 33, 1, 37, 28, 9, 32, 37, 19, 6, 25, 35, 17, 14, 35, 23, 7, 11, 14, 7, 37, 12, 18, 6, 7, 21, 34, 3, 18, 10, 5, 6, 14, 3, 13, 3, 8, 19, 11, 8, 26, 32, 24, 2, 13, 16, 37, 16, 36, 23, 15, 11, 6, 20, 16, 24, 36, 8, 17, 18, 31, 13, 12, 34, 29, 24, 1, 21, 30, 3, 35, 11, 26, 30, 22, 15, 31, 16, 34, 16, 13, 31, 16, 20, 29, 5, 34, 34, 11, 6, 14, 7, 28, 6, 9, 3, 21, 14, 12, 18, 5, 19, 1, 33, 14, 14, 25, 5, 5, 17, 3, 12, 33, 23, 5, 24, 31, 14, 12, 22, 3, 24, 3, 16, 30, 26, 6, 25, 35, 15, 31, 18, 9, 21, 10, 14, 21, 10, 31, 18, 36, 34, 21, 37, 28, 15, 33, 16, 22, 23, 18, 24, 7, 11, 10, 11, 29, 7, 6, 30, 18, 4, 20, 25, 9, 20, 13, 12, 17, 34, 15, 21, 21, 32, 30, 20, 36, 31, 12, 34, 22, 22, 31, 33, 13, 30, 9, 4, 20, 9, 7, 30, 24, 17, 34, 20, 6, 9, 22, 16, 22, 17, 26, 20, 21, 34, 11, 30, 1, 22, 24, 22, 22, 24, 13, 5, 31, 19, 3, 3, 1, 1, 24, 13, 15, 8, 35, 24, 1, 17, 29, 12, 18, 11, 18, 35, 29, 12, 30, 21, 3, 14, 21, 25, 20, 29, 33, 36, 16, 17, 19, 22, 32, 25, 11, 34, 4, 21, 35, 20, 35, 7, 29, 1, 32, 10, 36, 14, 35, 11, 12, 33, 20, 14, 31, 19, 9, 5, 20, 9, 7, 10, 1, 26, 5, 10, 12, 13, 1, 24, 21, 14, 31, 12, 20, 30, 8, 26, 30, 7, 27, 28, 8, 26, 30, 28, 1, 8, 19], \"Freq\": [0.9939275835638767, 0.9984777739700524, 0.9980423577431765, 0.9795489204802541, 0.9833283606366082, 0.9921477412119979, 0.9906788520322031, 0.9922500102472229, 0.9990156121180652, 0.9986009941537451, 0.9930934514349797, 0.9929781875063326, 0.9942290413459336, 0.9902948793009708, 0.9967501266817252, 0.9925422488242888, 0.9678239795670603, 0.9986627281197717, 0.9987549617126678, 0.9980432553700542, 0.9996553929936867, 0.9992296743023512, 0.9978986142439896, 0.999328575601406, 0.9822782257935091, 0.9912502687311033, 0.9882481328871063, 0.9913238127286932, 0.9904564253718837, 0.9969717920114216, 0.9860193969749979, 0.9783983070465759, 0.9949384238150158, 0.9979136810628659, 0.998440908111604, 0.9909111706167258, 0.9920653806983345, 0.9951391160595194, 0.9975704070764505, 0.9724352571964656, 0.9767006695543053, 0.9955820176315939, 0.9933205201862741, 0.9869160007455572, 0.9986758267931232, 0.997711571175596, 0.9846904488541488, 0.9966103707435601, 0.9671849508823096, 0.999413567050194, 0.9989008009310788, 0.9993165149573013, 0.9812691944909516, 0.9966395383954496, 0.9938362855013406, 0.9534801218941031, 0.9943297334714238, 0.9990671200436457, 0.993041840354549, 0.9982972534464473, 0.9940282280141939, 0.9986752359051353, 0.9842278924563963, 0.9959232585836488, 0.9931290911985905, 0.9974441537920156, 0.9977460968626451, 0.9723500980318459, 0.9994213785276359, 0.9755300231333386, 0.999175322249036, 0.9988493847055887, 0.977739811326358, 0.9645008625507296, 0.9762135854942988, 0.9838377720910206, 0.99727704897922, 0.9942099271772407, 0.9871777551577768, 0.9995128495288338, 0.9805856183861306, 0.9852277059356329, 0.996550176788899, 0.9988328124897583, 0.9999122356026348, 0.9986666911687188, 0.9781667318923076, 0.9989384233041755, 0.9121465110623408, 0.99726650929451, 0.9878519966563878, 0.9906099519608305, 0.985130106998301, 0.9925897497497563, 0.9898242124897992, 0.9815130303212516, 0.9967473056201563, 0.98835186605568, 0.9997926483892101, 0.9587296824647287, 0.998436262370551, 0.9983501395115467, 0.9956246440659557, 0.9982525702581728, 0.9979075043374585, 0.9990043987798451, 0.9968872389345832, 0.978678259340886, 0.7985533637221337, 0.995388200928757, 0.9950245060938284, 0.9990251825061377, 0.9987951155979069, 0.994418796362786, 0.9985344321268746, 0.9968761154154181, 0.997331499633293, 0.990657101100216, 0.9949796601675543, 0.987947821135958, 0.9855834634100701, 0.9986857126426443, 0.9970003797354855, 0.9877458801338583, 0.9943271149683551, 0.9937249768553742, 0.981030156433551, 0.9993804040932249, 0.9759414640870518, 0.9996096427994661, 0.9991748537446832, 0.9971241332615903, 0.994749350410387, 0.9723956116642658, 0.996969295612603, 0.9971577157274185, 0.9966147876263332, 0.9920012813189077, 0.9964614313456963, 0.996800756046308, 0.9975264892024587, 0.9935296754826307, 0.9923031721735004, 0.9929653359270447, 0.9851380770822131, 0.9915564296105867, 0.9938360557155568, 0.9984832926176785, 0.9969384628449108, 0.9895950910241165, 0.9982637010403697, 0.9827850219964425, 0.9902260827049525, 0.9977054178364428, 0.9985702237110954, 0.9939920026035164, 0.9916809108411903, 0.9928023795956538, 0.9914681599821199, 0.9679903977058667, 0.979383852688856, 0.9979902378698444, 0.9984826380033801, 0.9747567068620727, 0.9980023072342782, 0.9946741990012342, 0.9952564594940639, 0.9818726399516431, 0.9965068741206285, 0.9926228237403161, 0.9987868209899177, 0.9995431464055025, 0.9906257565469009, 0.9978055308247902, 0.9952547070059719, 0.9976329171759957, 0.9772909704177118, 0.9948147273418181, 0.9990232485677436, 0.9948612633946026, 0.995153428977691, 0.9602967884459959, 0.995640851855819, 0.9989651451784206, 0.9923377151634689, 0.9885305082128536, 0.9976514361143429, 0.9971349305554157, 0.9990085670203854, 0.9942479176735584, 0.9716750262970144, 0.9939690616876948, 0.9979922432334425, 0.996276450120404, 0.964888570138846, 0.9004080556805202, 0.997767506252857, 0.9978910348374894, 0.9931046172565355, 0.9889283844006355, 0.983956371943001, 0.989639743304191, 0.9864724144484351, 0.9962609055794589, 0.9901857201573998, 0.9970806666631895, 0.9973306733341348, 0.9962562833456404, 0.996954902807436, 0.9971013943201797, 0.9961162635775423, 0.9955639562959195, 0.9967767077021008, 0.9989737111076629, 0.9996776558520287, 0.9907575988290458, 0.9976424927018872, 0.9937544067368071, 0.9689150726299018, 0.9955043192177482, 0.9899987324280712, 0.9674377964823899, 0.998918485646006, 0.9800952875500413, 0.9985083516191808, 0.999052047308591, 0.998332776206644, 0.9994366428420889, 0.961432185336482, 0.9982930143287886, 0.9928932763176586, 0.9844688988969017, 0.9986596988160047, 0.9951761641462481, 0.9813540549090933, 0.9991290282132919, 0.9970932658144658, 0.9987329969441503, 0.9977663269154043, 0.9963265128152645, 0.9967547679064379, 0.9712953998534011, 0.9978289546202386, 0.9970440691929925, 0.9817770241728134, 0.9945380645581838, 0.9903236719414675, 0.9888758583375363, 0.9969671822629543, 0.9977469278253215, 0.9706818281780754, 0.9989633411260384, 0.9985025590421079, 0.9757728948880188, 0.9892202644764686, 0.9758015938619332, 0.9979218898672231, 0.9993200839949774, 0.9842049757718104, 0.9977793864423343, 0.9994941941875546, 0.9990530054092929, 0.9978351467210739, 0.9996832878961094, 0.9997272502922524, 0.9876211907569288, 0.996320149667817, 0.9823018321573908, 0.9936690247646989, 0.9962280777044481, 0.9945738268138453, 0.9988425640432161, 0.9917560640422316, 0.9899716036862259, 0.9932574806549311, 0.998240784576629, 0.9975903893376658, 0.964227037727486, 0.9753956975028668, 0.9994734829992481, 0.971344325685708, 0.9621081209591826, 0.9998077827310856, 0.998633620753343, 0.9946922116946878, 0.9929067770063486, 0.9995546910416303, 0.9976404296376039, 0.9777055962920613, 0.999725633641159, 0.9909262941320827, 0.9998184590126514, 0.9038866557998897, 0.9840092413678101, 0.9812135256456568, 0.9022931344666021, 0.9639076628937565, 0.9998718588285648, 0.9965785648719204, 0.9927217108452125, 0.9966065226322945, 0.9586982597059441, 0.9979992721818348, 0.9970802553664463, 0.9969947022608807, 0.9987042651654799, 0.9975801328781978, 0.9989775078690739, 0.993525160807603, 0.9955672785912277, 0.9768074283179209, 0.9944671672343106, 0.9899816205576026, 0.990281118665341, 0.9879698650230851, 0.997764290959308, 0.9935735795696261, 0.998956912970957, 0.9964224912378818, 0.9819518369182031, 0.9974544362028918, 0.9992185081131547, 0.9796113915157765, 0.9982782537676016, 0.9904779320136066, 0.9933391973343454, 0.9952989424049064, 0.9978285231552343, 0.9990802477762329, 0.9965255548091455, 0.9899869485104134, 0.9965160967116229, 0.9893766217924622, 0.9932783643031305, 0.99876545765403, 0.9895942347571995, 0.9809024866732126, 0.9893897656128702, 0.9881475414624958, 0.9163862164936322, 0.9935146934958734, 0.9982391579304338, 0.997465498543439, 0.9739810805720008, 0.9990635890016591, 0.9688233246984606, 0.9987605562758778, 0.9987060243305406, 0.9855314774864518, 0.9993402040992144, 0.9946491358997244, 0.9984499933425509, 0.9969785654312462, 0.9876736031993478, 0.9945946342691067, 0.9903489705277709, 0.9856931107125622, 0.9547313484744837, 0.9993202576857596, 0.9993226160359906, 0.9909947925999911, 0.9779893983997523, 0.9285730310220885, 0.9945702940792337, 0.9975217268764397, 0.9957472128256484, 0.9974106362588295, 0.9990450171948997, 0.9822335371085547, 0.9967317022214778, 0.9931689393190898, 0.998207410670718, 0.9873337671990162, 0.9960028849458236, 0.9865004357322538, 0.9986240797313445, 0.9805233761790995, 0.9993933982790221, 0.9939758676372883, 0.9989784542488224, 0.9864123017921752, 0.986163041585091, 0.9975579525117543, 0.9949700666600029, 0.999668364492564, 0.9967388027890367, 0.9888918403753075, 0.9996559539395998, 0.9997660348072408, 0.9962367669121838, 0.9984256437573644, 0.9848761204856034, 0.999338624459031, 0.9933934393225329, 0.7427972310135078, 0.9998797758020426, 0.9746291027827693, 0.9981583130909522, 0.9793804424882563, 0.9892096048896997, 0.9852010116948485, 0.999438679726607, 0.9962330379929213, 0.9794695793662553, 0.9950640618022499, 0.9864981803836107, 0.999847715130674, 0.9672947257461988, 0.9974794386563943, 0.9921403425067791, 0.9992044528215083, 0.9897819596058165, 0.9664092086183008, 0.9858670615014797, 0.9983478529919029, 0.9943064292102147, 0.9735279807757404, 0.9984078955962958, 0.9981185902743935, 0.9858417682960554, 0.9808800187298455, 0.9662939189388262, 0.9963819744873134, 0.9918913980360825, 0.9897761411210075, 0.9981233800773138, 0.9841091670109829, 0.9971530254223291, 0.9896958538840821, 0.9927874864492685, 0.9825423230276797, 0.9967793621823683, 0.7979832576640977, 0.9989673265258868, 0.9913182353969622, 0.9925037938669818, 0.9904521672170161, 0.998017978156733, 0.9995964642874413, 0.9690931195024701, 0.9978968989199818, 0.9844694055555424, 0.9966302977843464, 0.9710745141365681, 0.9953036092298718, 0.9997355216004694, 0.9864899549775877, 0.999126261620595, 0.9993680926966774, 0.9995450084980532, 0.9963829248324554, 0.9933393220148746, 0.9967429895283305, 0.994007624215747, 0.9920997364154241, 0.9979750166039942, 0.9978090938385391, 0.9742393752647163, 0.9979886864615604, 0.9959046932933515, 0.9688473317956438, 0.9990488371979928, 0.9988642787502743, 0.9981783207202979, 0.999004501474958, 0.9996603924809495, 0.9378636607233886, 0.9980029587466724, 0.9960851946576925, 0.9415467398746805, 0.998319535839129, 0.9962303664962938, 0.9980794934593172, 0.9687407776461076, 0.9958869283711496, 0.9773820303953694, 0.995836437147433, 0.9956788209932715, 0.9991573873698886, 0.990322673770641, 0.987730793686596, 0.9844962493487571, 0.8642933755867981, 0.9071136324787001, 0.9980717795056774, 0.9952519195021453, 0.9992679405067357, 0.9993943647276786, 0.9974998716983406, 0.9944362556799697, 0.977968382755601, 0.9890455266511917, 0.9991555581071312, 0.9968010172965986, 0.9994116722600529, 0.9987434200199204, 0.9860315814940426, 0.9992468306040101, 0.9902348175386249, 0.9953505173852237, 0.9981716607210886, 0.9995768184755027, 0.9904394190121468, 0.998073502320071, 0.9973934857943823, 0.9978705688133261, 0.9986588996622576, 0.9946797346736871, 0.9934625639106888, 0.9929642718861365, 0.9914514826128502, 0.9900010262066928, 0.9544210509957652, 0.9439701704688083, 0.9896377727867208, 0.9981419249399308, 0.98919917809311, 0.9956704305996197, 0.9993781190469564, 0.9892544747825796, 0.9997773231788484, 0.9708383916130343, 0.997501582604197, 0.997343926543608, 0.9992702491338384, 0.9910000292760812, 0.9915726383141567, 0.9997348143390434, 0.9141935079493154, 0.976844060942364, 0.9955952596333949, 0.9958258814000093, 0.9980064744813257, 0.9936734840586239, 0.999487463246777, 0.9947415680798345, 0.9993765077984671, 0.9997738974312962, 0.9947983180791634, 0.9973273879753334, 0.9987672605805247, 0.998626362391599, 0.9921678989241082, 0.986010742273949, 0.9963893819643442, 0.9974254830416621, 0.9950772303391879, 0.9995193202766574, 0.9914666943728908, 0.9980920162890878, 0.9956348459838056, 0.9998142264713635, 0.9981255337163499, 0.9649611922955766, 0.995982283974978, 0.996195678913483, 0.982582771938313, 0.9991580480873895, 0.9961757025156547, 0.9857357005557857, 0.9930562217396431, 0.9776533950352757, 0.9840984502399941, 0.9928817248127619, 0.9860510592030606, 0.9982827181714082, 0.9851762092353783, 0.9956106877518113, 0.9941799435645419, 0.9961055426146905, 0.9991682076902308, 0.9993450978969615, 0.9952398144086249, 0.9798540675228365, 0.999170404533746, 0.827361059344516, 0.9723738071660036, 0.9924463981004924, 0.995637726868184, 0.9989333043245526, 0.989740291095635, 0.9845959128539855, 0.9991046766353309, 0.9990329773887023, 0.99366772009305, 0.9775340825685176, 0.9964573852234557, 0.9994991471416101, 0.9879412319886806, 0.9927418150821132, 0.9991777650104812, 0.9972350262497561, 0.9988333499816654, 0.9945326046108666, 0.9994184214478351, 0.9991317625282107, 0.9922396423818064, 0.997180376219274, 0.9968093624925054, 0.9986459848569109, 0.9952455385761433, 0.9900330146255752, 0.9993838678065394, 0.9942796285073718, 0.999210906224103, 0.9939583205072654, 0.9736806612929949, 0.9712369268600562, 0.9955526859770222, 0.9886484565241205, 0.9971947220499248, 0.9970820935532564, 0.9931853856308285, 0.998886184594277, 0.992047879345886, 0.9830894246107866, 0.960682400212984, 0.9989208088338684, 0.9787749560695744, 0.9879141320920498, 0.9035459869823272, 0.9985868822643903, 0.9996674697546328, 0.9954663886718979, 0.9948057394409469, 0.9891607636918165, 0.9882205969148603, 0.9970775213852877, 0.9939900711763889, 0.9962217142128673, 0.9919181572832515, 0.9968030642898849, 0.9951578506722475, 0.9779471255355582, 0.9994482391948416, 0.9958527243856896, 0.9873989201322741, 0.968305238034526, 0.996590552715843, 0.9604585496566211, 0.9979058233588906, 0.9956461933499912, 0.9742166156709978, 0.9987816785642575, 0.997383039381324, 0.9970320044811166, 0.9937178224277395, 0.9994510726197096, 0.8387185685883901, 0.9886067134754015, 0.9975628622755419, 0.9951759765146686, 0.9887724731727581, 0.9967426763820076, 0.9984893426120892, 0.9991664826848102, 0.9956421206155542, 0.9988691510577177, 0.9275933304771828, 0.9952289385125441, 0.997178277241908, 0.9850236459250736, 0.9993313699540813, 0.9947831387988159, 0.9971811453179842, 0.9885760464761104, 0.9853647242317837, 0.9962531953985694, 0.9978858388822179, 0.9835485491642023, 0.9789429588254153, 0.9986708689916424, 0.9984051519598394, 0.9945991989681249, 0.9888772237543489, 0.9824353037632266, 0.9815975981557259, 0.9699602384121985, 0.9946503152916193, 0.967110104002083, 0.9926527557398367, 0.9978986226555383, 0.9845186719538176, 0.9890799190243719, 0.9971359654215942, 0.9988440776976218, 0.9944766577016311, 0.9925046143535893, 0.9842164329256148, 0.9862638508110332, 0.9923624799451689, 0.9967199136125598, 0.9959019628917654, 0.9996763493028892, 0.9921860958585887, 0.9942271876208117, 0.988508237939631, 0.958042210481265, 0.9990308886568317, 0.9958794344522971, 0.9971872933272443, 0.99048425517293, 0.9982089583038359, 0.9973053736199167, 0.9971195710180631, 0.9994337892569725, 0.9996634386567549, 0.9904054146529637, 0.9953720041994997, 0.9982899894901115, 0.9981378923652984, 0.9978106406191988, 0.9986997154817667, 0.9997920335999214, 0.9936213932388847, 0.9966149395370253, 0.9893861982387472, 0.9958412518308813, 0.9982975522609174, 0.9725822939236443, 0.9967655264749045, 0.9740151068182595, 0.993430829855277, 0.9934429799045329, 0.9969483655608996, 0.924483141208523, 0.993252576861758, 0.9650483865721441, 0.9809810828945283, 0.9981257715273462, 0.9907402156619474, 0.9873161008631168, 0.9694286265824139, 0.9823754313817145, 0.9766304695724318, 0.9985452884498152, 0.9977787367057599, 0.9995682502422678, 0.9986600034078352, 0.9993049361943839, 0.9951478819117151, 0.9980733650910203, 0.9894975772820845, 0.9946501346557771, 0.9878011914095574, 0.9964023055660461, 0.9990910387209375, 0.7339233186022365, 0.9998009151430739, 0.9938289997230666, 0.9913377269124242, 0.9982289108956273, 0.9961662072785205, 0.947474727274568, 0.9979656550008766, 0.9971186447296275, 0.9798202694816017, 0.9972931044134438, 0.9733654727777609, 0.9972471005358863, 0.9995802851308572, 0.9958165826860798, 0.9831227981964946, 0.9964507750864675, 0.9974476829566529, 0.9996695829196869, 0.9983435366244758, 0.999543816459869, 0.9997390243599139, 0.9924506716839091, 0.9993146738588057, 0.993932681281565, 0.9977254697236253, 0.999889519286581, 0.9712490148875934, 0.9772606203502588, 0.9977267842764058, 0.9982994323998139, 0.9980853211231486, 0.9955404609515951, 0.9215659512633304, 0.9926300070285939, 0.9973393122935172, 0.997156848539624, 0.9932269026398591, 0.9997956211720954, 0.9946409499588575, 0.9988937162184562, 0.9902470901941319, 0.9979288297213194, 0.9968978484521751, 0.9992801138829517, 0.9978617266707931, 0.995070183609594], \"Term\": [\"ability\", \"able\", \"absolutely\", \"absorb\", \"accessory\", \"accurate\", \"act\", \"actual\", \"actually\", \"add\", \"additional\", \"adult\", \"ago\", \"agree\", \"air\", \"alarm\", \"allergy\", \"allow\", \"almost\", \"already\", \"also\", \"always\", \"amazing\", \"amazon\", \"amp\", \"annoying\", \"anti\", \"anywhere\", \"apart\", \"appear\", \"appearance\", \"apple\", \"apply\", \"area\", \"arrive\", \"art\", \"asin\", \"ask\", \"attach\", \"attack\", \"attention\", \"author\", \"average\", \"avoid\", \"away\", \"awesome\", \"awhile\", \"baby\", \"babys\", \"back\", \"bad\", \"bag\", \"balance\", \"bar\", \"barely\", \"bark\", \"bass\", \"battery\", \"battle\", \"be\", \"beat\", \"beautiful\", \"beauty\", \"become\", \"bedroom\", \"begin\", \"believe\", \"benefit\", \"big\", \"bird\", \"bit\", \"black\", \"blanket\", \"blast\", \"blend\", \"block\", \"blue\", \"body\", \"bone\", \"book\", \"boost\", \"boring\", \"bottle\", \"box\", \"br\", \"brand\", \"bread\", \"break\", \"breakfast\", \"bring\", \"brother\", \"brown\", \"bubble\", \"buck\", \"budget\", \"bug\", \"build\", \"burn\", \"buy\", \"buyer\", \"cable\", \"camera\", \"cap\", \"car\", \"care\", \"case\", \"cause\", \"cell\", \"cereal\", \"chair\", \"challenge\", \"change\", \"charge\", \"charger\", \"cheap\", \"check\", \"child\", \"chip\", \"choose\", \"christmas_gift\", \"circle\", \"clean\", \"clear\", \"cloth\", \"coffee\", \"cold\", \"college\", \"color\", \"combine\", \"come\", \"comfortable\", \"company\", \"complain\", \"complement\", \"completely\", \"computer\", \"con\", \"concern\", \"condition\", \"connect\", \"consider\", \"constantly\", \"construction\", \"contain\", \"container\", \"content\", \"continue\", \"control\", \"cool\", \"correctly\", \"cost\", \"count\", \"counter\", \"couple\", \"cover\", \"crazy\", \"cross\", \"cup\", \"currently\", \"curve\", \"customer_service\", \"cut\", \"cute\", \"cycle\", \"d\", \"daily\", \"damage\", \"dangerous\", \"dark\", \"date\", \"daughter\", \"day\", \"dead\", \"deal\", \"decent\", \"decide\", \"decision\", \"deep\", \"definitely\", \"deliver\", \"delivery\", \"dent\", \"description\", \"design\", \"desk\", \"develop\", \"device\", \"difference\", \"different\", \"digital\", \"dim\", \"direction\", \"disappoint\", \"disappointed\", \"discomfort\", \"discuss\", \"display\", \"do\", \"doctor\", \"doubt\", \"downside\", \"draw\", \"drink\", \"drive\", \"driver\", \"drop\", \"dry\", \"due\", \"durable\", \"dvd\", \"ear\", \"early\", \"earring\", \"easily\", \"easy\", \"eat\", \"edge\", \"effect\", \"electric\", \"else\", \"email\", \"emergency\", \"end\", \"energy\", \"enjoy\", \"enough\", \"especially\", \"even\", \"evening\", \"ever\", \"everywhere\", \"exact\", \"exactly\", \"excited\", \"exist\", \"expect\", \"expensive\", \"extra\", \"extremely\", \"eye\", \"fabric\", \"fabulous\", \"face\", \"fact\", \"factory\", \"fail\", \"fair\", \"fake\", \"fall\", \"family\", \"fancy\", \"far\", \"fast\", \"fat\", \"father\", \"fear\", \"feature\", \"feel\", \"feeling\", \"figure\", \"find\", \"fine\", \"finish\", \"first\", \"fit\", \"flash\", \"flat\", \"flavor\", \"floor\", \"follow\", \"food\", \"foot\", \"force\", \"form\", \"fresh\", \"friend\", \"fun\", \"gadget\", \"gain\", \"game\", \"gel\", \"genuine\", \"get\", \"gift\", \"girl\", \"girlfriend\", \"give\", \"glass\", \"glow\", \"go\", \"god\", \"good\", \"gp_product\", \"grade\", \"gray\", \"grease\", \"greasy\", \"great\", \"green\", \"grip\", \"grow\", \"guarantee\", \"guess\", \"hair\", \"half\", \"hand\", \"handle\", \"happy\", \"hassle\", \"hate\", \"have\", \"headphone\", \"healthy\", \"heart\", \"heat\", \"heavy\", \"helpful\", \"high\", \"highly_recommend\", \"highly_recommende\", \"hit\", \"hold\", \"holiday\", \"home\", \"honestly\", \"hopefully\", \"hot\", \"house\", \"however\", \"huge\", \"hurt\", \"idea\", \"impressive\", \"improve\", \"include\", \"increase\", \"indicate\", \"inexpensive\", \"ingredient\", \"inspect\", \"instal\", \"instead\", \"instruction\", \"introduce\", \"issue\", \"itchy\", \"item\", \"job\", \"junk\", \"keep\", \"key\", \"kid\", \"kind\", \"kinda\", \"kitchen\", \"label\", \"lady\", \"land\", \"large\", \"last\", \"late\", \"laugh\", \"lazy\", \"lbs\", \"lead\", \"learn\", \"least\", \"leave\", \"left\", \"leg\", \"length\", \"less\", \"letter\", \"level\", \"lid\", \"life\", \"lifetime\", \"light\", \"lightweight\", \"like\", \"likely\", \"liner\", \"list\", \"listen\", \"little\", \"live\", \"lol\", \"long\", \"look\", \"loose\", \"lose\", \"loss\", \"lot\", \"loud\", \"lounge\", \"love\", \"lover\", \"low\", \"lower\", \"luck\", \"lunch\", \"m\", \"machine\", \"magic\", \"main\", \"maintain\", \"make\", \"male\", \"man\", \"manual\", \"many\", \"market\", \"mask\", \"master\", \"match\", \"matter\", \"max\", \"maybe\", \"mean\", \"meat\", \"mechanism\", \"medicine\", \"mention\", \"mess\", \"message\", \"metal\", \"method\", \"mind\", \"mine\", \"mini\", \"mirror\", \"miss\", \"moisture\", \"month\", \"morning\", \"mostly\", \"mouth\", \"move\", \"much\", \"multi\", \"music\", \"nail\", \"name\", \"neat\", \"necklace\", \"need\", \"negative\", \"never\", \"new\", \"nice\", \"night\", \"noise\", \"normal\", \"normally\", \"nose\", \"notice\", \"number\", \"odd\", \"often\", \"oil\", \"okay\", \"old\", \"one\", \"online\", \"open\", \"order\", \"organizer\", \"other\", \"otherwise\", \"oven\", \"overall\", \"own\", \"package\", \"padding\", \"pain\", \"painful\", \"paint\", \"paper\", \"part\", \"particular\", \"particularly\", \"party\", \"pasta\", \"patient\", \"pay\", \"pen\", \"people\", \"perfect\", \"perfectly\", \"performance\", \"period\", \"personal\", \"phone\", \"photo\", \"picture\", \"piece\", \"pill\", \"place\", \"plain\", \"plan\", \"plastic\", \"play\", \"please\", \"pleased\", \"plug\", \"pocket\", \"point\", \"poor\", \"poorly\", \"pop\", \"position\", \"positive\", \"possibly\", \"potential\", \"pound\", \"power\", \"powerful\", \"prefer\", \"pretty\", \"prevent\", \"price\", \"pricey\", \"print\", \"pro\", \"problem\", \"process\", \"produce\", \"product\", \"promote\", \"proof\", \"properly\", \"protect\", \"provide\", \"pump\", \"purchase\", \"purpose\", \"put\", \"quality\", \"question\", \"quick\", \"quickly\", \"quite\", \"radio\", \"rain\", \"rate\", \"rather\", \"reach\", \"read\", \"reading\", \"real\", \"realize\", \"really\", \"reason\", \"recent\", \"recently\", \"recipe\", \"recognize\", \"recommend\", \"red\", \"reduce\", \"refund\", \"relate\", \"relatively\", \"release\", \"repeat\", \"replace\", \"report\", \"research\", \"rest\", \"result\", \"return\", \"review\", \"reviewer\", \"rich\", \"right\", \"rim\", \"risk\", \"rock\", \"roll\", \"room\", \"rug\", \"ruin\", \"run\", \"s\", \"sad\", \"satisfy\", \"save\", \"say\", \"scent\", \"score\", \"screen\", \"search\", \"second\", \"secure\", \"see\", \"seem\", \"self\", \"sell\", \"seller\", \"send\", \"sense\", \"serve\", \"set\", \"setting\", \"several\", \"shade\", \"shame\", \"shampoo\", \"shape\", \"share\", \"ship\", \"shipping\", \"shock\", \"short\", \"shot\", \"shrink\", \"sick\", \"side\", \"sight\", \"sign\", \"silicone\", \"sit\", \"size\", \"sized\", \"skin\", \"skip\", \"sleek\", \"sleep\", \"slide\", \"slightly\", \"slim\", \"slip\", \"slow\", \"slowly\", \"small\", \"smell\", \"smile\", \"smoke\", \"smooth\", \"snack\", \"soft\", \"solution\", \"somewhere\", \"son\", \"sony\", \"soon\", \"sort\", \"sound\", \"soup\", \"spare\", \"speaker\", \"speed\", \"spring\", \"standard\", \"star\", \"start\", \"state\", \"stay\", \"steam\", \"step\", \"stick\", \"sticky\", \"still\", \"stone\", \"stop\", \"strength\", \"stress\", \"stretch\", \"strong\", \"struggle\", \"study\", \"sturdy\", \"style\", \"stylish\", \"stylus\", \"suck\", \"suffer\", \"sugar\", \"suggest\", \"suggestion\", \"sun\", \"super\", \"superb\", \"supplement\", \"suppose\", \"sure\", \"surprise\", \"surprised\", \"surprisingly\", \"survive\", \"sweat\", \"table\", \"tablet\", \"take\", \"tall\", \"taste\", \"teach\", \"technique\", \"tell\", \"tend\", \"test\", \"texture\", \"thank\", \"thick\", \"thin\", \"thing\", \"think\", \"thinking\", \"third\", \"though\", \"thought\", \"throw\", \"tight\", \"time\", \"tiny\", \"tip\", \"tired\", \"today\", \"together\", \"tomorrow\", \"tool\", \"tooth\", \"total\", \"totally\", \"touch\", \"towel\", \"track\", \"traditional\", \"transfer\", \"travel\", \"tray\", \"treat\", \"tremendous\", \"trick\", \"trim\", \"trip\", \"true\", \"try\", \"turn\", \"tv\", \"twice\", \"type\", \"uncomfortable\", \"understand\", \"uneven\", \"unfortunately\", \"unit\", \"unpleasant\", \"use\", \"useless\", \"usual\", \"value\", \"ve\", \"veggie\", \"video\", \"view\", \"vitamin\", \"volume\", \"wake\", \"walk\", \"want\", \"warm\", \"warning\", \"warranty\", \"wash\", \"watch\", \"water\", \"way\", \"wear\", \"website\", \"week\", \"weigh\", \"weight\", \"well\", \"whatsoever\", \"whenever\", \"white\", \"wide\", \"wife\", \"window\", \"wine\", \"wire\", \"wish\", \"wonderful\", \"word\", \"work\", \"workout\", \"worth\", \"wrap\", \"write\", \"wrong\", \"year\", \"yet\", \"young\"]}, \"R\": 30, \"lambda.step\": 0.01, \"plot.opts\": {\"xlab\": \"PC1\", \"ylab\": \"PC2\"}, \"topic.order\": [35, 12, 16, 13, 31, 4, 11, 14, 32, 29, 33, 24, 25, 39, 5, 36, 3, 40, 30, 9, 19, 21, 17, 22, 37, 34, 26, 2, 7, 10, 28, 20, 38, 1, 18, 8, 15, 27, 6, 23]};\n",
       "\n",
       "function LDAvis_load_lib(url, callback){\n",
       "  var s = document.createElement('script');\n",
       "  s.src = url;\n",
       "  s.async = true;\n",
       "  s.onreadystatechange = s.onload = callback;\n",
       "  s.onerror = function(){console.warn(\"failed to load library \" + url);};\n",
       "  document.getElementsByTagName(\"head\")[0].appendChild(s);\n",
       "}\n",
       "\n",
       "if(typeof(LDAvis) !== \"undefined\"){\n",
       "   // already loaded: just create the visualization\n",
       "   !function(LDAvis){\n",
       "       new LDAvis(\"#\" + \"ldavis_el1614414887818546403341160631\", ldavis_el1614414887818546403341160631_data);\n",
       "   }(LDAvis);\n",
       "}else if(typeof define === \"function\" && define.amd){\n",
       "   // require.js is available: use it to load d3/LDAvis\n",
       "   require.config({paths: {d3: \"https://d3js.org/d3.v5\"}});\n",
       "   require([\"d3\"], function(d3){\n",
       "      window.d3 = d3;\n",
       "      LDAvis_load_lib(\"https://cdn.jsdelivr.net/gh/bmabey/pyLDAvis@3.3.1/pyLDAvis/js/ldavis.v3.0.0.js\", function(){\n",
       "        new LDAvis(\"#\" + \"ldavis_el1614414887818546403341160631\", ldavis_el1614414887818546403341160631_data);\n",
       "      });\n",
       "    });\n",
       "}else{\n",
       "    // require.js not available: dynamically load d3 & LDAvis\n",
       "    LDAvis_load_lib(\"https://d3js.org/d3.v5.js\", function(){\n",
       "         LDAvis_load_lib(\"https://cdn.jsdelivr.net/gh/bmabey/pyLDAvis@3.3.1/pyLDAvis/js/ldavis.v3.0.0.js\", function(){\n",
       "                 new LDAvis(\"#\" + \"ldavis_el1614414887818546403341160631\", ldavis_el1614414887818546403341160631_data);\n",
       "            })\n",
       "         });\n",
       "}\n",
       "</script>"
      ],
      "text/plain": [
       "PreparedData(topic_coordinates=              x         y  topics  cluster       Freq\n",
       "topic                                                \n",
       "34     0.293465  0.401147       1        1  25.635626\n",
       "11     0.133238 -0.150027       2        1   3.731451\n",
       "15     0.090325 -0.073327       3        1   3.052646\n",
       "12     0.091344 -0.074535       4        1   3.026451\n",
       "30     0.095436 -0.079360       5        1   2.970993\n",
       "3      0.081513 -0.062771       6        1   2.721327\n",
       "10     0.071542 -0.050917       7        1   2.568225\n",
       "13     0.057462 -0.036947       8        1   2.551036\n",
       "31     0.085306 -0.066797       9        1   2.535119\n",
       "28     0.061409 -0.041022      10        1   2.504556\n",
       "32     0.053511 -0.033182      11        1   2.490250\n",
       "23     0.046633 -0.026427      12        1   2.414724\n",
       "24     0.037309 -0.019942      13        1   2.255386\n",
       "38     0.025871 -0.012272      14        1   2.252529\n",
       "4      0.027775 -0.014655      15        1   2.185123\n",
       "35     0.007243  0.000013      16        1   2.113049\n",
       "2      0.026303 -0.013496      17        1   2.077829\n",
       "39     0.004535  0.001012      18        1   2.072559\n",
       "29     0.019931 -0.009103      19        1   2.068354\n",
       "8      0.007435 -0.000785      20        1   2.002571\n",
       "18    -0.003661  0.005319      21        1   1.958449\n",
       "20    -0.001132  0.004041      22        1   1.916092\n",
       "16     0.016174 -0.007796      23        1   1.885838\n",
       "21    -0.006534  0.005893      24        1   1.882469\n",
       "36     0.000787  0.001840      25        1   1.844975\n",
       "33     0.054055 -0.034954      26        1   1.824104\n",
       "25    -0.028384  0.015113      27        1   1.787251\n",
       "1     -0.008793  0.007552      28        1   1.759577\n",
       "6     -0.027759  0.015436      29        1   1.661989\n",
       "9     -0.037444  0.020460      30        1   1.549527\n",
       "27    -0.003210  0.004505      31        1   1.548381\n",
       "19    -0.066636  0.029700      32        1   1.308460\n",
       "37    -0.089112  0.036775      33        1   1.286366\n",
       "0     -0.079385  0.033943      34        1   1.248226\n",
       "17    -0.096181  0.038520      35        1   1.173726\n",
       "7     -0.099240  0.039201      36        1   1.138321\n",
       "14    -0.056792  0.026223      37        1   0.971311\n",
       "26    -0.261447  0.040541      38        1   0.008378\n",
       "5     -0.261447  0.040541      39        1   0.008378\n",
       "22    -0.261447  0.040541      40        1   0.008378, topic_info=           Term          Freq         Total Category  logprob  loglift\n",
       "12           br  16423.000000  16423.000000  Default  30.0000  30.0000\n",
       "38         work   7955.000000   7955.000000  Default  29.0000  29.0000\n",
       "5       product   5700.000000   5700.000000  Default  28.0000  28.0000\n",
       "241         fit   5072.000000   5072.000000  Default  27.0000  27.0000\n",
       "255          go   5258.000000   5258.000000  Default  26.0000  26.0000\n",
       "..          ...           ...           ...      ...      ...      ...\n",
       "25       market      0.002096    177.816941  Topic40 -10.1735  -1.9613\n",
       "26        never      0.002096   1627.421941  Topic40 -10.1735  -4.1753\n",
       "27          new      0.002096   2072.309508  Topic40 -10.1735  -4.4170\n",
       "28   particular      0.002096    182.768712  Topic40 -10.1735  -1.9888\n",
       "29        phone      0.002096   1492.260127  Topic40 -10.1735  -4.0886\n",
       "\n",
       "[1595 rows x 6 columns], token_table=      Topic      Freq        Term\n",
       "term                             \n",
       "765      25  0.993928     ability\n",
       "445      10  0.998478        able\n",
       "1061     19  0.998042  absolutely\n",
       "1209     16  0.979549      absorb\n",
       "1138      5  0.983328   accessory\n",
       "...     ...       ...         ...\n",
       "583      30  0.997929       write\n",
       "982      28  0.996898       wrong\n",
       "134       1  0.999280        year\n",
       "976       8  0.997862         yet\n",
       "804      19  0.995070       young\n",
       "\n",
       "[794 rows x 3 columns], R=30, lambda_step=0.01, plot_opts={'xlab': 'PC1', 'ylab': 'PC2'}, topic_order=[35, 12, 16, 13, 31, 4, 11, 14, 32, 29, 33, 24, 25, 39, 5, 36, 3, 40, 30, 9, 19, 21, 17, 22, 37, 34, 26, 2, 7, 10, 28, 20, 38, 1, 18, 8, 15, 27, 6, 23])"
      ]
     },
     "execution_count": 68,
     "metadata": {},
     "output_type": "execute_result"
    }
   ],
   "source": [
    "# Visualize the topics\n",
    "pyLDAvis.enable_notebook()\n",
    "vis = pyLDAvis.gensim_models.prepare(lda_model, corpus, id2word)\n",
    "vis"
   ]
  },
  {
   "cell_type": "code",
   "execution_count": null,
   "metadata": {},
   "outputs": [],
   "source": []
  },
  {
   "cell_type": "code",
   "execution_count": 54,
   "metadata": {},
   "outputs": [],
   "source": [
    "# Finding the dominant topic and its percentage contribution in each document"
   ]
  },
  {
   "cell_type": "code",
   "execution_count": 55,
   "metadata": {},
   "outputs": [],
   "source": [
    "def format_topics_sentences(ldamodel=None, corpus=corpus, texts=data):\n",
    "    # Init output\n",
    "    sent_topics_df = pd.DataFrame()\n",
    "\n",
    "    # Get main topic in each document\n",
    "    for i, row_list in enumerate(ldamodel[corpus]):\n",
    "        row = row_list[0] if ldamodel.per_word_topics else row_list            \n",
    "        # print(row)\n",
    "        row = sorted(row, key=lambda x: (x[1]), reverse=True)\n",
    "        # Get the Dominant topic, Perc Contribution and Keywords for each document\n",
    "        for j, (topic_num, prop_topic) in enumerate(row):\n",
    "            if j == 0:  # => dominant topic\n",
    "                wp = ldamodel.show_topic(topic_num)\n",
    "                topic_keywords = \", \".join([word for word, prop in wp])\n",
    "                sent_topics_df = sent_topics_df.append(pd.Series([int(topic_num), round(prop_topic,4), topic_keywords]), ignore_index=True)\n",
    "            else:\n",
    "                break\n",
    "    sent_topics_df.columns = ['Dominant_Topic', 'Perc_Contribution', 'Topic_Keywords']\n",
    "\n",
    "    # Add original text to the end of the output\n",
    "    contents = pd.Series(texts)\n",
    "    sent_topics_df = pd.concat([sent_topics_df, contents], axis=1)\n",
    "    return(sent_topics_df)"
   ]
  },
  {
   "cell_type": "code",
   "execution_count": 56,
   "metadata": {},
   "outputs": [],
   "source": [
    "df_topic_sents_keywords = format_topics_sentences(ldamodel=lda_model, corpus=corpus, texts=data_lemmatized)"
   ]
  },
  {
   "cell_type": "code",
   "execution_count": 57,
   "metadata": {},
   "outputs": [],
   "source": [
    "# Format\n",
    "df_dominant_topic = df_topic_sents_keywords.reset_index()"
   ]
  },
  {
   "cell_type": "code",
   "execution_count": 58,
   "metadata": {},
   "outputs": [],
   "source": [
    "df_dominant_topic.columns = ['Document_No', 'Dominant_Topic', 'Topic_Perc_Contrib', 'Keywords', 'Text']"
   ]
  },
  {
   "cell_type": "code",
   "execution_count": 59,
   "metadata": {},
   "outputs": [
    {
     "data": {
      "text/plain": [
       "34.0    20992\n",
       "11.0        5\n",
       "30.0        1\n",
       "18.0        1\n",
       "10.0        1\n",
       "Name: Dominant_Topic, dtype: int64"
      ]
     },
     "execution_count": 59,
     "metadata": {},
     "output_type": "execute_result"
    }
   ],
   "source": [
    "df_dominant_topic.Dominant_Topic.value_counts()"
   ]
  },
  {
   "cell_type": "code",
   "execution_count": 60,
   "metadata": {},
   "outputs": [
    {
     "data": {
      "text/html": [
       "<div>\n",
       "<style scoped>\n",
       "    .dataframe tbody tr th:only-of-type {\n",
       "        vertical-align: middle;\n",
       "    }\n",
       "\n",
       "    .dataframe tbody tr th {\n",
       "        vertical-align: top;\n",
       "    }\n",
       "\n",
       "    .dataframe thead th {\n",
       "        text-align: right;\n",
       "    }\n",
       "</style>\n",
       "<table border=\"1\" class=\"dataframe\">\n",
       "  <thead>\n",
       "    <tr style=\"text-align: right;\">\n",
       "      <th></th>\n",
       "      <th>Topic_Num</th>\n",
       "      <th>Topic_Perc_Contrib</th>\n",
       "      <th>Keywords</th>\n",
       "      <th>Text</th>\n",
       "    </tr>\n",
       "  </thead>\n",
       "  <tbody>\n",
       "    <tr>\n",
       "      <th>0</th>\n",
       "      <td>10.0</td>\n",
       "      <td>0.2097</td>\n",
       "      <td>watch, game, give, play, unit, deal, plug, mus...</td>\n",
       "      <td>[smoke, hot, deal, second, unit, last, week, w...</td>\n",
       "    </tr>\n",
       "    <tr>\n",
       "      <th>1</th>\n",
       "      <td>11.0</td>\n",
       "      <td>0.3038</td>\n",
       "      <td>br, book, cover, number, fact, level, child, m...</td>\n",
       "      <td>[salinger, righteous, br, br, scribbling, case...</td>\n",
       "    </tr>\n",
       "    <tr>\n",
       "      <th>2</th>\n",
       "      <td>18.0</td>\n",
       "      <td>0.2330</td>\n",
       "      <td>light, reason, enjoy, stay, home, sit, mention...</td>\n",
       "      <td>[mask, great, purpose, keeping, light, sure, h...</td>\n",
       "    </tr>\n",
       "    <tr>\n",
       "      <th>3</th>\n",
       "      <td>30.0</td>\n",
       "      <td>0.2082</td>\n",
       "      <td>need, back, new, return, second, power, send, ...</td>\n",
       "      <td>[company, send, email, purchase, ask, review, ...</td>\n",
       "    </tr>\n",
       "    <tr>\n",
       "      <th>4</th>\n",
       "      <td>34.0</td>\n",
       "      <td>0.4891</td>\n",
       "      <td>great, get, well, good, buy, love, look, make,...</td>\n",
       "      <td>[love, fit, really, well, driver, seat, use, d...</td>\n",
       "    </tr>\n",
       "  </tbody>\n",
       "</table>\n",
       "</div>"
      ],
      "text/plain": [
       "   Topic_Num  Topic_Perc_Contrib  \\\n",
       "0       10.0              0.2097   \n",
       "1       11.0              0.3038   \n",
       "2       18.0              0.2330   \n",
       "3       30.0              0.2082   \n",
       "4       34.0              0.4891   \n",
       "\n",
       "                                            Keywords  \\\n",
       "0  watch, game, give, play, unit, deal, plug, mus...   \n",
       "1  br, book, cover, number, fact, level, child, m...   \n",
       "2  light, reason, enjoy, stay, home, sit, mention...   \n",
       "3  need, back, new, return, second, power, send, ...   \n",
       "4  great, get, well, good, buy, love, look, make,...   \n",
       "\n",
       "                                                Text  \n",
       "0  [smoke, hot, deal, second, unit, last, week, w...  \n",
       "1  [salinger, righteous, br, br, scribbling, case...  \n",
       "2  [mask, great, purpose, keeping, light, sure, h...  \n",
       "3  [company, send, email, purchase, ask, review, ...  \n",
       "4  [love, fit, really, well, driver, seat, use, d...  "
      ]
     },
     "execution_count": 60,
     "metadata": {},
     "output_type": "execute_result"
    }
   ],
   "source": [
    "# Group top 5 sentences under each topic\n",
    "sent_topics_sorteddf = pd.DataFrame()\n",
    "\n",
    "sent_topics_outdf_grpd = df_topic_sents_keywords.groupby('Dominant_Topic')\n",
    "\n",
    "for i, grp in sent_topics_outdf_grpd:\n",
    "    sent_topics_sorteddf = pd.concat([sent_topics_sorteddf, \n",
    "                                             grp.sort_values(['Perc_Contribution'], ascending=[0]).head(1)], \n",
    "                                            axis=0)\n",
    "\n",
    "# Reset Index    \n",
    "sent_topics_sorteddf.reset_index(drop=True, inplace=True)\n",
    "\n",
    "# Format\n",
    "sent_topics_sorteddf.columns = ['Topic_Num', \"Topic_Perc_Contrib\", \"Keywords\", \"Text\"]\n",
    "\n",
    "# Show\n",
    "sent_topics_sorteddf.head()"
   ]
  },
  {
   "cell_type": "code",
   "execution_count": null,
   "metadata": {},
   "outputs": [],
   "source": []
  },
  {
   "cell_type": "code",
   "execution_count": null,
   "metadata": {},
   "outputs": [],
   "source": []
  },
  {
   "cell_type": "code",
   "execution_count": null,
   "metadata": {},
   "outputs": [],
   "source": []
  },
  {
   "cell_type": "code",
   "execution_count": null,
   "metadata": {},
   "outputs": [],
   "source": []
  },
  {
   "cell_type": "code",
   "execution_count": null,
   "metadata": {},
   "outputs": [],
   "source": []
  }
 ],
 "metadata": {
  "kernelspec": {
   "display_name": "Python 3",
   "language": "python",
   "name": "python3"
  },
  "language_info": {
   "codemirror_mode": {
    "name": "ipython",
    "version": 3
   },
   "file_extension": ".py",
   "mimetype": "text/x-python",
   "name": "python",
   "nbconvert_exporter": "python",
   "pygments_lexer": "ipython3",
   "version": "3.8.3"
  }
 },
 "nbformat": 4,
 "nbformat_minor": 4
}
