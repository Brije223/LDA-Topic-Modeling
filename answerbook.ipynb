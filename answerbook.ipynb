{
 "cells": [
  {
   "cell_type": "code",
   "execution_count": 52,
   "metadata": {},
   "outputs": [],
   "source": [
    "# importing important libraries.\n",
    "import re\n",
    "import numpy as np\n",
    "import pandas as pd\n",
    "from pprint import pprint\n",
    "\n",
    "# Gensim\n",
    "import gensim\n",
    "import gensim.corpora as corpora\n",
    "from gensim.utils import simple_preprocess\n",
    "from gensim.models import CoherenceModel\n",
    "\n",
    "# spacy for lemmatization\n",
    "import spacy\n",
    "\n",
    "# Plotting tools\n",
    "import pyLDAvis\n",
    "# import pyLDAvis.gensim  # don't skip this\n",
    "import matplotlib.pyplot as plt\n",
    "%matplotlib inline\n",
    "\n",
    "# Enable logging for gensim - optional\n",
    "import logging\n",
    "logging.basicConfig(format='%(asctime)s : %(levelname)s : %(message)s', level=logging.ERROR)\n",
    "\n",
    "import warnings\n",
    "warnings.filterwarnings(\"ignore\",category=DeprecationWarning)"
   ]
  },
  {
   "cell_type": "code",
   "execution_count": 2,
   "metadata": {},
   "outputs": [],
   "source": [
    "# import all english stopwords from nltk.\n",
    "from nltk.corpus import stopwords\n",
    "stop_words = stopwords.words('english')\n",
    "stop_words.extend(['from', 'subject', 're', 'edu', 'use'])"
   ]
  },
  {
   "cell_type": "code",
   "execution_count": 3,
   "metadata": {},
   "outputs": [
    {
     "data": {
      "text/html": [
       "<div>\n",
       "<style scoped>\n",
       "    .dataframe tbody tr th:only-of-type {\n",
       "        vertical-align: middle;\n",
       "    }\n",
       "\n",
       "    .dataframe tbody tr th {\n",
       "        vertical-align: top;\n",
       "    }\n",
       "\n",
       "    .dataframe thead th {\n",
       "        text-align: right;\n",
       "    }\n",
       "</style>\n",
       "<table border=\"1\" class=\"dataframe\">\n",
       "  <thead>\n",
       "    <tr style=\"text-align: right;\">\n",
       "      <th></th>\n",
       "      <th>articles</th>\n",
       "      <th>lang</th>\n",
       "    </tr>\n",
       "  </thead>\n",
       "  <tbody>\n",
       "    <tr>\n",
       "      <th>0</th>\n",
       "      <td>Image copyright PA/EPA Image caption Oligarch ...</td>\n",
       "      <td>en</td>\n",
       "    </tr>\n",
       "    <tr>\n",
       "      <th>1</th>\n",
       "      <td>Husband admits killing French jogger\\r\\n\\r\\nTh...</td>\n",
       "      <td>en</td>\n",
       "    </tr>\n",
       "    <tr>\n",
       "      <th>2</th>\n",
       "      <td>Media playback is unsupported on your device M...</td>\n",
       "      <td>en</td>\n",
       "    </tr>\n",
       "    <tr>\n",
       "      <th>3</th>\n",
       "      <td>Manchester City's Leroy Sane is ruled out for ...</td>\n",
       "      <td>en</td>\n",
       "    </tr>\n",
       "    <tr>\n",
       "      <th>4</th>\n",
       "      <td>Image copyright AFP Image caption Sebastien Br...</td>\n",
       "      <td>en</td>\n",
       "    </tr>\n",
       "  </tbody>\n",
       "</table>\n",
       "</div>"
      ],
      "text/plain": [
       "                                            articles lang\n",
       "0  Image copyright PA/EPA Image caption Oligarch ...   en\n",
       "1  Husband admits killing French jogger\\r\\n\\r\\nTh...   en\n",
       "2  Media playback is unsupported on your device M...   en\n",
       "3  Manchester City's Leroy Sane is ruled out for ...   en\n",
       "4  Image copyright AFP Image caption Sebastien Br...   en"
      ]
     },
     "execution_count": 3,
     "metadata": {},
     "output_type": "execute_result"
    }
   ],
   "source": [
    "# Importing Dataset\n",
    "df = pd.read_csv('articles_bbc_2018_01_30.csv')\n",
    "df.head()"
   ]
  },
  {
   "cell_type": "code",
   "execution_count": 58,
   "metadata": {},
   "outputs": [
    {
     "data": {
      "text/plain": [
       "(309, 2)"
      ]
     },
     "execution_count": 58,
     "metadata": {},
     "output_type": "execute_result"
    }
   ],
   "source": [
    "df.shape"
   ]
  },
  {
   "cell_type": "code",
   "execution_count": 4,
   "metadata": {},
   "outputs": [
    {
     "data": {
      "text/plain": [
       "array(['en', 'fr', 'uk', 'hi', nan, 'de', 'ru', 'pt', 'id', 'tr', 'vi',\n",
       "       'fa', 'es', 'sw', 'ar'], dtype=object)"
      ]
     },
     "execution_count": 4,
     "metadata": {},
     "output_type": "execute_result"
    }
   ],
   "source": [
    "#checking unique target names.\n",
    "df.lang.unique()"
   ]
  },
  {
   "cell_type": "code",
   "execution_count": 59,
   "metadata": {},
   "outputs": [
    {
     "data": {
      "text/plain": [
       "articles    1\n",
       "lang        1\n",
       "dtype: int64"
      ]
     },
     "execution_count": 59,
     "metadata": {},
     "output_type": "execute_result"
    }
   ],
   "source": [
    "#checking for missing values.\n",
    "df.isnull().sum()"
   ]
  },
  {
   "cell_type": "markdown",
   "metadata": {},
   "source": [
    "### Text Preprocessing"
   ]
  },
  {
   "cell_type": "code",
   "execution_count": 13,
   "metadata": {},
   "outputs": [
    {
     "data": {
      "text/plain": [
       "['Image copyright PA/EPA Image caption Oligarch Roman Abramovich (l) and PM Dmitry Medvedev are on the list Russian President Vladimir Putin says a list of officials and businessmen close to the Kremlin published by the US has in effect targeted all Russian people. The list names 210 top Russians as part of a sanctions law aimed at punishing Moscow for meddling in the US election. However, the US stressed those named were not subject to new sanctions. Mr Putin said the list was an unfriendly act that complicated US-Russia ties but he said he did not want to escalate the situation. Mr Putin said Russia should instead be thinking about \"ourselves and the economy\". The list was also derided by a number of senior Russian officials who said it bore a strong resemblance to the Forbes magazine ranking of Russian billionaires. A US Treasury Department later told Buzzfeed that an unclassified annex of the report had been derived from the magazine. Why did the US publish the list? The government was required to draw up the list after Congress passed the Countering Americas Adversaries Through Sanctions Act (Caatsa) in August. The law aimed to punish Russia for its alleged meddling in the 2016 US presidential election and its actions in Ukraine. Congress wanted the list to name and shame those who had benefited from close association with President Putin and put them on notice that they could be targeted for sanctions, or more sanctions, in the future. President Donald Trump did not support Caatsa, even though he signed it into law, saying it was \"unconstitutional\". Under the law, the list had to be delivered by Monday. The fact it was released about 10 minutes before midnight may reflect Mr Trumps coolness towards it, and his opposition to punishing more Russians with sanctions. The top Democrat on the House Foreign Affairs Committee, Eliot Engel, accused the Trump administration of letting \"Russia off the hook again\" by not taking substantial action. Who has been named? Informally known as the \"Putin list\", the unclassified section has 210 names, 114 of them in the government or linked to it, or key businessmen. The other 96 are oligarchs apparently determined more by the fact they are worth more than $1bn (£710m) than their close ties to the Kremlin. Image copyright Reuters Image caption Congress passed the law in August, although President Donald Trump had opposed it Most of Mr Putins longstanding allies are named, many of them siloviki (security guys). They include the spy chiefs Alexander Bortnikov of the Federal Security Service (FSB) - which Mr Putin used to run - and Sergei Naryshkin of the Foreign Intelligence Service (SVR). The men who control Russias energy resources are listed: Gazprom chief Alexei Miller, Rosneft chief Igor Sechin and other oil and gas executives, along with top bankers like Bank Rossiya manager Yuri Kovalchuk. The oligarchs include Kirill Shamalov, who is reported to be Mr Putins son-in-law, although the Kremlin has never confirmed his marriage to Katerina Tikhonova, nor even that she is the presidents daughter. Internationally known oligarchs are there too, such as those with stakes in top English football clubs: Alisher Usmanov (Arsenal) and Roman Abramovich (Chelsea). Will they face new sanctions? Not at the moment. The US Treasury document itself stresses: \"It is not a sanctions list, and the inclusion of individuals or entities... does not and in no way should be interpreted to impose sanctions on those individuals or entities.\" It adds: \"Neither does inclusion on the unclassified list indicate that the US government has information about the individuals involvement in malign activities.\" However, there is a classified version said to include information detailing allegations of involvement in corrupt activities. What does it mean for Russias elite? Analysis: Steve Rosenberg, BBC Moscow correspondent The good news for the Kremlin: this isnt a sanctions list. But the good news ends there. Those Russian officials and oligarchs named by the US Treasury will worry that their inclusion could signal sanctions in the future. Even before the list was made public, the Kremlin had claimed the US Treasury report was an attempt to meddle in Russias presidential election. The list reads like a Whos Who of the Russian political elite and business world. Moscow wont want that to become a Whos Sanctioned. What is the Caatsa act and did the president want it? The law limited the amount of money Americans could invest in Russian energy projects and made it more difficult for US companies to do business with Russia. It also imposed sanctions on Iran and North Korea. Media playback is unsupported on your device Media caption All you need to know about the Trump-Russia investigation In signing the act, Mr Trump attached a statement calling the measure \"deeply flawed\" and said he could make \"far better deals with foreign countries than Congress\". Earlier on Monday, the US government argued the Caatsa law had already pushed governments around the world to cancel deals with Russia worth billions, suggesting that more sanctions were not required. How have the Russians reacted? Perhaps referring to the fact that all of their political representatives had been named, Mr Putin said that, in effect, \"all 146 million Russians have been put on the list\". He joked he was offended not to be named himself. Earlier, Kremlin spokesman Dmitry Peskov, who is himself on the list, accepted that it was not one of sanctions but said it could potentially damage \"the image and reputation\" of figures listed and their associated companies. He added: \"Its not the first day that we live with quite aggressive comments made towards us, so we should not give in to emotions.\" When Caatsa was passed, PM Dmitry Medvedev said it meant the US had declared a \"full-scale trade war\" on Russia. Russian opposition leader Alexei Navalny praised the publication of the names as \"a good list\".']"
      ]
     },
     "execution_count": 13,
     "metadata": {},
     "output_type": "execute_result"
    }
   ],
   "source": [
    "# Remove emails and newline characters\n",
    "# Convert to list and dropna values.\n",
    "data = df.articles.dropna().values.tolist()\n",
    "\n",
    "# Remove Emails\n",
    "data = [re.sub('\\S*@\\S*\\s?', '', sent) for sent in data]\n",
    "\n",
    "# Remove new line characters\n",
    "data = [re.sub('\\s+', ' ', sent) for sent in data]\n",
    "\n",
    "# Remove distracting single quotes\n",
    "data = [re.sub(\"\\'\", \"\", sent) for sent in data]\n",
    "\n",
    "data[:1]"
   ]
  },
  {
   "cell_type": "code",
   "execution_count": 14,
   "metadata": {},
   "outputs": [
    {
     "name": "stdout",
     "output_type": "stream",
     "text": [
      "[['image', 'copyright', 'pa', 'epa', 'image', 'caption', 'oligarch', 'roman', 'abramovich', 'and', 'pm', 'dmitry', 'medvedev', 'are', 'on', 'the', 'list', 'russian', 'president', 'vladimir', 'putin', 'says', 'list', 'of', 'officials', 'and', 'businessmen', 'close', 'to', 'the', 'kremlin', 'published', 'by', 'the', 'us', 'has', 'in', 'effect', 'targeted', 'all', 'russian', 'people', 'the', 'list', 'names', 'top', 'russians', 'as', 'part', 'of', 'sanctions', 'law', 'aimed', 'at', 'punishing', 'moscow', 'for', 'meddling', 'in', 'the', 'us', 'election', 'however', 'the', 'us', 'stressed', 'those', 'named', 'were', 'not', 'subject', 'to', 'new', 'sanctions', 'mr', 'putin', 'said', 'the', 'list', 'was', 'an', 'unfriendly', 'act', 'that', 'complicated', 'us', 'russia', 'ties', 'but', 'he', 'said', 'he', 'did', 'not', 'want', 'to', 'escalate', 'the', 'situation', 'mr', 'putin', 'said', 'russia', 'should', 'instead', 'be', 'thinking', 'about', 'ourselves', 'and', 'the', 'economy', 'the', 'list', 'was', 'also', 'derided', 'by', 'number', 'of', 'senior', 'russian', 'officials', 'who', 'said', 'it', 'bore', 'strong', 'resemblance', 'to', 'the', 'forbes', 'magazine', 'ranking', 'of', 'russian', 'billionaires', 'us', 'treasury', 'department', 'later', 'told', 'buzzfeed', 'that', 'an', 'unclassified', 'annex', 'of', 'the', 'report', 'had', 'been', 'derived', 'from', 'the', 'magazine', 'why', 'did', 'the', 'us', 'publish', 'the', 'list', 'the', 'government', 'was', 'required', 'to', 'draw', 'up', 'the', 'list', 'after', 'congress', 'passed', 'the', 'countering', 'americas', 'adversaries', 'through', 'sanctions', 'act', 'caatsa', 'in', 'august', 'the', 'law', 'aimed', 'to', 'punish', 'russia', 'for', 'its', 'alleged', 'meddling', 'in', 'the', 'us', 'presidential', 'election', 'and', 'its', 'actions', 'in', 'ukraine', 'congress', 'wanted', 'the', 'list', 'to', 'name', 'and', 'shame', 'those', 'who', 'had', 'benefited', 'from', 'close', 'association', 'with', 'president', 'putin', 'and', 'put', 'them', 'on', 'notice', 'that', 'they', 'could', 'be', 'targeted', 'for', 'sanctions', 'or', 'more', 'sanctions', 'in', 'the', 'future', 'president', 'donald', 'trump', 'did', 'not', 'support', 'caatsa', 'even', 'though', 'he', 'signed', 'it', 'into', 'law', 'saying', 'it', 'was', 'under', 'the', 'law', 'the', 'list', 'had', 'to', 'be', 'delivered', 'by', 'monday', 'the', 'fact', 'it', 'was', 'released', 'about', 'minutes', 'before', 'midnight', 'may', 'reflect', 'mr', 'trumps', 'coolness', 'towards', 'it', 'and', 'his', 'opposition', 'to', 'punishing', 'more', 'russians', 'with', 'sanctions', 'the', 'top', 'democrat', 'on', 'the', 'house', 'foreign', 'affairs', 'committee', 'eliot', 'engel', 'accused', 'the', 'trump', 'administration', 'of', 'letting', 'russia', 'off', 'the', 'hook', 'again', 'by', 'not', 'taking', 'substantial', 'action', 'who', 'has', 'been', 'named', 'informally', 'known', 'as', 'the', 'putin', 'list', 'the', 'unclassified', 'section', 'has', 'names', 'of', 'them', 'in', 'the', 'government', 'or', 'linked', 'to', 'it', 'or', 'key', 'businessmen', 'the', 'other', 'are', 'oligarchs', 'apparently', 'determined', 'more', 'by', 'the', 'fact', 'they', 'are', 'worth', 'more', 'than', 'bn', 'than', 'their', 'close', 'ties', 'to', 'the', 'kremlin', 'image', 'copyright', 'reuters', 'image', 'caption', 'congress', 'passed', 'the', 'law', 'in', 'august', 'although', 'president', 'donald', 'trump', 'had', 'opposed', 'it', 'most', 'of', 'mr', 'putins', 'longstanding', 'allies', 'are', 'named', 'many', 'of', 'them', 'siloviki', 'security', 'guys', 'they', 'include', 'the', 'spy', 'chiefs', 'alexander', 'bortnikov', 'of', 'the', 'federal', 'security', 'service', 'fsb', 'which', 'mr', 'putin', 'used', 'to', 'run', 'and', 'sergei', 'naryshkin', 'of', 'the', 'foreign', 'intelligence', 'service', 'svr', 'the', 'men', 'who', 'control', 'russias', 'energy', 'resources', 'are', 'listed', 'gazprom', 'chief', 'alexei', 'miller', 'rosneft', 'chief', 'igor', 'sechin', 'and', 'other', 'oil', 'and', 'gas', 'executives', 'along', 'with', 'top', 'bankers', 'like', 'bank', 'rossiya', 'manager', 'yuri', 'kovalchuk', 'the', 'oligarchs', 'include', 'kirill', 'shamalov', 'who', 'is', 'reported', 'to', 'be', 'mr', 'putins', 'son', 'in', 'law', 'although', 'the', 'kremlin', 'has', 'never', 'confirmed', 'his', 'marriage', 'to', 'katerina', 'tikhonova', 'nor', 'even', 'that', 'she', 'is', 'the', 'presidents', 'daughter', 'internationally', 'known', 'oligarchs', 'are', 'there', 'too', 'such', 'as', 'those', 'with', 'stakes', 'in', 'top', 'english', 'football', 'clubs', 'alisher', 'usmanov', 'arsenal', 'and', 'roman', 'abramovich', 'chelsea', 'will', 'they', 'face', 'new', 'sanctions', 'not', 'at', 'the', 'moment', 'the', 'us', 'treasury', 'document', 'itself', 'stresses', 'it', 'is', 'not', 'sanctions', 'list', 'and', 'the', 'inclusion', 'of', 'individuals', 'or', 'entities', 'does', 'not', 'and', 'in', 'no', 'way', 'should', 'be', 'interpreted', 'to', 'impose', 'sanctions', 'on', 'those', 'individuals', 'or', 'entities', 'it', 'adds', 'neither', 'does', 'inclusion', 'on', 'the', 'unclassified', 'list', 'indicate', 'that', 'the', 'us', 'government', 'has', 'information', 'about', 'the', 'individuals', 'involvement', 'in', 'malign', 'activities', 'however', 'there', 'is', 'classified', 'version', 'said', 'to', 'include', 'information', 'detailing', 'allegations', 'of', 'involvement', 'in', 'corrupt', 'activities', 'what', 'does', 'it', 'mean', 'for', 'russias', 'elite', 'analysis', 'steve', 'rosenberg', 'bbc', 'moscow', 'correspondent', 'the', 'good', 'news', 'for', 'the', 'kremlin', 'this', 'isnt', 'sanctions', 'list', 'but', 'the', 'good', 'news', 'ends', 'there', 'those', 'russian', 'officials', 'and', 'oligarchs', 'named', 'by', 'the', 'us', 'treasury', 'will', 'worry', 'that', 'their', 'inclusion', 'could', 'signal', 'sanctions', 'in', 'the', 'future', 'even', 'before', 'the', 'list', 'was', 'made', 'public', 'the', 'kremlin', 'had', 'claimed', 'the', 'us', 'treasury', 'report', 'was', 'an', 'attempt', 'to', 'meddle', 'in', 'russias', 'presidential', 'election', 'the', 'list', 'reads', 'like', 'whos', 'who', 'of', 'the', 'russian', 'political', 'elite', 'and', 'business', 'world', 'moscow', 'wont', 'want', 'that', 'to', 'become', 'whos', 'sanctioned', 'what', 'is', 'the', 'caatsa', 'act', 'and', 'did', 'the', 'president', 'want', 'it', 'the', 'law', 'limited', 'the', 'amount', 'of', 'money', 'americans', 'could', 'invest', 'in', 'russian', 'energy', 'projects', 'and', 'made', 'it', 'more', 'difficult', 'for', 'us', 'companies', 'to', 'do', 'business', 'with', 'russia', 'it', 'also', 'imposed', 'sanctions', 'on', 'iran', 'and', 'north', 'korea', 'media', 'playback', 'is', 'unsupported', 'on', 'your', 'device', 'media', 'caption', 'all', 'you', 'need', 'to', 'know', 'about', 'the', 'trump', 'russia', 'investigation', 'in', 'signing', 'the', 'act', 'mr', 'trump', 'attached', 'statement', 'calling', 'the', 'measure', 'deeply', 'flawed', 'and', 'said', 'he', 'could', 'make', 'far', 'better', 'deals', 'with', 'foreign', 'countries', 'than', 'congress', 'earlier', 'on', 'monday', 'the', 'us', 'government', 'argued', 'the', 'caatsa', 'law', 'had', 'already', 'pushed', 'governments', 'around', 'the', 'world', 'to', 'cancel', 'deals', 'with', 'russia', 'worth', 'billions', 'suggesting', 'that', 'more', 'sanctions', 'were', 'not', 'required', 'how', 'have', 'the', 'russians', 'reacted', 'perhaps', 'referring', 'to', 'the', 'fact', 'that', 'all', 'of', 'their', 'political', 'representatives', 'had', 'been', 'named', 'mr', 'putin', 'said', 'that', 'in', 'effect', 'all', 'million', 'russians', 'have', 'been', 'put', 'on', 'the', 'list', 'he', 'joked', 'he', 'was', 'offended', 'not', 'to', 'be', 'named', 'himself', 'earlier', 'kremlin', 'spokesman', 'dmitry', 'peskov', 'who', 'is', 'himself', 'on', 'the', 'list', 'accepted', 'that', 'it', 'was', 'not', 'one', 'of', 'sanctions', 'but', 'said', 'it', 'could', 'potentially', 'damage', 'the', 'image', 'and', 'reputation', 'of', 'figures', 'listed', 'and', 'their', 'associated', 'companies', 'he', 'added', 'its', 'not', 'the', 'first', 'day', 'that', 'we', 'live', 'with', 'quite', 'aggressive', 'comments', 'made', 'towards', 'us', 'so', 'we', 'should', 'not', 'give', 'in', 'to', 'emotions', 'when', 'caatsa', 'was', 'passed', 'pm', 'dmitry', 'medvedev', 'said', 'it', 'meant', 'the', 'us', 'had', 'declared', 'full', 'scale', 'trade', 'war', 'on', 'russia', 'russian', 'opposition', 'leader', 'alexei', 'navalny', 'praised', 'the', 'publication', 'of', 'the', 'names', 'as', 'good', 'list']]\n"
     ]
    }
   ],
   "source": [
    "# Tokenize words and Clean-up text\n",
    "\n",
    "def sent_to_words(sentences):\n",
    "    for sentence in sentences:\n",
    "        yield(gensim.utils.simple_preprocess(str(sentence), deacc=True))  # deacc=True removes punctuations\n",
    "\n",
    "data_words = list(sent_to_words(data))\n",
    "\n",
    "print(data_words[:1])"
   ]
  },
  {
   "cell_type": "code",
   "execution_count": 15,
   "metadata": {},
   "outputs": [],
   "source": [
    "# Creating unigrams"
   ]
  },
  {
   "cell_type": "code",
   "execution_count": 16,
   "metadata": {},
   "outputs": [
    {
     "name": "stdout",
     "output_type": "stream",
     "text": [
      "['image_copyright_pa', 'epa_image_caption', 'oligarch', 'roman', 'abramovich', 'and', 'pm', 'dmitry', 'medvedev', 'are', 'on', 'the', 'list', 'russian', 'president', 'vladimir_putin', 'says', 'list', 'of', 'officials', 'and', 'businessmen', 'close', 'to', 'the', 'kremlin', 'published', 'by', 'the', 'us', 'has', 'in', 'effect', 'targeted', 'all', 'russian', 'people', 'the', 'list', 'names', 'top', 'russians', 'as', 'part', 'of', 'sanctions', 'law', 'aimed', 'at', 'punishing', 'moscow', 'for', 'meddling', 'in', 'the', 'us', 'election', 'however', 'the', 'us', 'stressed', 'those', 'named', 'were', 'not', 'subject', 'to', 'new', 'sanctions', 'mr', 'putin', 'said', 'the', 'list', 'was', 'an', 'unfriendly', 'act', 'that', 'complicated', 'us', 'russia', 'ties', 'but', 'he', 'said', 'he', 'did', 'not', 'want', 'to', 'escalate', 'the', 'situation', 'mr', 'putin', 'said', 'russia', 'should', 'instead', 'be', 'thinking', 'about', 'ourselves', 'and', 'the', 'economy', 'the', 'list', 'was', 'also', 'derided', 'by', 'number', 'of', 'senior', 'russian', 'officials', 'who', 'said', 'it', 'bore', 'strong', 'resemblance', 'to', 'the', 'forbes', 'magazine', 'ranking', 'of', 'russian', 'billionaires', 'us_treasury', 'department', 'later', 'told', 'buzzfeed', 'that', 'an', 'unclassified', 'annex', 'of', 'the', 'report', 'had', 'been', 'derived', 'from', 'the', 'magazine', 'why', 'did', 'the', 'us', 'publish', 'the', 'list', 'the', 'government', 'was', 'required', 'to', 'draw', 'up', 'the', 'list', 'after', 'congress', 'passed', 'the', 'countering', 'americas', 'adversaries', 'through', 'sanctions', 'act', 'caatsa', 'in', 'august', 'the', 'law', 'aimed', 'to', 'punish', 'russia', 'for', 'its', 'alleged', 'meddling', 'in', 'the', 'us', 'presidential_election', 'and', 'its', 'actions', 'in', 'ukraine', 'congress', 'wanted', 'the', 'list', 'to', 'name', 'and', 'shame', 'those', 'who', 'had', 'benefited', 'from', 'close', 'association', 'with', 'president', 'putin', 'and', 'put', 'them', 'on', 'notice', 'that', 'they', 'could', 'be', 'targeted', 'for', 'sanctions', 'or', 'more', 'sanctions', 'in', 'the', 'future', 'president_donald', 'trump', 'did', 'not', 'support', 'caatsa', 'even', 'though', 'he', 'signed', 'it', 'into', 'law', 'saying', 'it', 'was', 'under', 'the', 'law', 'the', 'list', 'had', 'to', 'be', 'delivered', 'by', 'monday', 'the', 'fact', 'it', 'was', 'released', 'about', 'minutes', 'before', 'midnight', 'may', 'reflect', 'mr_trumps', 'coolness', 'towards', 'it', 'and', 'his', 'opposition', 'to', 'punishing', 'more', 'russians', 'with', 'sanctions', 'the', 'top', 'democrat', 'on', 'the', 'house', 'foreign', 'affairs', 'committee', 'eliot', 'engel', 'accused', 'the', 'trump', 'administration', 'of', 'letting', 'russia', 'off', 'the', 'hook', 'again', 'by', 'not', 'taking', 'substantial', 'action', 'who', 'has', 'been', 'named', 'informally', 'known', 'as', 'the', 'putin', 'list', 'the', 'unclassified', 'section', 'has', 'names', 'of', 'them', 'in', 'the', 'government', 'or', 'linked', 'to', 'it', 'or', 'key', 'businessmen', 'the', 'other', 'are', 'oligarchs', 'apparently', 'determined', 'more', 'by', 'the', 'fact', 'they', 'are', 'worth', 'more_than', 'bn', 'than', 'their', 'close', 'ties', 'to', 'the', 'kremlin', 'image_copyright_reuters', 'image_caption', 'congress', 'passed', 'the', 'law', 'in', 'august', 'although', 'president_donald', 'trump', 'had', 'opposed', 'it', 'most', 'of', 'mr', 'putins', 'longstanding', 'allies', 'are', 'named', 'many', 'of', 'them', 'siloviki', 'security', 'guys', 'they', 'include', 'the', 'spy', 'chiefs', 'alexander', 'bortnikov', 'of', 'the', 'federal', 'security', 'service', 'fsb', 'which', 'mr', 'putin', 'used', 'to', 'run', 'and', 'sergei', 'naryshkin', 'of', 'the', 'foreign', 'intelligence', 'service', 'svr', 'the', 'men', 'who', 'control', 'russias', 'energy', 'resources', 'are', 'listed', 'gazprom', 'chief', 'alexei', 'miller', 'rosneft', 'chief', 'igor', 'sechin', 'and', 'other', 'oil', 'and', 'gas', 'executives', 'along', 'with', 'top', 'bankers', 'like', 'bank', 'rossiya', 'manager', 'yuri', 'kovalchuk', 'the', 'oligarchs', 'include', 'kirill', 'shamalov', 'who', 'is', 'reported', 'to', 'be', 'mr', 'putins', 'son', 'in', 'law', 'although', 'the', 'kremlin', 'has', 'never', 'confirmed', 'his', 'marriage', 'to', 'katerina', 'tikhonova', 'nor', 'even', 'that', 'she', 'is', 'the', 'presidents', 'daughter', 'internationally', 'known', 'oligarchs', 'are', 'there', 'too', 'such', 'as', 'those', 'with', 'stakes', 'in', 'top', 'english', 'football', 'clubs', 'alisher', 'usmanov', 'arsenal', 'and', 'roman', 'abramovich', 'chelsea', 'will', 'they', 'face', 'new', 'sanctions', 'not', 'at', 'the', 'moment', 'the', 'us_treasury', 'document', 'itself', 'stresses', 'it', 'is', 'not', 'sanctions', 'list', 'and', 'the', 'inclusion', 'of', 'individuals', 'or', 'entities', 'does', 'not', 'and', 'in', 'no', 'way', 'should', 'be', 'interpreted', 'to', 'impose', 'sanctions', 'on', 'those', 'individuals', 'or', 'entities', 'it', 'adds', 'neither', 'does', 'inclusion', 'on', 'the', 'unclassified', 'list', 'indicate', 'that', 'the', 'us', 'government', 'has', 'information', 'about', 'the', 'individuals', 'involvement', 'in', 'malign', 'activities', 'however', 'there', 'is', 'classified', 'version', 'said', 'to', 'include', 'information', 'detailing', 'allegations', 'of', 'involvement', 'in', 'corrupt', 'activities', 'what', 'does', 'it', 'mean', 'for', 'russias', 'elite', 'analysis', 'steve', 'rosenberg', 'bbc', 'moscow', 'correspondent', 'the', 'good', 'news', 'for', 'the', 'kremlin', 'this', 'isnt', 'sanctions', 'list', 'but', 'the', 'good', 'news', 'ends', 'there', 'those', 'russian', 'officials', 'and', 'oligarchs', 'named', 'by', 'the', 'us_treasury', 'will', 'worry', 'that', 'their', 'inclusion', 'could', 'signal', 'sanctions', 'in', 'the', 'future', 'even', 'before', 'the', 'list', 'was', 'made', 'public', 'the', 'kremlin', 'had', 'claimed', 'the', 'us_treasury', 'report', 'was', 'an', 'attempt', 'to', 'meddle', 'in', 'russias', 'presidential_election', 'the', 'list', 'reads', 'like', 'whos', 'who', 'of', 'the', 'russian', 'political', 'elite', 'and', 'business', 'world', 'moscow', 'wont', 'want', 'that', 'to', 'become', 'whos', 'sanctioned', 'what', 'is', 'the', 'caatsa', 'act', 'and', 'did', 'the', 'president', 'want', 'it', 'the', 'law', 'limited', 'the', 'amount', 'of', 'money', 'americans', 'could', 'invest', 'in', 'russian', 'energy', 'projects', 'and', 'made', 'it', 'more', 'difficult', 'for', 'us', 'companies', 'to', 'do', 'business', 'with', 'russia', 'it', 'also', 'imposed', 'sanctions', 'on', 'iran', 'and', 'north_korea', 'media_playback', 'is', 'unsupported', 'on_your_device', 'media_caption', 'all', 'you', 'need', 'to', 'know', 'about', 'the', 'trump', 'russia', 'investigation', 'in', 'signing', 'the', 'act', 'mr_trump', 'attached', 'statement', 'calling', 'the', 'measure', 'deeply', 'flawed', 'and', 'said', 'he', 'could', 'make', 'far', 'better', 'deals', 'with', 'foreign', 'countries', 'than', 'congress', 'earlier', 'on', 'monday', 'the', 'us', 'government', 'argued', 'the', 'caatsa', 'law', 'had', 'already', 'pushed', 'governments', 'around', 'the', 'world', 'to', 'cancel', 'deals', 'with', 'russia', 'worth', 'billions', 'suggesting', 'that', 'more', 'sanctions', 'were', 'not', 'required', 'how', 'have', 'the', 'russians', 'reacted', 'perhaps', 'referring', 'to', 'the', 'fact', 'that', 'all', 'of', 'their', 'political', 'representatives', 'had', 'been', 'named', 'mr', 'putin', 'said', 'that', 'in', 'effect', 'all', 'million', 'russians', 'have', 'been', 'put', 'on', 'the', 'list', 'he', 'joked', 'he', 'was', 'offended', 'not', 'to', 'be', 'named', 'himself', 'earlier', 'kremlin', 'spokesman', 'dmitry', 'peskov', 'who', 'is', 'himself', 'on', 'the', 'list', 'accepted', 'that', 'it', 'was', 'not', 'one', 'of', 'sanctions', 'but', 'said', 'it', 'could', 'potentially', 'damage', 'the', 'image', 'and', 'reputation', 'of', 'figures', 'listed', 'and', 'their', 'associated', 'companies', 'he', 'added', 'its', 'not', 'the', 'first', 'day', 'that', 'we', 'live', 'with', 'quite', 'aggressive', 'comments', 'made', 'towards', 'us', 'so', 'we', 'should', 'not', 'give', 'in', 'to', 'emotions', 'when', 'caatsa', 'was', 'passed', 'pm', 'dmitry', 'medvedev', 'said', 'it', 'meant', 'the', 'us', 'had', 'declared', 'full', 'scale', 'trade', 'war', 'on', 'russia', 'russian', 'opposition', 'leader', 'alexei', 'navalny', 'praised', 'the', 'publication', 'of', 'the', 'names', 'as', 'good', 'list']\n"
     ]
    }
   ],
   "source": [
    "# Build the bigram and trigram models\n",
    "bigram = gensim.models.Phrases(data_words, min_count=5, threshold=100) # higher threshold fewer phrases.\n",
    "trigram = gensim.models.Phrases(bigram[data_words], threshold=100)  \n",
    "\n",
    "# Faster way to get a sentence clubbed as a trigram/bigram\n",
    "bigram_mod = gensim.models.phrases.Phraser(bigram)\n",
    "trigram_mod = gensim.models.phrases.Phraser(trigram)\n",
    "\n",
    "# See trigram example\n",
    "print(trigram_mod[bigram_mod[data_words[0]]])"
   ]
  },
  {
   "cell_type": "code",
   "execution_count": null,
   "metadata": {},
   "outputs": [],
   "source": []
  },
  {
   "cell_type": "code",
   "execution_count": 17,
   "metadata": {},
   "outputs": [],
   "source": [
    "# Remove Stopwords, Make Bigrams and Lemmatize"
   ]
  },
  {
   "cell_type": "code",
   "execution_count": 18,
   "metadata": {},
   "outputs": [],
   "source": [
    "# Define functions for stopwords, bigrams, trigrams and lemmatization\n",
    "def remove_stopwords(texts):\n",
    "    return [[word for word in simple_preprocess(str(doc)) if word not in stop_words] for doc in texts]\n",
    "\n",
    "def make_bigrams(texts):\n",
    "    return [bigram_mod[doc] for doc in texts]\n",
    "\n",
    "def make_trigrams(texts):\n",
    "    return [trigram_mod[bigram_mod[doc]] for doc in texts]\n",
    "\n",
    "def lemmatization(texts, allowed_postags=['NOUN', 'ADJ', 'VERB', 'ADV']):\n",
    "    \"\"\"https://spacy.io/api/annotation\"\"\"\n",
    "    texts_out = []\n",
    "    for sent in texts:\n",
    "        doc = nlp(\" \".join(sent)) \n",
    "        texts_out.append([token.lemma_ for token in doc if token.pos_ in allowed_postags])\n",
    "    return texts_out"
   ]
  },
  {
   "cell_type": "code",
   "execution_count": null,
   "metadata": {},
   "outputs": [],
   "source": []
  },
  {
   "cell_type": "code",
   "execution_count": 19,
   "metadata": {},
   "outputs": [],
   "source": [
    "# Remove Stop Words\n",
    "data_words_nostops = remove_stopwords(data_words)\n",
    "\n",
    "# Form Bigrams\n",
    "data_words_bigrams = make_bigrams(data_words_nostops)\n"
   ]
  },
  {
   "cell_type": "code",
   "execution_count": null,
   "metadata": {},
   "outputs": [],
   "source": []
  },
  {
   "cell_type": "code",
   "execution_count": 20,
   "metadata": {},
   "outputs": [],
   "source": [
    "# Initialize spacy 'en' model, keeping only tagger component (for efficiency)\n",
    "# python3 -m spacy download en_core_web_sm\n",
    "nlp = spacy.load('en_core_web_sm')"
   ]
  },
  {
   "cell_type": "code",
   "execution_count": 21,
   "metadata": {},
   "outputs": [
    {
     "name": "stdout",
     "output_type": "stream",
     "text": [
      "[['pa', 'epa', 'image_caption', 'oligarch', 'roman', 'pm', 'dmitry', 'medvedev', 'list', 'russian', 'president', 'say', 'list', 'official', 'businessman', 'close', 'kremlin', 'publish', 'effect', 'target', 'russian', 'people', 'list', 'name', 'top', 'russian', 'part', 'sanction', 'law', 'aim', 'punish', 'moscow', 'meddle', 'election', 'however', 'stress', 'name', 'new', 'sanction', 'putin', 'say', 'list', 'unfriendly', 'act', 'complicate', 'russia', 'tie', 'say', 'want', 'escalate', 'situation', 'mr', 'putin', 'say', 'russia', 'instead', 'think', 'economy', 'list', 'also', 'deride', 'number', 'senior', 'russian', 'official', 'say', 'bore', 'strong', 'resemblance', 'forbe', 'magazine', 'rank', 'russian', 'billionaire', 'department', 'later', 'tell', 'buzzfeed', 'unclassified', 'annex', 'report', 'derive', 'magazine', 'publish', 'list', 'government', 'require', 'draw', 'list', 'congress', 'pass', 'counter', 'america', 'adversary', 'sanction', 'act', 'caatsa', 'august', 'law', 'aim', 'punish', 'russia', 'allege', 'meddle', 'presidential_election', 'action', 'ukraine', 'congress', 'want', 'list', 'name', 'shame', 'benefit', 'close', 'association', 'president', 'putin', 'put', 'notice', 'target', 'sanction', 'sanction', 'future', 'president_donald', 'trump', 'support', 'caatsa', 'even', 'sign', 'law', 'say', 'law', 'list', 'deliver', 'fact', 'release', 'minute', 'midnight', 'reflect', 'mr', 'trump', 'coolness', 'opposition', 'punish', 'russian', 'sanction', 'top', 'house', 'foreign', 'affair', 'committee', 'eliot', 'engel', 'accuse', 'trump', 'administration', 'let', 'russia', 'hook', 'take', 'substantial', 'action', 'name', 'informally', 'know', 'putin', 'list', 'unclassified', 'section', 'name', 'government', 'link', 'key', 'businessman', 'oligarch', 'apparently', 'determine', 'fact', 'worth', 'close', 'tie', 'reuter', 'image_caption', 'congress', 'pass', 'law', 'august', 'president_donald', 'trump', 'oppose', 'mr', 'putin', 'longstanding', 'ally', 'name', 'many', 'siloviki', 'security', 'guy', 'include', 'spy', 'chief', 'alexander', 'bortnikov', 'federal', 'security', 'service', 'fsb', 'mr', 'putin', 'use', 'run', 'sergei', 'naryshkin', 'foreign', 'intelligence', 'service', 'svr', 'man', 'control', 'russias', 'energy', 'resource', 'list', 'gazprom', 'chief', 'alexei', 'miller', 'rosneft', 'chief', 'igor', 'sechin', 'oil', 'gas', 'executive', 'top', 'banker', 'bank', 'rossiya', 'manager', 'kovalchuk', 'oligarch', 'include', 'kirill', 'shamalov', 'report', 'mr', 'putin', 'son', 'law', 'never', 'confirm', 'marriage', 'katerina', 'tikhonova', 'even', 'president', 'daughter', 'internationally', 'know', 'oligarch', 'stake', 'top', 'english', 'football', 'club', 'alisher', 'arsenal', 'roman', 'chelsea', 'face', 'new', 'sanction', 'moment', 'document', 'stress', 'sanction', 'list', 'inclusion', 'individual', 'entity', 'way', 'interpret', 'impose', 'sanction', 'individual', 'entity', 'add', 'inclusion', 'unclassified', 'list', 'indicate', 'government', 'information', 'individual', 'involvement', 'malign', 'activity', 'however', 'classified', 'version', 'say', 'include', 'information', 'detail', 'allegation', 'involvement', 'corrupt', 'activity', 'mean', 'russia', 'elite', 'analysis', 'steve', 'rosenberg', 'bbc', 'moscow', 'correspondent', 'good', 'news', 'kremlin', 'sanction', 'list', 'good', 'news', 'end', 'russian', 'official', 'oligarch', 'name', 'worry', 'inclusion', 'signal', 'sanction', 'future', 'even', 'list', 'make', 'public', 'kremlin', 'claim', 'report', 'attempt', 'meddle', 'russias', 'presidential_election', 'list', 'read', 's', 'russian', 'political', 'elite', 'business', 'world', 'moscow', 'want', 'become', 's', 'sanctioned', 'caatsa', 'act', 'president', 'want', 'law', 'limited', 'amount', 'money', 'american', 'invest', 'russian', 'energy', 'project', 'make', 'difficult', 'company', 'business', 'russia', 'also', 'impose', 'sanction', 'iran', 'media_playback', 'unsupported', 'caption', 'need', 'know', 'trump', 'russia', 'investigation', 'signing', 'act', 'trump', 'attach', 'statement', 'call', 'measure', 'deeply', 'flawed', 'say', 'make', 'far', 'well', 'deal', 'foreign', 'country', 'congress', 'early', 'monday', 'government', 'argue', 'caatsa', 'law', 'already', 'push', 'government', 'world', 'cancel', 'deal', 'russia', 'worth', 'billion', 'suggest', 'sanction', 'require', 'russian', 'react', 'perhaps', 'refer', 'fact', 'political', 'representative', 'name', 'mr', 'putin', 'say', 'effect', 'russian', 'put', 'list', 'joke', 'offend', 'name', 'early', 'kremlin', 'spokesman', 'dmitry', 'peskov', 'list', 'accept', 'sanction', 'say', 'potentially', 'damage', 'image', 'reputation', 'figure', 'list', 'associate', 'company', 'add', 'first', 'day', 'live', 'quite', 'aggressive', 'comment', 'make', 'give', 'emotion', 'caatsa', 'pass', 'pm', 'dmitry', 'medvedev', 'say', 'mean', 'declare', 'full', 'scale', 'trade', 'war', 'russia', 'russian', 'opposition', 'leader', 'alexei', 'navalny', 'praise', 'publication', 'name', 'good', 'list']]\n"
     ]
    }
   ],
   "source": [
    "# Do lemmatization keeping only noun, adj, vb, adv\n",
    "data_lemmatized = lemmatization(data_words_bigrams, allowed_postags=['NOUN', 'ADJ', 'VERB', 'ADV'])\n",
    "\n",
    "print(data_lemmatized[:1])"
   ]
  },
  {
   "cell_type": "code",
   "execution_count": 22,
   "metadata": {},
   "outputs": [],
   "source": [
    "# create a dictionary which will be the input for LDA model"
   ]
  },
  {
   "cell_type": "code",
   "execution_count": 23,
   "metadata": {},
   "outputs": [
    {
     "name": "stdout",
     "output_type": "stream",
     "text": [
      "[[(0, 1), (1, 1), (2, 4), (3, 2), (4, 2), (5, 2), (6, 1), (7, 1), (8, 1), (9, 1), (10, 2), (11, 1), (12, 2), (13, 1), (14, 1), (15, 1), (16, 1), (17, 1), (18, 2), (19, 1), (20, 1), (21, 1), (22, 1), (23, 1), (24, 1), (25, 1), (26, 1), (27, 1), (28, 1), (29, 1), (30, 1), (31, 2), (32, 1), (33, 1), (34, 1), (35, 1), (36, 1), (37, 1), (38, 1), (39, 1), (40, 1), (41, 2), (42, 2), (43, 1), (44, 5), (45, 1), (46, 1), (47, 1), (48, 1), (49, 3), (50, 1), (51, 1), (52, 3), (53, 1), (54, 1), (55, 1), (56, 2), (57, 1), (58, 1), (59, 4), (60, 1), (61, 1), (62, 1), (63, 1), (64, 1), (65, 1), (66, 1), (67, 1), (68, 1), (69, 2), (70, 1), (71, 1), (72, 1), (73, 1), (74, 1), (75, 1), (76, 1), (77, 1), (78, 1), (79, 3), (80, 1), (81, 1), (82, 2), (83, 1), (84, 2), (85, 1), (86, 1), (87, 2), (88, 1), (89, 1), (90, 2), (91, 1), (92, 1), (93, 2), (94, 1), (95, 1), (96, 3), (97, 1), (98, 1), (99, 3), (100, 1), (101, 1), (102, 1), (103, 1), (104, 1), (105, 1), (106, 1), (107, 3), (108, 1), (109, 1), (110, 2), (111, 1), (112, 1), (113, 1), (114, 3), (115, 5), (116, 1), (117, 1), (118, 1), (119, 2), (120, 1), (121, 1), (122, 2), (123, 2), (124, 3), (125, 3), (126, 1), (127, 3), (128, 1), (129, 2), (130, 1), (131, 1), (132, 1), (133, 1), (134, 1), (135, 1), (136, 2), (137, 1), (138, 1), (139, 1), (140, 1), (141, 1), (142, 3), (143, 1), (144, 4), (145, 1), (146, 8), (147, 1), (148, 1), (149, 1), (150, 1), (151, 20), (152, 1), (153, 1), (154, 2), (155, 4), (156, 1), (157, 1), (158, 1), (159, 1), (160, 1), (161, 2), (162, 1), (163, 3), (164, 1), (165, 2), (166, 1), (167, 1), (168, 1), (169, 1), (170, 1), (171, 1), (172, 3), (173, 6), (174, 10), (175, 1), (176, 1), (177, 1), (178, 1), (179, 2), (180, 2), (181, 1), (182, 1), (183, 1), (184, 3), (185, 1), (186, 5), (187, 1), (188, 2), (189, 1), (190, 1), (191, 3), (192, 1), (193, 1), (194, 1), (195, 2), (196, 2), (197, 1), (198, 1), (199, 4), (200, 2), (201, 2), (202, 1), (203, 1), (204, 1), (205, 2), (206, 3), (207, 1), (208, 2), (209, 8), (210, 1), (211, 1), (212, 1), (213, 1), (214, 1), (215, 1), (216, 1), (217, 3), (218, 1), (219, 1), (220, 2), (221, 1), (222, 1), (223, 1), (224, 2), (225, 1), (226, 1), (227, 1), (228, 1), (229, 9), (230, 12), (231, 2), (232, 2), (233, 14), (234, 1), (235, 11), (236, 1), (237, 1), (238, 1), (239, 2), (240, 1), (241, 1), (242, 2), (243, 1), (244, 1), (245, 1), (246, 1), (247, 1), (248, 1), (249, 1), (250, 1), (251, 1), (252, 1), (253, 1), (254, 1), (255, 1), (256, 2), (257, 1), (258, 1), (259, 1), (260, 1), (261, 1), (262, 1), (263, 2), (264, 1), (265, 1), (266, 2), (267, 1), (268, 4), (269, 1), (270, 6), (271, 1), (272, 3), (273, 1), (274, 1), (275, 1), (276, 1), (277, 4), (278, 1), (279, 1), (280, 1), (281, 2), (282, 1), (283, 2)]]\n"
     ]
    }
   ],
   "source": [
    "# Create Dictionary\n",
    "id2word = corpora.Dictionary(data_lemmatized)\n",
    "\n",
    "# Create Corpus\n",
    "texts = data_lemmatized\n",
    "\n",
    "# Term Document Frequency\n",
    "corpus = [id2word.doc2bow(text) for text in texts]\n",
    "\n",
    "# View\n",
    "print(corpus[:1])"
   ]
  },
  {
   "cell_type": "code",
   "execution_count": 24,
   "metadata": {},
   "outputs": [
    {
     "data": {
      "text/plain": [
       "[[('accept', 1),\n",
       "  ('accuse', 1),\n",
       "  ('act', 4),\n",
       "  ('action', 2),\n",
       "  ('activity', 2),\n",
       "  ('add', 2),\n",
       "  ('administration', 1),\n",
       "  ('adversary', 1),\n",
       "  ('affair', 1),\n",
       "  ('aggressive', 1),\n",
       "  ('aim', 2),\n",
       "  ('alexander', 1),\n",
       "  ('alexei', 2),\n",
       "  ('alisher', 1),\n",
       "  ('allegation', 1),\n",
       "  ('allege', 1),\n",
       "  ('ally', 1),\n",
       "  ('already', 1),\n",
       "  ('also', 2),\n",
       "  ('america', 1),\n",
       "  ('american', 1),\n",
       "  ('amount', 1),\n",
       "  ('analysis', 1),\n",
       "  ('annex', 1),\n",
       "  ('apparently', 1),\n",
       "  ('argue', 1),\n",
       "  ('arsenal', 1),\n",
       "  ('associate', 1),\n",
       "  ('association', 1),\n",
       "  ('attach', 1),\n",
       "  ('attempt', 1),\n",
       "  ('august', 2),\n",
       "  ('bank', 1),\n",
       "  ('banker', 1),\n",
       "  ('bbc', 1),\n",
       "  ('become', 1),\n",
       "  ('benefit', 1),\n",
       "  ('billion', 1),\n",
       "  ('billionaire', 1),\n",
       "  ('bore', 1),\n",
       "  ('bortnikov', 1),\n",
       "  ('business', 2),\n",
       "  ('businessman', 2),\n",
       "  ('buzzfeed', 1),\n",
       "  ('caatsa', 5),\n",
       "  ('call', 1),\n",
       "  ('cancel', 1),\n",
       "  ('caption', 1),\n",
       "  ('chelsea', 1),\n",
       "  ('chief', 3),\n",
       "  ('claim', 1),\n",
       "  ('classified', 1),\n",
       "  ('close', 3),\n",
       "  ('club', 1),\n",
       "  ('comment', 1),\n",
       "  ('committee', 1),\n",
       "  ('company', 2),\n",
       "  ('complicate', 1),\n",
       "  ('confirm', 1),\n",
       "  ('congress', 4),\n",
       "  ('control', 1),\n",
       "  ('coolness', 1),\n",
       "  ('correspondent', 1),\n",
       "  ('corrupt', 1),\n",
       "  ('counter', 1),\n",
       "  ('country', 1),\n",
       "  ('damage', 1),\n",
       "  ('daughter', 1),\n",
       "  ('day', 1),\n",
       "  ('deal', 2),\n",
       "  ('declare', 1),\n",
       "  ('deeply', 1),\n",
       "  ('deliver', 1),\n",
       "  ('department', 1),\n",
       "  ('deride', 1),\n",
       "  ('derive', 1),\n",
       "  ('detail', 1),\n",
       "  ('determine', 1),\n",
       "  ('difficult', 1),\n",
       "  ('dmitry', 3),\n",
       "  ('document', 1),\n",
       "  ('draw', 1),\n",
       "  ('early', 2),\n",
       "  ('economy', 1),\n",
       "  ('effect', 2),\n",
       "  ('election', 1),\n",
       "  ('eliot', 1),\n",
       "  ('elite', 2),\n",
       "  ('emotion', 1),\n",
       "  ('end', 1),\n",
       "  ('energy', 2),\n",
       "  ('engel', 1),\n",
       "  ('english', 1),\n",
       "  ('entity', 2),\n",
       "  ('epa', 1),\n",
       "  ('escalate', 1),\n",
       "  ('even', 3),\n",
       "  ('executive', 1),\n",
       "  ('face', 1),\n",
       "  ('fact', 3),\n",
       "  ('far', 1),\n",
       "  ('federal', 1),\n",
       "  ('figure', 1),\n",
       "  ('first', 1),\n",
       "  ('flawed', 1),\n",
       "  ('football', 1),\n",
       "  ('forbe', 1),\n",
       "  ('foreign', 3),\n",
       "  ('fsb', 1),\n",
       "  ('full', 1),\n",
       "  ('future', 2),\n",
       "  ('gas', 1),\n",
       "  ('gazprom', 1),\n",
       "  ('give', 1),\n",
       "  ('good', 3),\n",
       "  ('government', 5),\n",
       "  ('guy', 1),\n",
       "  ('hook', 1),\n",
       "  ('house', 1),\n",
       "  ('however', 2),\n",
       "  ('igor', 1),\n",
       "  ('image', 1),\n",
       "  ('image_caption', 2),\n",
       "  ('impose', 2),\n",
       "  ('include', 3),\n",
       "  ('inclusion', 3),\n",
       "  ('indicate', 1),\n",
       "  ('individual', 3),\n",
       "  ('informally', 1),\n",
       "  ('information', 2),\n",
       "  ('instead', 1),\n",
       "  ('intelligence', 1),\n",
       "  ('internationally', 1),\n",
       "  ('interpret', 1),\n",
       "  ('invest', 1),\n",
       "  ('investigation', 1),\n",
       "  ('involvement', 2),\n",
       "  ('iran', 1),\n",
       "  ('joke', 1),\n",
       "  ('katerina', 1),\n",
       "  ('key', 1),\n",
       "  ('kirill', 1),\n",
       "  ('know', 3),\n",
       "  ('kovalchuk', 1),\n",
       "  ('kremlin', 4),\n",
       "  ('later', 1),\n",
       "  ('law', 8),\n",
       "  ('leader', 1),\n",
       "  ('let', 1),\n",
       "  ('limited', 1),\n",
       "  ('link', 1),\n",
       "  ('list', 20),\n",
       "  ('live', 1),\n",
       "  ('longstanding', 1),\n",
       "  ('magazine', 2),\n",
       "  ('make', 4),\n",
       "  ('malign', 1),\n",
       "  ('man', 1),\n",
       "  ('manager', 1),\n",
       "  ('many', 1),\n",
       "  ('marriage', 1),\n",
       "  ('mean', 2),\n",
       "  ('measure', 1),\n",
       "  ('meddle', 3),\n",
       "  ('media_playback', 1),\n",
       "  ('medvedev', 2),\n",
       "  ('midnight', 1),\n",
       "  ('miller', 1),\n",
       "  ('minute', 1),\n",
       "  ('moment', 1),\n",
       "  ('monday', 1),\n",
       "  ('money', 1),\n",
       "  ('moscow', 3),\n",
       "  ('mr', 6),\n",
       "  ('name', 10),\n",
       "  ('naryshkin', 1),\n",
       "  ('navalny', 1),\n",
       "  ('need', 1),\n",
       "  ('never', 1),\n",
       "  ('new', 2),\n",
       "  ('news', 2),\n",
       "  ('notice', 1),\n",
       "  ('number', 1),\n",
       "  ('offend', 1),\n",
       "  ('official', 3),\n",
       "  ('oil', 1),\n",
       "  ('oligarch', 5),\n",
       "  ('oppose', 1),\n",
       "  ('opposition', 2),\n",
       "  ('pa', 1),\n",
       "  ('part', 1),\n",
       "  ('pass', 3),\n",
       "  ('people', 1),\n",
       "  ('perhaps', 1),\n",
       "  ('peskov', 1),\n",
       "  ('pm', 2),\n",
       "  ('political', 2),\n",
       "  ('potentially', 1),\n",
       "  ('praise', 1),\n",
       "  ('president', 4),\n",
       "  ('president_donald', 2),\n",
       "  ('presidential_election', 2),\n",
       "  ('project', 1),\n",
       "  ('public', 1),\n",
       "  ('publication', 1),\n",
       "  ('publish', 2),\n",
       "  ('punish', 3),\n",
       "  ('push', 1),\n",
       "  ('put', 2),\n",
       "  ('putin', 8),\n",
       "  ('quite', 1),\n",
       "  ('rank', 1),\n",
       "  ('react', 1),\n",
       "  ('read', 1),\n",
       "  ('refer', 1),\n",
       "  ('reflect', 1),\n",
       "  ('release', 1),\n",
       "  ('report', 3),\n",
       "  ('representative', 1),\n",
       "  ('reputation', 1),\n",
       "  ('require', 2),\n",
       "  ('resemblance', 1),\n",
       "  ('resource', 1),\n",
       "  ('reuter', 1),\n",
       "  ('roman', 2),\n",
       "  ('rosenberg', 1),\n",
       "  ('rosneft', 1),\n",
       "  ('rossiya', 1),\n",
       "  ('run', 1),\n",
       "  ('russia', 9),\n",
       "  ('russian', 12),\n",
       "  ('russias', 2),\n",
       "  ('s', 2),\n",
       "  ('sanction', 14),\n",
       "  ('sanctioned', 1),\n",
       "  ('say', 11),\n",
       "  ('scale', 1),\n",
       "  ('sechin', 1),\n",
       "  ('section', 1),\n",
       "  ('security', 2),\n",
       "  ('senior', 1),\n",
       "  ('sergei', 1),\n",
       "  ('service', 2),\n",
       "  ('shamalov', 1),\n",
       "  ('shame', 1),\n",
       "  ('sign', 1),\n",
       "  ('signal', 1),\n",
       "  ('signing', 1),\n",
       "  ('siloviki', 1),\n",
       "  ('situation', 1),\n",
       "  ('son', 1),\n",
       "  ('spokesman', 1),\n",
       "  ('spy', 1),\n",
       "  ('stake', 1),\n",
       "  ('statement', 1),\n",
       "  ('steve', 1),\n",
       "  ('stress', 2),\n",
       "  ('strong', 1),\n",
       "  ('substantial', 1),\n",
       "  ('suggest', 1),\n",
       "  ('support', 1),\n",
       "  ('svr', 1),\n",
       "  ('take', 1),\n",
       "  ('target', 2),\n",
       "  ('tell', 1),\n",
       "  ('think', 1),\n",
       "  ('tie', 2),\n",
       "  ('tikhonova', 1),\n",
       "  ('top', 4),\n",
       "  ('trade', 1),\n",
       "  ('trump', 6),\n",
       "  ('ukraine', 1),\n",
       "  ('unclassified', 3),\n",
       "  ('unfriendly', 1),\n",
       "  ('unsupported', 1),\n",
       "  ('use', 1),\n",
       "  ('version', 1),\n",
       "  ('want', 4),\n",
       "  ('war', 1),\n",
       "  ('way', 1),\n",
       "  ('well', 1),\n",
       "  ('world', 2),\n",
       "  ('worry', 1),\n",
       "  ('worth', 2)]]"
      ]
     },
     "execution_count": 24,
     "metadata": {},
     "output_type": "execute_result"
    }
   ],
   "source": [
    "[[(id2word[id], freq) for id, freq in cp] for cp in corpus[:1]]"
   ]
  },
  {
   "cell_type": "markdown",
   "metadata": {},
   "source": [
    "# Model building and evaluting."
   ]
  },
  {
   "cell_type": "code",
   "execution_count": 25,
   "metadata": {},
   "outputs": [
    {
     "name": "stdout",
     "output_type": "stream",
     "text": [
      "\n",
      "Perplexity:  -8.698810013136784\n",
      "\n",
      "Coherence Score:  0.3889036918176538\n",
      "\n",
      "Perplexity:  -8.833070634071289\n",
      "\n",
      "Coherence Score:  0.43232169006553595\n",
      "\n",
      "Perplexity:  -12.334597744109269\n",
      "\n",
      "Coherence Score:  0.42723876001475847\n",
      "\n",
      "Perplexity:  -13.927770626334379\n",
      "\n",
      "Coherence Score:  0.3910068785505537\n",
      "\n",
      "Perplexity:  -16.859566286882767\n",
      "\n",
      "Coherence Score:  0.43235373192919463\n",
      "\n",
      "Perplexity:  -19.746625669318405\n",
      "\n",
      "Coherence Score:  0.42769453034868354\n"
     ]
    }
   ],
   "source": [
    "select_topics = []\n",
    "for i in [5, 10, 15, 20, 30, 40]:\n",
    "    # Build LDA model\n",
    "    lda_model = gensim.models.ldamodel.LdaModel(corpus=corpus,\n",
    "                                               id2word=id2word,\n",
    "                                               num_topics=i, \n",
    "                                               random_state=100,\n",
    "                                               update_every=1,\n",
    "                                               chunksize=100,\n",
    "                                               passes=10,\n",
    "                                               alpha='auto',\n",
    "                                               per_word_topics=True)\n",
    "\n",
    "\n",
    "    # Compute Perplexity\n",
    "    print('\\nPerplexity: ', lda_model.log_perplexity(corpus))  # a measure of how good the model is. lower the better.\n",
    "\n",
    "    # Compute Coherence Score\n",
    "    coherence_model_lda = CoherenceModel(model=lda_model, texts=data_lemmatized, dictionary=id2word, coherence='c_v')\n",
    "    coherence_lda = coherence_model_lda.get_coherence()\n",
    "    print('\\nCoherence Score: ', coherence_lda)\n",
    "\n",
    "    select_topics.append({\"No of Topics\": i, \"Coherence Score\": coherence_lda})"
   ]
  },
  {
   "cell_type": "code",
   "execution_count": null,
   "metadata": {},
   "outputs": [],
   "source": []
  },
  {
   "cell_type": "code",
   "execution_count": 26,
   "metadata": {},
   "outputs": [],
   "source": [
    "select_topics_df = pd.DataFrame(select_topics)"
   ]
  },
  {
   "cell_type": "code",
   "execution_count": 27,
   "metadata": {},
   "outputs": [
    {
     "data": {
      "text/html": [
       "<div>\n",
       "<style scoped>\n",
       "    .dataframe tbody tr th:only-of-type {\n",
       "        vertical-align: middle;\n",
       "    }\n",
       "\n",
       "    .dataframe tbody tr th {\n",
       "        vertical-align: top;\n",
       "    }\n",
       "\n",
       "    .dataframe thead th {\n",
       "        text-align: right;\n",
       "    }\n",
       "</style>\n",
       "<table border=\"1\" class=\"dataframe\">\n",
       "  <thead>\n",
       "    <tr style=\"text-align: right;\">\n",
       "      <th></th>\n",
       "      <th>No of Topics</th>\n",
       "      <th>Coherence Score</th>\n",
       "    </tr>\n",
       "  </thead>\n",
       "  <tbody>\n",
       "    <tr>\n",
       "      <th>0</th>\n",
       "      <td>5</td>\n",
       "      <td>0.388904</td>\n",
       "    </tr>\n",
       "    <tr>\n",
       "      <th>1</th>\n",
       "      <td>10</td>\n",
       "      <td>0.432322</td>\n",
       "    </tr>\n",
       "    <tr>\n",
       "      <th>2</th>\n",
       "      <td>15</td>\n",
       "      <td>0.427239</td>\n",
       "    </tr>\n",
       "    <tr>\n",
       "      <th>3</th>\n",
       "      <td>20</td>\n",
       "      <td>0.391007</td>\n",
       "    </tr>\n",
       "    <tr>\n",
       "      <th>4</th>\n",
       "      <td>30</td>\n",
       "      <td>0.432354</td>\n",
       "    </tr>\n",
       "    <tr>\n",
       "      <th>5</th>\n",
       "      <td>40</td>\n",
       "      <td>0.427695</td>\n",
       "    </tr>\n",
       "  </tbody>\n",
       "</table>\n",
       "</div>"
      ],
      "text/plain": [
       "   No of Topics  Coherence Score\n",
       "0             5         0.388904\n",
       "1            10         0.432322\n",
       "2            15         0.427239\n",
       "3            20         0.391007\n",
       "4            30         0.432354\n",
       "5            40         0.427695"
      ]
     },
     "execution_count": 27,
     "metadata": {},
     "output_type": "execute_result"
    }
   ],
   "source": [
    "select_topics_df"
   ]
  },
  {
   "cell_type": "code",
   "execution_count": null,
   "metadata": {},
   "outputs": [],
   "source": []
  },
  {
   "cell_type": "code",
   "execution_count": 32,
   "metadata": {},
   "outputs": [
    {
     "data": {
      "image/png": "[encoded data removed]",
      "text/plain": [
       "<Figure size 432x288 with 1 Axes>"
      ]
     },
     "metadata": {
      "needs_background": "light"
     },
     "output_type": "display_data"
    }
   ],
   "source": [
    "plt.plot(select_topics_df['No of Topics'], select_topics_df['Coherence Score'])\n",
    "plt.xlabel('No. of Topics')\n",
    "plt.ylabel('Coherence Score')\n",
    "plt.show()"
   ]
  },
  {
   "cell_type": "code",
   "execution_count": 144,
   "metadata": {},
   "outputs": [],
   "source": [
    "# from above table we can see that best model is with no. of tpoics 10."
   ]
  },
  {
   "cell_type": "code",
   "execution_count": 33,
   "metadata": {},
   "outputs": [],
   "source": [
    "lda_model = gensim.models.ldamodel.LdaModel(corpus=corpus,\n",
    "                                           id2word=id2word,\n",
    "                                           num_topics=10, \n",
    "                                           random_state=100,\n",
    "                                           update_every=1,\n",
    "                                           chunksize=100,\n",
    "                                           passes=10,\n",
    "                                           alpha='auto',\n",
    "                                           per_word_topics=True)"
   ]
  },
  {
   "cell_type": "code",
   "execution_count": 34,
   "metadata": {},
   "outputs": [
    {
     "name": "stdout",
     "output_type": "stream",
     "text": [
      "[(0,\n",
      "  '0.028*\"news\" + 0.021*\"product\" + 0.020*\"bbc\" + 0.013*\"website\" + '\n",
      "  '0.012*\"online\" + 0.011*\"increase\" + 0.009*\"also\" + 0.009*\"event\" + '\n",
      "  '0.008*\"week\" + 0.008*\"year\"'),\n",
      " (1,\n",
      "  '0.024*\"على\" + 0.021*\"على_موجة\" + 0.019*\"وفي\" + 0.013*\"في\" + 0.013*\"البث\" + '\n",
      "  '0.010*\"حتى\" + 0.009*\"الى\" + 0.009*\"سي\" + 0.009*\"عبر\" + 0.008*\"الساعة\"'),\n",
      " (2,\n",
      "  '0.016*\"say\" + 0.013*\"sketch\" + 0.009*\"idea\" + 0.006*\"come\" + '\n",
      "  '0.006*\"character\" + 0.006*\"premise\" + 0.006*\"world\" + 0.006*\"list\" + '\n",
      "  '0.006*\"use\" + 0.005*\"take\"'),\n",
      " (3,\n",
      "  '0.003*\"та\" + 0.003*\"nhung\" + 0.003*\"saturday\" + 0.003*\"japanese\" + '\n",
      "  '0.003*\"hay\" + 0.002*\"новини\" + 0.002*\"sterilise\" + 0.002*\"украіни\" + '\n",
      "  '0.002*\"на\" + 0.002*\"trafford\"'),\n",
      " (4,\n",
      "  '0.008*\"say\" + 0.007*\"spider\" + 0.006*\"specie\" + 0.005*\"clash\" + '\n",
      "  '0.005*\"hummus\" + 0.005*\"sane\" + 0.005*\"submission\" + 0.004*\"dung_beetle\" + '\n",
      "  '0.004*\"prey\" + 0.004*\"dung\"'),\n",
      " (5,\n",
      "  '0.019*\"aircraft\" + 0.010*\"bbc\" + 0.007*\"тест\" + 0.005*\"dan\" + 0.005*\"video\" '\n",
      "  '+ 0.005*\"fm\" + 0.005*\"conservation\" + 0.004*\"com\" + 0.004*\"music\" + '\n",
      "  '0.004*\"indonesia\"'),\n",
      " (6,\n",
      "  '0.011*\"trump\" + 0.009*\"wreck\" + 0.008*\"saginaw\" + 0.007*\"train\" + '\n",
      "  '0.006*\"president\" + 0.005*\"loan\" + 0.005*\"state\" + 0.004*\"male\" + '\n",
      "  '0.004*\"republican\" + 0.004*\"behaviour\"'),\n",
      " (7,\n",
      "  '0.011*\"child\" + 0.008*\"case\" + 0.007*\"undergo\" + 0.006*\"police\" + '\n",
      "  '0.005*\"social_media\" + 0.005*\"facebook\" + 0.005*\"crime\" + 0.004*\"rape\" + '\n",
      "  '0.004*\"आपक\" + 0.004*\"girl\"'),\n",
      " (8,\n",
      "  '0.017*\"say\" + 0.007*\"light\" + 0.006*\"wave\" + 0.006*\"also\" + 0.005*\"people\" '\n",
      "  '+ 0.005*\"water\" + 0.005*\"make\" + 0.004*\"city\" + 0.004*\"day\" + '\n",
      "  '0.004*\"ocean\"'),\n",
      " (9,\n",
      "  '0.032*\"nasa\" + 0.027*\"write\" + 0.024*\"software\" + 0.022*\"design\" + '\n",
      "  '0.022*\"code\" + 0.019*\"audience\" + 0.013*\"use\" + 0.013*\"competition\" + '\n",
      "  '0.012*\"supercomputer\" + 0.012*\"model\"')]\n"
     ]
    }
   ],
   "source": [
    "# Print the Keyword in the 10 topics\n",
    "pprint(lda_model.print_topics())\n",
    "doc_lda = lda_model[corpus]"
   ]
  },
  {
   "cell_type": "code",
   "execution_count": null,
   "metadata": {},
   "outputs": [],
   "source": []
  },
  {
   "cell_type": "markdown",
   "metadata": {},
   "source": [
    "# Visualize Topics"
   ]
  },
  {
   "cell_type": "code",
   "execution_count": 56,
   "metadata": {},
   "outputs": [],
   "source": [
    "import pyLDAvis.gensim_models"
   ]
  },
  {
   "cell_type": "code",
   "execution_count": 57,
   "metadata": {},
   "outputs": [
    {
     "data": {
      "text/html": [
       "\n",
       "<link rel=\"stylesheet\" type=\"text/css\" href=\"https://cdn.jsdelivr.net/gh/bmabey/pyLDAvis@3.3.1/pyLDAvis/js/ldavis.v1.0.0.css\">\n",
       "\n",
       "\n",
       "<div id=\"ldavis_el61402352251577280404862964\"></div>\n",
       "<script type=\"text/javascript\">\n",
       "\n",
       "var ldavis_el61402352251577280404862964_data = {\"mdsDat\": {\"x\": [-0.21439472740574106, -0.14946526040452537, -0.09470089780328989, 0.364589217352949, -0.02569938844819674, 0.007254140187272389, 0.04521915913824057, 0.016241982121132554, 0.009933294836201053, 0.04102248042595684], \"y\": [-0.2121082260861811, -0.10126189518539955, -0.0038943214289203745, -0.19669622958477115, 0.04908178182998971, 0.08508738687826653, 0.12708223498739782, 0.08748997403357411, 0.08255680763814113, 0.08266248691790325], \"topics\": [1, 2, 3, 4, 5, 6, 7, 8, 9, 10], \"cluster\": [1, 1, 1, 1, 1, 1, 1, 1, 1, 1], \"Freq\": [38.25483870765568, 20.57519181964392, 14.71287605164055, 6.5105444688644, 4.848314229351964, 4.368066619851763, 3.877010847426342, 3.4579832109684925, 2.439755880428632, 0.9554181641682613]}, \"tinfo\": {\"Term\": [\"write\", \"bbc\", \"use\", \"news\", \"sketch\", \"\\u0639\\u0644\\u0649\", \"time\", \"\\u0639\\u0644\\u0649_\\u0645\\u0648\\u062c\\u0629\", \"\\u0648\\u0641\\u064a\", \"product\", \"nasa\", \"idea\", \"design\", \"say\", \"also\", \"aircraft\", \"\\u0641\\u064a\", \"\\u0627\\u0644\\u0628\\u062b\", \"software\", \"trump\", \"make\", \"writer\", \"people\", \"see\", \"child\", \"year\", \"code\", \"website\", \"light\", \"character\", \"sketch\", \"idea\", \"character\", \"premise\", \"list\", \"pick\", \"test\", \"script\", \"piece\", \"want\", \"fun\", \"really\", \"exercise\", \"type\", \"emotion\", \"try\", \"step\", \"fast\", \"doctor\", \"usually\", \"comedy\", \"information\", \"funny\", \"comic\", \"key\", \"writersroom\", \"trust\", \"develop\", \"jackie\", \"note\", \"start\", \"example\", \"run\", \"simple\", \"base\", \"come\", \"world\", \"say\", \"work\", \"use\", \"way\", \"write\", \"get\", \"take\", \"image_caption\", \"help\", \"find\", \"make\", \"go\", \"time\", \"new\", \"see\", \"bbc\", \"people\", \"wave\", \"town\", \"border\", \"trick\", \"sleep\", \"blue\", \"dutch\", \"surf\", \"driver\", \"ocean\", \"road\", \"seal\", \"km\", \"respect\", \"colour\", \"lion\", \"village\", \"forest\", \"surfer\", \"save\", \"tree\", \"creature\", \"burn\", \"shop\", \"hunting\", \"especially\", \"van\", \"winter\", \"die\", \"belgian\", \"light\", \"attack\", \"reach\", \"sea\", \"eye\", \"local\", \"shape\", \"travel\", \"particularly\", \"red\", \"city\", \"night\", \"hour\", \"house\", \"photograph\", \"water\", \"family\", \"island\", \"food\", \"stay\", \"body\", \"say\", \"form\", \"animal\", \"back\", \"feel\", \"also\", \"people\", \"day\", \"far\", \"make\", \"live\", \"even\", \"big\", \"go\", \"time\", \"get\", \"first\", \"find\", \"life\", \"know\", \"spider\", \"specie\", \"clash\", \"hummus\", \"sane\", \"submission\", \"dung_beetle\", \"prey\", \"fan\", \"beach\", \"combine\", \"africa\", \"otter\", \"desire\", \"nowhere\", \"drug\", \"protect\", \"application\", \"mastermind\", \"dinosaur\", \"honey\", \"eat\", \"refugee\", \"pirate_spider\", \"unrwa\", \"game\", \"answer\", \"palestinian\", \"pirate\", \"regis\", \"dung\", \"web\", \"question\", \"dr\", \"watch\", \"play\", \"say\", \"university\", \"fill\", \"live\", \"life\", \"find\", \"year\", \"image_caption\", \"\\u0639\\u0644\\u0649\", \"\\u0639\\u0644\\u0649_\\u0645\\u0648\\u062c\\u0629\", \"\\u0648\\u0641\\u064a\", \"\\u0627\\u0644\\u0628\\u062b\", \"\\u0641\\u064a\", \"\\u062d\\u062a\\u0649\", \"\\u0627\\u0644\\u0649\", \"\\u0633\\u064a\", \"\\u0639\\u0628\\u0631\", \"\\u0627\\u0644\\u0633\\u0627\\u0639\\u0629\", \"\\u064a\\u0645\\u0643\\u0646\", \"\\u0627\\u0630\\u0627\\u0639\\u0629\", \"\\u0635\\u0628\\u0627\\u062d\\u0627_\\u0648\\u0645\\u0646\", \"\\u0639\\u0644\\u0649_\\u0627\\u0644\\u0642\\u0646\\u0627\\u0629\", \"\\u0645\\u0646\", \"\\u0644\\u0628\\u0646\\u0627\\u0646\", \"\\u0627\\u0641_\\u0627\\u0645\", \"\\u0627\\u0644\\u0639\\u0631\\u0628\\u064a\\u0629\", \"\\u0627\\u0644\\u0645\\u0648\\u062c\\u0627\\u062a\", \"\\u0628\\u062a\\u0648\\u0642\\u064a\\u062a\", \"\\u063a\\u0631\\u064a\\u0646\\u062a\\u0634\", \"\\u0641\\u064a_\\u0627\\u0644\\u0639\\u0627\\u0635\\u0645\\u0629\", \"\\u0634\\u062f\\u0646\", \"\\u0627\\u0644\\u0627\\u0633\\u062a\\u0645\\u0627\\u0639\", \"\\u0627\\u0644\\u062a\\u0648\\u0642\\u064a\\u062a\", \"\\u0627\\u0644\\u0633\\u0627\\u062f\\u0633\\u0629\", \"\\u0627\\u0644\\u0645\\u0648\\u062c\\u0629\", \"\\u0628\\u0627\\u0644\\u0643\\u064a\\u0644\\u0648\\u0647\\u064a\\u0631\\u062a\\u0632\", \"\\u0628\\u062b\\u0646\\u0627\", \"\\u062a\\u0641\\u0627\\u0635\\u064a\\u0644\", \"tablet\", \"connected\", \"product\", \"smartphone\", \"brand\", \"transparent\", \"website\", \"page\", \"browser\", \"amazon\", \"exciting\", \"innovative\", \"program\", \"sensitive\", \"simulate\", \"delivery\", \"iptv\", \"tvs\", \"fluid\", \"diamond\", \"desktop\", \"jubilee\", \"responsive\", \"treble\", \"weekly\", \"hush\", \"fin\", \"underground\", \"attenborough\", \"sensor\", \"kick\", \"strategy\", \"tunnel\", \"store\", \"news\", \"increase\", \"online\", \"user\", \"studio\", \"coverage\", \"event\", \"deliver\", \"device\", \"mobile\", \"week\", \"app\", \"bbc\", \"reflect\", \"screen\", \"number\", \"also\", \"year\", \"plan\", \"change\", \"look\", \"head\", \"design\", \"use\", \"time\", \"see\", \"wreck\", \"saginaw\", \"train\", \"loan\", \"male\", \"republican\", \"behaviour\", \"gun\", \"female\", \"veteran\", \"recall\", \"thoma\", \"diving\", \"immigration\", \"obama\", \"simon\", \"nikki\", \"dive\", \"coomb\", \"cast\", \"sumatra\", \"powerful\", \"mortgage\", \"typo\", \"democrat\", \"greene\", \"hine\", \"michigan\", \"senate\", \"ride\", \"river\", \"trump\", \"ticket\", \"shoot\", \"office\", \"president\", \"america\", \"state\", \"tax\", \"trade\", \"david\", \"war\", \"video\", \"look\", \"mr\", \"many\", \"image\", \"first\", \"aircraft\", \"\\u0442\\u0435\\u0441\\u0442\", \"dan\", \"fm\", \"conservation\", \"com\", \"music\", \"indonesia\", \"khz_khz\", \"cia\", \"daval\", \"\\u0430\\u043d\\u0433\\u043b\\u0438\\u0438\\u0441\\u043a\\u0438\\u0438\", \"smart_fm\", \"coalition\", \"michelin\", \"militant\", \"foto\", \"regional\", \"jihad\", \"islamic\", \"education\", \"troop\", \"eurozone\", \"situs\", \"lebih\", \"chef\", \"ngoai\", \"noi\", \"\\u0111uoc\", \"al_qaeda\", \"video\", \"khong\", \"bbc\", \"restaurant\", \"global\", \"link\", \"aqim\", \"star\", \"co\", \"region\", \"undergo\", \"rape\", \"\\u0906\\u092a\\u0915\", \"download\", \"defence\", \"\\u0914\\u0930\", \"messenger_kid\", \"allan\", \"\\u0907\\u0938\\u0915\", \"la\", \"arrest\", \"\\u0905\\u092a\\u0928\", \"crime\", \"preference\", \"sex_offender\", \"\\u092a\\u0928\\u0928\", \"fatal\", \"rescue\", \"register\", \"\\u092a\\u0930\", \"\\u0915\\u0930\\u0928\", \"delhi\", \"cousin\", \"investigator\", \"\\u0930\\u092f\\u0915\\u0930\\u092e\", \"\\u0909\\u092a\\u0932\\u092c\\u0927\", \"\\u0915\\u0930\\u0924\", \"apart\", \"relevant\", \"devour\", \"india\", \"social_media\", \"girl\", \"child\", \"letter\", \"victim\", \"case\", \"police\", \"parent\", \"facebook\", \"evidence\", \"app\", \"review\", \"young\", \"phone\", \"report\", \"woman\", \"include\", \"meet\", \"likely\", \"nasa\", \"code\", \"audience\", \"supercomputer\", \"model\", \"bottleneck\", \"rohn\", \"software\", \"text\", \"gay\", \"pocket\", \"editing\", \"immerse\", \"myriad\", \"pointed\", \"unstoppable\", \"aeronautic\", \"agencys\", \"assignment\", \"coder\", \"computational\", \"doug\", \"formulae\", \"fortran\", \"futuristic\", \"geek\", \"mathematical\", \"millisecond\", \"modification\", \"pleiade\", \"competition\", \"bus\", \"somewhere\", \"practise\", \"craft\", \"technician\", \"design\", \"write\", \"writer\", \"concept\", \"like\", \"use\", \"share\", \"film\", \"time\", \"camera\", \"phone\", \"finally\", \"real\", \"make\", \"people\", \"nhung\", \"saturday\", \"japanese\", \"hay\", \"\\u043d\\u043e\\u0432\\u0438\\u043d\\u0438\", \"sterilise\", \"\\u0442\\u0430\", \"trafford\", \"flag\", \"nam\", \"japan\", \"\\u0440\\u043e\\u0441\\u0441\\u0438\\u0438\", \"\\u0443\\u043a\\u0440\\u0430\\u0456\\u043d\\u0438\", \"luat\", \"phu\", \"voi\", \"sterilisation\", \"\\u0430\\u0433\\u0435\\u043d\\u0442\\u0441\\u0442\\u0432\\u043e\", \"\\u0440\\u043e\\u043a\\u0443\", \"\\u043f\\u0440\\u0430\\u0446\\u044e\\u0454\", \"\\u0456\\u043d\\u0442\\u0435\\u0440\\u043d\\u0435\\u0442\", \"\\u043d\\u0430\\u0448\\u0456\", \"\\u0443\\u043a\\u0440\\u0430\\u0456\\u043d\\u0441\\u044c\\u043a\\u0438\\u0445\", \"\\u043a\\u043e\\u043f\\u0438\\u0440\\u0430\\u0438\\u0442_\\u0438\\u0437\\u043e\\u0431\\u0440\\u0430\\u0436\\u0435\\u043d\\u0438\\u044f\", \"eiler\", \"monowi\", \"stretford\", \"bias\", \"implicit\", \"sexist\", \"net\", \"\\u043d\\u0430\", \"sue\", \"khong\", \"viet\", \"bbc\"], \"Freq\": [149.0, 190.0, 169.0, 113.0, 279.0, 86.0, 181.0, 78.0, 70.0, 60.0, 44.0, 193.0, 54.0, 613.0, 184.0, 41.0, 49.0, 49.0, 35.0, 48.0, 196.0, 40.0, 169.0, 144.0, 52.0, 138.0, 30.0, 38.0, 86.0, 133.0, 278.697661676424, 192.87845102301418, 133.08024850048142, 132.21202040528163, 130.08290229757463, 99.60514005774249, 97.58749086812526, 92.54436920139963, 86.29586282630322, 88.12577436633472, 76.37619518480254, 71.0214626955729, 67.33182456926538, 65.38231907515, 59.48956075058207, 59.145474692243795, 55.008934678117555, 72.7176025669655, 53.88199567287329, 50.710845435141984, 49.05892747945741, 48.35085873877073, 46.739869842391904, 46.40872107312581, 45.362095881675025, 43.98652878235937, 43.687641038904374, 42.170799938511344, 41.33678815828739, 52.1606288350342, 76.71632583015533, 91.2229324767695, 97.07573814120694, 60.5963141973664, 49.243053448420376, 138.41060090010026, 130.72122824002855, 347.94745803174663, 108.64341814169117, 125.74004814139052, 99.40181987438018, 112.17699679369598, 111.19242774778702, 114.50615717324834, 104.79885635236644, 88.34388998617928, 104.60970392030227, 113.09139462132586, 87.57680887493079, 101.007627877176, 79.80370002232372, 86.7972736925693, 92.80800694197642, 81.74779048631918, 67.33878896367965, 39.52993669820373, 26.40097903083157, 25.463146198252662, 24.654827607484147, 22.709761514270294, 22.221196111835024, 19.67082549756951, 19.860661202473086, 50.02888286166719, 18.38637501090553, 17.04779369079177, 16.483895787575726, 16.076376591921903, 16.01860184749397, 15.896595134037103, 15.465678546753315, 15.38094957847225, 15.072931926965717, 15.099884811145694, 14.960230583234686, 14.747975448103372, 14.667852276124846, 14.554012210213141, 14.421794507978513, 14.44981377198886, 14.356839115446563, 14.4764665693824, 29.836860202983754, 14.186069638866929, 81.91296995322226, 31.693740971179913, 22.02948620418937, 41.673314608364834, 24.53692565257032, 46.486428010789155, 17.74857805718321, 39.02522287557335, 16.826896324145718, 24.728536424402595, 51.27277474360187, 41.46665394832351, 31.679462734707414, 39.17025053250398, 20.723430808575124, 54.13896794516757, 43.82623099138053, 22.103796534353847, 37.77264187356354, 22.645642077786274, 35.659007386761644, 191.5249255765827, 29.809120930662537, 42.95424309430765, 48.359414329639506, 31.876804628291364, 66.18369597706707, 62.24990652190547, 50.550187196633416, 28.92642904509132, 52.09715601548366, 39.00305932291797, 37.09891488585808, 33.70972400245983, 38.984879958221796, 41.90744660609663, 39.02621959239973, 37.6711294800125, 39.26957657946813, 34.50366522094247, 34.594345017372426, 54.81030995856038, 52.78138403759812, 43.72065307539456, 41.76700837796692, 37.851806139448854, 37.8518023075633, 35.5081406349855, 34.413255976503116, 27.324026298394777, 24.32312344799792, 24.020477295295727, 23.08590148478149, 22.638808574349444, 22.202561815969453, 22.14151796319952, 21.54547582951521, 20.389675686428845, 21.30903316347735, 19.77854933527309, 19.704850680471033, 19.698493582341953, 19.23630495878181, 18.90367430164317, 18.35185021127443, 23.377496479554647, 16.014821532585383, 15.06218508749798, 14.83198647896545, 14.617691153440886, 12.988929040567788, 31.157559560164742, 25.85043064308041, 28.826272961973842, 19.9289489272064, 25.205817444094617, 28.856406909946774, 68.50767608385114, 23.974050169960016, 20.67450165537619, 25.15987313633833, 23.779118320095957, 25.25225989697253, 23.532208858675588, 22.46309937835189, 85.77954169466267, 77.61263308421066, 69.44571769122035, 49.028425817475444, 49.028425817475444, 36.778056119259126, 32.694595031494835, 32.694595031494835, 32.69458824895655, 28.611140726268825, 28.611140726268825, 24.527677942869957, 24.527677942869957, 24.527677942869957, 24.527677942869957, 20.914087368674195, 20.444218550740235, 20.444218550740235, 20.444218550740235, 20.444218550740235, 20.444218550740235, 20.444218550740235, 17.410546869437564, 16.360760854245083, 16.360760854245083, 16.360760854245083, 16.360760854245083, 16.360760854245083, 16.360760854245083, 16.360760854245083, 20.45818759582093, 20.43421240552141, 58.002514839417046, 13.698082985208064, 13.392283454688393, 12.979185887590454, 36.06010550335996, 12.913480456124946, 10.88718101432281, 11.217771449732696, 10.218860115402304, 9.872599373381734, 9.876573772258213, 9.614899223959096, 9.614575968641422, 9.485685487015395, 9.36789238569944, 9.36789238569944, 9.351583144749915, 9.225019217509882, 8.86136456142306, 8.86136456142306, 8.86136456142306, 8.86136456142306, 8.86136456142306, 7.131752259515615, 7.0001728239872945, 6.453673090692822, 4.615898107368137, 4.611753873178269, 16.312660384681873, 20.051577863966, 16.70461629637428, 13.14517496778392, 75.41673843117405, 29.27471879129994, 31.34100971421948, 15.424241127265908, 17.550860836562457, 11.155568792686045, 23.565105573001876, 19.830444709639156, 16.227006564510837, 13.050398023901185, 22.821007187766536, 16.94736083649015, 52.923466677749985, 13.334514193814998, 11.209720371976877, 19.028779098103968, 23.599337806057125, 20.604960662637975, 14.09935521617312, 15.072332256198633, 15.61344019181159, 14.486573417115864, 14.442714236631131, 14.846093940741493, 14.257117701074998, 14.161549034207178, 22.213862275446942, 19.571949868849174, 16.555893251929877, 12.788611969903494, 10.739311283078496, 10.606364595532979, 9.959858398720783, 8.715711552010584, 8.467247364564303, 7.205931280561939, 7.051747729966363, 6.9378786679688815, 6.7949930033757235, 5.746914705538616, 5.718320735573077, 5.386738418320268, 5.333235288857605, 5.3332478028789545, 5.333273399740807, 5.031286174161534, 4.965520441414201, 4.751711276410488, 4.712301779083657, 4.637793011556335, 4.608994551105554, 4.583679254733709, 4.583679254733709, 4.583679254733709, 4.2190940502661025, 4.193666980930836, 5.676529592455687, 27.46835194732153, 8.050090756405455, 5.876281814158888, 9.619353015426288, 15.502344620305372, 9.782918100300279, 11.074972602472245, 6.4925467407405675, 7.598855624014866, 6.5707002169860695, 6.776136648477921, 6.3417624533989665, 7.2466462178432325, 7.3487788342718945, 6.670961418403759, 5.9779650634572565, 6.243918733378432, 40.58659915832448, 14.494434605762542, 11.177642455855647, 11.092329050164661, 10.444732748989487, 8.914874259599365, 8.55687602556103, 7.76544095888244, 6.774478647149438, 6.62222617643925, 6.1748609130012495, 5.230493311951294, 5.230486748604898, 5.1355933815398656, 4.8961685634902485, 4.770639010067454, 4.401921316746181, 4.276536156944097, 4.199387806606038, 4.054850802020655, 3.924323260317367, 3.9103882661732268, 3.785303505686956, 3.6864867720955625, 3.686478946567167, 3.6781440015171465, 3.661412769371944, 3.661412769371944, 3.6613839916223614, 3.663729883086104, 11.124219845429645, 4.270379738024722, 21.27932827389671, 6.658248850696865, 4.918090645325425, 6.135568177620066, 4.2985667864312065, 5.9889687676479655, 5.793315411585548, 4.033217002554099, 13.208973160978607, 8.335902758017346, 8.217742435304444, 6.177814788662649, 5.74038923667324, 5.629640051884153, 5.505763993743681, 5.259842822097456, 4.890258587099796, 4.843956762167217, 4.529784044664947, 4.520461807619206, 9.259951605508647, 4.387941673431489, 4.370165389516037, 4.150816781296979, 4.010295157877991, 3.9485735008926004, 3.821703357440702, 3.781095653242516, 3.781092501099761, 3.7283672846910463, 3.659425644724645, 3.604008723555959, 3.4113731742697304, 3.4113731742697304, 3.4113731742697304, 3.326405590229284, 3.3046488254730524, 3.250707557419954, 5.247302247298555, 10.628041902326618, 6.965134490775693, 21.103770465492786, 6.786021183603586, 4.709916844865338, 14.613555364168562, 11.238849715652893, 6.497529423434841, 9.392179491032335, 6.157882889408681, 6.280135143724067, 5.102582870341726, 5.7076853052809104, 5.917925121549373, 6.2655880049083645, 5.58675695092275, 6.055738604035452, 5.506082810468074, 4.941460192792431, 44.13292794285692, 29.71486478554857, 25.7774629183407, 16.573070697171314, 16.00907132569527, 11.061013847498451, 11.061013847498451, 33.02205644925268, 7.605020010728899, 6.616506267809411, 6.409491937894414, 5.548879476505938, 5.548879476505938, 5.548879476505938, 5.548879476505938, 5.548879476505938, 5.548829278274363, 5.548829278274363, 5.548829278274363, 5.548829278274363, 5.548829278274363, 5.548829278274363, 5.548829278274363, 5.548829278274363, 5.548829278274363, 5.548829278274363, 5.548829278274363, 5.548829278274363, 5.548829278274363, 5.548829278274363, 17.4972900367521, 11.80746155102938, 11.016456880478799, 5.761124589235257, 11.401913215232417, 5.968564015567015, 30.113400619020602, 36.68563522368349, 15.434666305608038, 6.431436190140837, 11.943920677913074, 17.55914823730775, 9.532589530052736, 9.74216269893679, 15.061523152265487, 7.057340147880187, 9.562843178176573, 6.4033518681258546, 6.537533647389708, 7.817066872214526, 7.117481441831814, 1.5729674165505245, 1.548943062002576, 1.4731213251468063, 1.4247773753761035, 1.1504877154010928, 1.0798323793128355, 1.6280584804361506, 0.9908955117140006, 0.9679599271387553, 0.9576557414297758, 0.913489888886628, 0.6982598724114933, 0.9912962576952687, 0.6486963907847242, 0.6485217098292133, 0.6485217098292133, 0.6373810088749511, 0.5758590979605187, 0.5137142329547453, 0.5137142329547453, 0.5137142329547453, 0.5137142329547453, 0.5137142329547453, 0.5137142329547453, 0.5134588367072916, 0.5134149798434615, 0.5113685439271645, 0.4783773269754694, 0.4783773269754694, 0.4783773269754694, 0.8321042401145873, 0.9912955734037764, 0.8825590425143476, 0.6973371986464875, 0.651943540541047, 0.6622851134488377], \"Total\": [149.0, 190.0, 169.0, 113.0, 279.0, 86.0, 181.0, 78.0, 70.0, 60.0, 44.0, 193.0, 54.0, 613.0, 184.0, 41.0, 49.0, 49.0, 35.0, 48.0, 196.0, 40.0, 169.0, 144.0, 52.0, 138.0, 30.0, 38.0, 86.0, 133.0, 279.3780734898268, 193.5602647036673, 133.76335811762257, 132.89141530581367, 130.7637451343431, 100.28474560137552, 98.26689279907134, 93.22494043496455, 86.98473216961955, 88.90259739971701, 77.05565403848816, 71.70337686151035, 68.01112227096026, 66.06177898428196, 60.16883782551431, 59.824927381689314, 55.68952807040914, 73.62776521043405, 54.561412937249315, 51.39251027485053, 49.738516061019, 49.033082393553414, 47.41983412153383, 47.08834827336266, 46.04144446002155, 44.66584228260257, 44.367006151821194, 42.85022903612683, 42.01629295901067, 53.056392849406116, 78.49109096100085, 96.36756378420061, 104.06068454895012, 63.229002994883714, 50.612130569016074, 172.88373748692877, 167.20565003870732, 613.5201740320437, 140.04652115386537, 169.7047655682605, 125.29668434550638, 149.50725955456363, 150.9328287338281, 163.7959646678228, 148.8433293710872, 115.75218248102362, 170.25369410500647, 196.80845490916252, 128.05447181177084, 181.939365222323, 103.51476258581195, 144.59007800408534, 190.37060092078636, 169.7086624628205, 67.98516900222256, 40.173161712232314, 27.045104587045067, 26.110705745790252, 25.29904118149152, 23.36054088426015, 22.86422435856874, 20.313923204609942, 20.51409454722705, 51.69855759327297, 19.029635028773022, 17.69086795347825, 17.127083512965797, 16.72009142056239, 16.66171421648246, 16.539725730117347, 16.108967457963505, 16.02420570145759, 15.716003973600424, 15.74614900712166, 15.604108365838215, 15.391104413064301, 15.310959659860114, 15.197710385206083, 15.065080500344258, 15.09639778016015, 14.999875839753086, 15.128000796873653, 31.185549475908417, 14.829097448692153, 86.3414026181205, 33.61022801516494, 23.205912108943423, 44.76755366004863, 25.965416811346373, 50.23541459560214, 18.62149383645412, 42.163170090472406, 17.658716722488418, 26.674610578292608, 60.11564443292952, 48.2118886978529, 35.87514613152793, 47.046422571978916, 22.504573804554592, 73.24520039550302, 56.67548427807595, 24.81387912244098, 48.939760130167, 25.773851826985165, 49.78993251209312, 613.5201740320437, 38.692661823991735, 67.49243270373923, 87.83973727708472, 44.77595854877513, 184.47634137946358, 169.7086624628205, 115.04929360019953, 39.28953960240325, 196.80845490916252, 90.26487428709079, 90.3734421349012, 67.63338507617149, 128.05447181177084, 181.939365222323, 150.9328287338281, 127.11408487772947, 170.25369410500647, 83.35859170753926, 121.56570006574572, 55.46261953363631, 53.433669384998886, 44.373608229137275, 42.42007748681217, 38.504922621540395, 38.504919447132686, 36.160359422774285, 35.07484943214555, 27.97699372388032, 24.975782528927095, 24.67316598224155, 23.73817188561472, 23.291139173420646, 22.85534746096306, 22.795150817765922, 22.19761483446835, 21.042081019279465, 22.00126943305297, 20.43154953131389, 20.356970400279145, 20.3507954183998, 19.888592263286736, 19.55587938182402, 19.00399449661434, 24.290983254774677, 16.666950840851282, 15.714405682356825, 15.484142496556045, 15.269850381481564, 13.641274493823, 34.71220803452746, 29.34520559132254, 36.04464170517072, 22.651676785253372, 31.297144805641647, 46.123958033245614, 613.5201740320437, 39.29226602018163, 27.18936943949049, 90.26487428709079, 83.35859170753926, 170.25369410500647, 138.69752471102376, 148.8433293710872, 86.53025468824465, 78.3633460680629, 70.19643067507259, 49.7791388013277, 49.7791388013277, 37.52876910311138, 33.44530801534709, 33.44530801534709, 33.44530124253854, 29.36185371012108, 29.36185371012108, 25.27839092672221, 25.27839092672221, 25.27839092672221, 25.278390936451952, 21.66480035252645, 21.194931534592488, 21.194931534592488, 21.194931534592488, 21.194931534592488, 21.194931534592488, 21.194931534592488, 18.161259853289817, 17.111473838097336, 17.111473838097336, 17.111473838097336, 17.111473838097336, 17.111473838097336, 17.111473838097336, 17.111473838097336, 21.17693712065926, 21.15308052070802, 60.62613459957395, 14.416869812621314, 14.119520646204268, 13.698082989396532, 38.0816201098933, 13.654844211167203, 11.605927749121149, 11.962065280425316, 10.952171905315291, 10.591535971226996, 10.595976418397184, 10.334184037445437, 10.333890555850848, 10.204703976842895, 10.086636413470357, 10.086636413470357, 10.070911764468093, 9.94379769549753, 9.580108717255854, 9.580108717255854, 9.580108717255854, 9.580108717255854, 9.580108717255854, 7.850521389372566, 7.719291852717186, 7.172563112154528, 5.33467739313056, 5.330745881447398, 18.978651016378585, 23.470472470071762, 19.74787139347073, 15.454798754423795, 113.11617952912835, 39.202739544932946, 43.3767938224154, 18.761594564460463, 22.0839167452983, 13.093930710185187, 36.57490729198137, 29.355120288452223, 22.56050613166196, 16.713519075803237, 42.44374908685889, 26.4076379902631, 190.37060092078636, 19.248373562615914, 13.770923102084035, 66.14533865199745, 184.47634137946358, 138.69752471102376, 35.6771952012034, 50.26358857586338, 88.93934475584497, 46.712253063604855, 54.29969412353816, 169.7047655682605, 181.939365222323, 144.59007800408534, 22.904008879988027, 20.26803185626312, 17.25037332700209, 13.552037348922978, 11.430112951649967, 11.29651552588103, 10.651999668901267, 9.405993132564562, 9.157767616643316, 7.896514675872747, 7.741986904590167, 7.62799203659359, 7.537934283418652, 6.437069822104629, 6.408511891039235, 6.076851424507339, 6.023410572290893, 6.023453414464455, 6.023691986955609, 5.722132376170471, 5.655868114423532, 5.443151900952862, 5.402448397667313, 5.327887534855918, 5.299146191990704, 5.2739589008428105, 5.2739589008428105, 5.2739589008428105, 4.909283507790714, 4.884841886735698, 6.76731572665724, 48.025801931108155, 10.884298728613011, 7.666910106064055, 19.23034095833162, 49.00117949783613, 25.50951100290828, 36.029255159096294, 11.491751169641965, 18.89370479347112, 20.59577634609019, 29.21162273503385, 26.210905260139103, 88.93934475584497, 101.84328107168372, 86.52341371385357, 25.116792208926984, 127.11408487772947, 41.282062900069256, 15.188538308921391, 11.871826686066969, 11.786447877107893, 11.139880603888033, 9.609163868746023, 9.251354142562077, 8.459992559979415, 7.4685825680374, 7.316438774795815, 6.869093109797361, 5.924597015110145, 5.924590634277041, 5.829850977532729, 5.590280249084672, 5.464794093088542, 5.0960310305156, 4.971022287751581, 4.893540971682099, 4.748989419494388, 4.619156687714169, 4.606078501645939, 4.479419339675268, 4.3805904954503525, 4.38058282808471, 4.372300489651467, 4.355521683932443, 4.355521683932443, 4.355492876094996, 4.381163999309513, 26.210905260139103, 5.625585704308745, 190.37060092078636, 20.254244529751958, 10.838979307300663, 23.26256338913689, 7.295650018952734, 24.45260747017843, 24.13262118347693, 17.12651691986203, 13.909309111496064, 9.03016018860273, 8.911954425545073, 6.872688196136996, 6.4354436361710725, 6.323853889619343, 6.19998468890679, 5.954058600218976, 5.584470419017294, 5.538849511291625, 5.22428470995344, 5.214676058678057, 10.684857753691178, 5.082342398893535, 5.064440590950561, 4.845028568060016, 4.7049999560688605, 4.645818996795227, 4.516063543464887, 4.475307415168709, 4.475304240838015, 4.422646468248258, 4.354581003206211, 4.298607754540528, 4.105584916688801, 4.1055849486064835, 4.10558495171611, 4.024895068772177, 3.999039277812359, 3.947678551557286, 6.706023684899728, 14.939491881968472, 11.19933252174582, 52.879517308532165, 11.276339574237424, 6.70166871513902, 39.663792337728076, 38.29412791918911, 13.307140936248931, 32.10975087623762, 17.92638798014497, 26.4076379902631, 14.606323703574583, 32.218931319768515, 40.57252153539129, 58.475069029952145, 32.90493171409394, 74.42465360524348, 39.221791263758796, 20.074422980156477, 44.88305644562395, 30.45606630366601, 26.5193782609107, 17.316506082219767, 16.79068223737653, 11.803308213038507, 11.803308213038507, 35.30380966620514, 8.346833247404506, 7.35790388096463, 7.150894699811585, 6.28996557624746, 6.28996557624746, 6.28996557624746, 6.28996557624746, 6.28996557624746, 6.290258315205335, 6.290258315205335, 6.290258315205335, 6.290258315205335, 6.290258315205335, 6.290258315205335, 6.290258315205335, 6.290258315205335, 6.290258315205335, 6.290258315205335, 6.290258315205335, 6.290258315205335, 6.290258315205335, 6.290258315205335, 20.050902741885995, 13.662253390346699, 12.963277415487132, 6.543877089786459, 15.407290008274273, 6.888531786844018, 54.29969412353816, 149.50725955456363, 40.752725184596756, 8.559818929497592, 35.704585775033905, 169.7047655682605, 30.621974146453013, 37.0693933241809, 181.939365222323, 14.025011985029535, 40.57252153539129, 13.500603417786404, 21.031785234925913, 196.80845490916252, 169.7086624628205, 2.3154007098926708, 2.2918825149797852, 2.2154024557424137, 2.167145277761913, 1.8926261178512278, 1.8220407952808801, 2.7571649390948396, 1.733082381032811, 1.7167400390587453, 1.7000052920009678, 1.6588081664321068, 1.440772612701946, 2.102873626774585, 1.3912188146485602, 1.3912617328101988, 1.3912617328101988, 1.379573914423431, 1.3179973066649207, 1.2558524793223507, 1.2558524883260351, 1.2558524901671408, 1.2558525051354437, 1.2558525057676413, 1.2558525105648997, 1.2556420818076193, 1.2557475973687935, 1.258588793021016, 1.2205234037381687, 1.2205234037381687, 1.2205234037381687, 2.6491177314605467, 4.0175606458788655, 3.89585962906331, 5.625585704308745, 4.750744822745506, 190.37060092078636], \"Category\": [\"Default\", \"Default\", \"Default\", \"Default\", \"Default\", \"Default\", \"Default\", \"Default\", \"Default\", \"Default\", \"Default\", \"Default\", \"Default\", \"Default\", \"Default\", \"Default\", \"Default\", \"Default\", \"Default\", \"Default\", \"Default\", \"Default\", \"Default\", \"Default\", \"Default\", \"Default\", \"Default\", \"Default\", \"Default\", \"Default\", \"Topic1\", \"Topic1\", \"Topic1\", \"Topic1\", \"Topic1\", \"Topic1\", \"Topic1\", \"Topic1\", \"Topic1\", \"Topic1\", \"Topic1\", \"Topic1\", \"Topic1\", \"Topic1\", \"Topic1\", \"Topic1\", \"Topic1\", \"Topic1\", \"Topic1\", \"Topic1\", \"Topic1\", \"Topic1\", \"Topic1\", \"Topic1\", \"Topic1\", \"Topic1\", \"Topic1\", \"Topic1\", \"Topic1\", \"Topic1\", \"Topic1\", \"Topic1\", \"Topic1\", \"Topic1\", \"Topic1\", \"Topic1\", \"Topic1\", \"Topic1\", \"Topic1\", \"Topic1\", \"Topic1\", \"Topic1\", \"Topic1\", \"Topic1\", \"Topic1\", \"Topic1\", \"Topic1\", \"Topic1\", \"Topic1\", \"Topic1\", \"Topic1\", \"Topic1\", \"Topic1\", \"Topic1\", \"Topic2\", \"Topic2\", \"Topic2\", \"Topic2\", \"Topic2\", \"Topic2\", \"Topic2\", \"Topic2\", \"Topic2\", \"Topic2\", \"Topic2\", \"Topic2\", \"Topic2\", \"Topic2\", \"Topic2\", \"Topic2\", \"Topic2\", \"Topic2\", \"Topic2\", \"Topic2\", \"Topic2\", \"Topic2\", \"Topic2\", \"Topic2\", \"Topic2\", \"Topic2\", \"Topic2\", \"Topic2\", \"Topic2\", \"Topic2\", \"Topic2\", \"Topic2\", \"Topic2\", \"Topic2\", \"Topic2\", \"Topic2\", \"Topic2\", \"Topic2\", \"Topic2\", \"Topic2\", \"Topic2\", \"Topic2\", \"Topic2\", \"Topic2\", \"Topic2\", \"Topic2\", \"Topic2\", \"Topic2\", \"Topic2\", \"Topic2\", \"Topic2\", \"Topic2\", \"Topic2\", \"Topic2\", \"Topic2\", \"Topic2\", \"Topic2\", \"Topic2\", \"Topic2\", \"Topic2\", \"Topic2\", \"Topic2\", \"Topic2\", \"Topic2\", \"Topic2\", \"Topic2\", \"Topic2\", \"Topic2\", \"Topic2\", \"Topic2\", \"Topic2\", \"Topic3\", \"Topic3\", \"Topic3\", \"Topic3\", \"Topic3\", \"Topic3\", \"Topic3\", \"Topic3\", \"Topic3\", \"Topic3\", \"Topic3\", \"Topic3\", \"Topic3\", \"Topic3\", \"Topic3\", \"Topic3\", \"Topic3\", \"Topic3\", \"Topic3\", \"Topic3\", \"Topic3\", \"Topic3\", \"Topic3\", \"Topic3\", \"Topic3\", \"Topic3\", \"Topic3\", \"Topic3\", \"Topic3\", \"Topic3\", \"Topic3\", \"Topic3\", \"Topic3\", \"Topic3\", \"Topic3\", \"Topic3\", \"Topic3\", \"Topic3\", \"Topic3\", \"Topic3\", \"Topic3\", \"Topic3\", \"Topic3\", \"Topic3\", \"Topic4\", \"Topic4\", \"Topic4\", \"Topic4\", \"Topic4\", \"Topic4\", \"Topic4\", \"Topic4\", \"Topic4\", \"Topic4\", \"Topic4\", \"Topic4\", \"Topic4\", \"Topic4\", \"Topic4\", \"Topic4\", \"Topic4\", \"Topic4\", \"Topic4\", \"Topic4\", \"Topic4\", \"Topic4\", \"Topic4\", \"Topic4\", \"Topic4\", \"Topic4\", \"Topic4\", \"Topic4\", \"Topic4\", \"Topic4\", \"Topic5\", \"Topic5\", \"Topic5\", \"Topic5\", \"Topic5\", \"Topic5\", \"Topic5\", \"Topic5\", \"Topic5\", \"Topic5\", \"Topic5\", \"Topic5\", \"Topic5\", \"Topic5\", \"Topic5\", \"Topic5\", \"Topic5\", \"Topic5\", \"Topic5\", \"Topic5\", \"Topic5\", \"Topic5\", \"Topic5\", \"Topic5\", \"Topic5\", \"Topic5\", \"Topic5\", \"Topic5\", \"Topic5\", \"Topic5\", \"Topic5\", \"Topic5\", \"Topic5\", \"Topic5\", \"Topic5\", \"Topic5\", \"Topic5\", \"Topic5\", \"Topic5\", \"Topic5\", \"Topic5\", \"Topic5\", \"Topic5\", \"Topic5\", \"Topic5\", \"Topic5\", \"Topic5\", \"Topic5\", \"Topic5\", \"Topic5\", \"Topic5\", \"Topic5\", \"Topic5\", \"Topic5\", \"Topic5\", \"Topic5\", \"Topic5\", \"Topic5\", \"Topic5\", \"Topic5\", \"Topic6\", \"Topic6\", \"Topic6\", \"Topic6\", \"Topic6\", \"Topic6\", \"Topic6\", \"Topic6\", \"Topic6\", \"Topic6\", \"Topic6\", \"Topic6\", \"Topic6\", \"Topic6\", \"Topic6\", \"Topic6\", \"Topic6\", \"Topic6\", \"Topic6\", \"Topic6\", \"Topic6\", \"Topic6\", \"Topic6\", \"Topic6\", \"Topic6\", \"Topic6\", \"Topic6\", \"Topic6\", \"Topic6\", \"Topic6\", \"Topic6\", \"Topic6\", \"Topic6\", \"Topic6\", \"Topic6\", \"Topic6\", \"Topic6\", \"Topic6\", \"Topic6\", \"Topic6\", \"Topic6\", \"Topic6\", \"Topic6\", \"Topic6\", \"Topic6\", \"Topic6\", \"Topic6\", \"Topic6\", \"Topic7\", \"Topic7\", \"Topic7\", \"Topic7\", \"Topic7\", \"Topic7\", \"Topic7\", \"Topic7\", \"Topic7\", \"Topic7\", \"Topic7\", \"Topic7\", \"Topic7\", \"Topic7\", \"Topic7\", \"Topic7\", \"Topic7\", \"Topic7\", \"Topic7\", \"Topic7\", \"Topic7\", \"Topic7\", \"Topic7\", \"Topic7\", \"Topic7\", \"Topic7\", \"Topic7\", \"Topic7\", \"Topic7\", \"Topic7\", \"Topic7\", \"Topic7\", \"Topic7\", \"Topic7\", \"Topic7\", \"Topic7\", \"Topic7\", \"Topic7\", \"Topic7\", \"Topic7\", \"Topic8\", \"Topic8\", \"Topic8\", \"Topic8\", \"Topic8\", \"Topic8\", \"Topic8\", \"Topic8\", \"Topic8\", \"Topic8\", \"Topic8\", \"Topic8\", \"Topic8\", \"Topic8\", \"Topic8\", \"Topic8\", \"Topic8\", \"Topic8\", \"Topic8\", \"Topic8\", \"Topic8\", \"Topic8\", \"Topic8\", \"Topic8\", \"Topic8\", \"Topic8\", \"Topic8\", \"Topic8\", \"Topic8\", \"Topic8\", \"Topic8\", \"Topic8\", \"Topic8\", \"Topic8\", \"Topic8\", \"Topic8\", \"Topic8\", \"Topic8\", \"Topic8\", \"Topic8\", \"Topic8\", \"Topic8\", \"Topic8\", \"Topic8\", \"Topic8\", \"Topic8\", \"Topic8\", \"Topic8\", \"Topic8\", \"Topic8\", \"Topic9\", \"Topic9\", \"Topic9\", \"Topic9\", \"Topic9\", \"Topic9\", \"Topic9\", \"Topic9\", \"Topic9\", \"Topic9\", \"Topic9\", \"Topic9\", \"Topic9\", \"Topic9\", \"Topic9\", \"Topic9\", \"Topic9\", \"Topic9\", \"Topic9\", \"Topic9\", \"Topic9\", \"Topic9\", \"Topic9\", \"Topic9\", \"Topic9\", \"Topic9\", \"Topic9\", \"Topic9\", \"Topic9\", \"Topic9\", \"Topic9\", \"Topic9\", \"Topic9\", \"Topic9\", \"Topic9\", \"Topic9\", \"Topic9\", \"Topic9\", \"Topic9\", \"Topic9\", \"Topic9\", \"Topic9\", \"Topic9\", \"Topic9\", \"Topic9\", \"Topic9\", \"Topic9\", \"Topic9\", \"Topic9\", \"Topic9\", \"Topic9\", \"Topic10\", \"Topic10\", \"Topic10\", \"Topic10\", \"Topic10\", \"Topic10\", \"Topic10\", \"Topic10\", \"Topic10\", \"Topic10\", \"Topic10\", \"Topic10\", \"Topic10\", \"Topic10\", \"Topic10\", \"Topic10\", \"Topic10\", \"Topic10\", \"Topic10\", \"Topic10\", \"Topic10\", \"Topic10\", \"Topic10\", \"Topic10\", \"Topic10\", \"Topic10\", \"Topic10\", \"Topic10\", \"Topic10\", \"Topic10\", \"Topic10\", \"Topic10\", \"Topic10\", \"Topic10\", \"Topic10\", \"Topic10\"], \"logprob\": [30.0, 29.0, 28.0, 27.0, 26.0, 25.0, 24.0, 23.0, 22.0, 21.0, 20.0, 19.0, 18.0, 17.0, 16.0, 15.0, 14.0, 13.0, 12.0, 11.0, 10.0, 9.0, 8.0, 7.0, 6.0, 5.0, 4.0, 3.0, 2.0, 1.0, -4.3408, -4.7089, -5.08, -5.0865, -5.1028, -5.3697, -5.3902, -5.4433, -5.5132, -5.4922, -5.6353, -5.708, -5.7613, -5.7907, -5.8852, -5.891, -5.9635, -5.6844, -5.9842, -6.0448, -6.0779, -6.0925, -6.1264, -6.1335, -6.1563, -6.1871, -6.1939, -6.2292, -6.2492, -6.0166, -5.6308, -5.4576, -5.3955, -5.8667, -6.0742, -5.0407, -5.0979, -4.1189, -5.2829, -5.1367, -5.3718, -5.2509, -5.2597, -5.2303, -5.3189, -5.4897, -5.3207, -5.2428, -5.4984, -5.3558, -5.5914, -5.5074, -5.4404, -5.5673, -5.141, -5.6737, -6.0774, -6.1135, -6.1458, -6.228, -6.2497, -6.3716, -6.362, -5.4382, -6.4392, -6.5148, -6.5484, -6.5734, -6.577, -6.5847, -6.6121, -6.6176, -6.6379, -6.6361, -6.6454, -6.6597, -6.6651, -6.6729, -6.682, -6.6801, -6.6865, -6.6782, -5.955, -6.6985, -4.9451, -5.8947, -6.2584, -5.6209, -6.1506, -5.5116, -6.4745, -5.6866, -6.5278, -6.1428, -5.4136, -5.6259, -5.8951, -5.6829, -6.3195, -5.3592, -5.5705, -6.255, -5.7192, -6.2308, -5.7768, -4.0958, -5.956, -5.5906, -5.4721, -5.8889, -5.1583, -5.2196, -5.4278, -5.986, -5.3977, -5.6871, -5.7372, -5.833, -5.6876, -5.6153, -5.6865, -5.7219, -5.6803, -5.8097, -5.8071, -5.0115, -5.0493, -5.2376, -5.2833, -5.3817, -5.3817, -5.4456, -5.477, -5.7076, -5.824, -5.8365, -5.8762, -5.8957, -5.9152, -5.918, -5.9452, -6.0004, -5.9563, -6.0308, -6.0345, -6.0349, -6.0586, -6.0761, -6.1057, -5.8636, -6.2419, -6.3032, -6.3186, -6.3332, -6.4513, -5.5764, -5.7631, -5.6541, -6.0232, -5.7883, -5.6531, -4.7885, -5.8384, -5.9865, -5.7902, -5.8466, -5.7865, -5.857, -5.9035, -3.7483, -3.8484, -3.9596, -4.3077, -4.3077, -4.5952, -4.7129, -4.7129, -4.7129, -4.8463, -4.8463, -5.0003, -5.0003, -5.0003, -5.0003, -5.1597, -5.1824, -5.1824, -5.1824, -5.1824, -5.1824, -5.1824, -5.343, -5.4052, -5.4052, -5.4052, -5.4052, -5.4052, -5.4052, -5.4052, -4.8869, -4.8881, -3.8448, -5.2881, -5.3106, -5.342, -4.3201, -5.347, -5.5177, -5.4878, -5.5811, -5.6156, -5.6152, -5.642, -5.642, -5.6555, -5.668, -5.668, -5.6698, -5.6834, -5.7236, -5.7236, -5.7236, -5.7236, -5.7236, -5.9408, -5.9594, -6.0407, -6.3758, -6.3767, -5.1134, -4.907, -5.0896, -5.3293, -3.5823, -4.5286, -4.4604, -5.1694, -5.0402, -5.4934, -4.7456, -4.9181, -5.1186, -5.3365, -4.7776, -5.0752, -3.9365, -5.315, -5.4885, -4.9594, -4.7441, -4.8798, -5.2592, -5.1925, -5.1572, -5.2321, -5.2351, -5.2076, -5.2481, -5.2548, -4.7003, -4.8269, -4.9943, -5.2525, -5.4271, -5.4396, -5.5024, -5.6359, -5.6648, -5.8261, -5.8477, -5.864, -5.8848, -6.0523, -6.0573, -6.1171, -6.127, -6.127, -6.127, -6.1853, -6.1985, -6.2425, -6.2508, -6.2668, -6.273, -6.2785, -6.2785, -6.2785, -6.3614, -6.3674, -6.0647, -4.488, -5.7153, -6.0301, -5.5372, -5.06, -5.5204, -5.3963, -5.9304, -5.773, -5.9184, -5.8876, -5.9538, -5.8205, -5.8065, -5.9032, -6.0129, -5.9694, -3.9783, -5.008, -5.2678, -5.2755, -5.3357, -5.494, -5.535, -5.6321, -5.7686, -5.7913, -5.8613, -6.0272, -6.0272, -6.0456, -6.0933, -6.1193, -6.1997, -6.2286, -6.2468, -6.2818, -6.3146, -6.3181, -6.3506, -6.3771, -6.3771, -6.3793, -6.3839, -6.3839, -6.3839, -6.3833, -5.2726, -6.23, -4.624, -5.7859, -6.0888, -5.8676, -6.2235, -5.8918, -5.925, -6.2872, -4.9865, -5.4468, -5.4611, -5.7464, -5.8198, -5.8393, -5.8616, -5.9073, -5.9801, -5.9896, -6.0567, -6.0588, -5.3417, -6.0885, -6.0926, -6.1441, -6.1785, -6.194, -6.2267, -6.2374, -6.2374, -6.2514, -6.2701, -6.2853, -6.3403, -6.3403, -6.3403, -6.3655, -6.372, -6.3885, -5.9097, -5.2039, -5.6265, -4.5179, -5.6525, -6.0177, -4.8854, -5.148, -5.6959, -5.3275, -5.7496, -5.73, -5.9376, -5.8256, -5.7894, -5.7323, -5.847, -5.7664, -5.8615, -5.9697, -3.4314, -3.8269, -3.9691, -4.4108, -4.4454, -4.8152, -4.8152, -3.7214, -5.1898, -5.329, -5.3608, -5.505, -5.505, -5.505, -5.505, -5.505, -5.505, -5.505, -5.505, -5.505, -5.505, -5.505, -5.505, -5.505, -5.505, -5.505, -5.505, -5.505, -5.505, -5.505, -4.3565, -4.7499, -4.8192, -5.4675, -4.7848, -5.4321, -3.8136, -3.6162, -4.482, -5.3574, -4.7384, -4.353, -4.9639, -4.9421, -4.5064, -5.2645, -4.9607, -5.3618, -5.341, -5.1623, -5.256, -5.8281, -5.8435, -5.8937, -5.9271, -6.1409, -6.2043, -5.7937, -6.2902, -6.3136, -6.3243, -6.3716, -6.6402, -6.2898, -6.7139, -6.7141, -6.7141, -6.7315, -6.833, -6.9472, -6.9472, -6.9472, -6.9472, -6.9472, -6.9472, -6.9477, -6.9478, -6.9517, -7.0184, -7.0184, -7.0184, -6.4649, -6.2898, -6.406, -6.6416, -6.7089, -6.6931], \"loglift\": [30.0, 29.0, 28.0, 27.0, 26.0, 25.0, 24.0, 23.0, 22.0, 21.0, 20.0, 19.0, 18.0, 17.0, 16.0, 15.0, 14.0, 13.0, 12.0, 11.0, 10.0, 9.0, 8.0, 7.0, 6.0, 5.0, 4.0, 3.0, 2.0, 1.0, 0.9585, 0.9574, 0.9558, 0.9558, 0.9557, 0.9541, 0.954, 0.9536, 0.9529, 0.9521, 0.952, 0.9513, 0.9509, 0.9506, 0.9495, 0.9495, 0.9486, 0.9485, 0.9484, 0.9475, 0.9471, 0.9469, 0.9465, 0.9464, 0.946, 0.9456, 0.9455, 0.9449, 0.9446, 0.9439, 0.938, 0.906, 0.8914, 0.9184, 0.9335, 0.7385, 0.7147, 0.3937, 0.707, 0.6611, 0.7294, 0.6736, 0.6553, 0.6029, 0.61, 0.6907, 0.4738, 0.4069, 0.581, 0.3724, 0.7008, 0.4506, 0.2425, 0.2305, 1.5715, 1.5649, 1.557, 1.556, 1.5553, 1.5528, 1.5526, 1.5489, 1.5487, 1.5483, 1.5467, 1.5441, 1.5428, 1.5418, 1.5417, 1.5414, 1.5403, 1.5401, 1.5393, 1.5392, 1.5389, 1.5384, 1.5382, 1.5378, 1.5374, 1.5373, 1.5373, 1.5371, 1.5369, 1.5368, 1.5284, 1.5224, 1.5291, 1.5095, 1.5245, 1.5035, 1.5331, 1.5037, 1.5328, 1.5053, 1.422, 1.4304, 1.4567, 1.3979, 1.4986, 1.2788, 1.324, 1.4654, 1.3221, 1.4517, 1.2473, 0.4169, 1.3202, 1.1292, 0.9842, 1.2413, 0.556, 0.5782, 0.7587, 1.2749, 0.252, 0.742, 0.6907, 0.8848, 0.3918, 0.1129, 0.2285, 0.3649, 0.1142, 0.699, 0.3243, 1.9046, 1.9042, 1.9016, 1.9009, 1.8993, 1.8993, 1.8982, 1.8974, 1.8928, 1.89, 1.8896, 1.8886, 1.888, 1.8875, 1.8874, 1.8866, 1.885, 1.8845, 1.884, 1.8839, 1.8839, 1.8831, 1.8825, 1.8815, 1.8781, 1.8765, 1.8741, 1.8734, 1.8728, 1.8674, 1.8084, 1.7896, 1.693, 1.7884, 1.7, 1.4474, -0.2758, 1.4224, 1.6425, 0.6389, 0.6621, 0.0081, 0.1425, 0.0254, 2.723, 2.7221, 2.721, 2.7166, 2.7166, 2.7115, 2.709, 2.709, 2.709, 2.7058, 2.7058, 2.7016, 2.7016, 2.7016, 2.7016, 2.6965, 2.6957, 2.6957, 2.6957, 2.6957, 2.6957, 2.6957, 2.6895, 2.6869, 2.6869, 2.6869, 2.6869, 2.6869, 2.6869, 2.6869, 2.992, 2.992, 2.9823, 2.9754, 2.9737, 2.9726, 2.972, 2.9707, 2.9626, 2.9623, 2.9572, 2.9562, 2.9562, 2.9544, 2.9544, 2.9535, 2.9526, 2.9526, 2.9524, 2.9515, 2.9486, 2.9486, 2.9486, 2.9486, 2.9486, 2.9305, 2.9288, 2.9209, 2.8818, 2.8817, 2.8752, 2.8691, 2.8592, 2.8647, 2.6212, 2.7345, 2.7015, 2.8307, 2.7968, 2.8663, 2.5869, 2.6343, 2.697, 2.7791, 2.406, 2.583, 1.7464, 2.6595, 2.8208, 1.7806, 0.9702, 1.1198, 2.0982, 1.8221, 1.2867, 1.8558, 1.7022, 0.5902, 0.4801, 0.7032, 3.1003, 3.0959, 3.0898, 3.0729, 3.0685, 3.0678, 3.0637, 3.0546, 3.0525, 3.0393, 3.0375, 3.036, 3.0271, 3.0174, 3.0169, 3.0103, 3.0092, 3.0091, 3.0091, 3.0022, 3.0007, 2.995, 2.9942, 2.9921, 2.9913, 2.9906, 2.9906, 2.9906, 2.9793, 2.9783, 2.9551, 2.5721, 2.8292, 2.8649, 2.4381, 1.98, 2.1724, 1.9512, 2.5599, 2.22, 1.9884, 1.6697, 1.7118, 0.6234, 0.5019, 0.5682, 1.6954, 0.1174, 3.2331, 3.2033, 3.1899, 3.1894, 3.1857, 3.1751, 3.1721, 3.1644, 3.1526, 3.1504, 3.1436, 3.1255, 3.1255, 3.1233, 3.1175, 3.1143, 3.1037, 3.0996, 3.0971, 3.0921, 3.0871, 3.0864, 3.0817, 3.0776, 3.0776, 3.0772, 3.0765, 3.0765, 3.0765, 3.0713, 2.3931, 2.9745, 1.0589, 2.1376, 2.4599, 1.9174, 2.7211, 1.8433, 1.8232, 1.804, 3.3128, 3.2845, 3.2834, 3.2579, 3.2502, 3.2482, 3.2457, 3.2405, 3.2317, 3.2304, 3.2218, 3.2216, 3.2214, 3.2176, 3.217, 3.2098, 3.2047, 3.2019, 3.1975, 3.1959, 3.1959, 3.1937, 3.1906, 3.1882, 3.1793, 3.1793, 3.1793, 3.1739, 3.1738, 3.1702, 3.1192, 3.024, 2.8895, 2.4459, 2.8566, 3.0118, 2.366, 2.1386, 2.6476, 2.1352, 2.2959, 1.9282, 2.3128, 1.6337, 1.4394, 1.131, 1.5913, 0.8557, 1.4011, 1.9627, 3.6964, 3.6886, 3.6849, 3.6694, 3.6656, 3.6483, 3.6483, 3.6465, 3.6202, 3.6071, 3.6038, 3.5879, 3.5879, 3.5879, 3.5879, 3.5879, 3.5879, 3.5879, 3.5879, 3.5879, 3.5879, 3.5879, 3.5879, 3.5879, 3.5879, 3.5879, 3.5879, 3.5879, 3.5879, 3.5879, 3.577, 3.5674, 3.5505, 3.5859, 3.4122, 3.5699, 3.1237, 2.3083, 2.7424, 3.4274, 2.6182, 1.4448, 2.5463, 2.3769, 1.2217, 3.0265, 2.2681, 2.9674, 2.5448, 0.4874, 0.5417, 4.2642, 4.259, 4.2427, 4.2314, 4.153, 4.1276, 4.124, 4.0917, 4.0778, 4.0769, 4.0542, 3.9264, 3.8987, 3.8878, 3.8875, 3.8875, 3.8786, 3.8228, 3.7569, 3.7569, 3.7569, 3.7569, 3.7569, 3.7569, 3.7565, 3.7564, 3.7501, 3.7141, 3.7141, 3.7141, 3.4928, 3.2514, 3.1659, 2.563, 2.6647, -1.0103]}, \"token.table\": {\"Topic\": [9, 3, 9, 7, 7, 8, 1, 2, 3, 5, 8, 5, 1, 3, 6, 8, 1, 2, 3, 5, 3, 8, 2, 3, 5, 8, 3, 1, 7, 8, 9, 2, 7, 5, 9, 1, 2, 3, 5, 1, 3, 1, 2, 3, 5, 7, 8, 10, 3, 6, 2, 1, 2, 3, 2, 1, 2, 8, 2, 9, 5, 5, 2, 8, 9, 2, 6, 9, 1, 2, 3, 8, 6, 1, 2, 3, 5, 1, 7, 1, 2, 3, 8, 7, 2, 3, 3, 1, 2, 7, 8, 7, 9, 9, 2, 7, 3, 1, 2, 3, 5, 1, 1, 1, 9, 9, 5, 7, 9, 5, 7, 6, 8, 1, 5, 1, 9, 2, 6, 8, 7, 7, 2, 3, 6, 1, 2, 3, 8, 8, 1, 5, 5, 6, 1, 2, 5, 8, 9, 3, 5, 1, 1, 2, 3, 5, 8, 5, 2, 6, 3, 6, 6, 1, 9, 8, 1, 3, 2, 3, 3, 7, 3, 2, 3, 9, 7, 10, 1, 2, 7, 1, 2, 3, 1, 5, 1, 2, 8, 1, 2, 3, 5, 1, 2, 6, 2, 3, 8, 1, 2, 3, 3, 1, 2, 1, 8, 1, 2, 6, 2, 3, 1, 3, 9, 5, 2, 9, 1, 2, 3, 5, 1, 2, 3, 5, 6, 10, 5, 7, 2, 3, 2, 1, 2, 3, 9, 9, 7, 1, 1, 9, 3, 9, 9, 1, 2, 8, 9, 1, 7, 1, 2, 3, 6, 6, 10, 1, 5, 1, 2, 3, 6, 3, 1, 2, 8, 1, 2, 6, 3, 2, 5, 1, 1, 2, 6, 9, 1, 2, 3, 6, 9, 6, 1, 2, 3, 8, 1, 2, 5, 6, 8, 7, 1, 5, 8, 5, 7, 1, 2, 3, 1, 10, 10, 7, 5, 1, 7, 10, 7, 1, 5, 2, 1, 2, 3, 6, 8, 7, 1, 8, 1, 2, 3, 2, 5, 1, 2, 9, 1, 2, 3, 8, 1, 7, 8, 2, 1, 1, 2, 3, 6, 1, 2, 3, 1, 2, 3, 5, 6, 10, 1, 2, 3, 5, 6, 9, 6, 1, 2, 3, 6, 3, 9, 1, 2, 3, 8, 8, 7, 6, 7, 9, 5, 7, 9, 9, 10, 6, 1, 2, 6, 7, 9, 10, 9, 7, 10, 1, 2, 3, 5, 1, 3, 5, 6, 8, 7, 10, 1, 2, 6, 7, 1, 3, 1, 2, 3, 5, 6, 2, 5, 1, 2, 6, 1, 5, 7, 8, 3, 5, 3, 1, 3, 8, 2, 1, 2, 3, 6, 9, 1, 3, 5, 8, 9, 2, 9, 10, 1, 1, 3, 3, 1, 2, 5, 6, 1, 2, 3, 6, 9, 9, 9, 2, 8, 6, 9, 8, 1, 1, 6, 3, 1, 5, 5, 3, 1, 3, 8, 8, 1, 2, 1, 2, 3, 9, 1, 6, 1, 2, 1, 5, 6, 3, 1, 2, 7, 7, 3, 8, 8, 1, 3, 8, 6, 8, 2, 5, 2, 7, 1, 8, 6, 6, 2, 9, 1, 2, 6, 3, 10, 2, 1, 2, 3, 6, 9, 1, 5, 8, 1, 2, 3, 2, 1, 2, 3, 5, 9, 6, 5, 5, 8, 2, 1, 5, 9, 1, 6, 2, 6, 1, 9, 5, 7, 1, 2, 7, 5, 2, 6, 8, 1, 9, 6, 9, 3, 3, 1, 3, 6, 7, 1, 2, 1, 2, 3, 6, 7, 8, 1, 2, 1, 10, 10, 3, 5, 2, 5, 10, 1, 5, 3, 7, 10, 6, 9, 2, 2, 5, 1, 2, 3, 7, 9, 2, 6, 9, 1, 9, 6, 1, 6, 1, 2, 3, 5, 6, 9, 2, 1, 2, 6, 10, 6, 5, 1, 2, 5, 2, 2, 7, 1, 6, 1, 1, 1, 5, 5, 1, 6, 8, 5, 1, 2, 3, 3, 9, 1, 2, 5, 9, 5, 6, 8, 1, 2, 6, 8, 9, 3, 6, 7, 1, 10, 2, 10, 1, 1, 2, 6, 2, 3, 6, 1, 2, 2, 1, 2, 3, 3, 7, 1, 5, 1, 3, 5, 6, 8, 5, 2, 1, 8, 1, 2, 3, 1, 2, 3, 6, 1, 9, 1, 9, 1, 1, 2, 3, 5, 6, 1, 2, 3, 6, 8, 7, 10, 7, 10, 7, 10, 10, 10, 10, 10, 10, 10, 7, 10, 10, 10, 4, 4, 4, 4, 4, 4, 4, 4, 4, 4, 4, 4, 4, 4, 4, 4, 4, 4, 4, 4, 4, 4, 4, 4, 4, 4, 4, 4, 4, 4, 8, 8, 8, 8, 8, 8, 8, 8, 8, 8], \"Freq\": [0.9538558989694114, 0.9689035916846634, 0.9538558989694114, 0.993167422355999, 0.9129993765653178, 0.839763317044967, 0.4065561981507793, 0.35776945437268576, 0.10299423686486409, 0.13009798340824938, 0.005420749308677057, 0.9195736473701045, 0.47041278049712154, 0.11760319512428039, 0.39201065041426797, 0.0392010650414268, 0.04444942758499493, 0.6371084620515939, 0.2963295172332995, 0.02963295172332995, 0.9545381672843717, 0.7453610463726129, 0.03786783204043903, 0.07573566408087806, 0.6437531446874635, 0.2272069922426342, 0.9544903790165516, 0.2741359570160814, 0.5482719140321628, 0.9570688194833396, 0.9538558989694114, 0.9520911308772315, 0.029752847839913485, 0.9372637990140654, 0.9804151418709444, 0.29599359932037017, 0.5464497218222218, 0.022768738409259245, 0.12522806125092584, 0.968147348256408, 0.01975810914808996, 0.48852080914897944, 0.0420232954106649, 0.06828785504233045, 0.27840433209565496, 0.11031115045299536, 0.010505823852666225, 0.0052529119263331125, 0.960930852605041, 0.9387908665820941, 0.9440898239720399, 0.47313911560038413, 0.5027103103254081, 0.029571194725024008, 0.9845662441616206, 0.20084381511405286, 0.7230377344105904, 0.06025314453421586, 0.9613569774270466, 0.9319421133008173, 0.9207111435114316, 0.9477915284138287, 0.9796903873585835, 0.07319436782709413, 0.8783324139251295, 0.21390356052474221, 0.21390356052474221, 0.4991083078910652, 0.12605955470485902, 0.2269071984687462, 0.25211910940971805, 0.378178664114577, 0.8738001275227825, 0.5371681721301814, 0.07958046994521206, 0.07958046994521206, 0.29842676229454523, 0.9942932195455849, 0.9148502051648457, 0.17019822528803305, 0.13237639744624793, 0.2836637088133884, 0.3971291923387438, 0.9567496176027734, 0.8483648554562239, 0.13307684007156453, 0.991580395553861, 0.49725224246324856, 0.1657507474877495, 0.24862612123162428, 0.04143768687193738, 0.8576548558906847, 0.9850254363410316, 0.9538558989694114, 0.9602853459202977, 0.9366059443811402, 0.9727166759739687, 0.798224298051364, 0.11568468087700928, 0.017352702131551392, 0.0636265744823551, 0.9851520286589774, 0.9768871002430483, 0.09974613241836908, 0.8478421255561371, 0.9538558989694114, 0.11682490111489938, 0.11682490111489938, 0.7009494066893963, 0.9454887660651033, 0.8976756893166169, 0.8300557217778683, 0.918572876943812, 0.0763712610165368, 0.8400838711819048, 0.19471302210764457, 0.7139477477280302, 0.9745889312054615, 0.09359038960107272, 0.8423135064096544, 0.9265633917070097, 0.873477750860914, 0.24276822179364838, 0.43698279922856703, 0.3398755105111077, 0.46067210272647935, 0.44328824979340464, 0.0956111911319108, 0.9323366560583924, 0.9044358459843928, 0.3065904657028586, 0.6813121460063525, 0.8819462103382245, 0.9435482281196841, 0.036832620004263114, 0.11049786001278934, 0.25782834002984184, 0.036832620004263114, 0.5524893000639467, 0.9625756089499845, 0.9394465413308982, 0.9801581215491286, 0.04432524670164983, 0.1773009868065993, 0.04432524670164983, 0.7092039472263972, 0.7599402942310376, 0.9050867963730925, 0.9619840119596327, 0.03206613373198776, 0.9824644633626696, 0.8300885980114366, 0.9286363792528735, 0.9897104399056712, 0.9538558989694114, 0.873020836791706, 0.08829368434667204, 0.8829368434667204, 0.9749394473129919, 0.9910974743934428, 0.893057565487191, 0.08642492569230881, 0.9955653255295552, 0.9622018947585748, 0.955321510365164, 0.9539002920234659, 0.8659589337246395, 0.7964052929481326, 0.9805740335403542, 0.927373549894065, 0.892972882572315, 0.5311294874477615, 0.40941231324098276, 0.05532598827580849, 0.32809379130349464, 0.6561875826069893, 0.16735105830146935, 0.44626948880391826, 0.3347021166029387, 0.9443011364672412, 0.04150774226229632, 0.01037693556557408, 0.9130609057685458, 0.9851329865292932, 0.962819129060755, 0.0385127651624302, 0.6228637549100615, 0.06228637549100614, 0.28028868970952764, 0.1764431328179819, 0.7763497843991204, 0.03528862656359638, 0.9650786738016677, 0.2545206714356185, 0.7381099471632937, 0.991473797844606, 0.8501594128264552, 0.26800096276952323, 0.7146692340520621, 0.8735753444388357, 0.22067448137599896, 0.7723606848159964, 0.4046464928309275, 0.32371719426474205, 0.2697643285539517, 0.9068189328190778, 0.4444245797262132, 0.4444245797262132, 0.6167267062953694, 0.22906991948113722, 0.14683969197508798, 0.005873587679003519, 0.5034847244627638, 0.298944055149766, 0.07080253937757616, 0.07866948819730685, 0.047201692918384115, 0.5824993751227939, 0.8936628788421667, 0.9332752424387875, 0.7764647783096996, 0.20433283639728939, 0.936083839627419, 0.15506816324225195, 0.7753408162112597, 0.05168938774741731, 0.9538558989694114, 0.9538558989694114, 0.7849245768025265, 0.9863001092955376, 0.99114644474593, 0.9538558989694114, 0.9599836318460506, 0.951357902093482, 0.9538558989694114, 0.7354264869424124, 0.25839309000679356, 0.6250372498903888, 0.35716414279450787, 0.46129804829798116, 0.46129804829798116, 0.6872075512470388, 0.30455789202993766, 0.0078091767187163505, 0.9480544111181772, 0.9568367606862299, 0.4614365313952256, 0.6850450984761494, 0.2997072305833154, 0.760244844752078, 0.22461779504038668, 0.008639145963091795, 0.9480544111181772, 0.9827625696594328, 0.08362335275238165, 0.8919824293587376, 0.02787445091746055, 0.04251120256678581, 0.8289684500523233, 0.12753360770035743, 0.9900972013324878, 0.929301373443048, 0.8916605219974387, 0.9971054766611059, 0.27869800975269715, 0.3981400139324245, 0.2388840083594547, 0.03981400139324245, 0.7054397428736651, 0.12093252734977115, 0.14780642231638697, 0.020155421224961858, 0.9539002920234659, 0.9321011214444577, 0.6986932082453982, 0.026872815701746083, 0.18810970991222256, 0.08061844710523824, 0.02550842139115894, 0.2040673711292715, 0.7397442203436092, 0.14911966419858425, 0.7455983209929212, 0.9456273091591779, 0.9789309106602436, 0.9441501239448211, 0.930533844539522, 0.892269695374447, 0.842284462370074, 0.04030002705605299, 0.8866005952331658, 0.04030002705605299, 0.975811931814115, 0.6028424625801533, 0.4513852539108455, 0.8174040072714556, 0.9394465413308982, 0.9773802826510829, 0.7110370742261242, 0.17775926855653104, 0.937259504896853, 0.10538156786138272, 0.8430525428910618, 0.9341929107712614, 0.567594312891573, 0.28791015871311676, 0.13161607255456767, 0.01645200906932096, 0.9027145420374549, 0.9131205040469217, 0.3547250394213589, 0.6207688189873781, 0.29990909740547966, 0.4198727363676715, 0.28791273350926044, 0.9497181828592467, 0.04632771623703642, 0.08402282045511705, 0.560152136367447, 0.3360912818204682, 0.19925852932131555, 0.24907316165164442, 0.2988877939819733, 0.24907316165164442, 0.5588378108867709, 0.25792514348620194, 0.12896257174310097, 0.9673679153497355, 0.9941593510222695, 0.2880411700049128, 0.4320617550073692, 0.2769626634662623, 0.9592653610147518, 0.019906275444326584, 0.9156886704390228, 0.03981255088865317, 0.3373085340616751, 0.34855215186373095, 0.056218089010279186, 0.1798978848328934, 0.07870532461439086, 0.7187941892897796, 0.5741623247444093, 0.2642162910328255, 0.10162165039724058, 0.005081082519862029, 0.010162165039724058, 0.04064866015889623, 0.962370192362108, 0.5085328711776775, 0.3004966966049913, 0.11557565254038127, 0.0809029567782669, 0.9788782769191104, 0.9538558989694114, 0.15297618509188388, 0.40793649357835704, 0.30595237018376775, 0.15297618509188388, 0.9677443253586402, 0.8944095424945249, 0.9480544111181772, 0.9149475560888235, 0.9538558989694114, 0.7778134539494179, 0.11966360829991046, 0.9529094633441131, 0.9538558989694114, 0.796338374124968, 0.9255062949160082, 0.7266065981114075, 0.19638016165173175, 0.0687330565781061, 0.9728305566202802, 0.9539002920234659, 0.5882334629811439, 0.9803253941341143, 0.3774841669451462, 0.3774841669451462, 0.7728366273716889, 0.08694412057931501, 0.048302289210730556, 0.08694412057931501, 0.282894985785475, 0.008840468305796094, 0.663035122934707, 0.017680936611592188, 0.017680936611592188, 0.9183744888140575, 0.8637813711703962, 0.12445063161915099, 0.8504126493975317, 0.8300945021083532, 0.9183744888140575, 0.9800892448077925, 0.9651175452128966, 0.1360640097006778, 0.25700979610128033, 0.3174826893015816, 0.28724624270143095, 0.9362547970597603, 0.9671449713039191, 0.01934289942607838, 0.20800463229784724, 0.31200694844677085, 0.5200115807446181, 0.13832280976238126, 0.7146678504389699, 0.046107603254127084, 0.06916140488119063, 0.9875000028443054, 0.9520430844145655, 0.9687330120693654, 0.22544286668129718, 0.22544286668129718, 0.45088573336259435, 0.9626973617143119, 0.48318099270839765, 0.36533197009659335, 0.08249431582826301, 0.023569804522360863, 0.041247157914131506, 0.345061126846352, 0.024647223346167996, 0.24647223346167996, 0.14788334007700799, 0.24647223346167996, 0.9331436437045483, 0.044435411604978485, 0.7187720156581233, 0.9971606289703584, 0.9886792527256469, 0.9823278961653203, 0.9471692913406596, 0.36437841951100197, 0.22423287354523197, 0.39240752870415596, 0.028029109193153996, 0.1517649459951915, 0.19512635913667478, 0.6287404905515077, 0.021680706570741642, 0.9538558989694114, 0.8390558457192904, 0.9539002920234659, 0.67895527102398, 0.28725030697168386, 0.9185854245817969, 0.9168876367443803, 0.787038669584881, 0.9932921528169272, 0.6734531768048005, 0.32652275239020634, 0.9693555510701504, 0.032989073329673484, 0.9566831265605311, 0.943754459724691, 0.9504763327199114, 0.11097349871634837, 0.8045578656935257, 0.08323012403726128, 0.8859200537878685, 0.04309246692417687, 0.9480342723318912, 0.0475470811835495, 0.380376649468396, 0.285282487101297, 0.3328295682848465, 0.9901904639321399, 0.9041606613736005, 0.037488832201126296, 0.9372208050281573, 0.20780976569203635, 0.6753817384991181, 0.10390488284601818, 0.9715748204941028, 0.17516696559128309, 0.5255008967738493, 0.2335559541217108, 0.8046634612473685, 0.9529901334282673, 0.8857271297230365, 0.7501801786855979, 0.8379639530635045, 0.051303915493683946, 0.10260783098736789, 0.973751594002443, 0.860989204004563, 0.9569325667874745, 0.9394465413308982, 0.6418407747030002, 0.34560657099392317, 0.6161714735787653, 0.3423174853215363, 0.8188596668525959, 0.8866144631563894, 0.9458930753418969, 0.9319421133008173, 0.9321483941840804, 0.05765866355777817, 0.9867756347452012, 0.9868868033704883, 0.8726450797228759, 0.9526138736027334, 0.5672185116798201, 0.3129481443750731, 0.11246573938479192, 0.003259876503907012, 0.003259876503907012, 0.07261677322478578, 0.7987845054726437, 0.07261677322478578, 0.9975871217089007, 0.9381794752274247, 0.06701281965910177, 0.9609477638239667, 0.6017010378647271, 0.23514753203908875, 0.03458051941751305, 0.09682545436903654, 0.03458051941751305, 0.8147828483835289, 0.9676622715219182, 0.9379550462912717, 0.7898206975016026, 0.9666249205400771, 0.620469467746605, 0.032656287776137105, 0.32656287776137105, 0.13043064104913157, 0.7825838462947894, 0.9869907782031074, 0.8227945116175617, 0.9647471430940627, 0.03163105387193648, 0.9676897530464162, 0.9131189058083309, 0.998646731702656, 0.988179742491178, 0.8439401654305411, 0.9710845822956407, 0.13387336167797925, 0.13387336167797925, 0.7363034892288858, 0.05665110986349205, 0.9347433127476188, 0.07714098587486119, 0.8485508446234731, 0.9918839677306415, 0.9916588949904225, 0.4089543420756114, 0.28626803945292795, 0.040895434207561136, 0.2453726052453668, 0.9810030547066582, 0.012740299411774781, 0.3053074494997667, 0.08326566804539091, 0.22204178145437578, 0.3053074494997667, 0.055510445363593945, 0.055510445363593945, 0.11639703759214627, 0.8923772882064547, 0.9876183531392588, 0.7248614876992167, 0.5488351317873995, 0.1294096436828411, 0.8411626839384673, 0.12782017932640397, 0.8521345288426931, 0.7945406836173075, 0.1811272903323006, 0.8150728064953526, 0.9868868847310293, 0.5133655188908498, 0.2566827594454249, 0.8840375869531073, 0.9817222896629968, 0.9845464019210872, 0.9544410923538096, 0.944423638132679, 0.7020929986475508, 0.2014701648292972, 0.06715672160976573, 0.006105156509978703, 0.024420626039914812, 0.34807575807653196, 0.522113637114798, 0.8710128929736566, 0.9972840008321311, 0.9584473252161404, 0.9176726937336932, 0.183750928733914, 0.735003714935656, 0.5551300010120506, 0.23084613903471407, 0.03847435650578568, 0.07694871301157136, 0.016489009931051006, 0.08244504965525502, 0.9956896170265934, 0.3704937743294745, 0.21171072818827116, 0.4234214563765423, 0.5770066160409877, 0.9854859183476232, 0.9490379062576196, 0.07115214519123429, 0.9249778874860459, 0.9394465413308982, 0.9612853005327252, 0.9574616727481857, 0.8684176786328408, 0.41644281190118415, 0.5621977960665986, 0.9917279486795814, 0.9862109756285004, 0.10127673814309238, 0.8608522742162852, 0.892269695374447, 0.9839274842335901, 0.9384582477181014, 0.9346258606946538, 0.8365210464070343, 0.3054036128594991, 0.07635090321487477, 0.6108072257189981, 0.9468533965367203, 0.9539002920234659, 0.742465891149762, 0.06481845081466177, 0.08838879656544786, 0.10606655587853744, 0.7995056043058333, 0.053300373620388884, 0.053300373620388884, 0.9923625004353482, 0.9333410589237554, 0.8864670411349977, 0.746082835862214, 0.1492165671724428, 0.30521647080103725, 0.22891235310077793, 0.4196726473514262, 0.6314799282918059, 0.21049330943060196, 0.9311583774157242, 0.7187720156581233, 0.9898473450032194, 0.6161930873635577, 0.1369317971919017, 0.239630645085828, 0.09585538932162328, 0.7987949110135274, 0.09585538932162328, 0.25940266252813104, 0.7372496724483725, 0.9855090600393983, 0.7901246590612637, 0.15164008608246474, 0.0558674001356449, 0.8860050381684248, 0.10223135055789517, 0.0262593869986169, 0.9453379319502084, 0.2827271449428898, 0.09424238164762994, 0.5418936944738721, 0.04712119082381497, 0.04712119082381497, 0.9394465413308982, 0.9254362283543265, 0.8205456931076164, 0.1823434873572481, 0.7783127999319926, 0.12852871925482448, 0.09282629723959546, 0.7834663479952628, 0.10765186461003612, 0.10765186461003612, 0.9605305392289692, 0.7491275027961093, 0.24747962145942895, 0.6134559072248059, 0.36807354433488354, 0.9850928080928205, 0.41817617236387583, 0.2379278222070328, 0.1730384161505693, 0.15140861413174814, 0.021629802018821163, 0.5276400955474689, 0.09311295803778864, 0.18622591607557729, 0.03103765267926288, 0.18622591607557729, 0.9183805630710341, 0.7587268918860042, 0.8439392565009832, 0.7962718484754123, 0.4978145139020018, 0.2489072569510009, 0.7962718519179528, 0.5283663744085594, 0.7962718625759393, 0.7962718682847153, 0.6940720493879008, 0.7253827914468504, 0.9217476833683679, 0.47553975059063014, 0.7962718515171086, 0.7962718614085882, 0.9889869997054315, 0.9436218261596068, 0.9350451136697104, 0.9843480859635338, 0.9350451136697104, 0.9350451136697104, 0.98767606045267, 0.9436218261596068, 0.9436218261596068, 0.9350451136697104, 0.9866854861930783, 0.9350451136697104, 0.9436218261596068, 0.9350451136697104, 0.9350451136697104, 0.9859102998646566, 0.9866854861930783, 0.936058408795937, 0.9889869997054315, 0.9866856860008733, 0.9938720313472429, 0.9889869997054315, 0.9953633160617298, 0.9436218261596068, 0.9843480859635338, 0.9436218261596068, 0.9693142636115305, 0.9889869993247669, 0.9829559613848364, 0.98767606045267, 0.9588323308557583, 0.8976706587579643, 0.8953400456689778, 0.7307119539733941, 0.9487885243283448, 0.7307119534199428, 0.8937939824289995, 0.8255885272523024, 0.8937933484618975, 0.7307119596541028], \"Term\": [\"aeronautic\", \"africa\", \"agencys\", \"aircraft\", \"al_qaeda\", \"allan\", \"also\", \"also\", \"also\", \"also\", \"also\", \"amazon\", \"america\", \"america\", \"america\", \"america\", \"animal\", \"animal\", \"animal\", \"animal\", \"answer\", \"apart\", \"app\", \"app\", \"app\", \"app\", \"application\", \"aqim\", \"aqim\", \"arrest\", \"assignment\", \"attack\", \"attack\", \"attenborough\", \"audience\", \"back\", \"back\", \"back\", \"back\", \"base\", \"base\", \"bbc\", \"bbc\", \"bbc\", \"bbc\", \"bbc\", \"bbc\", \"bbc\", \"beach\", \"behaviour\", \"belgian\", \"big\", \"big\", \"big\", \"blue\", \"body\", \"body\", \"body\", \"border\", \"bottleneck\", \"brand\", \"browser\", \"burn\", \"bus\", \"bus\", \"camera\", \"camera\", \"camera\", \"case\", \"case\", \"case\", \"case\", \"cast\", \"change\", \"change\", \"change\", \"change\", \"character\", \"chef\", \"child\", \"child\", \"child\", \"child\", \"cia\", \"city\", \"city\", \"clash\", \"co\", \"co\", \"co\", \"co\", \"coalition\", \"code\", \"coder\", \"colour\", \"com\", \"combine\", \"come\", \"come\", \"come\", \"come\", \"comedy\", \"comic\", \"competition\", \"competition\", \"computational\", \"concept\", \"concept\", \"concept\", \"connected\", \"conservation\", \"coomb\", \"cousin\", \"coverage\", \"coverage\", \"craft\", \"craft\", \"creature\", \"crime\", \"crime\", \"dan\", \"daval\", \"david\", \"david\", \"david\", \"day\", \"day\", \"day\", \"defence\", \"delhi\", \"deliver\", \"deliver\", \"delivery\", \"democrat\", \"design\", \"design\", \"design\", \"design\", \"design\", \"desire\", \"desktop\", \"develop\", \"device\", \"device\", \"device\", \"device\", \"devour\", \"diamond\", \"die\", \"die\", \"dinosaur\", \"dive\", \"diving\", \"doctor\", \"doug\", \"download\", \"dr\", \"dr\", \"driver\", \"drug\", \"dung\", \"dung\", \"dung_beetle\", \"dutch\", \"eat\", \"editing\", \"education\", \"eiler\", \"emotion\", \"especially\", \"eurozone\", \"even\", \"even\", \"even\", \"event\", \"event\", \"evidence\", \"evidence\", \"evidence\", \"example\", \"example\", \"example\", \"exciting\", \"exercise\", \"eye\", \"eye\", \"facebook\", \"facebook\", \"facebook\", \"family\", \"family\", \"family\", \"fan\", \"far\", \"far\", \"fast\", \"fatal\", \"feel\", \"feel\", \"female\", \"fill\", \"fill\", \"film\", \"film\", \"film\", \"fin\", \"finally\", \"finally\", \"find\", \"find\", \"find\", \"find\", \"first\", \"first\", \"first\", \"first\", \"first\", \"flag\", \"fluid\", \"fm\", \"food\", \"food\", \"forest\", \"form\", \"form\", \"form\", \"formulae\", \"fortran\", \"foto\", \"fun\", \"funny\", \"futuristic\", \"game\", \"gay\", \"geek\", \"get\", \"get\", \"girl\", \"girl\", \"global\", \"global\", \"go\", \"go\", \"go\", \"greene\", \"gun\", \"hay\", \"head\", \"head\", \"help\", \"help\", \"help\", \"hine\", \"honey\", \"hour\", \"hour\", \"hour\", \"house\", \"house\", \"house\", \"hummus\", \"hunting\", \"hush\", \"idea\", \"image\", \"image\", \"image\", \"image\", \"image_caption\", \"image_caption\", \"image_caption\", \"image_caption\", \"immerse\", \"immigration\", \"include\", \"include\", \"include\", \"include\", \"increase\", \"increase\", \"increase\", \"india\", \"india\", \"indonesia\", \"information\", \"innovative\", \"investigator\", \"iptv\", \"islamic\", \"island\", \"island\", \"island\", \"jackie\", \"japan\", \"japanese\", \"jihad\", \"jubilee\", \"key\", \"khong\", \"khong\", \"khz_khz\", \"kick\", \"kick\", \"km\", \"know\", \"know\", \"know\", \"know\", \"la\", \"lebih\", \"letter\", \"letter\", \"life\", \"life\", \"life\", \"light\", \"light\", \"like\", \"like\", \"like\", \"likely\", \"likely\", \"likely\", \"likely\", \"link\", \"link\", \"link\", \"lion\", \"list\", \"live\", \"live\", \"live\", \"loan\", \"local\", \"local\", \"local\", \"look\", \"look\", \"look\", \"look\", \"look\", \"luat\", \"make\", \"make\", \"make\", \"make\", \"make\", \"make\", \"male\", \"many\", \"many\", \"many\", \"many\", \"mastermind\", \"mathematical\", \"meet\", \"meet\", \"meet\", \"meet\", \"messenger_kid\", \"michelin\", \"michigan\", \"militant\", \"millisecond\", \"mobile\", \"mobile\", \"model\", \"modification\", \"monowi\", \"mortgage\", \"mr\", \"mr\", \"mr\", \"music\", \"myriad\", \"nam\", \"nasa\", \"net\", \"net\", \"new\", \"new\", \"new\", \"new\", \"news\", \"news\", \"news\", \"news\", \"news\", \"ngoai\", \"nhung\", \"night\", \"night\", \"nikki\", \"noi\", \"note\", \"nowhere\", \"number\", \"number\", \"number\", \"number\", \"obama\", \"ocean\", \"ocean\", \"office\", \"office\", \"office\", \"online\", \"online\", \"online\", \"online\", \"otter\", \"page\", \"palestinian\", \"parent\", \"parent\", \"parent\", \"particularly\", \"people\", \"people\", \"people\", \"people\", \"people\", \"phone\", \"phone\", \"phone\", \"phone\", \"phone\", \"photograph\", \"photograph\", \"phu\", \"pick\", \"piece\", \"pirate\", \"pirate_spider\", \"plan\", \"plan\", \"plan\", \"plan\", \"play\", \"play\", \"play\", \"play\", \"pleiade\", \"pocket\", \"pointed\", \"police\", \"police\", \"powerful\", \"practise\", \"preference\", \"premise\", \"president\", \"president\", \"prey\", \"product\", \"product\", \"program\", \"protect\", \"question\", \"question\", \"question\", \"rape\", \"reach\", \"reach\", \"real\", \"real\", \"real\", \"real\", \"really\", \"recall\", \"red\", \"red\", \"reflect\", \"reflect\", \"reflect\", \"refugee\", \"region\", \"region\", \"region\", \"regional\", \"regis\", \"register\", \"relevant\", \"report\", \"report\", \"report\", \"republican\", \"rescue\", \"respect\", \"responsive\", \"restaurant\", \"restaurant\", \"review\", \"review\", \"ride\", \"river\", \"road\", \"rohn\", \"run\", \"run\", \"saginaw\", \"sane\", \"saturday\", \"save\", \"say\", \"say\", \"say\", \"say\", \"say\", \"screen\", \"screen\", \"screen\", \"script\", \"sea\", \"sea\", \"seal\", \"see\", \"see\", \"see\", \"see\", \"see\", \"senate\", \"sensitive\", \"sensor\", \"sex_offender\", \"shape\", \"share\", \"share\", \"share\", \"shoot\", \"shoot\", \"shop\", \"simon\", \"simple\", \"simple\", \"simulate\", \"situs\", \"sketch\", \"sleep\", \"smart_fm\", \"smartphone\", \"social_media\", \"social_media\", \"social_media\", \"software\", \"software\", \"somewhere\", \"somewhere\", \"specie\", \"spider\", \"star\", \"star\", \"star\", \"star\", \"start\", \"start\", \"state\", \"state\", \"state\", \"state\", \"state\", \"state\", \"stay\", \"stay\", \"step\", \"sterilisation\", \"sterilise\", \"store\", \"store\", \"strategy\", \"strategy\", \"stretford\", \"studio\", \"studio\", \"submission\", \"sue\", \"sue\", \"sumatra\", \"supercomputer\", \"surf\", \"surfer\", \"tablet\", \"take\", \"take\", \"take\", \"take\", \"take\", \"tax\", \"tax\", \"technician\", \"test\", \"text\", \"thoma\", \"ticket\", \"ticket\", \"time\", \"time\", \"time\", \"time\", \"time\", \"time\", \"town\", \"trade\", \"trade\", \"trade\", \"trafford\", \"train\", \"transparent\", \"travel\", \"travel\", \"treble\", \"tree\", \"trick\", \"troop\", \"trump\", \"trump\", \"trust\", \"try\", \"tunnel\", \"tunnel\", \"tvs\", \"type\", \"typo\", \"undergo\", \"underground\", \"university\", \"university\", \"university\", \"unrwa\", \"unstoppable\", \"use\", \"use\", \"use\", \"use\", \"user\", \"user\", \"user\", \"usually\", \"van\", \"veteran\", \"victim\", \"victim\", \"video\", \"video\", \"video\", \"viet\", \"viet\", \"village\", \"voi\", \"want\", \"war\", \"war\", \"war\", \"watch\", \"watch\", \"watch\", \"water\", \"water\", \"wave\", \"way\", \"way\", \"way\", \"web\", \"web\", \"website\", \"website\", \"week\", \"week\", \"week\", \"week\", \"week\", \"weekly\", \"winter\", \"woman\", \"woman\", \"work\", \"work\", \"work\", \"world\", \"world\", \"world\", \"wreck\", \"write\", \"write\", \"writer\", \"writer\", \"writersroom\", \"year\", \"year\", \"year\", \"year\", \"year\", \"young\", \"young\", \"young\", \"young\", \"young\", \"\\u0111uoc\", \"\\u0430\\u0433\\u0435\\u043d\\u0442\\u0441\\u0442\\u0432\\u043e\", \"\\u0430\\u043d\\u0433\\u043b\\u0438\\u0438\\u0441\\u043a\\u0438\\u0438\", \"\\u043a\\u043e\\u043f\\u0438\\u0440\\u0430\\u0438\\u0442_\\u0438\\u0437\\u043e\\u0431\\u0440\\u0430\\u0436\\u0435\\u043d\\u0438\\u044f\", \"\\u043d\\u0430\", \"\\u043d\\u0430\", \"\\u043d\\u0430\\u0448\\u0456\", \"\\u043d\\u043e\\u0432\\u0438\\u043d\\u0438\", \"\\u043f\\u0440\\u0430\\u0446\\u044e\\u0454\", \"\\u0440\\u043e\\u043a\\u0443\", \"\\u0440\\u043e\\u0441\\u0441\\u0438\\u0438\", \"\\u0442\\u0430\", \"\\u0442\\u0435\\u0441\\u0442\", \"\\u0443\\u043a\\u0440\\u0430\\u0456\\u043d\\u0438\", \"\\u0443\\u043a\\u0440\\u0430\\u0456\\u043d\\u0441\\u044c\\u043a\\u0438\\u0445\", \"\\u0456\\u043d\\u0442\\u0435\\u0440\\u043d\\u0435\\u0442\", \"\\u0627\\u0630\\u0627\\u0639\\u0629\", \"\\u0627\\u0641_\\u0627\\u0645\", \"\\u0627\\u0644\\u0627\\u0633\\u062a\\u0645\\u0627\\u0639\", \"\\u0627\\u0644\\u0628\\u062b\", \"\\u0627\\u0644\\u062a\\u0648\\u0642\\u064a\\u062a\", \"\\u0627\\u0644\\u0633\\u0627\\u062f\\u0633\\u0629\", \"\\u0627\\u0644\\u0633\\u0627\\u0639\\u0629\", \"\\u0627\\u0644\\u0639\\u0631\\u0628\\u064a\\u0629\", \"\\u0627\\u0644\\u0645\\u0648\\u062c\\u0627\\u062a\", \"\\u0627\\u0644\\u0645\\u0648\\u062c\\u0629\", \"\\u0627\\u0644\\u0649\", \"\\u0628\\u0627\\u0644\\u0643\\u064a\\u0644\\u0648\\u0647\\u064a\\u0631\\u062a\\u0632\", \"\\u0628\\u062a\\u0648\\u0642\\u064a\\u062a\", \"\\u0628\\u062b\\u0646\\u0627\", \"\\u062a\\u0641\\u0627\\u0635\\u064a\\u0644\", \"\\u062d\\u062a\\u0649\", \"\\u0633\\u064a\", \"\\u0634\\u062f\\u0646\", \"\\u0635\\u0628\\u0627\\u062d\\u0627_\\u0648\\u0645\\u0646\", \"\\u0639\\u0628\\u0631\", \"\\u0639\\u0644\\u0649\", \"\\u0639\\u0644\\u0649_\\u0627\\u0644\\u0642\\u0646\\u0627\\u0629\", \"\\u0639\\u0644\\u0649_\\u0645\\u0648\\u062c\\u0629\", \"\\u063a\\u0631\\u064a\\u0646\\u062a\\u0634\", \"\\u0641\\u064a\", \"\\u0641\\u064a_\\u0627\\u0644\\u0639\\u0627\\u0635\\u0645\\u0629\", \"\\u0644\\u0628\\u0646\\u0627\\u0646\", \"\\u0645\\u0646\", \"\\u0648\\u0641\\u064a\", \"\\u064a\\u0645\\u0643\\u0646\", \"\\u0905\\u092a\\u0928\", \"\\u0906\\u092a\\u0915\", \"\\u0907\\u0938\\u0915\", \"\\u0909\\u092a\\u0932\\u092c\\u0927\", \"\\u0914\\u0930\", \"\\u0915\\u0930\\u0924\", \"\\u0915\\u0930\\u0928\", \"\\u092a\\u0928\\u0928\", \"\\u092a\\u0930\", \"\\u0930\\u092f\\u0915\\u0930\\u092e\"]}, \"R\": 30, \"lambda.step\": 0.01, \"plot.opts\": {\"xlab\": \"PC1\", \"ylab\": \"PC2\"}, \"topic.order\": [3, 9, 5, 2, 1, 7, 6, 8, 10, 4]};\n",
       "\n",
       "function LDAvis_load_lib(url, callback){\n",
       "  var s = document.createElement('script');\n",
       "  s.src = url;\n",
       "  s.async = true;\n",
       "  s.onreadystatechange = s.onload = callback;\n",
       "  s.onerror = function(){console.warn(\"failed to load library \" + url);};\n",
       "  document.getElementsByTagName(\"head\")[0].appendChild(s);\n",
       "}\n",
       "\n",
       "if(typeof(LDAvis) !== \"undefined\"){\n",
       "   // already loaded: just create the visualization\n",
       "   !function(LDAvis){\n",
       "       new LDAvis(\"#\" + \"ldavis_el61402352251577280404862964\", ldavis_el61402352251577280404862964_data);\n",
       "   }(LDAvis);\n",
       "}else if(typeof define === \"function\" && define.amd){\n",
       "   // require.js is available: use it to load d3/LDAvis\n",
       "   require.config({paths: {d3: \"https://d3js.org/d3.v5\"}});\n",
       "   require([\"d3\"], function(d3){\n",
       "      window.d3 = d3;\n",
       "      LDAvis_load_lib(\"https://cdn.jsdelivr.net/gh/bmabey/pyLDAvis@3.3.1/pyLDAvis/js/ldavis.v3.0.0.js\", function(){\n",
       "        new LDAvis(\"#\" + \"ldavis_el61402352251577280404862964\", ldavis_el61402352251577280404862964_data);\n",
       "      });\n",
       "    });\n",
       "}else{\n",
       "    // require.js not available: dynamically load d3 & LDAvis\n",
       "    LDAvis_load_lib(\"https://d3js.org/d3.v5.js\", function(){\n",
       "         LDAvis_load_lib(\"https://cdn.jsdelivr.net/gh/bmabey/pyLDAvis@3.3.1/pyLDAvis/js/ldavis.v3.0.0.js\", function(){\n",
       "                 new LDAvis(\"#\" + \"ldavis_el61402352251577280404862964\", ldavis_el61402352251577280404862964_data);\n",
       "            })\n",
       "         });\n",
       "}\n",
       "</script>"
      ],
      "text/plain": [
       "PreparedData(topic_coordinates=              x         y  topics  cluster       Freq\n",
       "topic                                                \n",
       "2     -0.214395 -0.212108       1        1  38.254839\n",
       "8     -0.149465 -0.101262       2        1  20.575192\n",
       "4     -0.094701 -0.003894       3        1  14.712876\n",
       "1      0.364589 -0.196696       4        1   6.510544\n",
       "0     -0.025699  0.049082       5        1   4.848314\n",
       "6      0.007254  0.085087       6        1   4.368067\n",
       "5      0.045219  0.127082       7        1   3.877011\n",
       "7      0.016242  0.087490       8        1   3.457983\n",
       "9      0.009933  0.082557       9        1   2.439756\n",
       "3      0.041022  0.082662      10        1   0.955418, topic_info=        Term        Freq       Total Category  logprob  loglift\n",
       "1197   write  149.000000  149.000000  Default  30.0000  30.0000\n",
       "34       bbc  190.000000  190.000000  Default  29.0000  29.0000\n",
       "275      use  169.000000  169.000000  Default  28.0000  28.0000\n",
       "180     news  113.000000  113.000000  Default  27.0000  27.0000\n",
       "5574  sketch  279.000000  279.000000  Default  26.0000  26.0000\n",
       "...      ...         ...         ...      ...      ...      ...\n",
       "4173      на    0.991296    4.017561  Topic10  -6.2898   3.2514\n",
       "2646     sue    0.882559    3.895860  Topic10  -6.4060   3.1659\n",
       "9064   khong    0.697337    5.625586  Topic10  -6.6416   2.5630\n",
       "8279    viet    0.651944    4.750745  Topic10  -6.7089   2.6647\n",
       "34       bbc    0.662285  190.370601  Topic10  -6.6931  -1.0103\n",
       "\n",
       "[514 rows x 6 columns], token_table=       Topic      Freq        Term\n",
       "term                              \n",
       "11677      9  0.953856  aeronautic\n",
       "2630       3  0.968904      africa\n",
       "11678      9  0.953856     agencys\n",
       "2654       7  0.993167    aircraft\n",
       "5814       7  0.912999    al_qaeda\n",
       "...      ...       ...         ...\n",
       "4489       8  0.730712         करत\n",
       "4407       8  0.893794         करन\n",
       "4519       8  0.825589         पनन\n",
       "4520       8  0.893793          पर\n",
       "4548       8  0.730712       रयकरम\n",
       "\n",
       "[753 rows x 3 columns], R=30, lambda_step=0.01, plot_opts={'xlab': 'PC1', 'ylab': 'PC2'}, topic_order=[3, 9, 5, 2, 1, 7, 6, 8, 10, 4])"
      ]
     },
     "execution_count": 57,
     "metadata": {},
     "output_type": "execute_result"
    }
   ],
   "source": [
    "# Visualize the topics\n",
    "pyLDAvis.enable_notebook()\n",
    "vis = pyLDAvis.gensim_models.prepare(lda_model, corpus, id2word)\n",
    "vis"
   ]
  },
  {
   "cell_type": "code",
   "execution_count": null,
   "metadata": {},
   "outputs": [],
   "source": []
  },
  {
   "cell_type": "code",
   "execution_count": null,
   "metadata": {},
   "outputs": [],
   "source": []
  },
  {
   "cell_type": "code",
   "execution_count": 44,
   "metadata": {},
   "outputs": [],
   "source": [
    "# Finding the dominant topic and its percentage contribution in each document"
   ]
  },
  {
   "cell_type": "code",
   "execution_count": 45,
   "metadata": {},
   "outputs": [],
   "source": [
    "def format_topics_sentences(ldamodel=None, corpus=corpus, texts=data):\n",
    "    # Init output\n",
    "    sent_topics_df = pd.DataFrame()\n",
    "\n",
    "    # Get main topic in each document\n",
    "    for i, row_list in enumerate(ldamodel[corpus]):\n",
    "        row = row_list[0] if ldamodel.per_word_topics else row_list            \n",
    "        # print(row)\n",
    "        row = sorted(row, key=lambda x: (x[1]), reverse=True)\n",
    "        # Get the Dominant topic, Perc Contribution and Keywords for each document\n",
    "        for j, (topic_num, prop_topic) in enumerate(row):\n",
    "            if j == 0:  # => dominant topic\n",
    "                wp = ldamodel.show_topic(topic_num)\n",
    "                topic_keywords = \", \".join([word for word, prop in wp])\n",
    "                sent_topics_df = sent_topics_df.append(pd.Series([int(topic_num), round(prop_topic,4), topic_keywords]), ignore_index=True)\n",
    "            else:\n",
    "                break\n",
    "    sent_topics_df.columns = ['Dominant_Topic', 'Perc_Contribution', 'Topic_Keywords']\n",
    "\n",
    "    # Add original text to the end of the output\n",
    "    contents = pd.Series(texts)\n",
    "    sent_topics_df = pd.concat([sent_topics_df, contents], axis=1)\n",
    "    return(sent_topics_df)"
   ]
  },
  {
   "cell_type": "code",
   "execution_count": 46,
   "metadata": {},
   "outputs": [],
   "source": [
    "df_topic_sents_keywords = format_topics_sentences(ldamodel=lda_model, corpus=corpus, texts=data_lemmatized)"
   ]
  },
  {
   "cell_type": "code",
   "execution_count": 47,
   "metadata": {},
   "outputs": [],
   "source": [
    "# Format\n",
    "df_dominant_topic = df_topic_sents_keywords.reset_index()"
   ]
  },
  {
   "cell_type": "code",
   "execution_count": 48,
   "metadata": {},
   "outputs": [],
   "source": [
    "df_dominant_topic.columns = ['Document_No', 'Dominant_Topic', 'Topic_Perc_Contrib', 'Keywords', 'Text']"
   ]
  },
  {
   "cell_type": "code",
   "execution_count": 49,
   "metadata": {},
   "outputs": [
    {
     "data": {
      "text/plain": [
       "2.0    126\n",
       "4.0     49\n",
       "8.0     34\n",
       "5.0     21\n",
       "0.0     16\n",
       "1.0     16\n",
       "6.0     16\n",
       "7.0     14\n",
       "9.0     12\n",
       "3.0      4\n",
       "Name: Dominant_Topic, dtype: int64"
      ]
     },
     "execution_count": 49,
     "metadata": {},
     "output_type": "execute_result"
    }
   ],
   "source": [
    "df_dominant_topic.Dominant_Topic.value_counts()"
   ]
  },
  {
   "cell_type": "code",
   "execution_count": 50,
   "metadata": {},
   "outputs": [
    {
     "data": {
      "text/html": [
       "<div>\n",
       "<style scoped>\n",
       "    .dataframe tbody tr th:only-of-type {\n",
       "        vertical-align: middle;\n",
       "    }\n",
       "\n",
       "    .dataframe tbody tr th {\n",
       "        vertical-align: top;\n",
       "    }\n",
       "\n",
       "    .dataframe thead th {\n",
       "        text-align: right;\n",
       "    }\n",
       "</style>\n",
       "<table border=\"1\" class=\"dataframe\">\n",
       "  <thead>\n",
       "    <tr style=\"text-align: right;\">\n",
       "      <th></th>\n",
       "      <th>Topic_Num</th>\n",
       "      <th>Topic_Perc_Contrib</th>\n",
       "      <th>Keywords</th>\n",
       "      <th>Text</th>\n",
       "    </tr>\n",
       "  </thead>\n",
       "  <tbody>\n",
       "    <tr>\n",
       "      <th>0</th>\n",
       "      <td>0.0</td>\n",
       "      <td>0.9102</td>\n",
       "      <td>news, product, bbc, website, online, increase,...</td>\n",
       "      <td>[head, product, bbc, news, online, lead, produ...</td>\n",
       "    </tr>\n",
       "    <tr>\n",
       "      <th>1</th>\n",
       "      <td>1.0</td>\n",
       "      <td>0.9993</td>\n",
       "      <td>على, على_موجة, وفي, في, البث, حتى, الى, سي, عب...</td>\n",
       "      <td>[حق_نشر, درک, رفتارهای, کودک, ازارانه, شناخت, ...</td>\n",
       "    </tr>\n",
       "    <tr>\n",
       "      <th>2</th>\n",
       "      <td>2.0</td>\n",
       "      <td>0.9988</td>\n",
       "      <td>say, sketch, idea, come, character, premise, w...</td>\n",
       "      <td>[pa, epa, image_caption, oligarch, roman, pm, ...</td>\n",
       "    </tr>\n",
       "    <tr>\n",
       "      <th>3</th>\n",
       "      <td>3.0</td>\n",
       "      <td>0.9973</td>\n",
       "      <td>та, nhung, saturday, japanese, hay, новини, st...</td>\n",
       "      <td>[bbc, працює, форматах, радіо, та, інтернет, д...</td>\n",
       "    </tr>\n",
       "    <tr>\n",
       "      <th>4</th>\n",
       "      <td>4.0</td>\n",
       "      <td>0.9832</td>\n",
       "      <td>say, spider, specie, clash, hummus, sane, subm...</td>\n",
       "      <td>[fotograf, ekim, devrimi, devrimin, ilk, yılla...</td>\n",
       "    </tr>\n",
       "  </tbody>\n",
       "</table>\n",
       "</div>"
      ],
      "text/plain": [
       "   Topic_Num  Topic_Perc_Contrib  \\\n",
       "0        0.0              0.9102   \n",
       "1        1.0              0.9993   \n",
       "2        2.0              0.9988   \n",
       "3        3.0              0.9973   \n",
       "4        4.0              0.9832   \n",
       "\n",
       "                                            Keywords  \\\n",
       "0  news, product, bbc, website, online, increase,...   \n",
       "1  على, على_موجة, وفي, في, البث, حتى, الى, سي, عب...   \n",
       "2  say, sketch, idea, come, character, premise, w...   \n",
       "3  та, nhung, saturday, japanese, hay, новини, st...   \n",
       "4  say, spider, specie, clash, hummus, sane, subm...   \n",
       "\n",
       "                                                Text  \n",
       "0  [head, product, bbc, news, online, lead, produ...  \n",
       "1  [حق_نشر, درک, رفتارهای, کودک, ازارانه, شناخت, ...  \n",
       "2  [pa, epa, image_caption, oligarch, roman, pm, ...  \n",
       "3  [bbc, працює, форматах, радіо, та, інтернет, д...  \n",
       "4  [fotograf, ekim, devrimi, devrimin, ilk, yılla...  "
      ]
     },
     "execution_count": 50,
     "metadata": {},
     "output_type": "execute_result"
    }
   ],
   "source": [
    "# Group top 5 sentences under each topic\n",
    "sent_topics_sorteddf = pd.DataFrame()\n",
    "\n",
    "sent_topics_outdf_grpd = df_topic_sents_keywords.groupby('Dominant_Topic')\n",
    "\n",
    "for i, grp in sent_topics_outdf_grpd:\n",
    "    sent_topics_sorteddf = pd.concat([sent_topics_sorteddf, \n",
    "                                             grp.sort_values(['Perc_Contribution'], ascending=[0]).head(1)], \n",
    "                                            axis=0)\n",
    "\n",
    "# Reset Index    \n",
    "sent_topics_sorteddf.reset_index(drop=True, inplace=True)\n",
    "\n",
    "# Format\n",
    "sent_topics_sorteddf.columns = ['Topic_Num', \"Topic_Perc_Contrib\", \"Keywords\", \"Text\"]\n",
    "\n",
    "# Show\n",
    "sent_topics_sorteddf.head()"
   ]
  },
  {
   "cell_type": "code",
   "execution_count": null,
   "metadata": {},
   "outputs": [],
   "source": []
  },
  {
   "cell_type": "code",
   "execution_count": null,
   "metadata": {},
   "outputs": [],
   "source": []
  },
  {
   "cell_type": "code",
   "execution_count": null,
   "metadata": {},
   "outputs": [],
   "source": []
  },
  {
   "cell_type": "code",
   "execution_count": null,
   "metadata": {},
   "outputs": [],
   "source": []
  },
  {
   "cell_type": "code",
   "execution_count": null,
   "metadata": {},
   "outputs": [],
   "source": []
  }
 ],
 "metadata": {
  "kernelspec": {
   "display_name": "Python 3",
   "language": "python",
   "name": "python3"
  },
  "language_info": {
   "codemirror_mode": {
    "name": "ipython",
    "version": 3
   },
   "file_extension": ".py",
   "mimetype": "text/x-python",
   "name": "python",
   "nbconvert_exporter": "python",
   "pygments_lexer": "ipython3",
   "version": "3.8.3"
  }
 },
 "nbformat": 4,
 "nbformat_minor": 4
}
